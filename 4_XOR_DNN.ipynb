{
  "nbformat": 4,
  "nbformat_minor": 0,
  "metadata": {
    "kernelspec": {
      "name": "python3",
      "display_name": "Python 3"
    },
    "colab": {
      "name": "4_XOR_DNN.ipynb",
      "provenance": [],
      "toc_visible": true,
      "collapsed_sections": [],
      "include_colab_link": true
    },
    "accelerator": "GPU"
  },
  "cells": [
    {
      "cell_type": "markdown",
      "metadata": {
        "id": "view-in-github",
        "colab_type": "text"
      },
      "source": [
        "<a href=\"https://colab.research.google.com/github/eunhobang/ICT-AI-education/blob/main/4_XOR_DNN.ipynb\" target=\"_parent\"><img src=\"https://colab.research.google.com/assets/colab-badge.svg\" alt=\"Open In Colab\"/></a>"
      ]
    },
    {
      "cell_type": "markdown",
      "metadata": {
        "id": "EtlF0y2mx8HX"
      },
      "source": [
        "# Softmax Classification"
      ]
    },
    {
      "cell_type": "markdown",
      "metadata": {
        "id": "q8e44TRd3NwC"
      },
      "source": [
        "실행을 위한 모듈 버전 변경"
      ]
    },
    {
      "cell_type": "code",
      "metadata": {
        "id": "CvFTABmQ3LuM"
      },
      "source": [
        "%tensorflow_version 1.x\n",
        "import tensorflow as tf\n",
        "print(tf.__version__)"
      ],
      "execution_count": null,
      "outputs": []
    },
    {
      "cell_type": "code",
      "metadata": {
        "id": "wTbmRO19Nw8w"
      },
      "source": [
        "import tensorflow as tf\n",
        "import numpy as np\n",
        "\n",
        "tf.reset_default_graph()\n",
        "tf.set_random_seed(777)\n",
        "learning_rate = 0.1\n",
        "training_cnt = 10000\n",
        "\n",
        "train_X = np.array([[0, 0], [0, 1], [1, 0], [1, 1]])\n",
        "train_Y = np.array([[0], [1], [1], [0]])\n",
        "\n",
        "X = tf.placeholder(tf.float32, [None, 2])\n",
        "Y = tf.placeholder(tf.float32, [None, 1])\n",
        "\n",
        "# Layer 1\n",
        "W1 = tf.Variable(tf.random_normal([2, 2]), name='weight1')\n",
        "b1 = tf.Variable(tf.random_normal([2]), name='bias1')\n",
        "L1 = tf.sigmoid(tf.matmul(X, W1) + b1)\n",
        "\n",
        "# Layer 2\n",
        "W2 = tf.Variable(tf.random_normal([2, 1]), name='weight2')\n",
        "b2 = tf.Variable(tf.random_normal([1]), name='bias2')\n",
        "pred = tf.sigmoid(tf.matmul(L1, W2) + b2)\n",
        "\n",
        "cost = -tf.reduce_mean(Y * tf.log(pred) + (1 - Y) * tf.log(1 - pred))\n",
        "optimizer = tf.train.GradientDescentOptimizer(learning_rate)\n",
        "op_train = optimizer.minimize(cost)\n",
        "\n",
        "predicted = tf.cast(pred > 0.5, dtype=tf.float32)\n",
        "accuracy = tf.reduce_mean(tf.cast(tf.equal(predicted, Y), dtype=tf.float32))\n",
        "\n",
        "sess = tf.Session()\n",
        "init = tf.global_variables_initializer()\n",
        "sess.run(init)\n",
        "\n",
        "for step in range(training_cnt):\n",
        "    sess.run(op_train, feed_dict={X: train_X, Y: train_Y})\n",
        "    if step % 1000 == 0:\n",
        "        print(step, sess.run(cost, feed_dict={X: train_X, Y: train_Y}), sess.run([W1, W2]))\n",
        "\n",
        "p, c, a = sess.run([pred, predicted, accuracy], feed_dict={X: train_X, Y: train_Y})\n",
        "print(\"\\nPred: \", p, \"\\nPredicted: \", c, \"\\nAccuracy: \", a)"
      ],
      "execution_count": null,
      "outputs": []
    },
    {
      "cell_type": "code",
      "metadata": {
        "id": "-m-XJrdeN2ic"
      },
      "source": [
        ""
      ],
      "execution_count": null,
      "outputs": []
    },
    {
      "cell_type": "code",
      "metadata": {
        "id": "dg5JDnEONw85"
      },
      "source": [
        ""
      ],
      "execution_count": null,
      "outputs": []
    }
  ]
}