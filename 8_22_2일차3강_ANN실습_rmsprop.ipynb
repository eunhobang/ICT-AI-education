{
  "cells": [
    {
      "cell_type": "markdown",
      "metadata": {
        "id": "view-in-github",
        "colab_type": "text"
      },
      "source": [
        "<a href=\"https://colab.research.google.com/github/eunhobang/ICT-AI-education/blob/main/8_22_2%EC%9D%BC%EC%B0%A83%EA%B0%95_ANN%EC%8B%A4%EC%8A%B5_rmsprop.ipynb\" target=\"_parent\"><img src=\"https://colab.research.google.com/assets/colab-badge.svg\" alt=\"Open In Colab\"/></a>"
      ]
    },
    {
      "cell_type": "markdown",
      "source": [
        "코랩\n",
        "- 도커 지원해준다고 생각하면 됨"
      ],
      "metadata": {
        "id": "cnYjEcRG9dBz"
      }
    },
    {
      "cell_type": "code",
      "execution_count": null,
      "metadata": {
        "colab": {
          "base_uri": "https://localhost:8080/",
          "height": 35
        },
        "id": "NimZRRV683gV",
        "outputId": "c23dba03-9a3f-4882-82a2-c133db0c255b"
      },
      "outputs": [
        {
          "output_type": "execute_result",
          "data": {
            "text/plain": [
              "'2.8.0'"
            ],
            "application/vnd.google.colaboratory.intrinsic+json": {
              "type": "string"
            }
          },
          "metadata": {},
          "execution_count": 34
        }
      ],
      "source": [
        "from tensorflow import keras\n",
        "keras.__version__"
      ]
    },
    {
      "cell_type": "markdown",
      "source": [
        "%whos\n",
        "- 어떤 모듈이 메모리에 올라왔는지 확인"
      ],
      "metadata": {
        "id": "guGOF4CP9RT6"
      }
    },
    {
      "cell_type": "code",
      "execution_count": null,
      "metadata": {
        "colab": {
          "base_uri": "https://localhost:8080/"
        },
        "id": "rLH8DCCz83gY",
        "outputId": "cf38028f-209e-42c9-dd38-abc4ef910a73"
      },
      "outputs": [
        {
          "output_type": "stream",
          "name": "stdout",
          "text": [
            "Variable         Type          Data/Info\n",
            "----------------------------------------\n",
            "digit            ndarray       784: 784 elems, type `float32`, 3136 bytes\n",
            "keras            module        <module 'tensorflow.keras<...>i/_v2/keras/__init__.py'>\n",
            "layers           module        <module 'keras.api._v2.ke<...>eras/layers/__init__.py'>\n",
            "mnist            module        <module 'keras.api._v2.ke<...>asets/mnist/__init__.py'>\n",
            "models           module        <module 'keras.api._v2.ke<...>eras/models/__init__.py'>\n",
            "network          Sequential    <keras.engine.sequential.<...>object at 0x7f37bab83390>\n",
            "plt              module        <module 'matplotlib.pyplo<...>es/matplotlib/pyplot.py'>\n",
            "test_acc         float         0.9817000031471252\n",
            "test_images      ndarray       10000x784: 7840000 elems, type `float32`, 31360000 bytes (29.9072265625 Mb)\n",
            "test_labels      ndarray       10000x10: 100000 elems, type `float32`, 400000 bytes (390.625 kb)\n",
            "test_loss        float         0.06481682509183884\n",
            "to_categorical   function      <function to_categorical at 0x7f37bbbab680>\n",
            "train_images     ndarray       60000x784: 47040000 elems, type `float32`, 188160000 bytes (179.443359375 Mb)\n",
            "train_labels     ndarray       60000x10: 600000 elems, type `float32`, 2400000 bytes (2.288818359375 Mb)\n"
          ]
        }
      ],
      "source": [
        "%whos"
      ]
    },
    {
      "cell_type": "code",
      "execution_count": null,
      "metadata": {
        "id": "AhA3n5tn83gZ"
      },
      "outputs": [],
      "source": [
        "from tensorflow.keras.datasets import mnist\n",
        "\n",
        "(train_images, train_labels), (test_images, test_labels) = mnist.load_data()"
      ]
    },
    {
      "cell_type": "markdown",
      "source": [
        "mnist.npz\n",
        "- 넘파이 형태 파일\n"
      ],
      "metadata": {
        "id": "WwLpYSK49o-5"
      }
    },
    {
      "cell_type": "code",
      "execution_count": null,
      "metadata": {
        "colab": {
          "base_uri": "https://localhost:8080/"
        },
        "id": "7_2QCA8z83ga",
        "outputId": "32ea66ec-6a4b-4d58-ab24-f598718d58fa"
      },
      "outputs": [
        {
          "output_type": "stream",
          "name": "stdout",
          "text": [
            "Variable         Type          Data/Info\n",
            "----------------------------------------\n",
            "digit            ndarray       784: 784 elems, type `float32`, 3136 bytes\n",
            "keras            module        <module 'tensorflow.keras<...>i/_v2/keras/__init__.py'>\n",
            "layers           module        <module 'keras.api._v2.ke<...>eras/layers/__init__.py'>\n",
            "mnist            module        <module 'keras.api._v2.ke<...>asets/mnist/__init__.py'>\n",
            "models           module        <module 'keras.api._v2.ke<...>eras/models/__init__.py'>\n",
            "network          Sequential    <keras.engine.sequential.<...>object at 0x7f37bab83390>\n",
            "plt              module        <module 'matplotlib.pyplo<...>es/matplotlib/pyplot.py'>\n",
            "test_acc         float         0.9817000031471252\n",
            "test_images      ndarray       10000x28x28: 7840000 elems, type `uint8`, 7840000 bytes (7.476806640625 Mb)\n",
            "test_labels      ndarray       10000: 10000 elems, type `uint8`, 10000 bytes\n",
            "test_loss        float         0.06481682509183884\n",
            "to_categorical   function      <function to_categorical at 0x7f37bbbab680>\n",
            "train_images     ndarray       60000x28x28: 47040000 elems, type `uint8`, 47040000 bytes (44.86083984375 Mb)\n",
            "train_labels     ndarray       60000: 60000 elems, type `uint8`, 60000 bytes\n"
          ]
        }
      ],
      "source": [
        "%whos"
      ]
    },
    {
      "cell_type": "code",
      "execution_count": null,
      "metadata": {
        "colab": {
          "base_uri": "https://localhost:8080/"
        },
        "id": "wdQxV-D_83ga",
        "outputId": "ba5c6185-77cb-47c3-cce2-ca5480df11ae"
      },
      "outputs": [
        {
          "output_type": "stream",
          "name": "stdout",
          "text": [
            "<class 'numpy.ndarray'>\n",
            "uint8\n",
            "(60000, 28, 28)\n",
            "60000\n",
            "139877175205296\n"
          ]
        }
      ],
      "source": [
        "print(type(train_images))\n",
        "print(train_images.dtype) # uint8::정수라는 뜻\n",
        "print(train_images.shape)\n",
        "print(len(train_images))\n",
        "print(id(train_images)) # 변수가 담겨 있는 메모리 주소"
      ]
    },
    {
      "cell_type": "code",
      "source": [
        "print(type(test_images))\n",
        "print(test_images.dtype)\n",
        "print(test_images.shape)\n",
        "print(len(test_images))\n",
        "print(id(test_images)) "
      ],
      "metadata": {
        "colab": {
          "base_uri": "https://localhost:8080/"
        },
        "id": "E35DfWpI99JQ",
        "outputId": "55fe82ed-02f0-4a8d-d7ea-d9e29ae56b4c"
      },
      "execution_count": null,
      "outputs": [
        {
          "output_type": "stream",
          "name": "stdout",
          "text": [
            "<class 'numpy.ndarray'>\n",
            "uint8\n",
            "(10000, 28, 28)\n",
            "10000\n",
            "139877175203088\n"
          ]
        }
      ]
    },
    {
      "cell_type": "code",
      "source": [
        "print(type(train_labels))\n",
        "print(train_labels.dtype)\n",
        "print(train_labels.shape)\n",
        "print(len(train_labels))\n",
        "print(id(train_labels)) "
      ],
      "metadata": {
        "colab": {
          "base_uri": "https://localhost:8080/"
        },
        "id": "YPMYqDnG_B0B",
        "outputId": "4ba1ddb4-88d6-471c-c071-1492d7c4c35b"
      },
      "execution_count": null,
      "outputs": [
        {
          "output_type": "stream",
          "name": "stdout",
          "text": [
            "<class 'numpy.ndarray'>\n",
            "uint8\n",
            "(60000,)\n",
            "60000\n",
            "139877175204816\n"
          ]
        }
      ]
    },
    {
      "cell_type": "code",
      "execution_count": null,
      "metadata": {
        "colab": {
          "base_uri": "https://localhost:8080/"
        },
        "id": "eraEQMFY83ga",
        "outputId": "002bc0ae-6531-465d-8a5d-80dd02a35227"
      },
      "outputs": [
        {
          "output_type": "execute_result",
          "data": {
            "text/plain": [
              "(60000, 28, 28)"
            ]
          },
          "metadata": {},
          "execution_count": 41
        }
      ],
      "source": [
        "train_images.shape"
      ]
    },
    {
      "cell_type": "code",
      "execution_count": null,
      "metadata": {
        "colab": {
          "base_uri": "https://localhost:8080/"
        },
        "id": "Cx7ROydq83gc",
        "outputId": "b229d4e8-b16f-4784-aad9-0fc1da4425ef"
      },
      "outputs": [
        {
          "output_type": "execute_result",
          "data": {
            "text/plain": [
              "60000"
            ]
          },
          "metadata": {},
          "execution_count": 42
        }
      ],
      "source": [
        "len(train_labels)"
      ]
    },
    {
      "cell_type": "code",
      "execution_count": null,
      "metadata": {
        "colab": {
          "base_uri": "https://localhost:8080/"
        },
        "id": "IKLl27dB83gc",
        "outputId": "5e3fda0d-5604-4c55-e865-9c39206a1b68"
      },
      "outputs": [
        {
          "output_type": "execute_result",
          "data": {
            "text/plain": [
              "array([5, 0, 4, ..., 5, 6, 8], dtype=uint8)"
            ]
          },
          "metadata": {},
          "execution_count": 43
        }
      ],
      "source": [
        "train_labels"
      ]
    },
    {
      "cell_type": "code",
      "execution_count": null,
      "metadata": {
        "colab": {
          "base_uri": "https://localhost:8080/"
        },
        "id": "Dx_Jey0h83gd",
        "outputId": "bccff1a9-c3ea-44ae-e7e6-1f442fbc435f"
      },
      "outputs": [
        {
          "output_type": "execute_result",
          "data": {
            "text/plain": [
              "(10000, 28, 28)"
            ]
          },
          "metadata": {},
          "execution_count": 44
        }
      ],
      "source": [
        "test_images.shape"
      ]
    },
    {
      "cell_type": "code",
      "execution_count": null,
      "metadata": {
        "colab": {
          "base_uri": "https://localhost:8080/"
        },
        "id": "KavRAy-n83gd",
        "outputId": "7108c1e7-65ee-4c9d-f010-9dc478370f36"
      },
      "outputs": [
        {
          "output_type": "execute_result",
          "data": {
            "text/plain": [
              "10000"
            ]
          },
          "metadata": {},
          "execution_count": 45
        }
      ],
      "source": [
        "len(test_labels)"
      ]
    },
    {
      "cell_type": "code",
      "execution_count": null,
      "metadata": {
        "colab": {
          "base_uri": "https://localhost:8080/"
        },
        "id": "Mfflt-Dl83ge",
        "outputId": "099c44e1-8bc0-43ad-d704-eddbf3642060"
      },
      "outputs": [
        {
          "output_type": "execute_result",
          "data": {
            "text/plain": [
              "array([7, 2, 1, ..., 4, 5, 6], dtype=uint8)"
            ]
          },
          "metadata": {},
          "execution_count": 46
        }
      ],
      "source": [
        "test_labels"
      ]
    },
    {
      "cell_type": "code",
      "execution_count": null,
      "metadata": {
        "id": "7mRNfeq283ge"
      },
      "outputs": [],
      "source": [
        "import matplotlib.pyplot as plt"
      ]
    },
    {
      "cell_type": "code",
      "execution_count": null,
      "metadata": {
        "colab": {
          "base_uri": "https://localhost:8080/",
          "height": 283
        },
        "id": "9tJz9Apb83ge",
        "outputId": "e1373860-a27c-483c-f83a-e8bebb3347eb"
      },
      "outputs": [
        {
          "output_type": "stream",
          "name": "stdout",
          "text": [
            "<class 'numpy.ndarray'>\n"
          ]
        },
        {
          "output_type": "display_data",
          "data": {
            "text/plain": [
              "<Figure size 432x288 with 1 Axes>"
            ],
            "image/png": "[encoded data removed]"
          },
          "metadata": {
            "needs_background": "light"
          }
        }
      ],
      "source": [
        "digit = train_images[4]\n",
        "print(type(digit))\n",
        "plt.imshow(digit, cmap=plt.cm.binary)\n",
        "plt.show()"
      ]
    },
    {
      "cell_type": "markdown",
      "source": [
        "\n",
        "\n",
        "---\n",
        "\n",
        "\n",
        "\n",
        "---\n",
        "\n"
      ],
      "metadata": {
        "id": "bglFDJKDHT_H"
      }
    },
    {
      "cell_type": "code",
      "execution_count": null,
      "metadata": {
        "id": "rMKz4mtD83ge"
      },
      "outputs": [],
      "source": [
        "from tensorflow.keras import models\n",
        "from tensorflow.keras import layers\n",
        "\n",
        "network = models.Sequential()\n",
        "network.add(layers.Dense(512, activation='relu', input_shape=(28 * 28,)))\n",
        "network.add(layers.Dense(10, activation='softmax'))"
      ]
    },
    {
      "cell_type": "code",
      "execution_count": null,
      "metadata": {
        "id": "lM4Sx6km83gf"
      },
      "outputs": [],
      "source": [
        "network.compile(optimizer='rmsprop',\n",
        "                loss='categorical_crossentropy',\n",
        "                metrics=['accuracy'])"
      ]
    },
    {
      "cell_type": "code",
      "execution_count": null,
      "metadata": {
        "colab": {
          "base_uri": "https://localhost:8080/"
        },
        "id": "4Et1wLxa83gf",
        "outputId": "7c0eaa10-0d6c-4b77-b870-0e7f0f38b436"
      },
      "outputs": [
        {
          "output_type": "stream",
          "name": "stdout",
          "text": [
            "Model: \"sequential_1\"\n",
            "_________________________________________________________________\n",
            " Layer (type)                Output Shape              Param #   \n",
            "=================================================================\n",
            " dense_2 (Dense)             (None, 512)               401920    \n",
            "                                                                 \n",
            " dense_3 (Dense)             (None, 10)                5130      \n",
            "                                                                 \n",
            "=================================================================\n",
            "Total params: 407,050\n",
            "Trainable params: 407,050\n",
            "Non-trainable params: 0\n",
            "_________________________________________________________________\n"
          ]
        }
      ],
      "source": [
        "network.summary()"
      ]
    },
    {
      "cell_type": "code",
      "execution_count": null,
      "metadata": {
        "id": "44I5atzS83gf"
      },
      "outputs": [],
      "source": [
        "train_images = train_images.reshape((60000, 28 * 28))\n",
        "train_images = train_images.astype('float32') / 255\n",
        "\n",
        "test_images = test_images.reshape((10000, 28 * 28))\n",
        "test_images = test_images.astype('float32') / 255"
      ]
    },
    {
      "cell_type": "code",
      "execution_count": null,
      "metadata": {
        "id": "WIOWW2Y183gf"
      },
      "outputs": [],
      "source": [
        "from tensorflow.keras.utils import to_categorical\n",
        "\n",
        "train_labels = to_categorical(train_labels)\n",
        "test_labels = to_categorical(test_labels)"
      ]
    },
    {
      "cell_type": "code",
      "execution_count": null,
      "metadata": {
        "colab": {
          "base_uri": "https://localhost:8080/"
        },
        "id": "5a76qPmZ83gg",
        "outputId": "1a67f7e4-d19d-49d2-d569-c2460f012c6d"
      },
      "outputs": [
        {
          "output_type": "stream",
          "name": "stdout",
          "text": [
            "<class 'numpy.ndarray'>\n",
            "<class 'numpy.ndarray'>\n"
          ]
        }
      ],
      "source": [
        "print(type(train_labels))\n",
        "print(type(test_labels))"
      ]
    },
    {
      "cell_type": "code",
      "execution_count": null,
      "metadata": {
        "colab": {
          "base_uri": "https://localhost:8080/"
        },
        "id": "BekdMJHA83gg",
        "outputId": "7e2180fc-4828-4395-b4d6-2848ab3839ca"
      },
      "outputs": [
        {
          "output_type": "stream",
          "name": "stdout",
          "text": [
            "Epoch 1/7\n",
            "469/469 [==============================] - 6s 11ms/step - loss: 0.2568 - accuracy: 0.9253\n",
            "Epoch 2/7\n",
            "469/469 [==============================] - 5s 12ms/step - loss: 0.1043 - accuracy: 0.9694\n",
            "Epoch 3/7\n",
            "469/469 [==============================] - 5s 12ms/step - loss: 0.0685 - accuracy: 0.9788\n",
            "Epoch 4/7\n",
            "469/469 [==============================] - 5s 11ms/step - loss: 0.0492 - accuracy: 0.9857\n",
            "Epoch 5/7\n",
            "469/469 [==============================] - 6s 12ms/step - loss: 0.0381 - accuracy: 0.9886\n",
            "Epoch 6/7\n",
            "469/469 [==============================] - 5s 11ms/step - loss: 0.0294 - accuracy: 0.9914\n",
            "Epoch 7/7\n",
            "469/469 [==============================] - 5s 10ms/step - loss: 0.0224 - accuracy: 0.9932\n"
          ]
        },
        {
          "output_type": "execute_result",
          "data": {
            "text/plain": [
              "<keras.callbacks.History at 0x7f37b14a2e90>"
            ]
          },
          "metadata": {},
          "execution_count": 55
        }
      ],
      "source": [
        "network.fit(train_images, train_labels, epochs=7, batch_size=128)"
      ]
    },
    {
      "cell_type": "code",
      "execution_count": null,
      "metadata": {
        "colab": {
          "base_uri": "https://localhost:8080/"
        },
        "id": "k6GuoGxf83gg",
        "outputId": "8bbf0903-9dfe-49c9-afe7-310b9105a184"
      },
      "outputs": [
        {
          "output_type": "stream",
          "name": "stdout",
          "text": [
            "313/313 [==============================] - 1s 3ms/step - loss: 0.0677 - accuracy: 0.9808\n"
          ]
        }
      ],
      "source": [
        "test_loss, test_acc = network.evaluate(test_images, test_labels)"
      ]
    },
    {
      "cell_type": "code",
      "execution_count": null,
      "metadata": {
        "colab": {
          "base_uri": "https://localhost:8080/"
        },
        "id": "ad1OwJeY83gg",
        "outputId": "67504264-6d88-497e-9233-656ed4b6dc20"
      },
      "outputs": [
        {
          "output_type": "stream",
          "name": "stdout",
          "text": [
            "test_acc: 0.9807999730110168\n"
          ]
        }
      ],
      "source": [
        "print('test_acc:', test_acc)"
      ]
    }
  ],
  "metadata": {
    "kernelspec": {
      "display_name": "Python 3",
      "language": "python",
      "name": "python3"
    },
    "language_info": {
      "codemirror_mode": {
        "name": "ipython",
        "version": 3
      },
      "file_extension": ".py",
      "mimetype": "text/x-python",
      "name": "python",
      "nbconvert_exporter": "python",
      "pygments_lexer": "ipython3",
      "version": "3.8.8"
    },
    "colab": {
      "name": "8_22_2일차3강_ANN실습_rmsprop.ipynb",
      "provenance": [],
      "collapsed_sections": [],
      "include_colab_link": true
    }
  },
  "nbformat": 4,
  "nbformat_minor": 0
}