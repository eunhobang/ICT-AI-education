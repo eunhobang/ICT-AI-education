{
  "nbformat": 4,
  "nbformat_minor": 0,
  "metadata": {
    "colab": {
      "name": "8_9 bt4.ipynb",
      "provenance": [],
      "authorship_tag": "ABX9TyOU6qdzY1sLfLwOuIHgvPfS",
      "include_colab_link": true
    },
    "kernelspec": {
      "name": "python3",
      "display_name": "Python 3"
    },
    "language_info": {
      "name": "python"
    }
  },
  "cells": [
    {
      "cell_type": "markdown",
      "metadata": {
        "id": "view-in-github",
        "colab_type": "text"
      },
      "source": [
        "<a href=\"https://colab.research.google.com/github/eunhobang/ICT-AI-education/blob/main/8_9_bt4.ipynb\" target=\"_parent\"><img src=\"https://colab.research.google.com/assets/colab-badge.svg\" alt=\"Open In Colab\"/></a>"
      ]
    },
    {
      "cell_type": "code",
      "source": [
        "%%writefile example.html\n",
        "<!DOCTYPE html>\n",
        "<html>\n",
        "  <head>\n",
        "    <title> Page Title </title>\n",
        "  </head>\n",
        "  <body>\n",
        "    <h1> Heading </h1>\n",
        "    <p> Paragraph </p>\n",
        "    <div>\n",
        "      <a href = \"www.google.com\"> google </a>\n",
        "    </div>\n",
        "    <div class = \"class1\">\n",
        "      <p> a </p>\n",
        "      <a href = \"www.naver.com\"> naver </a>\n",
        "      <p> b </p>\n",
        "      <p> c </p>\n",
        "    </div>\n",
        "    <div id = \"id1\">\n",
        "      Example page\n",
        "      <p> g </p>\n",
        "    </div>\n",
        "  </body>\n",
        "</html>\n"
      ],
      "metadata": {
        "colab": {
          "base_uri": "https://localhost:8080/"
        },
        "id": "lpceZzfI7UVF",
        "outputId": "a86141a0-afe2-477a-97b3-a107bd6100a3"
      },
      "execution_count": null,
      "outputs": [
        {
          "output_type": "stream",
          "name": "stdout",
          "text": [
            "Writing example.html\n"
          ]
        }
      ]
    },
    {
      "cell_type": "code",
      "execution_count": null,
      "metadata": {
        "id": "dwrhW8Nm5Gnq"
      },
      "outputs": [],
      "source": [
        "from bs4 import BeautifulSoup\n",
        "import urllib.request\n",
        "\n",
        "with open (\"example.html\") as fp:\n",
        "  soup = BeautifulSoup(fp, 'html.parser')"
      ]
    },
    {
      "cell_type": "markdown",
      "source": [
        "## HTML 태그 파싱"
      ],
      "metadata": {
        "id": "O_4NgtDl7wV2"
      }
    },
    {
      "cell_type": "code",
      "source": [
        "soup.title"
      ],
      "metadata": {
        "colab": {
          "base_uri": "https://localhost:8080/"
        },
        "id": "SoPYKZOp8PBg",
        "outputId": "154ac67c-ca96-4aaa-dd9a-f0134452e1a4"
      },
      "execution_count": null,
      "outputs": [
        {
          "output_type": "execute_result",
          "data": {
            "text/plain": [
              "<title> Page Title </title>"
            ]
          },
          "metadata": {},
          "execution_count": 7
        }
      ]
    },
    {
      "cell_type": "code",
      "source": [
        "soup.title.name"
      ],
      "metadata": {
        "colab": {
          "base_uri": "https://localhost:8080/",
          "height": 35
        },
        "id": "GDIOS6fB8R-H",
        "outputId": "8a3c33ef-c4b7-4e1d-a169-0ae46ce1269a"
      },
      "execution_count": null,
      "outputs": [
        {
          "output_type": "execute_result",
          "data": {
            "text/plain": [
              "'title'"
            ],
            "application/vnd.google.colaboratory.intrinsic+json": {
              "type": "string"
            }
          },
          "metadata": {},
          "execution_count": 8
        }
      ]
    },
    {
      "cell_type": "code",
      "source": [
        "soup.title.string"
      ],
      "metadata": {
        "colab": {
          "base_uri": "https://localhost:8080/",
          "height": 35
        },
        "id": "YzuqCtSS8TzG",
        "outputId": "6c920080-743a-4e9c-ca1a-e14ad374df8a"
      },
      "execution_count": null,
      "outputs": [
        {
          "output_type": "execute_result",
          "data": {
            "text/plain": [
              "' Page Title '"
            ],
            "application/vnd.google.colaboratory.intrinsic+json": {
              "type": "string"
            }
          },
          "metadata": {},
          "execution_count": 10
        }
      ]
    },
    {
      "cell_type": "code",
      "source": [
        "soup.title.parent.name"
      ],
      "metadata": {
        "colab": {
          "base_uri": "https://localhost:8080/",
          "height": 35
        },
        "id": "qb7TOto88U2W",
        "outputId": "587a6b01-8345-4048-ac35-4078c9d27b0c"
      },
      "execution_count": null,
      "outputs": [
        {
          "output_type": "execute_result",
          "data": {
            "text/plain": [
              "'head'"
            ],
            "application/vnd.google.colaboratory.intrinsic+json": {
              "type": "string"
            }
          },
          "metadata": {},
          "execution_count": 11
        }
      ]
    },
    {
      "cell_type": "code",
      "source": [
        "soup.h1"
      ],
      "metadata": {
        "colab": {
          "base_uri": "https://localhost:8080/"
        },
        "id": "es-7ZB6z8bsg",
        "outputId": "ca30de56-86d2-49cb-dcfe-87c56fadc50e"
      },
      "execution_count": null,
      "outputs": [
        {
          "output_type": "execute_result",
          "data": {
            "text/plain": [
              "<h1> Heading </h1>"
            ]
          },
          "metadata": {},
          "execution_count": 12
        }
      ]
    },
    {
      "cell_type": "code",
      "source": [
        "soup.p"
      ],
      "metadata": {
        "colab": {
          "base_uri": "https://localhost:8080/"
        },
        "id": "ZraKsLo38dMy",
        "outputId": "d6fb1a61-4027-449b-af57-e5767516c6fa"
      },
      "execution_count": null,
      "outputs": [
        {
          "output_type": "execute_result",
          "data": {
            "text/plain": [
              "<p> Paragraph </p>"
            ]
          },
          "metadata": {},
          "execution_count": 13
        }
      ]
    },
    {
      "cell_type": "code",
      "source": [
        "soup.div"
      ],
      "metadata": {
        "colab": {
          "base_uri": "https://localhost:8080/"
        },
        "id": "JELVEnsF8wsK",
        "outputId": "a7d8bb4a-d4fd-4ae1-dc37-6c8637cacc01"
      },
      "execution_count": null,
      "outputs": [
        {
          "output_type": "execute_result",
          "data": {
            "text/plain": [
              "<div>\n",
              "<a href=\"www.google.com\"> google </a>\n",
              "</div>"
            ]
          },
          "metadata": {},
          "execution_count": 14
        }
      ]
    },
    {
      "cell_type": "code",
      "source": [
        "soup.a #a:하이퍼링크"
      ],
      "metadata": {
        "colab": {
          "base_uri": "https://localhost:8080/"
        },
        "id": "CBvscXoJ8yZZ",
        "outputId": "19b4a251-add8-4aea-9de6-46012a740eb8"
      },
      "execution_count": null,
      "outputs": [
        {
          "output_type": "execute_result",
          "data": {
            "text/plain": [
              "<a href=\"www.google.com\"> google </a>"
            ]
          },
          "metadata": {},
          "execution_count": 15
        }
      ]
    },
    {
      "cell_type": "markdown",
      "source": [
        "## HTML 태그 검색\n",
        "- finde()\n",
        "-\n",
        "-"
      ],
      "metadata": {
        "id": "Uet16MUW89hC"
      }
    },
    {
      "cell_type": "markdown",
      "source": [
        "## 인터넷 웹페이지 가져오기"
      ],
      "metadata": {
        "id": "ntuH40tH9Ip5"
      }
    },
    {
      "cell_type": "code",
      "source": [
        "from bs4 import BeautifulSoup\n",
        "import requests\n",
        "import pandas as pd\n",
        "\n",
        "res_comic = requests.get('https://comic.naver.com/index')\n",
        "soup_comic = BeautifulSoup(res_comic.text, 'lxml')\n",
        "\n",
        "soup_comic"
      ],
      "metadata": {
        "id": "dZHQaN139L8_"
      },
      "execution_count": null,
      "outputs": []
    },
    {
      "cell_type": "markdown",
      "source": [
        "### 웹툰 인기순위"
      ],
      "metadata": {
        "id": "gVLizkshBGvA"
      }
    },
    {
      "cell_type": "code",
      "source": [
        "from bs4 import BeautifulSoup\n",
        "import requests\n",
        "import pandas as pd\n",
        "\n",
        "res_comic = requests.get('https://comic.naver.com/index')\n",
        "soup_comic = BeautifulSoup(res_comic.text, 'lxml')\n",
        "\n",
        "comic_all = soup_comic.find(\"ol\", attrs = {\"id\":\"realTimeRankFavorite\"}).find_all(\"li\")\n",
        "\n",
        "# comic_all # 10\n",
        "\n",
        "list_comic_all = []\n",
        "for rank, comic in enumerate(comic_all):\n",
        "  list_comic = []\n",
        "  list_comic.append(rank+1)\n",
        "  list_comic.append(comic.a.text.strip())\n",
        "  list_comic.append('https://comic.naver.com' + comic.a['href'])\n",
        "  list_comic_all.append(list_comic)\n",
        "\n",
        "df_comic = pd.DataFrame(list_comic_all, columns= ['순위','제목','링크'])\n",
        "\n",
        "df_comic\n"
      ],
      "metadata": {
        "colab": {
          "base_uri": "https://localhost:8080/",
          "height": 363
        },
        "id": "oUb_uW9-_VBF",
        "outputId": "3dba19bb-ea71-478d-abd9-f46cae0179ee"
      },
      "execution_count": null,
      "outputs": [
        {
          "output_type": "execute_result",
          "data": {
            "text/plain": [
              "   순위                           제목  \\\n",
              "0   1      김부장-41화 우리집에 국수 먹으러 갈래?   \n",
              "1   2                    여신강림-219화   \n",
              "2   3      내가 키운 S급들-42화 : 위기의 명우!   \n",
              "3   4  중증외상센터 : 골든 아워-2부 64화 : 초응급   \n",
              "4   5             멸망 이후의 세계-제 27 화   \n",
              "5   6           마루는 강쥐-9화. 마트에 가자!   \n",
              "6   7          용사가 돌아왔다-62화 이성준(1)   \n",
              "7   8                    1을 줄게-46화   \n",
              "8   9           대학원 탈출일지-46화-식사(2)   \n",
              "9  10          랜덤채팅의 그녀!-244. 안티테제   \n",
              "\n",
              "                                                  링크  \n",
              "0  https://comic.naver.com/webtoon/detail?titleId...  \n",
              "1  https://comic.naver.com/webtoon/detail?titleId...  \n",
              "2  https://comic.naver.com/webtoon/detail?titleId...  \n",
              "3  https://comic.naver.com/webtoon/detail?titleId...  \n",
              "4  https://comic.naver.com/webtoon/detail?titleId...  \n",
              "5  https://comic.naver.com/webtoon/detail?titleId...  \n",
              "6  https://comic.naver.com/webtoon/detail?titleId...  \n",
              "7  https://comic.naver.com/webtoon/detail?titleId...  \n",
              "8  https://comic.naver.com/webtoon/detail?titleId...  \n",
              "9  https://comic.naver.com/webtoon/detail?titleId...  "
            ],
            "text/html": [
              "\n",
              "  <div id=\"df-750da5f8-f5a0-48b8-8b50-4534858a4f03\">\n",
              "    <div class=\"colab-df-container\">\n",
              "      <div>\n",
              "<style scoped>\n",
              "    .dataframe tbody tr th:only-of-type {\n",
              "        vertical-align: middle;\n",
              "    }\n",
              "\n",
              "    .dataframe tbody tr th {\n",
              "        vertical-align: top;\n",
              "    }\n",
              "\n",
              "    .dataframe thead th {\n",
              "        text-align: right;\n",
              "    }\n",
              "</style>\n",
              "<table border=\"1\" class=\"dataframe\">\n",
              "  <thead>\n",
              "    <tr style=\"text-align: right;\">\n",
              "      <th></th>\n",
              "      <th>순위</th>\n",
              "      <th>제목</th>\n",
              "      <th>링크</th>\n",
              "    </tr>\n",
              "  </thead>\n",
              "  <tbody>\n",
              "    <tr>\n",
              "      <th>0</th>\n",
              "      <td>1</td>\n",
              "      <td>김부장-41화 우리집에 국수 먹으러 갈래?</td>\n",
              "      <td>https://comic.naver.com/webtoon/detail?titleId...</td>\n",
              "    </tr>\n",
              "    <tr>\n",
              "      <th>1</th>\n",
              "      <td>2</td>\n",
              "      <td>여신강림-219화</td>\n",
              "      <td>https://comic.naver.com/webtoon/detail?titleId...</td>\n",
              "    </tr>\n",
              "    <tr>\n",
              "      <th>2</th>\n",
              "      <td>3</td>\n",
              "      <td>내가 키운 S급들-42화 : 위기의 명우!</td>\n",
              "      <td>https://comic.naver.com/webtoon/detail?titleId...</td>\n",
              "    </tr>\n",
              "    <tr>\n",
              "      <th>3</th>\n",
              "      <td>4</td>\n",
              "      <td>중증외상센터 : 골든 아워-2부 64화 : 초응급</td>\n",
              "      <td>https://comic.naver.com/webtoon/detail?titleId...</td>\n",
              "    </tr>\n",
              "    <tr>\n",
              "      <th>4</th>\n",
              "      <td>5</td>\n",
              "      <td>멸망 이후의 세계-제 27 화</td>\n",
              "      <td>https://comic.naver.com/webtoon/detail?titleId...</td>\n",
              "    </tr>\n",
              "    <tr>\n",
              "      <th>5</th>\n",
              "      <td>6</td>\n",
              "      <td>마루는 강쥐-9화. 마트에 가자!</td>\n",
              "      <td>https://comic.naver.com/webtoon/detail?titleId...</td>\n",
              "    </tr>\n",
              "    <tr>\n",
              "      <th>6</th>\n",
              "      <td>7</td>\n",
              "      <td>용사가 돌아왔다-62화 이성준(1)</td>\n",
              "      <td>https://comic.naver.com/webtoon/detail?titleId...</td>\n",
              "    </tr>\n",
              "    <tr>\n",
              "      <th>7</th>\n",
              "      <td>8</td>\n",
              "      <td>1을 줄게-46화</td>\n",
              "      <td>https://comic.naver.com/webtoon/detail?titleId...</td>\n",
              "    </tr>\n",
              "    <tr>\n",
              "      <th>8</th>\n",
              "      <td>9</td>\n",
              "      <td>대학원 탈출일지-46화-식사(2)</td>\n",
              "      <td>https://comic.naver.com/webtoon/detail?titleId...</td>\n",
              "    </tr>\n",
              "    <tr>\n",
              "      <th>9</th>\n",
              "      <td>10</td>\n",
              "      <td>랜덤채팅의 그녀!-244. 안티테제</td>\n",
              "      <td>https://comic.naver.com/webtoon/detail?titleId...</td>\n",
              "    </tr>\n",
              "  </tbody>\n",
              "</table>\n",
              "</div>\n",
              "      <button class=\"colab-df-convert\" onclick=\"convertToInteractive('df-750da5f8-f5a0-48b8-8b50-4534858a4f03')\"\n",
              "              title=\"Convert this dataframe to an interactive table.\"\n",
              "              style=\"display:none;\">\n",
              "        \n",
              "  <svg xmlns=\"http://www.w3.org/2000/svg\" height=\"24px\"viewBox=\"0 0 24 24\"\n",
              "       width=\"24px\">\n",
              "    <path d=\"M0 0h24v24H0V0z\" fill=\"none\"/>\n",
              "    <path d=\"M18.56 5.44l.94 2.06.94-2.06 2.06-.94-2.06-.94-.94-2.06-.94 2.06-2.06.94zm-11 1L8.5 8.5l.94-2.06 2.06-.94-2.06-.94L8.5 2.5l-.94 2.06-2.06.94zm10 10l.94 2.06.94-2.06 2.06-.94-2.06-.94-.94-2.06-.94 2.06-2.06.94z\"/><path d=\"M17.41 7.96l-1.37-1.37c-.4-.4-.92-.59-1.43-.59-.52 0-1.04.2-1.43.59L10.3 9.45l-7.72 7.72c-.78.78-.78 2.05 0 2.83L4 21.41c.39.39.9.59 1.41.59.51 0 1.02-.2 1.41-.59l7.78-7.78 2.81-2.81c.8-.78.8-2.07 0-2.86zM5.41 20L4 18.59l7.72-7.72 1.47 1.35L5.41 20z\"/>\n",
              "  </svg>\n",
              "      </button>\n",
              "      \n",
              "  <style>\n",
              "    .colab-df-container {\n",
              "      display:flex;\n",
              "      flex-wrap:wrap;\n",
              "      gap: 12px;\n",
              "    }\n",
              "\n",
              "    .colab-df-convert {\n",
              "      background-color: #E8F0FE;\n",
              "      border: none;\n",
              "      border-radius: 50%;\n",
              "      cursor: pointer;\n",
              "      display: none;\n",
              "      fill: #1967D2;\n",
              "      height: 32px;\n",
              "      padding: 0 0 0 0;\n",
              "      width: 32px;\n",
              "    }\n",
              "\n",
              "    .colab-df-convert:hover {\n",
              "      background-color: #E2EBFA;\n",
              "      box-shadow: 0px 1px 2px rgba(60, 64, 67, 0.3), 0px 1px 3px 1px rgba(60, 64, 67, 0.15);\n",
              "      fill: #174EA6;\n",
              "    }\n",
              "\n",
              "    [theme=dark] .colab-df-convert {\n",
              "      background-color: #3B4455;\n",
              "      fill: #D2E3FC;\n",
              "    }\n",
              "\n",
              "    [theme=dark] .colab-df-convert:hover {\n",
              "      background-color: #434B5C;\n",
              "      box-shadow: 0px 1px 3px 1px rgba(0, 0, 0, 0.15);\n",
              "      filter: drop-shadow(0px 1px 2px rgba(0, 0, 0, 0.3));\n",
              "      fill: #FFFFFF;\n",
              "    }\n",
              "  </style>\n",
              "\n",
              "      <script>\n",
              "        const buttonEl =\n",
              "          document.querySelector('#df-750da5f8-f5a0-48b8-8b50-4534858a4f03 button.colab-df-convert');\n",
              "        buttonEl.style.display =\n",
              "          google.colab.kernel.accessAllowed ? 'block' : 'none';\n",
              "\n",
              "        async function convertToInteractive(key) {\n",
              "          const element = document.querySelector('#df-750da5f8-f5a0-48b8-8b50-4534858a4f03');\n",
              "          const dataTable =\n",
              "            await google.colab.kernel.invokeFunction('convertToInteractive',\n",
              "                                                     [key], {});\n",
              "          if (!dataTable) return;\n",
              "\n",
              "          const docLinkHtml = 'Like what you see? Visit the ' +\n",
              "            '<a target=\"_blank\" href=https://colab.research.google.com/notebooks/data_table.ipynb>data table notebook</a>'\n",
              "            + ' to learn more about interactive tables.';\n",
              "          element.innerHTML = '';\n",
              "          dataTable['output_type'] = 'display_data';\n",
              "          await google.colab.output.renderOutput(dataTable, element);\n",
              "          const docLink = document.createElement('div');\n",
              "          docLink.innerHTML = docLinkHtml;\n",
              "          element.appendChild(docLink);\n",
              "        }\n",
              "      </script>\n",
              "    </div>\n",
              "  </div>\n",
              "  "
            ]
          },
          "metadata": {},
          "execution_count": 23
        }
      ]
    },
    {
      "cell_type": "markdown",
      "source": [
        "### 웹툰 최신순위"
      ],
      "metadata": {
        "id": "GYzaOS3NBK-H"
      }
    },
    {
      "cell_type": "code",
      "source": [
        "res_comic = requests.get('https://comic.naver.com/index')\n",
        "soup_comic = BeautifulSoup(res_comic.text, 'lxml')\n",
        "\n",
        "comic_all = soup_comic.find(\"ol\", attrs = {\"id\":\"realTimeRankUpdate\"}).find_all(\"li\")\n",
        "\n",
        "# comic_all # 10\n",
        "\n",
        "list_comic_all = []\n",
        "for rank, comic in enumerate(comic_all):\n",
        "  list_comic = []\n",
        "  list_comic.append(rank+1)\n",
        "  list_comic.append(comic.a.text.strip())\n",
        "  list_comic.append('https://comic.naver.com' + comic.a['href'])\n",
        "  list_comic_all.append(list_comic)\n",
        "  \n",
        "df_comic = pd.DataFrame(list_comic_all, columns= ['순위','제목','링크'])\n",
        "\n",
        "df_comic\n"
      ],
      "metadata": {
        "colab": {
          "base_uri": "https://localhost:8080/",
          "height": 363
        },
        "id": "ZzztcqOa_1JA",
        "outputId": "bbb125d1-c2de-47c0-9f44-78f36ee71f7c"
      },
      "execution_count": null,
      "outputs": [
        {
          "output_type": "execute_result",
          "data": {
            "text/plain": [
              "   순위                         제목  \\\n",
              "0   1  삼국지톡-입촉_14. 빠릿빠릿한 신입, 사마의   \n",
              "1   2                   올가미-137화   \n",
              "2   3                 연우의 순정-92화   \n",
              "3   4              다꾸남-마지막화 다이어리   \n",
              "4   5                  1을 줄게-46화   \n",
              "5   6             제로게임-[301] 값어치   \n",
              "6   7                     빅맨-99화   \n",
              "7   8              찐:종합게임동아리-69화   \n",
              "8   9                    태시트-59화   \n",
              "9  10            대공님, 실수였어요!-44화   \n",
              "\n",
              "                                                  링크  \n",
              "0  https://comic.naver.com/webtoon/detail?titleId...  \n",
              "1  https://comic.naver.com/webtoon/detail?titleId...  \n",
              "2  https://comic.naver.com/webtoon/detail?titleId...  \n",
              "3  https://comic.naver.com/webtoon/detail?titleId...  \n",
              "4  https://comic.naver.com/webtoon/detail?titleId...  \n",
              "5  https://comic.naver.com/webtoon/detail?titleId...  \n",
              "6  https://comic.naver.com/webtoon/detail?titleId...  \n",
              "7  https://comic.naver.com/webtoon/detail?titleId...  \n",
              "8  https://comic.naver.com/webtoon/detail?titleId...  \n",
              "9  https://comic.naver.com/webtoon/detail?titleId...  "
            ],
            "text/html": [
              "\n",
              "  <div id=\"df-7857d441-29e4-4196-a6c3-f06dd0691538\">\n",
              "    <div class=\"colab-df-container\">\n",
              "      <div>\n",
              "<style scoped>\n",
              "    .dataframe tbody tr th:only-of-type {\n",
              "        vertical-align: middle;\n",
              "    }\n",
              "\n",
              "    .dataframe tbody tr th {\n",
              "        vertical-align: top;\n",
              "    }\n",
              "\n",
              "    .dataframe thead th {\n",
              "        text-align: right;\n",
              "    }\n",
              "</style>\n",
              "<table border=\"1\" class=\"dataframe\">\n",
              "  <thead>\n",
              "    <tr style=\"text-align: right;\">\n",
              "      <th></th>\n",
              "      <th>순위</th>\n",
              "      <th>제목</th>\n",
              "      <th>링크</th>\n",
              "    </tr>\n",
              "  </thead>\n",
              "  <tbody>\n",
              "    <tr>\n",
              "      <th>0</th>\n",
              "      <td>1</td>\n",
              "      <td>삼국지톡-입촉_14. 빠릿빠릿한 신입, 사마의</td>\n",
              "      <td>https://comic.naver.com/webtoon/detail?titleId...</td>\n",
              "    </tr>\n",
              "    <tr>\n",
              "      <th>1</th>\n",
              "      <td>2</td>\n",
              "      <td>올가미-137화</td>\n",
              "      <td>https://comic.naver.com/webtoon/detail?titleId...</td>\n",
              "    </tr>\n",
              "    <tr>\n",
              "      <th>2</th>\n",
              "      <td>3</td>\n",
              "      <td>연우의 순정-92화</td>\n",
              "      <td>https://comic.naver.com/webtoon/detail?titleId...</td>\n",
              "    </tr>\n",
              "    <tr>\n",
              "      <th>3</th>\n",
              "      <td>4</td>\n",
              "      <td>다꾸남-마지막화 다이어리</td>\n",
              "      <td>https://comic.naver.com/webtoon/detail?titleId...</td>\n",
              "    </tr>\n",
              "    <tr>\n",
              "      <th>4</th>\n",
              "      <td>5</td>\n",
              "      <td>1을 줄게-46화</td>\n",
              "      <td>https://comic.naver.com/webtoon/detail?titleId...</td>\n",
              "    </tr>\n",
              "    <tr>\n",
              "      <th>5</th>\n",
              "      <td>6</td>\n",
              "      <td>제로게임-[301] 값어치</td>\n",
              "      <td>https://comic.naver.com/webtoon/detail?titleId...</td>\n",
              "    </tr>\n",
              "    <tr>\n",
              "      <th>6</th>\n",
              "      <td>7</td>\n",
              "      <td>빅맨-99화</td>\n",
              "      <td>https://comic.naver.com/webtoon/detail?titleId...</td>\n",
              "    </tr>\n",
              "    <tr>\n",
              "      <th>7</th>\n",
              "      <td>8</td>\n",
              "      <td>찐:종합게임동아리-69화</td>\n",
              "      <td>https://comic.naver.com/webtoon/detail?titleId...</td>\n",
              "    </tr>\n",
              "    <tr>\n",
              "      <th>8</th>\n",
              "      <td>9</td>\n",
              "      <td>태시트-59화</td>\n",
              "      <td>https://comic.naver.com/webtoon/detail?titleId...</td>\n",
              "    </tr>\n",
              "    <tr>\n",
              "      <th>9</th>\n",
              "      <td>10</td>\n",
              "      <td>대공님, 실수였어요!-44화</td>\n",
              "      <td>https://comic.naver.com/webtoon/detail?titleId...</td>\n",
              "    </tr>\n",
              "  </tbody>\n",
              "</table>\n",
              "</div>\n",
              "      <button class=\"colab-df-convert\" onclick=\"convertToInteractive('df-7857d441-29e4-4196-a6c3-f06dd0691538')\"\n",
              "              title=\"Convert this dataframe to an interactive table.\"\n",
              "              style=\"display:none;\">\n",
              "        \n",
              "  <svg xmlns=\"http://www.w3.org/2000/svg\" height=\"24px\"viewBox=\"0 0 24 24\"\n",
              "       width=\"24px\">\n",
              "    <path d=\"M0 0h24v24H0V0z\" fill=\"none\"/>\n",
              "    <path d=\"M18.56 5.44l.94 2.06.94-2.06 2.06-.94-2.06-.94-.94-2.06-.94 2.06-2.06.94zm-11 1L8.5 8.5l.94-2.06 2.06-.94-2.06-.94L8.5 2.5l-.94 2.06-2.06.94zm10 10l.94 2.06.94-2.06 2.06-.94-2.06-.94-.94-2.06-.94 2.06-2.06.94z\"/><path d=\"M17.41 7.96l-1.37-1.37c-.4-.4-.92-.59-1.43-.59-.52 0-1.04.2-1.43.59L10.3 9.45l-7.72 7.72c-.78.78-.78 2.05 0 2.83L4 21.41c.39.39.9.59 1.41.59.51 0 1.02-.2 1.41-.59l7.78-7.78 2.81-2.81c.8-.78.8-2.07 0-2.86zM5.41 20L4 18.59l7.72-7.72 1.47 1.35L5.41 20z\"/>\n",
              "  </svg>\n",
              "      </button>\n",
              "      \n",
              "  <style>\n",
              "    .colab-df-container {\n",
              "      display:flex;\n",
              "      flex-wrap:wrap;\n",
              "      gap: 12px;\n",
              "    }\n",
              "\n",
              "    .colab-df-convert {\n",
              "      background-color: #E8F0FE;\n",
              "      border: none;\n",
              "      border-radius: 50%;\n",
              "      cursor: pointer;\n",
              "      display: none;\n",
              "      fill: #1967D2;\n",
              "      height: 32px;\n",
              "      padding: 0 0 0 0;\n",
              "      width: 32px;\n",
              "    }\n",
              "\n",
              "    .colab-df-convert:hover {\n",
              "      background-color: #E2EBFA;\n",
              "      box-shadow: 0px 1px 2px rgba(60, 64, 67, 0.3), 0px 1px 3px 1px rgba(60, 64, 67, 0.15);\n",
              "      fill: #174EA6;\n",
              "    }\n",
              "\n",
              "    [theme=dark] .colab-df-convert {\n",
              "      background-color: #3B4455;\n",
              "      fill: #D2E3FC;\n",
              "    }\n",
              "\n",
              "    [theme=dark] .colab-df-convert:hover {\n",
              "      background-color: #434B5C;\n",
              "      box-shadow: 0px 1px 3px 1px rgba(0, 0, 0, 0.15);\n",
              "      filter: drop-shadow(0px 1px 2px rgba(0, 0, 0, 0.3));\n",
              "      fill: #FFFFFF;\n",
              "    }\n",
              "  </style>\n",
              "\n",
              "      <script>\n",
              "        const buttonEl =\n",
              "          document.querySelector('#df-7857d441-29e4-4196-a6c3-f06dd0691538 button.colab-df-convert');\n",
              "        buttonEl.style.display =\n",
              "          google.colab.kernel.accessAllowed ? 'block' : 'none';\n",
              "\n",
              "        async function convertToInteractive(key) {\n",
              "          const element = document.querySelector('#df-7857d441-29e4-4196-a6c3-f06dd0691538');\n",
              "          const dataTable =\n",
              "            await google.colab.kernel.invokeFunction('convertToInteractive',\n",
              "                                                     [key], {});\n",
              "          if (!dataTable) return;\n",
              "\n",
              "          const docLinkHtml = 'Like what you see? Visit the ' +\n",
              "            '<a target=\"_blank\" href=https://colab.research.google.com/notebooks/data_table.ipynb>data table notebook</a>'\n",
              "            + ' to learn more about interactive tables.';\n",
              "          element.innerHTML = '';\n",
              "          dataTable['output_type'] = 'display_data';\n",
              "          await google.colab.output.renderOutput(dataTable, element);\n",
              "          const docLink = document.createElement('div');\n",
              "          docLink.innerHTML = docLinkHtml;\n",
              "          element.appendChild(docLink);\n",
              "        }\n",
              "      </script>\n",
              "    </div>\n",
              "  </div>\n",
              "  "
            ]
          },
          "metadata": {},
          "execution_count": 25
        }
      ]
    },
    {
      "cell_type": "markdown",
      "source": [
        "## 영화 리뷰 스크래핑\n",
        "- 네이버 영화 리뷰\n",
        "- CSV파일 저장"
      ],
      "metadata": {
        "id": "6c2kDtzvA7TS"
      }
    },
    {
      "cell_type": "code",
      "source": [
        "import requests\n",
        "from bs4 import BeautifulSoup\n",
        "import time\n",
        "import csv\n",
        "\n",
        "need_reviews_cnt = 1000\n",
        "reviews = []\n",
        "review_data=[]\n",
        "\n",
        "#page를 1부터 1씩 증가하며 URL을 다음 페이지로 바꿈 \n",
        "for page in range(1,500):\n",
        "    url = f'https://movie.naver.com/movie/point/af/list.naver?&page={page}'\n",
        "    #get : request로 url의  html문서의 내용 요청\n",
        "    html = requests.get(url)\n",
        "    #html을 받아온 문서를 .content로 지정 후 soup객체로 변환\n",
        "    soup = BeautifulSoup(html.content,'html.parser')\n",
        "    #find_all : 지정한 태그의 내용을 모두 찾아 리스트로 반환\n",
        "    reviews = soup.find_all(\"td\",{\"class\":\"title\"})\n",
        "\n",
        "  #한 페이지의 리뷰 리스트의 리뷰를 하나씩 보면서 데이터 추출\n",
        "    for review in reviews:\n",
        "        sentence = review.find(\"a\",{\"class\":\"report\"}).get(\"onclick\").split(\"', '\")[2]\n",
        "        #만약 리뷰 내용이 비어있다면 데이터를 사용하지 않음\n",
        "        if sentence != \"\":\n",
        "            movie = review.find(\"a\",{\"class\":\"movie color_b\"}).get_text()\n",
        "            score = review.find(\"em\").get_text()\n",
        "            review_data.append([movie,sentence,int(score)])\n",
        "            need_reviews_cnt-= 1\n",
        "    #현재까지 수집된 리뷰가 목표 수집 리뷰보다 많아진 경우 크롤링 중지        \n",
        "    if need_reviews_cnt < 0:                                         \n",
        "        break\n",
        "    #다음 페이지를 조회하기 전 0.5초 시간 차를 두기\n",
        "    time.sleep(0.5)\n",
        "\n",
        "columns_name = [\"movie\",\"sentence\",\"score\"]\n",
        "with open ( \"samples.csv\", \"w\", newline =\"\",encoding = 'utf8' ) as f:\n",
        "    write = csv.writer(f)\n",
        "    write.writerow(columns_name)\n",
        "    write.writerows(review_data)\n"
      ],
      "metadata": {
        "id": "MOFau0GtBcpT"
      },
      "execution_count": null,
      "outputs": []
    },
    {
      "cell_type": "markdown",
      "source": [
        "## CSV df로 읽어오기"
      ],
      "metadata": {
        "id": "L56ZkAjdD2yX"
      }
    },
    {
      "cell_type": "code",
      "source": [
        "line = pd.read_csv(\"samples.csv\")\n",
        "line.head()"
      ],
      "metadata": {
        "colab": {
          "base_uri": "https://localhost:8080/",
          "height": 206
        },
        "id": "oK4nPQwRLk1r",
        "outputId": "ba7937f7-1d0c-454b-eb85-4420fa0662a8"
      },
      "execution_count": null,
      "outputs": [
        {
          "output_type": "execute_result",
          "data": {
            "text/plain": [
              "  movie                                   sentence  score\n",
              "0    강릉  개꾸르잼이고 유오성배우는 진짜 강원도 분이라 사투리연기도 안어색하네요 ^^     10\n",
              "1  비상선언              낮은평점만큼 재미없진않습니다초중반 몰입감은 대단합니다      8\n",
              "2  비상선언    왜? 난 재밌던데? 남자친구도 재미있다고 했음평점 믿을게 진심 못됨..     10\n",
              "3  마이 걸                             내 유년시절 추억같은 영화     10\n",
              "4  비상선언  너무 실망했음 ㅋㅋ 배우가 좋다고 영화가 다좋은것은 아니라는걸 깨달은 순간      1"
            ],
            "text/html": [
              "\n",
              "  <div id=\"df-bae85d13-4bc8-4278-b76a-9b037671083d\">\n",
              "    <div class=\"colab-df-container\">\n",
              "      <div>\n",
              "<style scoped>\n",
              "    .dataframe tbody tr th:only-of-type {\n",
              "        vertical-align: middle;\n",
              "    }\n",
              "\n",
              "    .dataframe tbody tr th {\n",
              "        vertical-align: top;\n",
              "    }\n",
              "\n",
              "    .dataframe thead th {\n",
              "        text-align: right;\n",
              "    }\n",
              "</style>\n",
              "<table border=\"1\" class=\"dataframe\">\n",
              "  <thead>\n",
              "    <tr style=\"text-align: right;\">\n",
              "      <th></th>\n",
              "      <th>movie</th>\n",
              "      <th>sentence</th>\n",
              "      <th>score</th>\n",
              "    </tr>\n",
              "  </thead>\n",
              "  <tbody>\n",
              "    <tr>\n",
              "      <th>0</th>\n",
              "      <td>강릉</td>\n",
              "      <td>개꾸르잼이고 유오성배우는 진짜 강원도 분이라 사투리연기도 안어색하네요 ^^</td>\n",
              "      <td>10</td>\n",
              "    </tr>\n",
              "    <tr>\n",
              "      <th>1</th>\n",
              "      <td>비상선언</td>\n",
              "      <td>낮은평점만큼 재미없진않습니다초중반 몰입감은 대단합니다</td>\n",
              "      <td>8</td>\n",
              "    </tr>\n",
              "    <tr>\n",
              "      <th>2</th>\n",
              "      <td>비상선언</td>\n",
              "      <td>왜? 난 재밌던데? 남자친구도 재미있다고 했음평점 믿을게 진심 못됨..</td>\n",
              "      <td>10</td>\n",
              "    </tr>\n",
              "    <tr>\n",
              "      <th>3</th>\n",
              "      <td>마이 걸</td>\n",
              "      <td>내 유년시절 추억같은 영화</td>\n",
              "      <td>10</td>\n",
              "    </tr>\n",
              "    <tr>\n",
              "      <th>4</th>\n",
              "      <td>비상선언</td>\n",
              "      <td>너무 실망했음 ㅋㅋ 배우가 좋다고 영화가 다좋은것은 아니라는걸 깨달은 순간</td>\n",
              "      <td>1</td>\n",
              "    </tr>\n",
              "  </tbody>\n",
              "</table>\n",
              "</div>\n",
              "      <button class=\"colab-df-convert\" onclick=\"convertToInteractive('df-bae85d13-4bc8-4278-b76a-9b037671083d')\"\n",
              "              title=\"Convert this dataframe to an interactive table.\"\n",
              "              style=\"display:none;\">\n",
              "        \n",
              "  <svg xmlns=\"http://www.w3.org/2000/svg\" height=\"24px\"viewBox=\"0 0 24 24\"\n",
              "       width=\"24px\">\n",
              "    <path d=\"M0 0h24v24H0V0z\" fill=\"none\"/>\n",
              "    <path d=\"M18.56 5.44l.94 2.06.94-2.06 2.06-.94-2.06-.94-.94-2.06-.94 2.06-2.06.94zm-11 1L8.5 8.5l.94-2.06 2.06-.94-2.06-.94L8.5 2.5l-.94 2.06-2.06.94zm10 10l.94 2.06.94-2.06 2.06-.94-2.06-.94-.94-2.06-.94 2.06-2.06.94z\"/><path d=\"M17.41 7.96l-1.37-1.37c-.4-.4-.92-.59-1.43-.59-.52 0-1.04.2-1.43.59L10.3 9.45l-7.72 7.72c-.78.78-.78 2.05 0 2.83L4 21.41c.39.39.9.59 1.41.59.51 0 1.02-.2 1.41-.59l7.78-7.78 2.81-2.81c.8-.78.8-2.07 0-2.86zM5.41 20L4 18.59l7.72-7.72 1.47 1.35L5.41 20z\"/>\n",
              "  </svg>\n",
              "      </button>\n",
              "      \n",
              "  <style>\n",
              "    .colab-df-container {\n",
              "      display:flex;\n",
              "      flex-wrap:wrap;\n",
              "      gap: 12px;\n",
              "    }\n",
              "\n",
              "    .colab-df-convert {\n",
              "      background-color: #E8F0FE;\n",
              "      border: none;\n",
              "      border-radius: 50%;\n",
              "      cursor: pointer;\n",
              "      display: none;\n",
              "      fill: #1967D2;\n",
              "      height: 32px;\n",
              "      padding: 0 0 0 0;\n",
              "      width: 32px;\n",
              "    }\n",
              "\n",
              "    .colab-df-convert:hover {\n",
              "      background-color: #E2EBFA;\n",
              "      box-shadow: 0px 1px 2px rgba(60, 64, 67, 0.3), 0px 1px 3px 1px rgba(60, 64, 67, 0.15);\n",
              "      fill: #174EA6;\n",
              "    }\n",
              "\n",
              "    [theme=dark] .colab-df-convert {\n",
              "      background-color: #3B4455;\n",
              "      fill: #D2E3FC;\n",
              "    }\n",
              "\n",
              "    [theme=dark] .colab-df-convert:hover {\n",
              "      background-color: #434B5C;\n",
              "      box-shadow: 0px 1px 3px 1px rgba(0, 0, 0, 0.15);\n",
              "      filter: drop-shadow(0px 1px 2px rgba(0, 0, 0, 0.3));\n",
              "      fill: #FFFFFF;\n",
              "    }\n",
              "  </style>\n",
              "\n",
              "      <script>\n",
              "        const buttonEl =\n",
              "          document.querySelector('#df-bae85d13-4bc8-4278-b76a-9b037671083d button.colab-df-convert');\n",
              "        buttonEl.style.display =\n",
              "          google.colab.kernel.accessAllowed ? 'block' : 'none';\n",
              "\n",
              "        async function convertToInteractive(key) {\n",
              "          const element = document.querySelector('#df-bae85d13-4bc8-4278-b76a-9b037671083d');\n",
              "          const dataTable =\n",
              "            await google.colab.kernel.invokeFunction('convertToInteractive',\n",
              "                                                     [key], {});\n",
              "          if (!dataTable) return;\n",
              "\n",
              "          const docLinkHtml = 'Like what you see? Visit the ' +\n",
              "            '<a target=\"_blank\" href=https://colab.research.google.com/notebooks/data_table.ipynb>data table notebook</a>'\n",
              "            + ' to learn more about interactive tables.';\n",
              "          element.innerHTML = '';\n",
              "          dataTable['output_type'] = 'display_data';\n",
              "          await google.colab.output.renderOutput(dataTable, element);\n",
              "          const docLink = document.createElement('div');\n",
              "          docLink.innerHTML = docLinkHtml;\n",
              "          element.appendChild(docLink);\n",
              "        }\n",
              "      </script>\n",
              "    </div>\n",
              "  </div>\n",
              "  "
            ]
          },
          "metadata": {},
          "execution_count": 28
        }
      ]
    },
    {
      "cell_type": "markdown",
      "source": [
        "- 네이버 영화 리뷰"
      ],
      "metadata": {
        "id": "cjseA4-hLuym"
      }
    },
    {
      "cell_type": "code",
      "source": [
        "from bs4 import BeautifulSoup\n",
        "import requests\n",
        "import pandas as pd\n",
        "\n",
        "def get_movie_reviews(mcode, page_num = 10):\n",
        "\n",
        "  movie_review_df = pd.DataFrame(columns=(\"Title\", \"Score\", \"Review\"))\n",
        "\n",
        "  #url = \"https://movie.naver.com/movie/point/af/list.naver?st=mcode&sword=203101&target=after\"\n",
        "  url = \"https://movie.naver.com/movie/point/af/list.naver?st=mcode&sword=\" \\\n",
        "    + str(mcode) + \"&target=after\"\n",
        "\n",
        "  idx = 0\n",
        "\n",
        "  for _ in range(0, page_num):\n",
        "    movie = requests.get(url)\n",
        "    movie_soup = BeautifulSoup(movie.content, 'lxml')\n",
        "\n",
        "    review_list = movie_soup.find_all('td', {'class': 'title'})\n",
        "    for review in review_list:\n",
        "      title = review.find('a', {'class': 'movie color_b'}).get_text()\n",
        "      score = review.find('em').get_text()\n",
        "      \n",
        "      #review_text = review.find('br').get_text()\n",
        "      #review_text = review.find('a', {'class': 'report'}).get('onclick')\n",
        "      review_text = review.find('a', {'class': 'report'}).get('onclick').split(',')[2]\n",
        "      movie_review_df.loc[idx] = [title, score, review_text]\n",
        "      idx += 1\n",
        "      print(\"#\", end = \"\")\n",
        "\n",
        "    return movie_review_df\n",
        "\n"
      ],
      "metadata": {
        "id": "DO47EC_gMZNh"
      },
      "execution_count": 6,
      "outputs": []
    },
    {
      "cell_type": "code",
      "source": [
        "movie_review_df = get_movie_reviews(203101, 1) # (영화코드, 페이지)\n",
        "movie_review_df"
      ],
      "metadata": {
        "colab": {
          "base_uri": "https://localhost:8080/",
          "height": 381
        },
        "id": "f5iMuzAFNEdK",
        "outputId": "0d32678c-030c-4c09-9b76-729f5f1e4725"
      },
      "execution_count": 7,
      "outputs": [
        {
          "output_type": "stream",
          "name": "stdout",
          "text": [
            "##########"
          ]
        },
        {
          "output_type": "execute_result",
          "data": {
            "text/plain": [
              "  Title Score                                             Review\n",
              "0    카터     1           '대체 무슨내용을 쓴건지;카메라 기법도 어설프고 CG도 진짜 싸구려구나'\n",
              "1    카터     1                                 '2022년 최악. 워스트 영화'\n",
              "2    카터     4   '배우들은 죄가 없고.. 정말 고생 했을거 같은데...일부러 이렇게 만든건가? 일...\n",
              "3    카터     1                               '태국이나 동남아 쪽으로 수출을..'\n",
              "4    카터    10   '필요 이상으로 평점 테러가 너무 심하네요.  감독의 긴장감 백배 롱테이크 카메라...\n",
              "5    카터     2                        '북한에서 만든 영화인줄! 볼건 주연 엉덩이밖에'\n",
              "6    카터     1   '주원배우가 영화 촬영을 위해 몸을 만든 노력 때문에 별 1개 선사합니다.뭐 하나...\n",
              "7    카터     1                                 '주원님 이런영화 찍지마세요ㅠ '\n",
              "8    카터     1                '30분 보다가 더이상 못보겠더라.... 주원이 넘 아까움..'\n",
              "9    카터     8                                      '난 재밌었는데..ㅎㅎ'"
            ],
            "text/html": [
              "\n",
              "  <div id=\"df-59938dd9-467a-488f-9267-e8724f11c202\">\n",
              "    <div class=\"colab-df-container\">\n",
              "      <div>\n",
              "<style scoped>\n",
              "    .dataframe tbody tr th:only-of-type {\n",
              "        vertical-align: middle;\n",
              "    }\n",
              "\n",
              "    .dataframe tbody tr th {\n",
              "        vertical-align: top;\n",
              "    }\n",
              "\n",
              "    .dataframe thead th {\n",
              "        text-align: right;\n",
              "    }\n",
              "</style>\n",
              "<table border=\"1\" class=\"dataframe\">\n",
              "  <thead>\n",
              "    <tr style=\"text-align: right;\">\n",
              "      <th></th>\n",
              "      <th>Title</th>\n",
              "      <th>Score</th>\n",
              "      <th>Review</th>\n",
              "    </tr>\n",
              "  </thead>\n",
              "  <tbody>\n",
              "    <tr>\n",
              "      <th>0</th>\n",
              "      <td>카터</td>\n",
              "      <td>1</td>\n",
              "      <td>'대체 무슨내용을 쓴건지;카메라 기법도 어설프고 CG도 진짜 싸구려구나'</td>\n",
              "    </tr>\n",
              "    <tr>\n",
              "      <th>1</th>\n",
              "      <td>카터</td>\n",
              "      <td>1</td>\n",
              "      <td>'2022년 최악. 워스트 영화'</td>\n",
              "    </tr>\n",
              "    <tr>\n",
              "      <th>2</th>\n",
              "      <td>카터</td>\n",
              "      <td>4</td>\n",
              "      <td>'배우들은 죄가 없고.. 정말 고생 했을거 같은데...일부러 이렇게 만든건가? 일...</td>\n",
              "    </tr>\n",
              "    <tr>\n",
              "      <th>3</th>\n",
              "      <td>카터</td>\n",
              "      <td>1</td>\n",
              "      <td>'태국이나 동남아 쪽으로 수출을..'</td>\n",
              "    </tr>\n",
              "    <tr>\n",
              "      <th>4</th>\n",
              "      <td>카터</td>\n",
              "      <td>10</td>\n",
              "      <td>'필요 이상으로 평점 테러가 너무 심하네요.  감독의 긴장감 백배 롱테이크 카메라...</td>\n",
              "    </tr>\n",
              "    <tr>\n",
              "      <th>5</th>\n",
              "      <td>카터</td>\n",
              "      <td>2</td>\n",
              "      <td>'북한에서 만든 영화인줄! 볼건 주연 엉덩이밖에'</td>\n",
              "    </tr>\n",
              "    <tr>\n",
              "      <th>6</th>\n",
              "      <td>카터</td>\n",
              "      <td>1</td>\n",
              "      <td>'주원배우가 영화 촬영을 위해 몸을 만든 노력 때문에 별 1개 선사합니다.뭐 하나...</td>\n",
              "    </tr>\n",
              "    <tr>\n",
              "      <th>7</th>\n",
              "      <td>카터</td>\n",
              "      <td>1</td>\n",
              "      <td>'주원님 이런영화 찍지마세요ㅠ '</td>\n",
              "    </tr>\n",
              "    <tr>\n",
              "      <th>8</th>\n",
              "      <td>카터</td>\n",
              "      <td>1</td>\n",
              "      <td>'30분 보다가 더이상 못보겠더라.... 주원이 넘 아까움..'</td>\n",
              "    </tr>\n",
              "    <tr>\n",
              "      <th>9</th>\n",
              "      <td>카터</td>\n",
              "      <td>8</td>\n",
              "      <td>'난 재밌었는데..ㅎㅎ'</td>\n",
              "    </tr>\n",
              "  </tbody>\n",
              "</table>\n",
              "</div>\n",
              "      <button class=\"colab-df-convert\" onclick=\"convertToInteractive('df-59938dd9-467a-488f-9267-e8724f11c202')\"\n",
              "              title=\"Convert this dataframe to an interactive table.\"\n",
              "              style=\"display:none;\">\n",
              "        \n",
              "  <svg xmlns=\"http://www.w3.org/2000/svg\" height=\"24px\"viewBox=\"0 0 24 24\"\n",
              "       width=\"24px\">\n",
              "    <path d=\"M0 0h24v24H0V0z\" fill=\"none\"/>\n",
              "    <path d=\"M18.56 5.44l.94 2.06.94-2.06 2.06-.94-2.06-.94-.94-2.06-.94 2.06-2.06.94zm-11 1L8.5 8.5l.94-2.06 2.06-.94-2.06-.94L8.5 2.5l-.94 2.06-2.06.94zm10 10l.94 2.06.94-2.06 2.06-.94-2.06-.94-.94-2.06-.94 2.06-2.06.94z\"/><path d=\"M17.41 7.96l-1.37-1.37c-.4-.4-.92-.59-1.43-.59-.52 0-1.04.2-1.43.59L10.3 9.45l-7.72 7.72c-.78.78-.78 2.05 0 2.83L4 21.41c.39.39.9.59 1.41.59.51 0 1.02-.2 1.41-.59l7.78-7.78 2.81-2.81c.8-.78.8-2.07 0-2.86zM5.41 20L4 18.59l7.72-7.72 1.47 1.35L5.41 20z\"/>\n",
              "  </svg>\n",
              "      </button>\n",
              "      \n",
              "  <style>\n",
              "    .colab-df-container {\n",
              "      display:flex;\n",
              "      flex-wrap:wrap;\n",
              "      gap: 12px;\n",
              "    }\n",
              "\n",
              "    .colab-df-convert {\n",
              "      background-color: #E8F0FE;\n",
              "      border: none;\n",
              "      border-radius: 50%;\n",
              "      cursor: pointer;\n",
              "      display: none;\n",
              "      fill: #1967D2;\n",
              "      height: 32px;\n",
              "      padding: 0 0 0 0;\n",
              "      width: 32px;\n",
              "    }\n",
              "\n",
              "    .colab-df-convert:hover {\n",
              "      background-color: #E2EBFA;\n",
              "      box-shadow: 0px 1px 2px rgba(60, 64, 67, 0.3), 0px 1px 3px 1px rgba(60, 64, 67, 0.15);\n",
              "      fill: #174EA6;\n",
              "    }\n",
              "\n",
              "    [theme=dark] .colab-df-convert {\n",
              "      background-color: #3B4455;\n",
              "      fill: #D2E3FC;\n",
              "    }\n",
              "\n",
              "    [theme=dark] .colab-df-convert:hover {\n",
              "      background-color: #434B5C;\n",
              "      box-shadow: 0px 1px 3px 1px rgba(0, 0, 0, 0.15);\n",
              "      filter: drop-shadow(0px 1px 2px rgba(0, 0, 0, 0.3));\n",
              "      fill: #FFFFFF;\n",
              "    }\n",
              "  </style>\n",
              "\n",
              "      <script>\n",
              "        const buttonEl =\n",
              "          document.querySelector('#df-59938dd9-467a-488f-9267-e8724f11c202 button.colab-df-convert');\n",
              "        buttonEl.style.display =\n",
              "          google.colab.kernel.accessAllowed ? 'block' : 'none';\n",
              "\n",
              "        async function convertToInteractive(key) {\n",
              "          const element = document.querySelector('#df-59938dd9-467a-488f-9267-e8724f11c202');\n",
              "          const dataTable =\n",
              "            await google.colab.kernel.invokeFunction('convertToInteractive',\n",
              "                                                     [key], {});\n",
              "          if (!dataTable) return;\n",
              "\n",
              "          const docLinkHtml = 'Like what you see? Visit the ' +\n",
              "            '<a target=\"_blank\" href=https://colab.research.google.com/notebooks/data_table.ipynb>data table notebook</a>'\n",
              "            + ' to learn more about interactive tables.';\n",
              "          element.innerHTML = '';\n",
              "          dataTable['output_type'] = 'display_data';\n",
              "          await google.colab.output.renderOutput(dataTable, element);\n",
              "          const docLink = document.createElement('div');\n",
              "          docLink.innerHTML = docLinkHtml;\n",
              "          element.appendChild(docLink);\n",
              "        }\n",
              "      </script>\n",
              "    </div>\n",
              "  </div>\n",
              "  "
            ]
          },
          "metadata": {},
          "execution_count": 7
        }
      ]
    },
    {
      "cell_type": "code",
      "source": [
        ""
      ],
      "metadata": {
        "id": "Yy4WvTMhNsl5"
      },
      "execution_count": null,
      "outputs": []
    }
  ]
}