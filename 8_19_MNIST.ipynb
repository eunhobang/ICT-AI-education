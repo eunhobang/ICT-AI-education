{
  "nbformat": 4,
  "nbformat_minor": 0,
  "metadata": {
    "colab": {
      "name": "8_19_MNIST.ipynb",
      "provenance": [],
      "authorship_tag": "ABX9TyM3SSzacR7dq09T0xntB1Tm",
      "include_colab_link": true
    },
    "kernelspec": {
      "name": "python3",
      "display_name": "Python 3"
    },
    "language_info": {
      "name": "python"
    }
  },
  "cells": [
    {
      "cell_type": "markdown",
      "metadata": {
        "id": "view-in-github",
        "colab_type": "text"
      },
      "source": [
        "<a href=\"https://colab.research.google.com/github/eunhobang/ICT-AI-education/blob/main/8_19_MNIST.ipynb\" target=\"_parent\"><img src=\"https://colab.research.google.com/assets/colab-badge.svg\" alt=\"Open In Colab\"/></a>"
      ]
    },
    {
      "cell_type": "code",
      "execution_count": 1,
      "metadata": {
        "id": "N_kJqEMIjakp"
      },
      "outputs": [],
      "source": [
        "from tensorflow import keras"
      ]
    },
    {
      "cell_type": "code",
      "source": [
        "keras.__version__"
      ],
      "metadata": {
        "colab": {
          "base_uri": "https://localhost:8080/",
          "height": 35
        },
        "id": "2tPE0JmDjhT2",
        "outputId": "3187a5eb-417b-4c38-b1c1-5a1fe531d215"
      },
      "execution_count": 2,
      "outputs": [
        {
          "output_type": "execute_result",
          "data": {
            "text/plain": [
              "'2.8.0'"
            ],
            "application/vnd.google.colaboratory.intrinsic+json": {
              "type": "string"
            }
          },
          "metadata": {},
          "execution_count": 2
        }
      ]
    },
    {
      "cell_type": "code",
      "source": [
        "from tensorflow.keras.datasets import mnist"
      ],
      "metadata": {
        "id": "3YWzudGyjmT1"
      },
      "execution_count": 3,
      "outputs": []
    },
    {
      "cell_type": "code",
      "source": [
        "(train_images, train_labels),(test_images, test_labels) = mnist.load_data()"
      ],
      "metadata": {
        "id": "w7Tsgxrkjrht"
      },
      "execution_count": 60,
      "outputs": []
    },
    {
      "cell_type": "code",
      "source": [
        "print(type(train_images))\n",
        "print(train_images.dtype)\n",
        "print(train_images.shape)\n",
        "print(test_labels.shape)"
      ],
      "metadata": {
        "colab": {
          "base_uri": "https://localhost:8080/"
        },
        "id": "y3Nb-ZMij2HR",
        "outputId": "7d51de7b-6497-4d15-d9dd-5ddf6cbd4a3e"
      },
      "execution_count": 33,
      "outputs": [
        {
          "output_type": "stream",
          "name": "stdout",
          "text": [
            "<class 'numpy.ndarray'>\n",
            "uint8\n",
            "(60000, 28, 28)\n",
            "(10000,)\n"
          ]
        }
      ]
    },
    {
      "cell_type": "markdown",
      "source": [
        "#### EDA(Exploratory Data Analysis)\n",
        "- 본격적으로 분석하기 전 데이터 훑어 보기"
      ],
      "metadata": {
        "id": "Nhyz2g2ak9Kz"
      }
    },
    {
      "cell_type": "code",
      "source": [
        "print(len(train_labels))\n",
        "train_labels"
      ],
      "metadata": {
        "colab": {
          "base_uri": "https://localhost:8080/"
        },
        "id": "BBamnsdgk8h6",
        "outputId": "5d86764e-48c7-49d2-ee15-769407bd14b7"
      },
      "execution_count": 34,
      "outputs": [
        {
          "output_type": "stream",
          "name": "stdout",
          "text": [
            "60000\n"
          ]
        },
        {
          "output_type": "execute_result",
          "data": {
            "text/plain": [
              "array([5, 0, 4, ..., 5, 6, 8], dtype=uint8)"
            ]
          },
          "metadata": {},
          "execution_count": 34
        }
      ]
    },
    {
      "cell_type": "code",
      "source": [
        "test_labels"
      ],
      "metadata": {
        "colab": {
          "base_uri": "https://localhost:8080/"
        },
        "id": "PajBXP6Pk2Ko",
        "outputId": "d3a6c120-13dc-432a-ffc6-7c1230c3cce0"
      },
      "execution_count": 35,
      "outputs": [
        {
          "output_type": "execute_result",
          "data": {
            "text/plain": [
              "array([7, 2, 1, ..., 4, 5, 6], dtype=uint8)"
            ]
          },
          "metadata": {},
          "execution_count": 35
        }
      ]
    },
    {
      "cell_type": "code",
      "source": [
        "import matplotlib.pyplot as plt\n",
        "digit = train_images[40]"
      ],
      "metadata": {
        "id": "UC4aI2sQlb7L"
      },
      "execution_count": 61,
      "outputs": []
    },
    {
      "cell_type": "code",
      "source": [
        "print(type(digit))\n",
        "# digit"
      ],
      "metadata": {
        "colab": {
          "base_uri": "https://localhost:8080/"
        },
        "id": "sA2dVWzHlrPS",
        "outputId": "f9cb4fc0-7736-4f82-88f5-3de225f42efa"
      },
      "execution_count": 37,
      "outputs": [
        {
          "output_type": "stream",
          "name": "stdout",
          "text": [
            "<class 'numpy.ndarray'>\n"
          ]
        }
      ]
    },
    {
      "cell_type": "code",
      "source": [
        "plt.imshow(digit, cmap=plt.cm.binary)\n",
        "plt.show()"
      ],
      "metadata": {
        "colab": {
          "base_uri": "https://localhost:8080/",
          "height": 265
        },
        "id": "dCRC66u-luZn",
        "outputId": "87ae6427-14c1-4305-fa4f-93fd2e6e9164"
      },
      "execution_count": 62,
      "outputs": [
        {
          "output_type": "display_data",
          "data": {
            "text/plain": [
              "<Figure size 432x288 with 1 Axes>"
            ],
            "image/png": "[encoded data removed]"
          },
          "metadata": {
            "needs_background": "light"
          }
        }
      ]
    },
    {
      "cell_type": "markdown",
      "source": [
        "#### 데이터 전처리"
      ],
      "metadata": {
        "id": "GHwTD2H9o745"
      }
    },
    {
      "cell_type": "code",
      "source": [
        "# 학습 데이터를 2차원에서 1차원으로 28*28 - > 784\n",
        "train_images = train_images.reshape((60000,28*28))\n",
        "\n",
        "# <전처리> uint8 -> float32 타입 바꾸기(0->0.0)\n",
        "train_images = train_images.astype('float32')/255\n",
        "# 데이터가 0~255로 되어 있는데 255 나누기 때문에 255는 1이 됨\n",
        "# 즉, 0~1 사이 값으로 바뀜"
      ],
      "metadata": {
        "id": "W_X3jt6Wl1ty"
      },
      "execution_count": 41,
      "outputs": []
    },
    {
      "cell_type": "code",
      "source": [
        "test_images = test_images.reshape((10000,28*28))\n",
        "test_images = test_images.astype('float32')/255"
      ],
      "metadata": {
        "id": "nz7_m6nnpEDN"
      },
      "execution_count": 42,
      "outputs": []
    },
    {
      "cell_type": "markdown",
      "source": [
        "---"
      ],
      "metadata": {
        "id": "93d-mH4vpoEj"
      }
    },
    {
      "cell_type": "code",
      "source": [
        "from tensorflow.keras.utils import to_categorical"
      ],
      "metadata": {
        "id": "oL-n5HJRpMYV"
      },
      "execution_count": 43,
      "outputs": []
    },
    {
      "cell_type": "code",
      "source": [
        "# 원-핫인코딩으로 바꾸기(One-Hot Encoding:수많은 0과 한개의 1의 값으로 데이터를 구별하는 인코딩)\n",
        "train_labels = to_categorical(train_labels)\n",
        "test_labels = to_categorical(test_labels)"
      ],
      "metadata": {
        "id": "A6WAOmEZp1tu"
      },
      "execution_count": 44,
      "outputs": []
    },
    {
      "cell_type": "markdown",
      "source": [
        "#### 모델링"
      ],
      "metadata": {
        "id": "J2THjYNQqu_T"
      }
    },
    {
      "cell_type": "code",
      "source": [
        "from tensorflow.keras import models\n",
        "from tensorflow.keras import layers"
      ],
      "metadata": {
        "id": "nRBD0IMEqe5I"
      },
      "execution_count": 47,
      "outputs": []
    },
    {
      "cell_type": "markdown",
      "source": [
        "- 옵티마이저: 손실 함수을 통해 얻은 손실값으로부터 모델을 업데이트하는 방식을 의미\n",
        "  - TensorFlow는 SGD, Adam, RMSprop과 같은 다양한 종류의 옵티마이저를 제공"
      ],
      "metadata": {
        "id": "EcDmlD2Ur5b9"
      }
    },
    {
      "cell_type": "code",
      "source": [
        "network = models.Sequential()\n",
        "network.add(layers.Dense(512, activation='relu', input_shape=(28*28,))) # input_shape=(28*28,):: 앞부분에 데이타가 몇 개가 들어 올 것이다 알려줌. 그래서 중간 레이어는 input_shape 설정 X\n",
        "network.add(layers.Dense(10, activation='softmax')) # 중간 레이어니까 input_shape 설정 X\n",
        "network.compile(\n",
        "    optimizer='rmsprop',\n",
        "    loss='categorical_crossentropy', # 0~9까지 맞추는 분류 모델이니까 \"categorical_crossentropy\" 쓰는 거임(다중분류일때 쓰임)\n",
        "    # 이진 분류(T or F)일 때 \"binary_crossentropy\"\n",
        "    metrics=['accuracy']\n",
        ")"
      ],
      "metadata": {
        "id": "L-UQ2GAGrFD1"
      },
      "execution_count": 53,
      "outputs": []
    },
    {
      "cell_type": "code",
      "source": [
        "# train_images: 이미지 6만 개\n",
        "# train_labels: train_images가 뭘 의미하는지 담겨있는 것 --- len(train_labels) :: 60000\n",
        "network.fit(train_images, train_labels, epochs=5, batch_size=128)\n",
        "test_loss, test_acc = network.evaluate(test_images, test_labels)\n",
        "print('test_acc: ', test_acc)"
      ],
      "metadata": {
        "colab": {
          "base_uri": "https://localhost:8080/"
        },
        "id": "FDZ6FFbgr5EE",
        "outputId": "58be3572-22a9-4377-d1a3-afffc2036845"
      },
      "execution_count": 56,
      "outputs": [
        {
          "output_type": "stream",
          "name": "stdout",
          "text": [
            "Epoch 1/5\n",
            "469/469 [==============================] - 5s 10ms/step - loss: 0.2531 - accuracy: 0.9272\n",
            "Epoch 2/5\n",
            "469/469 [==============================] - 5s 10ms/step - loss: 0.1026 - accuracy: 0.9696\n",
            "Epoch 3/5\n",
            "469/469 [==============================] - 5s 10ms/step - loss: 0.0677 - accuracy: 0.9796\n",
            "Epoch 4/5\n",
            "469/469 [==============================] - 5s 10ms/step - loss: 0.0496 - accuracy: 0.9855\n",
            "Epoch 5/5\n",
            "469/469 [==============================] - 4s 9ms/step - loss: 0.0366 - accuracy: 0.9893\n",
            "313/313 [==============================] - 1s 3ms/step - loss: 0.0599 - accuracy: 0.9821\n",
            "test_acc:  0.9821000099182129\n"
          ]
        }
      ]
    },
    {
      "cell_type": "markdown",
      "source": [
        "\n",
        "\n",
        "---\n",
        "\n",
        "\n",
        "\n",
        "---\n",
        "\n"
      ],
      "metadata": {
        "id": "nID-HvZAwiOR"
      }
    },
    {
      "cell_type": "code",
      "source": [
        "(train_images, train_labels),(test_images, test_labels) = mnist.load_data()"
      ],
      "metadata": {
        "id": "hhrnpzEdv-6S"
      },
      "execution_count": 58,
      "outputs": []
    },
    {
      "cell_type": "code",
      "source": [
        ""
      ],
      "metadata": {
        "id": "CSPF8oaWxwGK"
      },
      "execution_count": null,
      "outputs": []
    }
  ]
}