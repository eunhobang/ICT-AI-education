{
  "nbformat": 4,
  "nbformat_minor": 0,
  "metadata": {
    "colab": {
      "name": "8_12_모두의 인공지능.ipynb",
      "provenance": [],
      "authorship_tag": "ABX9TyMKFj515OqVqMcDQBoh3j5d",
      "include_colab_link": true
    },
    "kernelspec": {
      "name": "python3",
      "display_name": "Python 3"
    },
    "language_info": {
      "name": "python"
    }
  },
  "cells": [
    {
      "cell_type": "markdown",
      "metadata": {
        "id": "view-in-github",
        "colab_type": "text"
      },
      "source": [
        "<a href=\"https://colab.research.google.com/github/eunhobang/ICT-AI-education/blob/main/8_12_%EB%AA%A8%EB%91%90%EC%9D%98_%EC%9D%B8%EA%B3%B5%EC%A7%80%EB%8A%A5.ipynb\" target=\"_parent\"><img src=\"https://colab.research.google.com/assets/colab-badge.svg\" alt=\"Open In Colab\"/></a>"
      ]
    },
    {
      "cell_type": "markdown",
      "source": [
        "당뇨병여부 판단하는 모델별 정확도 비교\n",
        "- 모델이 상용화가 되려면 85% 이상은 되어야 한다.\n",
        "- 데이터별로 모델마다 정확도가 다르기 때문에 모델별로 다 이용하여 정확도 비교해 봐야 한다."
      ],
      "metadata": {
        "id": "9Qf6zB-efXIl"
      }
    },
    {
      "cell_type": "code",
      "execution_count": 87,
      "metadata": {
        "id": "x1IRTI8PXtLZ"
      },
      "outputs": [],
      "source": [
        "# cross_val_score: 교차 검증, overfitting 해결하는 것\n",
        "# ㄴ 고정된 일부분을 테스트 데이터로 두지 않고 데이터의 모든 부분을 사용하여, 즉 교차 검증하여 모델의 성능을 검증\n",
        "# StratifiedKFold:  매개변수로 n_splits, shuffle, random_state를 가진, 일반적으로 회귀에는 기본 k-겹 교차검증을 사용하고, 분류에는 StratifiedKFold를 사용\n",
        "# ㄴ target에 속성값의 개수를 동일하게 하게 가져감으로써 kfold 같이 데이터가 한곳으로 몰리는것을 방지\n",
        "\n",
        "\"\"\"\n",
        "crosss_val_score()\n",
        "사이킷 런에서는 교차검증(K-Fold or StratifiedKFold) 를 더 쉽게 할 수 있는 API를 제공하는 데 그것은 cross_val_score 이다.\n",
        "\"\"\"\n",
        "from sklearn.model_selection import train_test_split, cross_val_score, StratifiedKFold\n",
        "from matplotlib import pyplot\n",
        "from sklearn.preprocessing import StandardScaler #평균 0 , 분산 1로 조정\n",
        "\n",
        "import pandas as pd\n",
        "import matplotlib.pyplot as plt\n"
      ]
    },
    {
      "cell_type": "code",
      "source": [
        "# row 생략 없이 출력\n",
        "pd.set_option('display.max_rows', None)\n",
        "# col 생략 없이 출력\n",
        "pd.set_option('display.max_columns', None)"
      ],
      "metadata": {
        "id": "fHMLyPBmUXo4"
      },
      "execution_count": 95,
      "outputs": []
    },
    {
      "cell_type": "code",
      "source": [
        "# DataSet\n",
        "\n",
        "df = pd.read_csv(\"diabetes.csv\")"
      ],
      "metadata": {
        "id": "rgJfzSKUX6nw"
      },
      "execution_count": 88,
      "outputs": []
    },
    {
      "cell_type": "code",
      "source": [
        "df.head()"
      ],
      "metadata": {
        "colab": {
          "base_uri": "https://localhost:8080/",
          "height": 206
        },
        "id": "ThcPJFHNUhJH",
        "outputId": "6180f85b-b91f-4d43-e0be-d03540cffdcd"
      },
      "execution_count": 99,
      "outputs": [
        {
          "output_type": "execute_result",
          "data": {
            "text/plain": [
              "   Pregnancies  Glucose  BloodPressure  SkinThickness  Insulin   BMI  \\\n",
              "0            6      148             72             35        0  33.6   \n",
              "1            1       85             66             29        0  26.6   \n",
              "2            8      183             64              0        0  23.3   \n",
              "3            1       89             66             23       94  28.1   \n",
              "4            0      137             40             35      168  43.1   \n",
              "\n",
              "   DiabetesPedigreeFunction  Age  Outcome  \n",
              "0                     0.627   50        1  \n",
              "1                     0.351   31        0  \n",
              "2                     0.672   32        1  \n",
              "3                     0.167   21        0  \n",
              "4                     2.288   33        1  "
            ],
            "text/html": [
              "\n",
              "  <div id=\"df-cef5506a-41cf-46ca-81cc-57f6c1a21ad7\">\n",
              "    <div class=\"colab-df-container\">\n",
              "      <div>\n",
              "<style scoped>\n",
              "    .dataframe tbody tr th:only-of-type {\n",
              "        vertical-align: middle;\n",
              "    }\n",
              "\n",
              "    .dataframe tbody tr th {\n",
              "        vertical-align: top;\n",
              "    }\n",
              "\n",
              "    .dataframe thead th {\n",
              "        text-align: right;\n",
              "    }\n",
              "</style>\n",
              "<table border=\"1\" class=\"dataframe\">\n",
              "  <thead>\n",
              "    <tr style=\"text-align: right;\">\n",
              "      <th></th>\n",
              "      <th>Pregnancies</th>\n",
              "      <th>Glucose</th>\n",
              "      <th>BloodPressure</th>\n",
              "      <th>SkinThickness</th>\n",
              "      <th>Insulin</th>\n",
              "      <th>BMI</th>\n",
              "      <th>DiabetesPedigreeFunction</th>\n",
              "      <th>Age</th>\n",
              "      <th>Outcome</th>\n",
              "    </tr>\n",
              "  </thead>\n",
              "  <tbody>\n",
              "    <tr>\n",
              "      <th>0</th>\n",
              "      <td>6</td>\n",
              "      <td>148</td>\n",
              "      <td>72</td>\n",
              "      <td>35</td>\n",
              "      <td>0</td>\n",
              "      <td>33.6</td>\n",
              "      <td>0.627</td>\n",
              "      <td>50</td>\n",
              "      <td>1</td>\n",
              "    </tr>\n",
              "    <tr>\n",
              "      <th>1</th>\n",
              "      <td>1</td>\n",
              "      <td>85</td>\n",
              "      <td>66</td>\n",
              "      <td>29</td>\n",
              "      <td>0</td>\n",
              "      <td>26.6</td>\n",
              "      <td>0.351</td>\n",
              "      <td>31</td>\n",
              "      <td>0</td>\n",
              "    </tr>\n",
              "    <tr>\n",
              "      <th>2</th>\n",
              "      <td>8</td>\n",
              "      <td>183</td>\n",
              "      <td>64</td>\n",
              "      <td>0</td>\n",
              "      <td>0</td>\n",
              "      <td>23.3</td>\n",
              "      <td>0.672</td>\n",
              "      <td>32</td>\n",
              "      <td>1</td>\n",
              "    </tr>\n",
              "    <tr>\n",
              "      <th>3</th>\n",
              "      <td>1</td>\n",
              "      <td>89</td>\n",
              "      <td>66</td>\n",
              "      <td>23</td>\n",
              "      <td>94</td>\n",
              "      <td>28.1</td>\n",
              "      <td>0.167</td>\n",
              "      <td>21</td>\n",
              "      <td>0</td>\n",
              "    </tr>\n",
              "    <tr>\n",
              "      <th>4</th>\n",
              "      <td>0</td>\n",
              "      <td>137</td>\n",
              "      <td>40</td>\n",
              "      <td>35</td>\n",
              "      <td>168</td>\n",
              "      <td>43.1</td>\n",
              "      <td>2.288</td>\n",
              "      <td>33</td>\n",
              "      <td>1</td>\n",
              "    </tr>\n",
              "  </tbody>\n",
              "</table>\n",
              "</div>\n",
              "      <button class=\"colab-df-convert\" onclick=\"convertToInteractive('df-cef5506a-41cf-46ca-81cc-57f6c1a21ad7')\"\n",
              "              title=\"Convert this dataframe to an interactive table.\"\n",
              "              style=\"display:none;\">\n",
              "        \n",
              "  <svg xmlns=\"http://www.w3.org/2000/svg\" height=\"24px\"viewBox=\"0 0 24 24\"\n",
              "       width=\"24px\">\n",
              "    <path d=\"M0 0h24v24H0V0z\" fill=\"none\"/>\n",
              "    <path d=\"M18.56 5.44l.94 2.06.94-2.06 2.06-.94-2.06-.94-.94-2.06-.94 2.06-2.06.94zm-11 1L8.5 8.5l.94-2.06 2.06-.94-2.06-.94L8.5 2.5l-.94 2.06-2.06.94zm10 10l.94 2.06.94-2.06 2.06-.94-2.06-.94-.94-2.06-.94 2.06-2.06.94z\"/><path d=\"M17.41 7.96l-1.37-1.37c-.4-.4-.92-.59-1.43-.59-.52 0-1.04.2-1.43.59L10.3 9.45l-7.72 7.72c-.78.78-.78 2.05 0 2.83L4 21.41c.39.39.9.59 1.41.59.51 0 1.02-.2 1.41-.59l7.78-7.78 2.81-2.81c.8-.78.8-2.07 0-2.86zM5.41 20L4 18.59l7.72-7.72 1.47 1.35L5.41 20z\"/>\n",
              "  </svg>\n",
              "      </button>\n",
              "      \n",
              "  <style>\n",
              "    .colab-df-container {\n",
              "      display:flex;\n",
              "      flex-wrap:wrap;\n",
              "      gap: 12px;\n",
              "    }\n",
              "\n",
              "    .colab-df-convert {\n",
              "      background-color: #E8F0FE;\n",
              "      border: none;\n",
              "      border-radius: 50%;\n",
              "      cursor: pointer;\n",
              "      display: none;\n",
              "      fill: #1967D2;\n",
              "      height: 32px;\n",
              "      padding: 0 0 0 0;\n",
              "      width: 32px;\n",
              "    }\n",
              "\n",
              "    .colab-df-convert:hover {\n",
              "      background-color: #E2EBFA;\n",
              "      box-shadow: 0px 1px 2px rgba(60, 64, 67, 0.3), 0px 1px 3px 1px rgba(60, 64, 67, 0.15);\n",
              "      fill: #174EA6;\n",
              "    }\n",
              "\n",
              "    [theme=dark] .colab-df-convert {\n",
              "      background-color: #3B4455;\n",
              "      fill: #D2E3FC;\n",
              "    }\n",
              "\n",
              "    [theme=dark] .colab-df-convert:hover {\n",
              "      background-color: #434B5C;\n",
              "      box-shadow: 0px 1px 3px 1px rgba(0, 0, 0, 0.15);\n",
              "      filter: drop-shadow(0px 1px 2px rgba(0, 0, 0, 0.3));\n",
              "      fill: #FFFFFF;\n",
              "    }\n",
              "  </style>\n",
              "\n",
              "      <script>\n",
              "        const buttonEl =\n",
              "          document.querySelector('#df-cef5506a-41cf-46ca-81cc-57f6c1a21ad7 button.colab-df-convert');\n",
              "        buttonEl.style.display =\n",
              "          google.colab.kernel.accessAllowed ? 'block' : 'none';\n",
              "\n",
              "        async function convertToInteractive(key) {\n",
              "          const element = document.querySelector('#df-cef5506a-41cf-46ca-81cc-57f6c1a21ad7');\n",
              "          const dataTable =\n",
              "            await google.colab.kernel.invokeFunction('convertToInteractive',\n",
              "                                                     [key], {});\n",
              "          if (!dataTable) return;\n",
              "\n",
              "          const docLinkHtml = 'Like what you see? Visit the ' +\n",
              "            '<a target=\"_blank\" href=https://colab.research.google.com/notebooks/data_table.ipynb>data table notebook</a>'\n",
              "            + ' to learn more about interactive tables.';\n",
              "          element.innerHTML = '';\n",
              "          dataTable['output_type'] = 'display_data';\n",
              "          await google.colab.output.renderOutput(dataTable, element);\n",
              "          const docLink = document.createElement('div');\n",
              "          docLink.innerHTML = docLinkHtml;\n",
              "          element.appendChild(docLink);\n",
              "        }\n",
              "      </script>\n",
              "    </div>\n",
              "  </div>\n",
              "  "
            ]
          },
          "metadata": {},
          "execution_count": 99
        }
      ]
    },
    {
      "cell_type": "markdown",
      "source": [
        "1 - 당뇨병 환자\n",
        "0 - 일반인"
      ],
      "metadata": {
        "id": "NncQRq5lUodn"
      }
    },
    {
      "cell_type": "code",
      "source": [
        "# 세부 정보를 X로 지정,  당뇨병 여부를 y로 지정\n",
        "\n",
        "X = df.iloc[: , 0:8] # 인덱스 0~8컬럼까지만\n",
        "y = df.iloc[:, 8] # 인덱스 8컬럼만"
      ],
      "metadata": {
        "id": "zrObKKiQYi7R"
      },
      "execution_count": 96,
      "outputs": []
    },
    {
      "cell_type": "code",
      "source": [
        "X"
      ],
      "metadata": {
        "id": "HsPeD0nMT5tp"
      },
      "execution_count": null,
      "outputs": []
    },
    {
      "cell_type": "code",
      "source": [
        "y"
      ],
      "metadata": {
        "id": "TQJm-MInT9r8"
      },
      "execution_count": null,
      "outputs": []
    },
    {
      "cell_type": "code",
      "source": [
        "ss = StandardScaler()\n",
        "scaled_X = pd.DataFrame(ss.fit_transform(X), columns = X.columns)\n",
        "\n",
        "fig, ax = plt.subplots(1, 2, figsize = (12, 4))\n",
        "X.plot(kind = 'kde', title = 'Raw data', ax = ax[0])\n",
        "scaled_X.plot(kind = 'kde', title = 'StandardScaler', ax = ax[1])\n",
        "# Kernel Density Estimation\n",
        "# 커널함수(kernel function)에 대한 이해가 필요한데 수학적으로 커널함수는 \n",
        "# 원점을 중심으로 대칭이면서 적분값이 1인 non-negative 함수로 정의되며 \n",
        "# 가우시언(Gaussian), uniform 함수 등이 대표적인 커널 함수\n",
        "\n",
        "plt.show()\n",
        "\n",
        "\n",
        "# rawdata -> 정규분포\n",
        "# density : 밀도"
      ],
      "metadata": {
        "colab": {
          "base_uri": "https://localhost:8080/",
          "height": 281
        },
        "id": "T96slyadY1Iq",
        "outputId": "fe646ef2-fd44-4413-ee30-39aa5167ff62"
      },
      "execution_count": 103,
      "outputs": [
        {
          "output_type": "display_data",
          "data": {
            "text/plain": [
              "<Figure size 864x288 with 2 Axes>"
            ],
            "image/png": "[encoded data removed]"
          },
          "metadata": {
            "needs_background": "light"
          }
        }
      ]
    },
    {
      "cell_type": "code",
      "source": [
        "# 학습셋과 테스트셋을 75:25의 비율로 구분\n",
        "X_train, X_test, y_train, y_test = train_test_split(X, y, test_size = 0.25, random_state = 0) # \n",
        "\n",
        "# random_state: random_state 인자는 수행시마다 동일한 결과를 얻기 위해 적용\n",
        "# ㄴ 사용이유: 정해진 결과를 도출하기 위해서\n",
        "\"\"\"\n",
        "1이라는 값을 넣어서 1,3,47,5...번째 데이터를 이용했다면 또다시 1을 넣으면 1,3,47,5...번째 데이터를 사용하게 되는거죠. \n",
        "\"\"\""
      ],
      "metadata": {
        "id": "YNT3YNCBZPm4"
      },
      "execution_count": 109,
      "outputs": []
    },
    {
      "cell_type": "code",
      "source": [
        "y_train"
      ],
      "metadata": {
        "id": "VLVKhyirYsoK"
      },
      "execution_count": null,
      "outputs": []
    },
    {
      "cell_type": "code",
      "source": [
        "y_test"
      ],
      "metadata": {
        "id": "Y2ckm5D5YzDd"
      },
      "execution_count": null,
      "outputs": []
    },
    {
      "cell_type": "markdown",
      "source": [
        "## 결정 트리(Decision Tree)\n",
        "- '예/아니오'라는 답이 나오는 질문을 계속해서 물으며 학습\n",
        "- 예시) 육지에 사나요? 깃털이 있나요? 아가미 호흡을 하나요?\n"
      ],
      "metadata": {
        "id": "2a7Ua4SYZp6Y"
      }
    },
    {
      "cell_type": "code",
      "source": [
        "# 결정 트리 분류기 호출\n",
        "from sklearn.tree import DecisionTreeClassifier\n",
        "\n",
        "# 학습 환경 설정\n",
        "classifier = DecisionTreeClassifier()\n",
        "classifier.fit(X_train, y_train) # fit: 훈련하라\n",
        "\n",
        "# 테스트셋에 적용\n",
        "y_pred = classifier.predict(X_test) # predict:예측\n",
        "\n",
        "# 계층별(서브셋 n_splits=10) 교차 검증 환경 설정 , # n_splits: 데이터 분할 수, shuffle:데이터 섞을지 말지(True가 기본)\n",
        "skf = StratifiedKFold(n_splits=10, shuffle=True)\n",
        "\n",
        "# 교차 검증을 통해 정확도 계산 # estimator=평가모델 # cv=fold수\n",
        "accuracies = cross_val_score(estimator=classifier, X=X_train, y=y_train, cv=skf)\n",
        "\n",
        "# print(\"accuracies: \", accuracies)\n",
        "# print(\"accuracies.mean(): \", accuracies.mean())\n",
        "# print(\"accuracies*100: \", accuracies*100)\n",
        "\n",
        "\"\"\"\n",
        "accuracies = [0.65517241 0.62068966 0.68965517 0.72413793 0.62068966 0.70689655, 0.57894737 0.68421053 0.75438596 0.66666667] :: 10개 나옴(안에 값은 코드 실행시 갱신)\n",
        "그래서 meam()으로 평균을 구하는 것\n",
        "\"\"\"\n",
        "\n",
        "# 정확도와 표준편차를 출력\n",
        "print(\"Accuracy: {:.2f} %\".format(accuracies.mean()*100)) # 정확도\n",
        "print(\"Standard Deviation: {:.2f} %\".format(accuracies.std()*100)) # 표준편차\n"
      ],
      "metadata": {
        "colab": {
          "base_uri": "https://localhost:8080/"
        },
        "id": "kCbUUOZ7ad-G",
        "outputId": "0cde79de-48b8-478f-ac8a-4dc69c013d88"
      },
      "execution_count": 116,
      "outputs": [
        {
          "output_type": "stream",
          "name": "stdout",
          "text": [
            "Accuracy: 67.51 %\n",
            "Standard Deviation: 7.60 %\n"
          ]
        }
      ]
    },
    {
      "cell_type": "markdown",
      "source": [
        "## 랜덤 포레스트(Random Forest)\n",
        "- 결정 트리를 여러 개 묶어 놓은 것\n",
        "- 많은 결정 트리를 수행해 그로부터 나오는 분류 결과를 취합하여 최종 예측\n",
        "- 너무 단순한 원리로 과적합(overfitting)에 빠지기 쉬운 결정 트리의 단점 보완\n",
        "\n",
        "- aggregating : 집계\n",
        "- 제일 많이 선택된 걸로 투표해서 선택"
      ],
      "metadata": {
        "id": "6Qautqu3beaU"
      }
    },
    {
      "cell_type": "code",
      "source": [
        "# 결정 트리 분류기 호출\n",
        "from sklearn.ensemble import RandomForestClassifier\n",
        "\n",
        "# 학습 환경 설정\n",
        "classifier = RandomForestClassifier(n_estimators=50)\n",
        "classifier.fit(X_train, y_train)\n",
        "\n",
        "# 테스트셋에 적용\n",
        "y_pred = classifier.predict(X_test)\n",
        "\n",
        "# 계층별(서브셋 n_splits=10) 교차 검증 환경 설정\n",
        "skf = StratifiedKFold(n_splits=10, shuffle=True)\n",
        "\n",
        "# 교차 검증을 통해 정확도 계산\n",
        "accuracies = cross_val_score(estimator=classifier, X=X_train, y=y_train, cv=skf)\n",
        "\n",
        "# 정확도와 표준편차를 출력\n",
        "print(\"Accuracy: {:.2f} %\".format(accuracies.mean()*100)) # 정확도\n",
        "print(\"Standard Deviation: {:.2f} %\".format(accuracies.std()*100)) # 표준편차"
      ],
      "metadata": {
        "colab": {
          "base_uri": "https://localhost:8080/"
        },
        "id": "i41Kcz2GcdOy",
        "outputId": "00849e2b-3355-48bc-d1bd-dacf4aa5c476"
      },
      "execution_count": 121,
      "outputs": [
        {
          "output_type": "stream",
          "name": "stdout",
          "text": [
            "Accuracy: 73.29 %\n",
            "Standard Deviation: 4.98 %\n"
          ]
        }
      ]
    },
    {
      "cell_type": "markdown",
      "source": [
        "## 가우시안 나이브 베이즈(Gaussian Naive Bayes)\n",
        "- 속성이 연속형 변수일 때 베이즈 정리를 기반으로 각 범주에 속할 확률 계산\n",
        "- 예시) 테니스를 좋아하는 한 사람이 있다고 하자. 만약, 이 사람이 1. 날씨가 좋고 2. 습도가 낮은 날에 테니스를 칠 확률은 얼마나 되는가? \n",
        "- https://www.youtube.com/watch?v=3JWLIV3NaoQ\n",
        "\n"
      ],
      "metadata": {
        "id": "3IpQQPSkd87T"
      }
    },
    {
      "cell_type": "code",
      "source": [
        "# 결정 트리 분류기 호출\n",
        "from sklearn.naive_bayes import GaussianNB\n",
        "\n",
        "# 학습 환경 설정\n",
        "classifier = GaussianNB()\n",
        "classifier.fit(X_train, y_train)\n",
        "\n",
        "# 테스트셋에 적용\n",
        "y_pred = classifier.predict(X_test)\n",
        "\n",
        "# 계층별(서브셋 n_splits=10) 교차 검증 환경 설정\n",
        "skf = StratifiedKFold(n_splits=10, shuffle=True)\n",
        "\n",
        "# 교차 검증을 통해 정확도 계산\n",
        "accuracies = cross_val_score(estimator=classifier, X=X_train, y=y_train, cv=skf)\n",
        "\n",
        "# 정확도와 표준편차를 출력\n",
        "print(\"Accuracy: {:.2f} %\".format(accuracies.mean()*100)) # 정확도\n",
        "print(\"Standard Deviation: {:.2f} %\".format(accuracies.std()*100)) # 표준편차"
      ],
      "metadata": {
        "colab": {
          "base_uri": "https://localhost:8080/"
        },
        "id": "lnhjRD4WmGba",
        "outputId": "dd9a97a6-5f2b-4c36-c8e9-6c161f36d905"
      },
      "execution_count": 122,
      "outputs": [
        {
          "output_type": "stream",
          "name": "stdout",
          "text": [
            "Accuracy: 74.32 %\n",
            "Standard Deviation: 7.12 %\n"
          ]
        }
      ]
    },
    {
      "cell_type": "markdown",
      "source": [
        "## K-최근접 이웃(k-nearest neighood)\n",
        "- 새로운 데이터가 입력되면 가장 가까이 있는 것을 중심으로 새로운 데이터 종류를 정해 주는 것\n",
        "- 예) 새로운 데이터가 입력되었을 때 이 데이터가 붉은 원인지 푸른 원인지를 옟ㄱ\n",
        "- 주변 데이터의 수를 k라 하고, k=3일 때 원이 붉은 원인지 푸른 원인지 판다\n",
        "- 경우에 따라 k의 값을 조절해가며 결정\n"
      ],
      "metadata": {
        "id": "xvwYO3ZXmomv"
      }
    },
    {
      "cell_type": "code",
      "source": [
        "# 결정 트리 분류기 호출\n",
        "from sklearn.neighbors import KNeighborsClassifier\n",
        "\n",
        "# 학습 환경 설정\n",
        "classifier = KNeighborsClassifier() # n_neighbors=3 -> 정확도 더 떨어짐\n",
        "classifier.fit(X_train, y_train)\n",
        "\n",
        "# 테스트셋에 적용\n",
        "y_pred = classifier.predict(X_test)\n",
        "\n",
        "# 계층별(서브셋 n_splits=10) 교차 검증 환경 설정\n",
        "skf = StratifiedKFold(n_splits=10, shuffle=True)\n",
        "\n",
        "# 교차 검증을 통해 정확도 계산\n",
        "accuracies = cross_val_score(estimator=classifier, X=X_train, y=y_train, cv=skf)\n",
        "\n",
        "# 정확도와 표준편차를 출력\n",
        "print(\"Accuracy: {:.2f} %\".format(accuracies.mean()*100)) # 정확도\n",
        "print(\"Standard Deviation: {:.2f} %\".format(accuracies.std()*100)) # 표준편차"
      ],
      "metadata": {
        "colab": {
          "base_uri": "https://localhost:8080/"
        },
        "id": "6hOeXx-qnNvF",
        "outputId": "851ea1a5-f6dd-41ee-cca6-c23d1b8d3f31"
      },
      "execution_count": 123,
      "outputs": [
        {
          "output_type": "stream",
          "name": "stdout",
          "text": [
            "Accuracy: 70.48 %\n",
            "Standard Deviation: 3.20 %\n"
          ]
        }
      ]
    },
    {
      "cell_type": "markdown",
      "source": [
        "## 에이다 부스트\n",
        "- 여러 번의 분류를 통해 정답을 애측해 가는 알고리즘"
      ],
      "metadata": {
        "id": "bYCpA6YJnokn"
      }
    },
    {
      "cell_type": "code",
      "source": [
        "from sklearn.ensemble import AdaBoostClassifier\n",
        "\n",
        "# 학습 환경 설정\n",
        "classifier = AdaBoostClassifier() \n",
        "classifier.fit(X_train, y_train)\n",
        "\n",
        "# 테스트셋에 적용\n",
        "y_pred = classifier.predict(X_test)\n",
        "\n",
        "# 계층별(서브셋 n_splits=10) 교차 검증 환경 설정\n",
        "skf = StratifiedKFold(n_splits=10, shuffle=True)\n",
        "\n",
        "# 교차 검증을 통해 정확도 계산\n",
        "accuracies = cross_val_score(estimator=classifier, X=X_train, y=y_train, cv=skf)\n",
        "\n",
        "# 정확도와 표준편차를 출력\n",
        "print(\"Accuracy: {:.2f} %\".format(accuracies.mean()*100)) # 정확도\n",
        "print(\"Standard Deviation: {:.2f} %\".format(accuracies.std()*100)) # 표준편차"
      ],
      "metadata": {
        "colab": {
          "base_uri": "https://localhost:8080/"
        },
        "id": "ZihnmldbpSSo",
        "outputId": "919680d2-72c0-4699-b1d1-8e7462454886"
      },
      "execution_count": 124,
      "outputs": [
        {
          "output_type": "stream",
          "name": "stdout",
          "text": [
            "Accuracy: 72.22 %\n",
            "Standard Deviation: 6.13 %\n"
          ]
        }
      ]
    },
    {
      "cell_type": "markdown",
      "source": [
        "## 이차 판별 분석(Quadratic Discriminant Analysis)\n",
        "- 각 클래스 분포의 중심과 모양을 결정\n",
        "- 이들 클래스 사이의 경계를 그린 후 경계가 직선이면 선형 판별을, 곡선이면 2차 방정식의 판별을 분석함\n",
        "- 각 클래스 간의 경계를 결정해 분류하는 방법\n",
        "\n",
        "![image.png](data:image/png;base64,iVBORw0KGgoAAAANSUhEUgAAAkcAAAGnCAYAAAC97/PoAAAgAElEQVR4nOydaXBb13n3/1iJjQQJgCAIgPsuUaIWUpItybJky1a81mscx82eNpl4mjTTD2mnnWbapjPNJJ1OM3FiN02beI3rJVYky5KsxRK1UBQtkZS4iqRIihR3kMRC7Hg/8D3XF5cXIClzAaTnN8MhCdzl3HPPec7/POc550gikUgEBEEQBEEQBABAutoJIAiCIAiCSCRIHBEEQRAEQfAgcUQQBEEQBMGDxBFBEARBEAQPEkcEQRAEQRA8SBwRBEEQBEHwIHFEEARBEATBg8QRQRAEQRAEDxJHBEEQBEEQPEgcEQRBEARB8CBxRBAEQRAEwYPEEUEQBEEQBA8SRwRBEARBEDxIHBEEQRAEQfAgcUQQBEEQBMGDxBFBEARBEAQPEkcEQRAEQRA8SBwRBEEQBEHwIHFEEARBEATBg8QRQRAEQRAEDxJHBEEQBEEQPEgcEQRBEARB8CBxRBAEQRAEwYPEEUEQBEEQBA8SRwRBEARBEDxIHBEEQRAEQfAgcUQQBEEQBMGDxBFBEARBEAQPEkcEQRAEQRA8SBwRBEEQBEHwIHFEEARBEATBg8QRQRAEQRAEDxJHBEEQBEEQPEgcEQRBEARB8CBxRBAEQRAEwYPEEUEQBEEQBA8SRwRBEARBEDxIHBEEQRAEQfAgcUQQBEEQBMGDxBFBEARBEAQPEkcEQRAEQRA8SBwRBEEQBEHwIHFEEARBEATBQ77aCSAIglguIpEIJBIJACAUCsHr9eLUqVMIBAJ48MEHoVQque8JgiAY5DkiCOK2IxKJAAAnfMLhMMLhMOrr6/Hmm2+is7MTLpcr6liCIAgGeY4Igrjt4HuDwuEwJBIJmpub8dZbb6GoqAhPP/00DAYDeY0IghCFxBFBELctbFgtGAxi//79UCqVeOaZZ5CXl7faSSMIIoEhcUQQxG2NRCKBRCLBrl27oNFoUFFRERWLRBAEIUQSoQF3giBuM5hZC4VCkEqlkEqlUf8DIHFEEERMKCCbIIjbEolEgpMnT+Kdd96Bz+cDAEilUs6TRBAEEQsSRwRBJDVC5zf7/+rVq3j//fdx9epV7nMSRQRBLAQSRwRBJDV8wcOE0fj4OP74xz8iGAzihRdegEKhEBVGFFVAEIQYJI4Igrit8Hq9OHToEFpaWvDFL34R+fn5MT1G5EkiCEIMEkcEQSQ9/EUfFQoF8vLy8PDDD2P9+vWcACIvEUEQC4VmqxEEkZTwY4iYGYtEIpBKpYhEIgiHw1wANsUbEQSxGMhzRBBEUsIXOxKJBB6PB1euXMHAwAAikQhkMpnosQRBEPNB4oggiKSD7/CORCIIBoNobGzEb3/7W1y8eBHhcBgAiSKCIG4NEkcEQSQdQtEzMTGBDz/8EHK5HCUlJdxCjwRBELcCWRCCIJKSSCTCxRYdOnQI/f39uO+++1BcXCw6vZ8gCGKh0N5qBEEkJUwA+Xw+TExMYPPmzdi5cycUCoXocQRBEAuFZqsRBJFUsJln7Hc4HMbk5CRCoRAyMzPnzGIjcUQQxGIhcUQQRNIhNlWfQWKIIIjPC8UcEQSRNDBRBACdnZ34l3/5F/T09HDfC4USO4cgCGIxkDgiCCKpkEgk8Pl8OHjwIC5fvoyJiYk5ax4JjycIglgMJI4IgkgKmAcoHA7j3LlzuHTpEh599FFs3rwZgLgIIq8RQRC3AokjgiASEjZVX4jD4UBtbS2ys7Oxd+9ehMPhmCKIvEYEQdwKNJWfIIiEJJawkUgkKCkpgdVqhdlsjnssQRDErUCz1QiCSEiE0/D5psrj8UAulyMlJYWm6xMEseSQ54ggiISEL3jC4TB8Ph8mJyeRlpYGjUYTdRwJJIIglhKKOSIIIqEQbioLAFKpFN3d3Xj55Zdx8uRJ+Hw+WtuIIIhlgzxHBEEkDEIPEFsBe2pqCqdPn8bExARsNhsUCgWtgk0QxLJBniOCIBIGsRgjqVSKoaEhNDY2YuPGjSgtLY1aGZuEEUEQSw2JozuQzxuDL7YCMcX1E0sNEz9OpxOffPIJZDIZNm/eDLVaHXUMkfjMZx/YquexzuOvjL7Q+y2lTYp1LX76iNsLmq12B7GYXvZ8x1KPnVgJwuEwgsEgWltb4XA4UF1dDZ1Ox31P5TB5uZV3J9x0WGxG40KuyZo9/nYz/GFa/v+fJ71E8kLi6DZnoRWfIBIFfiMkbMTirYJNZTq5EGt6FvJ+heVjsSujC8uSMLCfL7zEjhfeh8rd7QkFZN/GxKq4S1GZqUEilgt+Y9TV1YVIJIKCggLIZDLRMk1lMLFZrB2KNWwvkUhEBQ3///m8SLG+F/MSxbqPcMIAzZq8PSFxdBsTr2e02OsIzyEjQCwXrKzNzMzgzTffhFarxXe+8x1oNBrRaf5UFhObhXp24nlhYn0eDofnrIclkUgQCoXgcDggk8m489VqNZRK5RyvUyQSgVQq5X7z0xcr7Qste+RZSl5IHCU5C9lTSqz3tBC3s9hn/O8WIrLIMBC3yqVLl9DY2IinnnoKCoVCtNdOJD6x1q0S87gw++Lz+eDxeBAMBjE1NQW/349AIIDR0VGuHMzMzGByclLUvnm9XkxMTHBiRyKRIDU1FSqVSrTcpKWlQa1WIxwOQ6lUwmg0QiaTcX9HIhGkp6dDLpfHFEZs2Qnh8xDJCYmjJCGW63a+WKJQKIRgMBj1mdfrhdPpRDgcjpoBIhxbl8lkSElJQWpq6px7KpXKOfe/lbF/ghAjEAjg2LFjMBgM2L17NyeOiMQmXhwRv3MVDAbh9/sxNTWFqakpjI6OYmpqCtPT03A6nZiZmcHMzAwikQhCoRBUKhX8fj9SUlJgNBoRDoe5z9PT0+fcNzU1FSaTaU7skFCESSQSTE1NYXBwkCtjU1NTCAaDkEgk8Hg80Gg0CIfD0Gq10Gg00Ol0MBqNMJlMyMjIQHp6OjQaTdTaW7G2vRHmCZG4kDhaJPMFA37e2RPsb9bjYYhdw+/3Y3JyEpFIBA6HAw6HAwAwMjICr9cLAHC73XC73VHX8fv9mJmZgVqt5vamEt4rFArB4/EAALRa7ZzvDQYD5PLZ4pOWlgaDwQCZTIaMjAyo1Wro9Xqo1eqYRoIZJ7Hgx3j5t5Qz7ojVJVb9AYDu7m7U1dXhscceg9lspne5BMxnrxYS6BzrmvOJoomJCQwPD2NwcBAjIyMYHh7G1NQU3G4319FiNsRut0OlUsFoNHJihHXQpFJplFCWyWScHYr3nPHSLuxABoNBhEIhSCQSjI2Nwefzwe/3Y2hoCG63G4ODg+jq6uI+Z16pzMxMWCwWZGdnw2azwWAwICUlJcrWiaWRZsklJjRbbRmIFxwoNjQl1pthBINBTE5OwuFwYGxsDKOjo5ienuYMSyAQgEKhQCAQQFpaGmQyGTQaDSwWC4BZ97XBYIBWq+XcvlKpFFKpFBkZGUhNTY2Zpps3b8Lv9895trGxMbjdbkgkEgSDQfT39yMUCsHv98Pn83HPIpPJoNPpkJGRAZ1OB6vVioyMDBiNRmi12jkCUCxP+Pky399E8iCsD8LP/X4/6urqUFRUBKvVSu95iYkXRCz2nbDOsR9hkHwoFMLk5CRGRkbQ1dWFGzduYGRkBCMjI1AqlVAqlTCZTLDZbMjKyoLJZEJWVhZnu5gAYvfi20bm5f68YiFeKILQFvPP4f8wr/vIyAgcDgdu3ryJwcFB9PT0wOl0IhKJQKvVwmazIS8vDwUFBbDZbEhPT5/TDoh1DGO1F1T+Vw4SR4vgViqlsDfGYJWdX9m8Xi/GxsYwMjKCwcFBDA8Pw+PxcPtIpaamQqvVwmw2w2QyccIjPT0dUqk0ajNO/v3591yq52Mii08wGEQgEIDP58Pw8DD8fj8GBwfh9XoxODjIucqlUim0Wi0yMjKQmZmJ7OxsmEwmrufIxBszFnwPkxBhA0tGJLkQE0nCd0g956WD5SULXBYTqMJj2d/C30wgOBwO9PT0oKOjA/39/RgbG0MoFIJOp4Pdbkd+fj7y8vKQk5MDjUbDeXrY9dk9WJrYtflCZSGB0kuNULgwe83SzOKm+GkJh8Nwu90YHh7G9evX0d3djRs3bmB6ehoAYDQaUVpaiuLiYlitVs7mscBxfkwWPx1idSRWHlB9WRpIHC2SxRY84dCR3++H3+/nPEIjIyOcIGJxQBqNBnq9HiaTCSaTCWazGVqtFmlpaVHXjtfj499XrOch5goXVnIxt2+s4T+hoRPLJxZc6XQ6Ode6w+GA2+2Gx+NBSkoKMjIyYDabkZmZyQlAhUIBpVIZNfNEzGgLDYpYHhGJB79M+Xw+DA0Ncd5G2iZk6ZivEyHWCIdCIU4EeL1e+Hw+TE1Nob+/H11dXRgYGIDT6YRUKkVWVhZsNhvy8/Nhs9lgNBqhUCi46/PvzRdn/HvH8pYsppO3FAjzgnUGhYKJHSsUNfzvmDdtYGAAHR0d6O7uxujoKKRSKaxWKwoLC5Gfn8/ZeaVSiZSUFG5obz67SiwPJI5uEWHFFXOHMjHk8Xjg8XgwNTWFkZERjI6OwuVywefzQavVcsGDWVlZMBqN0Ov1nBBg9+DfN5bQ+bwVaCHnLdTACqfY8tMp/Mzn82FsbAwTExMYGhrC+Pg43G43gsEg1Go10tLSYDabYTabodPpoFaroVKpOMMby6NEJD7ChvDKlSv47W9/iz179uChhx6a09gQn59Y3mwGq7vBYBAulwvT09MYHx/H9evXMTQ0hImJCUgkEhiNRlitVhQUFMButyMjI2NB91/IMJ4wnfzjVqssLNQ+8n/H8sgNDw9jYGAAPT09uHnzJqampqBQKGA2m5GTk4P8/HykpaVxM+zErkXe8uWFxNEtEivbwuEwnE4nnE4nJiYmMDo6ynlHJBIJtFotjEYjDAYDMjMz5wTtAbGn2scr/LHE2nzfxzNA8xmDWxVkQmPINyjsf7fbjbGxMYyPj3PCye/3Qy6Xc8OJbCguNTUVarU6ynNE3obkIhKJIBAI4M0338TJkyfx4osvYtOmTXM8gsTSIPQAA59NgWeTO3p7ezEyMoLx8XGEw2Ho9XpYrVZYrVbY7XZuNpjYNdn1hJ6geJ3JhQyRCz1Oy8FibCD/nPlsr9i1gdmJNTdv3kRfXx/6+vowNjbG5TcL8M7KykJmZmbULGGyb8sLzVa7RfiFOxQKYWpqCsPDwxgdHcXY2Bg304sVcNaYp6enRy1ENt9Y/0IQHj+fJyXesXyvl1glF54bT1vH6tHM92xSqRQ6nQ46nQ75+fkAAJfLhcnJSU5sDg8Po7e3lxNLmZmZyMrKgsFgmDO1d7FCk1hZ2Pvp7+9HS0sLysvLUVJSAgAkjJYYYb2QSCQIBAIYGxvDwMAA+vr6cPPmTXi9XqhUKlitVpSUlMBqtcJsNkOtVosO1wPx35XQQyi8Bv/zWDZFOMS0HIh55RdCLI9XLJvJfvixlcyWsVnIo6OjGBkZQUtLC9LS0mC1WpGXl8fNhCOBtLyQOBIQy5MCRFeAUCiE8fFx3LhxA8PDw5iYmEAwGIRGo0FmZiZKS0thMBhgMBg4t6jYNfncaiFfiEeJHccfO4913mI+jyeQFmtY4t1Xq9VCq9XCbrcjHA7D5XLB4XBgfHwco6OjuH79Otra2qBUKmE2m2Gz2WC1WqHX6+OmebEeMrH/icURK//6+vrg8Xjw8MMPc5MLKK+XBn5jzMq+w+HAtWvX0N3djeHhYYRCIRgMBpSWliIzM5MLGObHDfFFDbAw8RqrQyW0G7FsbzyvzFLzea8fryMoFE3BYBDt7e04ceIE2trauFlu6enpcLlc3PGscz0yMoLOzk4oFAoUFhaivLwcubm5nDcpVidwsd4vYpY7clhNzLUp/JsdJywwPp8PXV1d6OjowNjYGDclnk1NTUtLg06ng1KpjHvt5Xw2JoIARAkhfhpiBVwnauUQezfst9fr5TxLY2Nj6O/vh9frhVwu54K6WXCj0WiE0WiE2WyO+c5jufn53xNLB3sHQ0ND6O7uRkVFBQwGwyqnKrmIVS759TwSmQ0O7uzsRHNzM/r6+jAzMwOr1crNnhKLeeSzFGWf7x2SSCQYGhpCW1sburu7uc/lcjkKCgqwdu1azkvCT0My10M2M/nw4cN44403EAwGsWHDBhQXF3Mec9b56+npQWdnJ1QqFR588EFUVFSgu7sbvb29cDgcsFgsqKysRFVVFbcsi9Art5iOH/EZd6w4itfgCUUNW8unpaUFfX198Pv9yMzMxJo1a2Cz2aBSqaBWq2MGUa9U4RP2tEKhEMbGxrjFISWS2SBLu93OeVSYJylZK4jQDc8Wr/zkk09w4sQJeL3eKFc2C/AuKyvDjh07kJOTM+/QJhmQpUfMc8fqGlvOQUzUE9HEyhuhWXc4HLhy5Qrq6+sxODgIi8WC9evXo6ioCEajETqdjtsaY6mHroR1if0/PDyM999/HydOnMDk5CQyMjKQkpKCcDgMn88Hp9MJs9mMffv24aGHHoJer4/yfiWbSIpEPlv+4MCBA3jllVdQXl6OBx98MGo1b6G4GRoawuHDh3Ht2jV8+9vfxu7duxEMBjEwMICGhgb09PRAo9GgqqoK1dXVMJlMc/aKY/en+rRw7khxJIbQWEciEXg8HrS1teHy5csYGRmB1WpFZWUlCgsLuU0MF7KS9UqmHZjdeqG9vR3Hjh3DtWvX4Ha7ozxKJpMJ69atw+7du5Gbm5v0lYZvUDweD371q1+hqakJCoWCW6ROeDwLeHzkkUdw3333zRl+FBp09jmxtEQiszM6XS4X53EFkt87sBKICUz+sHkoFEJ/fz/Onz+Py5cvIxKJYN26ddi6dStsNhu3PAY/9kXs+uwenzetfI/2pUuX8NJLL6GjowM7duzAjh07YDaboVQqEQ6HEQwGcePGDZw9exYNDQ0oLy/H3/3d38Fms80RSMkAWyNJJpPhxIkT+Md//Eds2bIFzz33HNeRFXao+d5/AHjvvfdw+fJl/MM//AO2bNkCiWR2pu/k5CQ+/fRT1NXVwefzYcOGDdi+fTusVivkcnncUQLyjMfmjhVH/MLBV+rhcBjj4+O4ePEiGhsbEQ6HOUWemZnJFdSVmDWxmOdg6XE6nXjnnXdw7NgxzlPCVp5lx7JNHY1GI55//nns3LkzyuuUrEGwMzMz+Pd//3dcunQJmZmZCIVCUXvHAZ81JDKZjDNITz75JPbt2wfgswaB/56TzRAnAyxfw+Ewuru78eqrr6K8vByPPfbYnO1qKO+jEcuPUCjECR02dHb48GG0tbUhMzMT99xzD7Zt24bU1FTunJUs2/wGur6+Hj/5yU+g0+nwla98BQUFBXC73dxWHIyUlBRoNBq0trbi17/+NbRaLf77v/8baWlpSVcmWHqnp6fx+OOPo6SkBD/4wQ/g8XjmvAexzpxcLofP58OvfvUrpKam4p//+Z+h0+kgkcwGcrOO4aeffoqDBw9iZGQEW7duxaOPPsrtliD0SAHU4YuH7Mc//vGPVzsRqwFfUDA3bm9vL44cOYLTp0/D5/PhrrvuwiOPPILKykpu+w1+AVtt5S2sTE6nE7/5zW9w6tQpaLXaqEBwJgJZRVOr1fD5fGhvb0dqaiqsViu3MnWisZBx82AwiN///veor6+HwWBAIBCYc56wh82+6+rqwsTEBLczN3+1Wv46O8lmkBMZlp+hUAgNDQ2or6/HXXfdhaKiojmdDsrzaPj5wcR/MBiE2+1Gc3MzXn31VZw6dQp6vR5PPvkknn76aZSWlnJeGeGSF/PVLeE9F4OwQe7t7cXLL7+MlJQUfPOb34TRaITL5Yq6h0Qyu/p0IBCA2+2GxWLB5s2bcfr0aZw9exZ79+6N2k8t0esm81RLJBK8+uqruHjxIr73ve9Bo9HA7/dHebfFnkEqlXKTffR6PY4ePYry8nIUFhZyeRUOh6FQKJCbm4stW7bAbrejpaUFH330ERwOB4xGI1JSUqK2e0n0fFtt7lhxxAyzw+FAS0sLTp06hcbGRuj1euzatQu7d+9GTk4Ot8khK0CxhtHijdUvZwFkDX0oFMLbb7+NkydPcoux8b0mwvSxniYLMGfbeCSCN0zIfMY7EomgsbERBw4c4PaZY+fFiifjX9vv96O3txc3btzA5OQkQqEQFAoFVCpVlMFOtHy5HXA4HDh06BCkUin27NmDjIyMOauuE9Hw67Xf78fIyAjOnz+P/fv349KlSygtLcVjjz2Gffv2wWazcY0nvwzz/xbLZ2En8Fbhe+d9Ph8++OAD1NfX45lnnkFWVhZ8Pl/UkJ5QFEulUvh8PqSlpcFut+NPf/oTtFotKisrEQ6Ho1bNT+TywgTOv/7rv6KsrAx79+6Fy+WKSj8jVoc7HA7DaDTiypUrGB8fxz333MPlEf9dKpVK5OTkYNu2bdzx586dg8PhgEKhgFqtjmrXEj3vVos7Zio/38vCVmTu7+9HZ2cn/H4/LBYLdu/eDbvdPuecWIWH/1m8grXcwkgmk6G5uRkff/wx0tLSEAqFRNMpdKcyL9Lk5CSOHj2KnJwcWCyWpKskgUAADQ0NXC9M2AjwidcIsO1Zzp07h9TUVFRUVHCb5cZbjZu4dRwOBwYGBrB582ZYrda4DfadDn/o2+Px4ObNm+jo6MCVK1cQiUSwdu1arF+/nlsbjMEa0FiNrlg+L0fej4yM4PDhw6iqqkJhYWHUMJpYdAd/CNzj8WDdunW4++678dprr0UFaC/EBq82kUgEfX196O3txTPPPDNnFiEQW+DxO7Q6nQ6VlZVcfJFOp4s6ji9GFQoFtm7diurqaly8eBEXL17E22+/jdLSUmzevBl2u52L8WPpSOQ8XGlue3HEf+EsyK+rqwu9vb2QSqXIzc1FZWVlVIQ/I14jG+uzlYSl1e/34+jRowDA9RL5iBkgfiVSKpXo7u5GT08PzGZzQg6ticGeZ3BwEH19fbe81QRz4fv9fmzbtg3hcBgtLS1oaGhAc3Mz7HY7iouLYbFYRPeKIhYPK3tqtRrbt2/HunXruJXigTsjbxcS9C9sOIPBIK5fv47Lly+ju7sbSqUS69atw6ZNm5CVlcV1mNg58YYnVyqPmRBoaWmBy+XCxo0bo2I9YyG0V16vF3v27MHx48dRV1eHBx98MCkadJZGZqOysrI47zb/GeMJRPYTDoeRl5eHY8eOwePxQKfTiYYP8DvCCoUCW7Zswdq1a9HQ0IDGxkZ88MEHKC0txcaNG2GxWGgPQxFuK3EkZmwYo6OjaG5uRnd3N9RqNcrKylBYWIjMzMyoGJNkKhgsvUNDQ2htbYVarZ4jjOKdy2Cu66tXr6KqqgoajSZpBBIATExMcNuzAPOv3M0QDjFMT09jZmYGBQUFsFgsGBwc5NYU6e7uRmFhISekxbxwyVR2EgGJRAKr1YrHH3+c8/jdKQhnC4k9u3Cz056eHjQ2NqK7uxspKSnYvHkzKioqYDabo3a6T7S6y08/WxMuGAwu6hoSyexK3jabDSaTCQ0NDdwkCv59ErkMMRulUqnmePdjwZ8gwsQRf5Z0PDsn9MKmpqZix44dKCsrQ2NjI1paWtDd3Y0NGzZg06ZNnBdKWDb5aUnk/F1qklociSlm9jljYmICzc3N6OjogFKp5KbiGwyGOUF9ycrQ0BC8Xi9SU1MRDAYX/CzCvOvv70cgEEiavBCKoIUIIiH8MsSmELMGJicnBzabDWVlZejp6UFHRwd6e3tRUlKCtWvXIj09Pea1CHH472h6ehoqlWrOCvJ3ArEEvNBbAsx6Rs+ePYu2tjbodDps2rQJ5eXlUR27RPW4sToRCoVw/fp1qFSqOdPLF3MNtVoNs9kMj8fDiS4gOWICDQYDQqEQt2xFIBCYM1oRK3yDIZFIMDU1xQ03ss/mGzLlD1FmZ2fDYDCgoqICDQ0NOHHiBJqbm7F7926sXbs2ylPFzr0TSWpxxC8UQkMzMzODq1ev4vz581CpVNi4cSPy8vKQkZHBTX0Ebq1BTRRY4b958+YcIzHfc4kVfCYM+MckQwwI61ExUbPQdyrMJ6lUyglmlo8ymQxZWVkwmUwoLCxEV1cXrl69ipaWFlRXV6OyshIKhWLOLCAiNux97d+/H+FwGE8//fSc6ft3AsLGTPi32+3G2bNncebMGUgkEuzcuRNr167lbJhQGCWqLWPp4wuaxaRVaHfidWoT0U6x9NjtdshkMvT29iInJwder3dezw8/zozZpO7ubqSlpUGj0cQUxfPFlimVSuTm5sJkMmHNmjU4duwYfve73+Huu+/G7t27ufjLWNe8E0haccRf2ZlfwMLhMHp6evDJJ5/A5XKhqqoKGzZsgE6ni1rvh3E7vHD+kEQ8wcgn3hh1rGMSFbaistAgzCeU+OP4fISCUCKZDWg1m80wGo0oLi5GU1MTTpw4gcuXL+OBBx6AzWaj4bUFIpVK4XQ6ce7cOdjt9jtWVPLrKb+cBoNBNDU14ciRI5iensauXbtQU1ODtLS0KPHO/y38O1FgMVBSqRQFBQW4cuXKgs8VG94JBoNwOp3czFqhBypR8yAUCsFqtWLNmjU4d+4cN9NMKGxjiRzm9XG5XOjo6MC6desgl8sRCoVi7nDAypVw6Qa+XWMhJjabDS0tLdi/fz86Ojrw+OOPo7S0NG6bcLuTtFaJX2hYBXG5XDh06BBeffVV6HQ6vPDCC7jnnnuQlpYm6nYV9mIStec1H1ardU7aF/IswkC/WLFGq50v893fZDJBq9VGGdGFes/4QdwGgwF6vZ4rK3xDwgSoVCpFZmYm9uzZg+effx5KpRK/+tWv8NFHH8Hn891RxuNWYOWts7MTw8PDqKqqgkqlWvUythoI49akUinGx8fxxhtv4H/+539gMBjw13/913jggQe4GZP8XdyBuTaMz2I9NMsFs88ZGRmYmJiAy+WKmtgQC35dlkhmFzt0uVzo7u7mVvZPhOdbKDKZDI8//jhaWiaKocIAACAASURBVFrQ1dUFjUbDxV7FEjf8jptSqcTly5dx8+ZNPPjgg9wISKxzWZmKBX9oTq1WY8uWLfjhD38IrVaLX/7ylzhw4ABmZmbu2E5fUosjVumCwSBaW1vxv//7v+ju7sazzz6Lp556ituwkDVuwNzxW2EjmGxEIhGYTCaoVCpu3x5gYQqfX7HC4TCKi4u5vY34lTLR88Vut2Pt2rVRny00BoEZWJlMhqKiIhgMhjmubD5soUyJZHa37BdeeAEvvPACmpub8ctf/hJXr16dMzxJzOXUqVPQaDSoqKhY7aSsGvzG3ePx4MyZM/jZz36Gnp4efPvb38a3vvUtZGVlAUDM3j/7P5bnNxHqLqsvW7duhcfjQUtLC2Qy2YInjwCz09hVKhUuX74MiUSCu+66C0DsoclEg+XBk08+icLCQrz88stwu91QKpUIhUIxxS1r5+RyOcbHx3H69Gns2rULFRUVcdusWEOtwiE21kFk6x6ZTCZ8/etfxyOPPMINtd28eRMAFhxEfruQ0ItAxnv5TFVPTEzgxIkTOHfuHMrLy/HII49wm4nyfxixDMZKGZFbEWHzBS+mp6fj+vXr6O3t5Xrh8cag+Z+xfFQqlXjggQe4cfGFCgth73ch5yz02HhpF36n1WrR1NTEeW/EhspiDUWEw2HY7Xauhy5WbsSuwfIuMzMT1dXVXAM3NjbGrbY93/ICySrK5yNWYClbNuHixYvIysriVjtO5g6KGGLlXBjDF4lEEAgE0NfXh/fffx/nz59HdXU1nnvuOW71YwBzvEX86yb6kBIjFAohJSUFHR0daG9vR2VlJVJSUuYNRmafy2QyBINBvPTSS6iursZXvvKVOceLCaV4ooMvPoTw31O8uis8NlY62P0ikQjWr1+P/fv3Y3BwEOXl5UhJSYmbRoVCgampKbz55pvwer34wQ9+wO1oMN87j9cOCMsUs1Wso1hSUoKmpibU19dDr9cjIyMjaoXt26m+ipHQ4kjMuLKX4nK5cPXqVW44Y+/evbjrrru4CpcovSYh8Yyl2PMC0b1G4XFMOGVmZqK2tpY7PtZYsVieBINBrF+/Hrt27YJarY66l1igqJj3LdazCiuSsNcSK02LJSMjA+FwGFevXo1rNPhpl0qlCIVCSE1NxSOPPIL169cvOD3854lEZhfTzM/PR3Z2Njo6OtDS0gIASEtL44ZDxEjEMroUxBPjMpkMGzduRHl5OVJTU+OWzWRFWM75z8ga44mJCZw5cwb79++HVCrFE088gd27d0OtVie0DRMjlv3i1/mUlBSkpaXh5MmTCIVCKCwsjFqqQLgyOt8+yGQy7N+/HwMDA/jRj34Ek8kUd39LYTyX0Gax3/wtpITni10zll0Vuz77WyjE0tLSkJWVhVOnTqG5uRkGgwGpqamQyWRc/CTLF7aJ+B//+Ed4PB5897vfxbp16xYkjG4V9iwGgwGlpaUYHR3FiRMnEAgEYLFYuNmlCxGQyUxCbzwrlrRQKITh4WFcuHAB/f39qKysxJYtW+bsfRbvmon2IuMpceFnwkrIKqxEIsEf/vAHfPTRR9x4Pv87/vH864bDYeh0Ojz55JMoKSmJMlb8+8rlcm5vHhZgeSszjOZ7Pv4zLvQ9seP9fj/+9Kc/4aOPPkIwGIRcLp8jLBlsdptOp8Njjz2Ge++9d86+Qwu5p9ATIJHMbv576dIltLe3w2w2Y8OGDcjJyYm6/p0EP9/ZEIJwW57bFaHnAJgdQuvq6sKZM2cwNDSErVu3YseOHVEL+t1uQeqsfrhcLrz33ns4dOgQtm7dytlu4dASywNWn86dO4djx47ha1/7Gr7whS/A7XZzddjj8cDn83Hn8jc1np6e5j5PSUmJ2hKIIZPJkJqayt1PrVZDLpdDoVBAo9FEPQNLWyzi2XH2m4UtXLp0CW+88QaGhoZgtVphtVphNpu5fS8HBwfR39+PmzdvoqysDE899RQqKys5EbXcdYflbyAQwJkzZ3DixAkUFBRg7969yMnJiXrm25GEF0d8ozIzM4O2tjY0NTVBoVCgpqYGJSUloh6WZELMgyTWQxF7VT6fjzMCbrcbr7/+Ojo7O6OCN4XXYB4T5uq22WxRs4aERopVZo1GA7lczn1vNpsBzOa7TqeDQqGATqeDSqWCVqtFSkoKlErlHKMi1tsS+3yx4giY9YJ98sknOH36NAYHB+H3++dcOxKJQKVSoaCgAPfeey9qamq4mDRhWuLdL5ZoZem4fv06Ghoa4Ha7UVVVhaqqqjmzje4UWLkeHBxEfX09Nm7cyBnYO8FFzzwUY2NjOHv2LK5cuQKLxYLt27ejrKwMgPiU62RF6HHmd7rGxsbw/vvv4+TJkzCbzdi8eTMKCwujOriRSAROpxPd3d2or6/H1atXkZ2djfvvv5/bZJfZIra4Ihue4nf82HR5iUQChUIR1XFkv10uF/R6PeRyOQKBAFQqFZRKJZRKJbdha2pqKlJSUpCRkQGNRgOdTset6B6v/MazEZFIBENDQ6irq0NTUxNu3LjB7esYDAahVCqRl5eHyspKbN68GRaLZUXKiNDrxp7jypUrOHjwICQSCfbt24e1a9fe1ou3Jrw4YkxMTKCurg43btxASUkJqqqquEX4hAIgmYhVENlv/vczMzOYmprC9PQ0HA4HnE4nHA4HAoEApqenoVQq4XQ6MT09jcnJSUxMTCAUCs2pTKFQCEqlEkVFRdi6dSuMRqNosB27t9/v5xYeY0ZuamoKwWAQMpkMU1NTnIBibuGUlBSo1WqkpaVBp9NBr9cjPT0dqampSE1NjRJZQhf6reQf+5vR09OD9vZ2dHd3Y3x8nNv5Oz09HUajEaWlpSgpKYHNZhP1rt1KORKrSuPj47hy5QpaWlpgt9uxfft2bqLAnQTLm/Pnz+MXv/gFvv/972Pr1q23vShizx0MBtHT04MTJ05gYmICW7ZsQXV1NbfESKxhmWRAzPPNH86KRCJcfWc2xOFw4OOPP8Z7772HqakpWK1WZGVlcatHe71eDA8PY2pqiltjzGQyIT09ndtjTK/XA5jtnGk0GigUijl5J+ww89PEBJTT6eQWz3W73ZienkYwGMTU1BQkEgm3GXUgEIBSqYRcLoder4fBYIDJZOJ+Z2RkiC5oyh/+44sblg6WhuHhYc7TFQ6HYTKZkJWVxXnoV2r4WWy0gpXPgYEBHD9+HF1dXbj//vtRU1MzZ5jtdiGhxRFz6w0ODuLkyZMIBoOorq5GSUlJVBCb0KuSTC9JWHGA2fT7fD5MTk5ifHwcfX19cLlccDgc8Hg8nMtZq9VCo9FAr9cjJSUFWVlZkMvlUKlUmJ6eRmdnJ9ra2jAxMcFdW6FQIDc3F4WFhVizZg2ysrJE9wsT9vwCgUCUEfT5fJxBmZmZgd/vRyAQ4IQaMzJerxeTk5PcDC6FQgG9Xg+9Xo+srCxu7SDhHkGLfZ9CjxsTa1NTU/B4PJwHSaVScXkmNJyL9VQJDUgsz5ff70d/fz9OnjyJQCCAPXv2oLS0dEH3up0Ih8P4zW9+g9OnT+Pf/u3fkJ2dHSW4k6nezge//Hq9Xly8eBGnT5+GwWDAzp07UVhYGOV5YOcsZNg5URDW0VhNCRMAg4OD3M/IyAjGx8cxOjoKr9cLYNYTPT4+Dp/Ph+zsbGRmZqKiogIFBQXQ6/WQyWRcPJZcLo/ySvPTw0RPrE5zPC9PMBhEIBDgvE7hcBhutxs+nw9erxdOpxOjo6OYmprCxMQEZ/sAQK/XIzMzEwUFBcjJyYHBYJizJQd/sVhhmAM/Hfz08z3+8z3DcsFP3+TkJGpra3Hx4kVs27aNi1VN1HJ6qyS0OAqFQmhpacGpU6eQnZ2Nu+66CyaTSXSNjFv1PKw0/MA/fqMQCAQwNjaG/v5+3LhxAzdv3uR6LgqFAhaLBZmZmVxPRa1WQ6lUcq5iqVTKGQt2D5/PFyUMWAVTq9Xc+Yx4RlnMw8P/XHgNNmQXCAQQCoXg8/k479Po6CjGxsYwMjICl8uFQCAAjUaD9PR05OTkcPuasbF+oQGJ51IWSyfLC2ZY+P/HapQWYngWY5yYoXM4HDh37hxaW1uxfft2bjgv0cvsUuFwOPBP//RPSE9Px9///d/fFrE1sQQNawTdbjcOHDiAy5cvY9u2bdi5cyfS0tKigm6TcSiN701g//M9YH6/H8PDw+jq6kJHRweGh4cxOTnJeV0sFguysrJgt9thNBo5++X3+xEOh7ltZYQzPuMNxQuFptg5YvksPFboyeefGw6HuY4gs2tutxuDg4Po7e3F8PAwxsbGEAwGkZqaioKCAlRUVCAvLw+ZmZmc3eGv6B+P1SwXsfItGAzC5/Ph/PnzOHbsGGpqanDfffeJrqqdzCSMOBJzzZ49exbHjh3Dtm3bcM8993CN+VI2XLHufavXindtfiVk3qHr16+ju7sbbW1tGB0dhVwuR3p6OnJzc1FUVASz2cyNh0ul0qjVoGMNxbH7MsRcpMvZKIk9K/CZN4eJp5mZGUxMTKCrqwv9/f0YHR2Fy+WCWq1Gbm4u12s0GAxR61TxvW0LfV+r7Vlk6Q4EArh69SqOHDmCqqoq3HvvvdwMwVjpTraGkyH05l26dAk/+9nP8Oijj+JLX/rSnC1XkvFZxdLMhpvdbjdeeeUV9Pf345lnnsHmzZsXbMNWm1gdBn6ng4k79tvpdHKb47a1tWF8fBwKhQJZWVkoLy9Hbm4u8vLyoNVque1PmE3jC0r+9VdqKGkhCL08fI8/vzPodDrR29uLrq4utLe3Y3h4GBKJhPPWb9iwAXa7Peq68URyotULlt5AIIBPP/0Uf/rTn1BRUYHHHnuME0ifJ1QiUUgIcSSseJFIBAcPHsTZs2fx5JNPoqamZo4HYKHXZH/HEgRCYSQ8b6FDJ2LXESscbrcb165dw6VLl9DV1QWXywWDwYDCwkJUVVUhPz+fc8Xyr80MbjIPQbB3yNIvfB+hUAj9/f3o7u5GS0sL+vr6EA6HYbPZsGnTJhQXF3OrgQsr30I9P6uZd/zeYnd3N9577z3YbDbs27cPGRkZyy5aVxKxejQzM4Ouri6YzWaYzeakLcdiCOt6Z2cn/vM//xMGgwHf/e53uecVBv6vdBrFOoEL6UjxOyX8iRsejwdXrlxBbW0t2tra4PP5YLFYUFVVhcrKShQVFXH2jJ0jtOVi9jYZGlah54zNkAUQlUejo6Po6OhAbW0tOjs74fV6UVRUhLvvvhubN2+GyWSa400Sez+L9W4vB8L2TSqVoqGhAb/73e9QU1ODp556CiqVKqnbKUbCiCOWjMnJSRw4cADd3d34xje+gZycnKhGY6EZHs8LtJDCthDRFCvr+D0Bv98Pj8eDGzdu4OrVq7h27RpnQIqKirBu3TpkZ2fHXMF7JTw9K4kwP/mB3EIx63A40NPTg87OTnR2dsLtdsNsNmPNmjUoLy+H2WyGUqmM2oAzGSoje/aBgQF8+OGHkMvl2Lt3L6xWa1RvlJEMzxQPsWdJdsMphN+bvnDhAt544w1s3LgRf/7nf87FR652g3Er9+Z3aCKR2VjDiYkJtLe3o6GhAb29vQiHwygoKMC6detQUVEBm83GhT7wPStMWN1O710Ivy0TEzpOpxPt7e24cOEC2tvbEQgEUFhYiG3btqGsrAypqalQKpVzbCL/+qudf2Lt38WLF/Haa6+hpqYGTzzxBFQq1ap2BJaChBFH4XAYY2NjOHDgAILBIJ5++mkYDAaukLDjgFtrLPgFVljA+EbrVu7BvzYTRNPT0xgbG0NrayuuX7+OmZkZbpZURUUFsrKy5gwp8F2riVAJVgqh8BS61IFZ0Tw0NIS2tjZ0dXXB4/HAYrGgvLycC35kU4E/7/tcbvjvenR0FEePHsXMzAzuv/9+5OTkRA2bJlK6b5VIJAKv1wuXy8UZ/9tF7AOf1X+n04njx4+jtrYWW7ZswbPPPst5A5bChi03Yh58iWR2z8rJyUn09vbi8uXL6O3tBQDk5eVh/fr1KCoqgtVqnXMtIHk6LEuJmAdMbJcDh8OB5uZmNDQ0YGBgAFqtFmvWrEFVVRWysrKQnp4+Z1gxEfJSKBnY8164cAFvvfUWampq8Pjjj0cFaSdCuhfLqosj1tvq6+vDmTNnIJPJ8Mgjj3Bjl7EW8VuseGFeimAwiJmZGfh8vqgp52Lr3MRyQ4ulh601NDY2hp6eHly7dg0ejwc6nQ7FxcUoLi5GdnY2lErlnEY73vDdnY4wnwDA5XJx3qTh4WEEg0FYLBaUlJTAarXCZDLNCTZPlDwV63U5HA6cOnUKw8PD2LZtGyorK+fspZXMRCIR1NfX45NPPsHDDz+M8vLyqEYzUd7NrcA8KyMjIzh+/Dg6Ozuxa9cu3H333VELXSZKGRTzgLO/+ccEg0GMjY1hcHCQ6+AFAgGYTCZUVlaioqICZrM5amiMv69jvOdMhHxYTuZ7vlAoFDUS4vf70dvbi6amJrS1tcHj8cBsNmPr1q2w2+3IzMzkZjYyVrs8idllAKirq8Obb76Je+65Bw8//DDnNU3G972q4ogJo/b2dtTV1cFsNmPnzp3Q6/Uxx+cX2/NivfSpqSn09vZygb/T09PczIns7GzYbDbk5+fP+zKZEWDfB4NBbrp9Z2cnRkZGuOnyRUVFsNls3HocsYbixFynws9vp2EWIfNV8lhFNBgMYnR0FNevX8f169cxOjqKlJQUWK1WlJWVITs7mxPZYsOVqzlmz/8fmJ3dU1tbi08//RS7d+/Gxo0buUYm2d93KBTC22+/jRMnTuCHP/whSktLb4vnYiJicHAQR48excTEBPbu3Ys1a9ZErc6eSHE0wvIn3Kja4/Fwtqy9vR0ulwsZGRkoLi5GaWkp7HY7t8o0v04Jtyya7xlvN4EUS2gCsfOCPwTHGB8fR3t7OxdzqdPpUFFRgfXr1yM7OzshtseK1T6xdNXX1+Ott97Cvn37sGPHDq68JNv7XnFxxL9dMBhER0cHzp07B5vNhrvvvpvba2mpMjISieDq1as4deoUurq6uAW9+C+YrXy6bt067Ny5k5tJECuAm/2Mjo6ipaWFC7IzmUwoKipCTk4OLBaL6Do683mj7mTi5YmY8eEbaI/Hg4GBAc5r5/f7YTKZsHbtWhQXFyM1NTXqeomU9+wZgsEgzp49i/Pnz+Pee+9FdXX1vBvXJjqRSATT09P4zW9+A5fLhe9973swGo1J7TVi7ysUCqG7uxsfffQRJBIJ7r//fhQVFXHbO4g9WyIIJH462N8ulwttbW24cuUK+vr6IJFIUFZWhtLSUuTn50Ov18+Jh4vlEVvs/3c6YqEeXq8Xra2t6OzsREdHB2QyGdasWYONGzciOzs7aqX91erksfuLcfToUZw8eRJ79+7Fjh07knLJklXxHLEgXBbBn5ubi7vuuotrwBYbjyBW2Zh3p66uDn/4wx8wNTUF4LPCxDfO/DiX/Px8PPvssygpKeGOF96jr68PTU1N6OvrAwDY7XYUFxfDbrcjNTWVC8RjJFuhSCaExTcQCMzx5GVkZKC0tBTl5eXIyMjgvH+JFBzKymEoFMLFixdx7tw5bNu2DVu2bIkKOGfH8v9PVFg6Ozs78dJLL2Ht2rV47rnnuNiwRE9/LJi3paenB++++y50Oh0effRRZGdnc8+1mjFV83UyWBxnOBzG5OQkLl26hObmZoyPj8NoNGLt2rUoLCyE3W7nAqv5nqHFvjcSQ/Mj5tlmayr19fWhpaUFra2tCIfDqKiowM6dO6NmufFj2lY7r1n4ypEjR1BXV4cnn3wSGzduXNU03QqyH//4xz9eiRvx434AoKurC4cPH0ZBQQG36SIzKrfygsWGKhoaGvDaa6/B5XJBLpfHNMjsvhLJ7EJ9/f39sFqtMBgMUS7MiYkJHDlyBEePHoXD4eAK6dq1a7ndiplRZNdb7YJ6u8MXuxLJ7O7dWq0WVqsV+fn5yMrKwtjYGC5fvoy2tjaEQiFuVfBE8uCxNEgkElgsFiiVSpw5cwYSiQRWqzXKgySMPUhkJJLZKfxutxsVFRXIzc1NurrB9/YyUT0wMIDf//73SE1NxTPPPMNNsEiEZ4sVU8S3ZTMzM6itrcW7776Lq1evIjMzE7t378bOnTtRXl4Oo9EYZTM/zxBvsrzn1UQsfyUSCeRyOQwGAwoKClBYWIhQKIQzZ86gqakJAGC1WuNumL2S9o1/L6lUCovFgsnJSdTX13PtKf9Y9oyJyop6jtithoeH8fvf/x5r167Fnj17oqa6suNuNdPYPQYHB/HSSy9xC3CJBcLyz2HfyWQyBINBbNiwAV/72teQlpYGp9OJhoYGnD17Fj6fD9u2bcOmTZuQnp4eFXQpTH+iNLy3O2L5zPaKYw3BwMAA6urq0NbWBrvdjnvvvRfl5eVR5yfCUA/zHrFdu0+dOoWdO3eipqYm7qreiUwwGITX64VCoUiaRRDFYN7o4eFhbg2jb37zm1F7fCUKfBvE/zsUCqG+vh4fffQRRkZGUF1djZ07d8JqtUKj0USJdOYBT6aydjvCRDkw6xm/efMmjh8/jtOnT6OsrAxPPPEEysrKRAWSUISs1LtkaR4eHsY777wDmUyGZ555hvN2sTQIF4JNJJbdc8T3GEkks6tC/9d//ReKiorwyCOPzOmdAEtjOI8cOYLGxkZIpdKo1VzFEKp1mUwGp9OJzMxMTE9P4/XXX8eVK1dQXV2N5557DuXl5dDpdFxjJRxPXcrnIOZHTIiyXjwAyOVybrigoKAAPT09OHToEPr6+mC1WqOWvU+EXj9bNdhsNkOhUKC2thZqtZrzTiRDr4uPVCqFQqGI671NdFjjNDQ0hJ/+9KdIS0vDD37wgxXfFHQ+hPWArS8EzK5F8/LLL+Po0aOorKzE1772NW54hi2vIPR8Jcpz3YkIPTHMLuj1elRVVaG8vByNjY04ePAgZDIZ8vPzIZfL4+4rt9zvkYlxZntVKhUMBgPq6uq4NZ1YeykMP0k0ll0c8TPB5XLhlVdegVwux1e+8pWoF8/36nxer9HNmzfx4Ycfcjsc8yu42LX5nh/2cgOBADo7O9Ha2orc3Fw8//zz2LRpE7fVA0v3YmdpEMtDLHcy+2H/GwwG1NTUwGq1orGxEZ988gm8Xi8sFkvUZsZi11wp+AaGrQh+5swZGI3GqJ5XooukSCSCsbExNDY2AgA3dJ6o6Y0FW6toYGAAv/jFL5Ceno6//du/5fYyFIqJ1fS08HvkTNBdv34dr732Gt577z1kZ2fjb/7mb3DfffdFebxibcKcjO/rdkFYphjsXWVmZmLHjh2QSCQ4cOAAOjs7kZ2djfT0dO48oRdpOcunmOdKIpEgMzMTcrkcp06dQmZmJiwWS9T3ieqZXJGYI4lEArfbjf3798Pv9+Mv/uIvolZQ5WfQUmTS9evXceHCBfh8vpgFjMG/r3AWlEajwWOPPYZ9+/Zx46Ws0RIrBHzXJfuMWFnilSO++LVYLNi6dSskEgk+/fRTtLa2QqVScfvYrfb4PV/YWa1WuN1uLjaEBf0ncq+e1YGuri787ne/g1QqRUlJieim0YkMKy+9vb14/fXXkZ6ejr/6q7/ihtNZL1hox1YjncxDz/YvHBoawvHjx/Huu+9CKpXiS1/6Ep555hluqRTWIRQKITGbmYhl7E5A2MnjlzHWFpWUlKCoqAjNzc04c+YMpFJp1Ca3wrZvud6lcOiOX5aMRiNGRkZw6dIlFBQUcB2lRPYerYg4crvd+PjjjzE6OooXXngBWq02anl0sXFR/v8LhR3f0tKCpqamqDU8YhmtWA1gKBSCwWDA9u3bkZmZyR0rlkbhNai3tXqIvWuxITdgdritoKAA+fn5GBkZweXLlzE5OQmtVssNmwrPXc73KjRg7F5siK2/vx9dXV2wWq1J4YWJRCLo6OhAa2srtmzZgoKCgoRPM4O9i0gkghs3buD999+HRqPBV7/6Veh0OoTDYW46Nf/41fQ2st8sCHb//v3o6+vDjh078Oyzz6KoqIgr03zbO1+ak+F93Y7Es2NCsWSxWFBZWckF2o+Pj8NkMnEzwFeiIxXP0SCXy5GVlYWmpiZMT0+juLiYWwvsjvUc+f1+XLhwAdeuXcODDz6IrKys2RuLrEjN//tWM0sikXAGWbhiK7/xiSeW2LFqtRqVlZUwm82iaRR+RiQGQoPC/0xs+CM9PR3FxcVQqVRobW1FR0cHFAoF9Hr9is5qi1e+lEolbDYb2tra0N/fj4KCgqhhHTFW2+j4fD5ua4Tt27cjKysrKeoLP4h5ZGQEH374ISKRCJ588kkYjUYA4vZrtTxHrIwHAgFcu3YNBw8eRH19PQoKCvDEE0+gpqYGGo1mTvjAQuxsMryv2xWxTrfY56yzp1arUVxcjLS0NDQ0NKCtrQ0ZGRncpsfL7aGJl16JRILU1FSo1WqcPHkSJpMJdrt91W1UPJZFHLHKGg6H0d7ejsuXL2PTpk0oLy/ngsr4LFXmsPsODQ2hpaUFwWCQu76YByBWb499p9frsXHjRhgMhpgeIiKxidcA8D9XKBTIzs6G1WrF5OQkmpqaMDExgYyMjKhdxYXn8VmKih6vnKnVaphMJly4cAFOpxMFBQVxdzaPl9blgu/B8Hq9aGpqQigUwpYtW7iFBJMBiUSCqakpHD16FCMjI9i3bx9yc3MhkUjibqj5eZ9vvjLE/56f16Ojo/j4449x+PBhhMNhPPTQQ9izZw8sFgtXpoRDaMTtA9/LnJOTg5ycHHR1deH8+fPcrgHxFpRdapESq03NzMzE+Pg46urqUFVVBZVKFfV9IpXLJRVHwocbHBxEbW0t8vLyUF1dLbo/zHLg8Xhw9epVeDyeuB6peN+Fw2HYbDZUV1dzs5kS6cURSwP/vUskEuj1euTm5kKn06GxsREtLS3Q6XRc74sdJyasl7N8sHTq9XoYjUYcO3YMp4EIugAAIABJREFUKpUKOTk5MeOPVqO88vNTKpVCr9ejpKSEW1AwWeqQx+PBsWPH0NnZiQceeABlZWWQyWQrumI582AJh1v5n4XDYbS0tOC9995DS0sLtmzZgocffhgVFRVRyyYkS74Ttw7fBhgMBhQWFsLhcOD48eOYmZlBXl5e1NIzjOUO1Gb3AGbFW3Z2Ns6dO4epqSmsW7dO1Iu52sPUwDJ4jtjDOJ1OnD17FhKJBNu3b0dqauqcFYmX+sH56rm1tRXj4+NRvaZY54ilQyqVorKyEps3b04qo04snFiiIiUlBRaLBbm5uRgYGMDFixcRDAa5Zfv5LmphuVju3k8kEoHRaIRWq8WJEyeQnZ3NTRZY6bTMB1vAji1JkIi9QyA6n1gwc319Pc6cOYN77rkHGzdu5DaMXo7hM6EIEi74yfcUsZlzEokELpcLH3/8Mfbv34/U1FQ8/fTT2LZtG7ebu/B84s6AlU+tVovCwkKkp6fj0KFDcLlcKC4ujpoMtRLCiN0LmC3DOp0OWq0W7777LkpLS2EymaKOEZ6zWiyZOOL3bgKBABobG9Hd3Y0dO3Zw+4zxez1L4d4Ve6GRSAQpKSlwOBzo7OyMmqG0EGXK/tdoNNi9ezfy8vLIFX0bIzZ+zxqU9PR0bl2O2tpaTExMcBtvsnPFytZy9r4kktkZSWazGVNTU7h06RKKi4u5JSYSxcCwdLI1VxJ5jziWJrZbel9fH95++21s2rQJ9957L1JSUmKu/3OrCGfOMsEdCoUwODiIuro6XLhwgbOjkUgEGRkZXCD18PAw3n33XdTV1eHuu+/Go48+ytkqsX2sElGUEkuPsHympKQgNzcX6enpOHz4MJxOJ0pKSqImEwjPXc60SSQSbpeCwcFBtLa2oqamZk66Y3nnV5IlEUfCqXsjIyM4efIkKisrsW7dOtHpouzvzwtfkbIMlUqlsNvt6OzsxOjoKBQKBReczT9HzJUnlUoRDAaxefNmPPjgg0m9cB0Rn3hCgpWllJQU2O12pKeno7a2Fjdu3EBubi40Gs2chn85KzO/cWNxe9nZ2WhtbcXIyAjKysrmeBlWy1MTiczuVl9XV4cPPvgAJpMppncrEeB7bLxeL37961/DbDbjS1/6EhcKwE+3cJG9W4HvgWL5VVtbi//4j//AK6+8gqNHj6KjowPt7e04cuQIDhw4gOPHjyMUCkEul+O1117DzZs38eUvf5nbfokN+wnfOwmjOwOx2WzMNrH1jw4dOoSZmRlutthyeUPnQy6XIzc3F/v370daWhry8/O5dAtnvSW1OAI+6yn6fD4cOXIEMpkM+/bt416AMF5jKYUR/292fblcDqvVijNnziAYDHIze4Q9Nv55MpmMG5t94YUXomKNyMDcfvAFBBA7cB8AbDYb8vPzcf78eXR0dCAnJydqvRjh8UsNf9iH1bWUlBSYTCacOXMGWq2WW1xtqTsgiyUSicDv96O2thbNzc2orq6G0WhM2E4GX0S8/vrr6OzsxIsvvsgF4ouJ6KWwB2z1ar/fj5///Of4+c9/DqlUisceewxf/OIX8Wd/9mfYu3cvdu3ahXXr1qGrqwv/93//h48//hhlZWX4zne+g9LSUk4sCxuUhc5II5KTWDNxGUK7ZLfbodfrcfDgQYRCIRQUFKzoOl38Tkg4HEZqaiqmpqZw8eJFbN68mVuEdyXs6UJYEnHEjLVUKkVTUxMuX76Mhx9+GBkZGVEvkP8Sl6L3xYjVQBkMBhQXF+PTTz/FzMwMJ4CELn72/8zMDEpKSvCXf/mXXEOTyMMBxOdjPm8mv3yEw2FkZGQgJycHbW1taG1thcViQVpa2ooYF7F4lHA4DI1Gg0AggJaWFtjt9jnbWawGkUgEMzMzOH/+PORyOXbt2pUQ6YoFG/47deoUPvjgA7z44ovIy8uL2u0cmOuN+zzvmtk/t9uNn/zkJ/jkk0/w5S9/GV/96ldRVFQEhUIBv9+PQCAAlUoFs9mMe+65B8XFxeju7obX68X69ethMBjmrNS/msKYWDniiSKhHWPl1WazQaVS4fDhw1CpVNxQ7EqUGbEhM7vdjnPnzkEqlaKwsFB0NCepPUdsOMrpdOKdd97B1q1buSh0YRA24/M+8HyzhVjwotvtxrVr17ig0JmZGc4YMk+SXC6HyWTC/fffjxdeeAEZGRkAlmYj3KVEzNMh/C7eeUtx7+U6J1HyWAx+AHZ6ejpsNhuuXbuG9vZ2TiAB4sH9S+klFTOCMpkMOp0Ovb29cLlcsNvtnLd2tZBIJJiensaxY8eg1+tRU1Mj2itcSWJ5CYHZet7e3o7XX38djz/+OHbs2MF9Hss7zf99K2kBZmfE/fSnP0VdXR2+/vWvY+fOnfB6vfD5fFFrtIXDYfj9fvj9fthsNpSXl+PTTz9Fe3s7ysrKuO0iYtna1WYhw82xPPrxriV2DrP77Fj+aIHw+PnSzPcoCm3tfM+zEsSyLcK0A9HB/Tk5OQiFQqitrYXBYEB2dnbU97GutxS2jF2HxdcpFAr4fD5cuXIFZWVl0Gg03HH836vBgsVRvMIbiczu9nzo0CH4fD489NBDURHxy0G8njr7rLOzE2+//TZycnLw1a9+FVVVVcjKyoLZbEZubi7y8vJQXl6OHTt24Atf+AKqq6tFp7+udiUA5hp3ILYbNZYREFZ24bXiVXqxcxdqMOarwLGOWU3E8pl9ptfrYbFY0N7eznmQmKCOxVI8X6w8Y7upt7S0IC0tjRvCWk3B6fV60dPTg4KCgjlxh6uBsPzy0+JwOPCHP/wBFosFzz///LIOR7HGWyqV4tChQ3j11VfxrW99CzU1NdxekPyhDnYOE+d+vx/p6ekwm804deoUIpEI1qxZw80GTLR6BIgLe4bYyILY+XyBI7RfrKMbDocxMzMDr9fL/fh8Pu633++Pup5wQ/J4tlWYDrHvxJ4r1rWWivlsOh+WT3K5HNnZ2RgeHsalS5e4mErgM4eA2D2WsoPN/pZKpVCpVLh06RI0Gg23llgilGNJZDFy+v8jFqNx7do1vPHGG3j++edRVFTEfb+ciDXIrNfQ39+P999/H0ajEY8//njUdgv8HkW83mAieDNiiRAgfoUU+5w9P3Pp+/1+eL1e0XuJ9ZoikdkAZb4XQOyeYj30WAI2UXphi4GVnb6+Phw6dAh+vx+PPvooCgoK4vY4l6uxjUQicLvdOHbsGEKhEO677z7O2K0WgUAAo6OjUCqVnFhbTWJ5jrxeLz788EM0NzfjG9/4Bux2OwDxRmKp0gEAk5OTePHFF6HX6/H9738fk5OTovcUq+/s90cffYS2tjb86Ec/4hbYTdR9qhix7JfwvQjfFxM7TqcToVAITqcTbrcboVCI+y2VSjE+Pg6Px8Ot58O/TzAYRHp6OteZiEQi3AK/bMsglUoFnU4HjUYjurVFLHsltHMrJY7i3Yv/uc/nw40bNzA2Ngan04lwOIxgMIgTJ07AbDbjG9/4RtSISSx7vRTp5LdBkUgEHo8HBw8ehMvlwtNPP82FKqw2c+fzxSBeA+d2u7nZaUwYxTpnqRETM319fTh48CBSUlKwb98+bqNO4TnsN9+FHevaq0W8NIn1FtjnkchsUKzb7Ybb7cbk5CS8Xi8CgQBcLhf33lwul+gMF+E9JJLZKZhqtZoLVNVoNFCpVEhJSUF6ejpnWFQqVVSPjF2H/wyJ5JVbKMJ8NpvNqK6uxvvvv4+33noLd999NxQKBTIyMmCxWLgVoVeiHmi1WmzYsAHHjx/H9evXUVlZKTqleyWIRCJQKBSwWq2LGspYTmI1Xm1tbbjy/9j78uA4y/v+z97aQ7s6Vufqvg/rsi1bkm0ZG2NizGXAQCmEhLQklGTStJOZNtNMMm3TdqZNM9BMhwmhUKeQQDACjA2J8W1hW7ZkSZZk3bKO1bHSak/tffz+0DwP7777rizZezG/fGY02uPd536+z/d6vt++Ptx3333IysoCEDnGiNTL4/HQ09OD+fl5PPnkk3A4HAH74XYHq8/ng1gsRk1NDa5fv46RkRHqmB2PCCV0kQOSTdPsdjv0ej2MRiMWFxdhNpuh1+tht9thtVohFotht9shkUjoWiMMj8vlgkAgCBAOeDwe3G43DAYDlpaWqN8pYbQIrSQhGxQKBZKTk6FUKpGWlga1Wo3U1NQgk8/tBLtoMkXsz5j/Ozs7cf78eYyPj8NqtQJY1U76/X6YTCZ0d3dDLBbjO9/5DkQiEbxeL2cU+HDSMSbjKZVKUVFRgT/84Q+4desWamtr40IxsW7miA0mh9/X1wer1YrHHnss4PtogiwGvV6Ps2fPwu/3Y//+/QGpP0JpOchCYGuT4g2kfUAwd+9yubC0tAS9Xg+dTgez2Qyz2QybzUYD2yUkJMDtdkOlUkEmk8Hr9SI1NZXGyAHW1gYR4mS1WuH1ejE2NgahUAiHw0HbQySw5ORkpKWlISUlJagO0heuOuIJoSRBr9eLwcFBXLlyBVNTUzAajVhYWMDMzAz4fD5kMhkyMjJQV1eHxsZGKJXKiK0rZpkajQZ5eXm4ceMGCgoKkJSUFPX1TNbo/Pw8jEYjCgoKaFyoWII5DkQYWlpaQnt7O4qLi6npL5yJMLnKIe9HRkagVCqRl5cHl8sVEI8tFJh70+v1IjMzE6mpqRgdHYXT6YxLzRFbQGIzSkRI0+l00Gq1mJ6exvLyMpaXl6lDfFJSEqRSKbKzsyGTyZCWlgaBQAC5XE7NMkxttkAgoIwM+czr9cLhcASklHI4HNQH1Wq1wuFwwGAwUKZseHgYXq+XXsbQaDTIz89Hfn4+kpOTaawgJqPH7FekwcWkMdfQ8vIy3nnnHVy4cAESiQQ1NTVIT0+HSqWCUCiEyWTC4uIient7cfToUdhsNjz77LPQaDQBQnG4tPvMspiCvd/vR3Z2NlQqFUZHR1FeXk7dW8JR751i3cwRu4GEwFitVnR1daGxsREpKSkB6rJoE2W73Y5Lly5haWkJ999/P80CTr7nMnEwJylWkxBKYwOEllJcLhd0Oh0mJycxNzdHJS2RSASxWAyVSoWMjAwoFAoq9ZBwBgkJCXRji0QizoBgXO3zer1wu920LSsrKwBWTSgrKytYXl6G1WqF0WjEyMgIent74fF4IJfLkZKSQg/v9PT0AOLFFYMqnsDc0CsrKzh//jzOnj2L5eVlAF8SQ6IBsNlsWFpawsjICIaHh3Ho0CFkZGSETTUdSqUvFApRU1ODwcFB9Pf3Y/v27QHMfzTg96/G7Dl58iRGRkbw7W9/mxJb0tZYgE3k3W43Ojs7Ybfbcf/99weYWsLVxlDl+P1+TE9PQy6XQywWw+l0rnuOmAyeWCyGUqmEw+GgGpB4AzGhEP8eQkf0ej3GxsYwPj6OqakpmM1mGlE9MzMTVVVVyMjIgFwup8yPRCKBQCCgByeTbhBwaamA1bg6XH6wZM7JjVS32w2XywWn0wmbzQan04np6WnMzs5ibGwMnZ2dNExMRUUFqqqqoFarKVNKtC7RXOdMJoOsgcXFRfz85z/H1atX8cgjj6ChoSEoR2R2djYqKyuxbds29PX14ejRo5iensYPf/hDFBQU0DkLB9hrkzk+fD6f3izv6+uDTqej5u1Y4o7NauRAuH79OgCguro6rIO5HjAJhdfrRU9PD/r6+rBnzx6Ul5cHmYvY3D3X/1iAizFiHyY8Hg9OpxOTk5MYGRnB2NgY9Ho9+Hw+1Go18vPz0dLSgrS0NMr8CIVCCASCgPAFbHs+UzrgmmPms0KhMEBCY97SInNAbNkejwdOpxOLi4tYWFjA9PQ0vvjiC5w6dQoymQyFhYUoKytDYWEhtTFz9TvWYPbfbrfj008/xWeffQYej0cJKnOcmOPs9Xpx+fJlzM7O4oc//CFUKtVdt2cts6ff74darUZtbS26urpQX18fwIRGA2QOjUYjZYyZ7Y61ZpaM0/T0NG7cuIG6ujrk5+cHHWiRWIekTJ/PB5PJtGb57EOeaCfYoUUI88tce9FGKOGOMB1kfZrNZvT39+PatWsYGxuD1+tFVlYWiouLUVJSgpycHEilUohEIohEItovtsacizay28LVJi5fGqZTNo/Ho3XL5XLqK1dQUEBvCxLBb3BwEB999BE++ugjFBcXo7m5GbW1tZxx/SIFdl9JnQ6HA6+//jquXbuGl19+GWVlZXA4HAG0ivkbsViMlpYWFBQU4Be/+AV+/vOf4yc/+UnItB53AvacMOkW+T4nJwfd3d1YWFigzFEsacWGNUdMDtBgMGBwcBD19fUBXGk0CSCZaJ1Oh4sXL6K8vBz19fUBKk/SlnhQObPV+7djWgBgZmYGnZ2d6Ovrg9FohEqlQllZGe655x7k5+dT50F2ihYgWMUbSvUbShW8XlUx0yTBzEWXlpaGyspKGiB0fn4eIyMj6O/vx+XLlyGVSlFeXo7NmzejtLSUMl/MdRZLbQOB3+/H4OAgzpw5Qw8kJrEhz7NfS6VSjI2N4e2338ZLL70UNLfhbCOwOg/bt29HT08Purq6sGvXLk6hJdx7lJQnEAioiVcoFAZJ97HUzgKre87hcKCzsxM8Hg81NTWcWptIMEVkTQgEAmg0GhgMhnXtOy7GgHmoezye25rkogG2yYTP58PpdGJwcBDt7e3o7u6Gw+FASUkJDh48iOrqaqSmpkIkEgXRQXZWhfVird9wfcZkNkm9TGEaWPXPSUhIgFQqRVJSEvLz87F3717o9Xr09PTg3Llz+M///E+kp6fj8OHDNMk6W2MWbnD1lcfj4dNPP8WpU6fw7LPPorKyEiaTCWKxOGAvssPU2Gw2ZGdn4+WXX8YvfvELfPTRR/jLv/zLiLSX67Xf70dWVhaUSiVu3ryJsrIy6iscq3P7jnyOSGdGRkYgEAhQXFwcs7D1JJbRqVOnoFAosHv3bnrAkrbGI5iqXPYi9/l8sFgs6O/vR3d3NyYmJqBSqVBXV4e6ujpkZ2cHJQ9kMxNr9TuSY8LUYjBBfHGKi4tRXFyMe++9F0tLSxgeHkZ3dzfeeustJCYmYuvWraivr0daWlqAuY+rzdFiwn0+H3Q6HY4dOwar1YqEhAQa3ZirHcx9QCLBnjlzBo2NjWhsbAy4ABBOJpDUJxaLsXXrVpw/fx5NTU10rURSmmWW6fP5YDQaUVpaSrWLpP5YMrpkr2m1WoyNjdG8j+T7SLaRvU8zMzNx9uxZWCyWAOLPpp/stpPPBQIBbDYbdDodzbYe6bFlayiYdIuZENfj8WBxcREdHR24ePEilpaWkJubi4MHD6KxsZE6vjPLJUxELAVY9vix6TJpJ2H80tPTsX//fuzbtw9DQ0M4deoU/ud//gdHjx7Fvn370NTUBJVKxckghWOdcYUimJubw5kzZ1BbW4u6ujpYrVbKqIUKWwCsmh3tdjtyc3Oxf/9+XLp0Cbt370ZpaSnn2IQbfv9qQtqCggL09fXBYrEgMTHxq6E5IiCbY2VlBVNTU8jPz18zzH6kwDxgbty4gcnJSTz++OP0OmK8MkUETG0WISwOhwOLi4vo6+vDjRs34HK5UFBQgK9//esoLS0NMJGwpbR46i8Xs0A+B0AdLTMyMpCWloYdO3ZAp9Ph+vXrGBwcRGdnJ/Lz81FTU4PCwkK6SZiEMxp9Zo7x8PAwxsbG6A2ZUEwg13sejweJRIJjx46hoaEh4AIA6Uu4pH4yJtXV1Th37hz6+vrQ0NAQdDMoHGPHxWyRg3vXrl3IyMgICEgZyzVK5sFqteKLL76AXC5HbW1tULsiLTiQeaitrcWRI0cwNDSEzZs301uj7OeZr5lrRCAQYHJyEkajERUVFTQHXCTBZiAJs0f6ZLVaMTs7i0uXLqG/v5/2s6WlhR6y5Pfk6j2AkMxhLMHc+6SPbrcbHo8HfD6f+mr6fD4IhUKUl5ejoqICk5OTOHnyJI4fP46rV6/i3nvvRXV1NRQKBRX2mLTjbvrKLIO0d3BwEHNzc3jkkUcozQzFEJEyyHckMGNdXR06Oztx7do1lJSURGU+SB/y8/PR2dmJ5eVlets1Vuthw8wRWSxTU1MwmUxoaGiAVCoNmqhoDejS0hLOnTuH+vp6VFRUxB2jwAabUfD7V+M8TE9Po7+/H2NjY0hISEB9fT02bdoEjUZD+8SlZSKIF6ICBG9a5uYlZgCDwQC9Xk9NCySRan5+Pubn5zE+Po7PPvuM3vrKz8+nyUvJNVRSVyT7QaITDwwMUOmLGYGX3QYu6dDvX3WCn56ehlarRX5+fkgG8k7BZNh8Ph+USiUaGxtx4cIFVFZWIiEhISJmF/Z+J4zg4cOHw17X3cLv92NmZgYjIyM4cOBAgM9cJOvkYioqKytRVVWFDz/8ENXV1RAKhVQbyWaEuLSwDocDXV1dyMrKQmlpaZDwEKl+cNEZg8GAW7duoaOjA1qtFiqVCvfddx82b94cEJCU+VumPxFXH+MFFosF09PTmJqawuzsLCwWC43dlZeXh+zsbGRmZkIoFILP5yM/Px/PP/88WlpacO7cObS1taG/vx+tra0oLi4OCvB5N+A6S8j4azSaILP/7coic6RUKpGZmYmZmRnYbLagm3+RAClXo9FApVJhfHwcZWVlAbfWoo0NMUdkkF0uF2ZmZpCUlEQPLABBiz3SBxe5FSMUCtHS0hKxuiIBIj1NTk6ir68Pw8PDkMvlaGxsRE1NDc2ZRJ4F1jYtxQtjRMDVHp/PB4PBgBs3bqC7u5umvCAHOrm1UFRUhNLSUtTW1mJqagoXL15EX18fKioqUFZWFhCNOlLrjDmuXq8Xc3NzG771xWyXQCCAyWTC/Pw88vLyQppP7hRcjFZjYyM6OjowOjqKTZs23XHZt6uTSzMYys8iFkw8aZfb7UZ7eztyc3NRV1cXlbZwadP9/lUn2AcffBA/+tGP0NbWhkceeQQCgYDeOgs1dmRcu7u7MT09jaeeegoZGRkRF0rZTD8AmM1m3Lx5E1euXMH8/DzS0tLwta99DbW1tUGXLELlqIwHrSITTC3RwMAAzp8/j0uXLsHpdEKpVEKhUMDv98NsNsPtdiMtLQ1NTU3YvXs3cnJy4PV6IRQKUVVVhfz8fPT29uLcuXP47W9/i+bmZjQ3N9OAxHcbNoLN9JDgmCTmHIAAgZqJUFpvHo+HhIQEpKSkwGAwBDBHkRYigNXYeRqNBjMzM3A4HF8d5ogcYsvLy9DpdCgpKQmyC0ZDc0QmfHh4GD09PXjqqaeQkpISV9oTLjAX48LCAnp7e9Hb2wulUommpiaUlZVBrVbfsWYkHvtP1oPP58Pc3Bw++eQT9PT0wGaz0WzizEzzCwsLmJubQ39/P7Zu3YrW1lbY7Xb09fXhzJkzuHnzJrZu3Yri4mIaO4mr33fLcHBpRJhl32m5kfA9YJdD2q5UKlFRUYHu7m6Ul5dT36NIY3x8HJOTk6isrAyImULaFk0w18H4+DiGhobw3HPPQS6Xx0xbQTQ/MzMzqKmpweXLlwEADz74II1FRpgK0kY+nw+xWAyPx4Ouri6cO3cO27dvR2trKw1eGMn+MDU/DocDQ0NDuHz5MsbHx5GdnY2HHnoIFRUVVFhmjvt6kndzadiiDUKnLBYLTp48id///veQy+XYtm0b8vPzoVarIZPJ4Pf7YbFYoNVqMTAwgN/97nfo7u7Giy++iJKSElqWTCZDc3Mz8vLy6E3dyclJHDx4EFlZWWE1q5H3JGTB7cZ8LXcApgnaZrNFzSJEytdoNOjr64PNZotppP8NXeUn/+fn5+Hz+ZCTkxPWoGmh6uWSWlwuF06dOoXS0lJUV1fHJWPABFN6HRgYwMWLF2GxWFBXV4f6+noq/REwtUFrLfBYE5TbgRBVnU6Ho0ePoru7mxJ6Yp5imgNILCYSdd1ms+Hw4cM4cOAAbt26ha6uLhw/fhylpaVoamoKiMIc7rFgSr53GouJPUfEv+xOyrpdW7mwdetWvPvuu5ifn4/I9Vhm/4jGaGJiAkePHsXLL7+M7OzssNV1pyBtPH/+PNRqNT3Aor1fmOvgiy++QFdXF1566SXcunULv/71r2E2m9HY2BjkX8jn8+F2uzE7O4sLFy5gdHQUDQ0NOHz4ML1uHUkwGSOtVovz58+jr68PKpUKjz/+OEpKSmiwXXZfye9vJ7yE08S8XnDtTZfLhRMnTuDdd99FRUUF7rvvPjrGzL1LgttWVFSgtrYW7777Lv793/8df/u3f4vy8vKAejQaDR566CHk5OTg+PHjePPNN/H000+jpKQkbAwS6YPX64XL5dqQSY1tfSD/vV4vvF7vHbdtoyBt0Gg0AIC5uTlkZmbG/201MtB2ux1zc3NITU2FWq3mNOmEc3GHUgn29fVhdnYWL7/8MsRicVwzCYS4GI1GXLp0Cd3d3cjJycGBAweg0WgC2r+RtseCoGwEZGN6vV6cOHECnZ2dAVf1Q5negC+vLV+5cgVpaWl44IEHUFlZiaysLPT396OjowOzs7NobW1FRUUFZbbCfW2WrG92oEy2NEVMB8z37D7y+XzOEBPhBnPcMzIykJSUhJGREcochcOMR8DF0PP5fJqOIRZgjy2Px8PMzAyGhobw9NNPU43jeg+PcIEcWOPj4zh58iRaW1vR0NCA2tpaJCUl4f3338fbb7+NrKwsaDQaZGdnQyAQYGFhAVqtFgsLC0hKSsLhw4fR2tqKjIwM2g/m/7sBm2FgaouuX7+O06dPw+v1Yu/evaiqqkJ2dnbAzc31tiEe6BXXudXZ2YmPPvoIW7duxX333QeRSASXyxXAQDDXDJ/PR3V1NV588UW89tpreOWVV/DP//zPVING6pBIJNi2bRuysrLwf//3fzhy5AieffZZlJWVcSoA7mR8hEIhEhMTYTAYsLKyctv9F0obRC4GLS8vw2QycZ7xkURKSgoSExMxMTGBurq6+GeOyIKwWq0wGAyorq6OiT2Qx1sNN3/hwgVu5fmTAAAgAElEQVTU1dUFqO1jpSYn4DoYya2Mubk5fPbZZ5ifn8fOnTtRV1eHpKQkzvxCX2VwzcX4+Dja29tDmnW45o25ac+fP4/GxkaaPbqpqQm5ublob2/HsWPHoNfr0dTUFHCTLBz9IO0SiUQoLi7G0NBQAGPBfM1mlNjrwO12IzU1lUZt52KewgW2mr28vBwjIyNwOp0BQTwjhaWlJQCBYxiN9R1KQ8Hn83H27FkolUqat2k9pp5wtYe5vm02Gw070traSoO07t27F5WVlbh58yY6Ojpw8+ZNeglALpcjOzsb+/btw/bt26FWqwMOvkisI6JJ4fP5MBqNOHbsGDo7O1FRUYF9+/bRwJkAd3DFeEYoa8TS0hI+//xzpKSkoLW1ld5GY5ss2X11uVzIzc3Fyy+/jH/6p3/CBx98gL/4i78IqIuMUWFhIV544QW88cYbOHLkCL75zW+iuLg4SLjaCJhrLC8vD3a7HTqdDqmpqUH9Zr/nEiSMRiO0Wi1kMhmmpqZQXl5OI8hHCkyGnOSn1Gq1nFHQo4UN31ZjOqJFG2RyJyYmoNPp8NBDDwUFs4olmIcSYYwEAgGmp6fR1tYGt9uNJ554gt5aAOIjMGU4wWYOAODkyZNwOBxQKBTrivHD9LcQiUTQ6/W4fPkyHn/8cfB4q1Fs8/LyoFar0d7ejlOnTmF5eRn3338/EhMTaRl3ux6YQS1rampw9uxZzhuDTMLG7jv5zuVyobq6GklJSQG3ksgz7DEIB0gdJSUl6OnpwezsLAoLC8NaBxCsbZiZmYHfv3pDL5p7MhRjajQacfXqVRw6dAgSiSTgGnkk6QazPWTdd3d3Y3x8HI899lhA2gkej4esrCxkZWVh586dcLvdNIigQCCAUCiEWCyGUCjkPNDC2WbgyzQYc3NzeOuttzA7O4tHHnkEzc3NNLF0ODVW0UKo+ebxeBgZGcGNGzdosnKPx8PJbHNpnGw2G4qLi9HS0oKzZ8/i0UcfhVqtDhKYiDb3W9/6Ft544w289957eOGFF5CWlhYkJG90bfJ4PJSXlyMjIwNdXV0oLy+nDuJsoY7JtBGaRvJvdnd3IzU1FQ0NDfSGHrmRHmmQdmk0GkxMTMSUOVr3yez3r2Yu1mq1kMvlIU1qkQJzcru6ulBYWIjc3NygwYuV9ohdL4mHMT09jd/85jfg8Xj4sz/7M5o9+6tEUDYCNnNgsVgwMDBADyUmuJgM9nekvMHBwYCbPHw+H3K5HPfffz8effRRdHZ2oq2tDXa7PUBjcadgz09ubi6qq6uD8mCR50IxfeTwI8ktbTZbUKqKSB7OJAhlcnIybt26FZH6SJ/Jun7mmWfwve99D9nZ2TGhEaRNBFevXoXf70dzczP8fj/n/EUDS0tLuHz5MkpLSwP8UsiaJtfBJRIJlEolkpOTkZqaShOvkvFlXgdnHnZ3C1IOYR4HBgbws5/9DGazGX/913+Nffv2BUTj/6qCKbiQ/tpsNgwODiIxMRHFxcUhn2fHZAK+dDq32Ww0cnZ3d3eQRhn4MpNAdnY2/vzP/xwmkwmnT5+mCXGZWM/aZGt/0tPTce+996K3txd9fX1ITEyEy+UKoKfM54lmzO12Qy6XY2xsDJ999hmam5vR0NCApaUlalqLxtlK2pWbmwu73U7zV8YCG2aO5ufnkZ6ezpnmIRJglz89PY25uTmaIoQtrccD00EI8PT0NH73u98hOTkZTz31FL2hwL6iH6qMWJsJ7wRsRmdmZgZ6vT4ogi+XloX5O+ahKhAIsLy8DIfDQQ825veNjY147rnnMD4+jjfeeAN2uz1s64DUo1KpcODAAWRlZdEs6uw1x2Z4yJ/D4cDBgwfh8/lw/fr1oP5Get2KxWLk5eVhfn4+bMwjG8x5zM7OxpYtW6hzfbTAxSy43W5cvXoVu3btCjApRqtdzPb09vZiaWkJ27Ztg1KpDPBjI+0hNzjZTDfxV1trv9xNn5gMgMfjQUdHB/7t3/4NJSUl+OEPf4jCwkIq3KylMYp3msVm1sl7k8mE0dFRpKWlITExkfMKPNd7IoAIhUI4HA6kpaVBrVZjcnIy6Hdkn5Pf5OXl4cCBA+jp6UF3dzcnXVhPf9jv77//fuzZswdvvPEGent7qfsGu3zmflEqlRgfH8err76K+vp6PPLII8jIyACfz4fBYIg4jWILNnK5HB6P56vBHPF4q74+JpMpIGNutAaMvB8dHYVMJkNRURHl2OMBbKZgeXkZH3zwAWQyGQ4dOoT09PSA57h+wy4vHhi9uwGRhrkYGoJQBIDJOAmFQlgsFiwvLwcQDeYBUllZiWeeeQZ6vR4ffPABrFZrWDKVM33CCgsL8dBDDyElJYUzHg2zf0Qi9fl82LlzJw4dOoSioiJcu3YNbrc7oI+RPKx5vFUzpEajgcvlgsFgoJ9Hoi6/fzUGjMViCboxE22GhJhKlpaWsHXr1qBnotEmv99PQ1T09vaiqqoKhYWFnOuY+VkoEy3zefJ6LWZlo7Barfj000/x1ltvYceOHfjOd76DlJSUgLkk5j4AQZr7rxLNYo4tuZmVkpISYIZaa47Ie8LskOfkcjkWFhYCnmHPN/E1q6urQ0FBAa5cuYKlpaUABnS9Y8l+TiKR4K/+6q9wzz334LXXXsPnn3+OlZUVSosJo00EPCJAvPLKK9i0aRP+/u//HmlpaUhOToZUKoVWq4XD4YjoXmELziqVCkqlElqtNmJ13g4b8jnS6XQQCARIT0+PivTFrsNut2NmZoZmbyb2+HiTVmw2G9ra2uB0OvH444/T/E1cGqPbEemvErEBguNlMHMuMYnEepgkJuEhfhdsMBmk0tJSPPXUU/jNb34DiUSCgwcPQiqV3rHUw26TUChEc3MzlEolTp48iYmJCbhcrgBGiWgGRSIR0tPT0dzcjHvuuQcymQy7du3C66+/jsnJSXqdnN2PcIOMn0wmg0AgwNLSEr0qGwl4vV58/PHHEAqFePjhh+nNMNKWSINtMujp6UFmZiZycnI4rzdHWrgjTPLw8DCsViv2798f4NzKXptcDBDXYcyuh+BO17nP54PNZsOJEydw6dIlHDx4EPv374dEIoHL5YLJZILdbgewSscUCgVUKhWtmyu5cTwiFC1gCtq3E2BDjTEpg6Ry4dIqszXjSUlJaGlpwYcffojR0dGAeH13Q7dUKhV+8IMfQK1W4/Tp02hvb0ddXR2ysrJo2AWj0YjZ2VkMDw9jcXERu3fvxosvvoiMjAxqjk9NTYXZbIbL5QrYy5EC6a9UKoVMJqPCXCywodtq8/PzUCgUIXOpRQJMYkbsn1VVVTTwGbsdsTStkXZeunQJo6OjeP7555GbmxtSXUqy1K+srNDronK5HImJiVCr1QHJZb8qYLdVoVBALBYH+BuxiQ+XeQ340sbv8XiQkpJC441wjQdZC+Xl5Xj88cfR1taGjIwMtLS0UAb6bsaR/FYoFKK+vh7Z2dkYGBjAyMgI5ubmAg5kpVKJoqIiVFdXIy8vj84jCSQ3NDREY5yE6k84wOyzVCpFYmIiFhcXqbNtpHDx4kWkpKTg4YcfjuraZUr7hPhPT0+jsbExQHsZ6XFnw2w2o7u7G/n5+fS2YqhDN9TBfbv1u9G+MMvz+/1wOp1ob2/HtWvX8MADD2Dfvn2wWCy4du0aRkZGcOvWLdhsNspsp6amoqysDCUlJTTAaLTH9U4Q6qwgmhyLxRKUVHq9tINoYXQ6HU1lxayTi0ECgJKSEuTm5qKzsxOVlZU08OFGx5FZj8/nQ0pKCr773e+isbERV69exfj4OAYGBig98ng8kMlkyMvLwzPPPIOdO3fSG79kPFQqFaanp+HxeKiQGg3weDykpqZibm4uKvVxYd3MEVENazSaiAd+ZIMQB51OBz6fH5X4ShsFM4bJ+fPnceDAAVRWVga0i6heXS4X+vr60NfXh8nJSdhsNhoVVyaTQalUorCwEPX19SgqKgog7PEONtFNT09HTk4OpqamAvJ7MTVJ5Fkm2OapgoICGk2byeyw6/P5fNi8eTMWFhZw+fJlaDQaFBUV3VFf2GuMWY9arUZrays2b94Mo9EYMMcymQxJSUkBiSZJu8vLyzE5OQmHw0FD/EcKzLZLpVKkpqZCp9PBZrPRFAbhAFsaFolEyM7OjoqkyQT78NFqtXC5XEHJM6PNsE1NTUGv12P37t1Bmsz1msTCyRgx2wasavtI1O2mpibs2rUL/f39eP/99zE4OIiEhARkZmbSNW232zE7O4uuri5IJBK0trbiwQcfDApkG0tBdS2waRCwmrYiPT0dvb29sFqtQTdr2b8na51Jv8RiMTVBrUVz2OXJZDLU1tbio48+gk6nQ1JS0l0zmuR3fD4fzc3N2LZtG+bm5qDVarGyskLrTUtLQ1ZWFr2BSH5D6lcqlVR4j9ZckvEljFqssG7myO12w2KxIC0tLeoNJgekXq+HSqWi17XjBWQynU4nTp06hdzcXDQ1NXE69ZlMJnz22Wfo6OiAyWSi2hFSjtFoxNzcHEZHR3H9+nXs3LkTBw4c+EoQHSBYEyQWi9HS0oLR0VF6MLCfZYJ5JR4AZSqampqCstlzMVSkzKamJhpRmDhZkt/c7dgxf5+YmEg1qVzfs+sqLCzEjRs3oNfrA4IyRnI+CcOSnJyMyclJWCwWyOVyzvbdafnMOSE+VWxEY90y18StW7eQlJREzT/RNvv4fD44HA50dnYiOTk5ahnOQ4HNxJL3Y2NjOHXqFCorK7Fnzx60t7fjrbfegtPpxN69e1FUVASVSkUvVfj9fjgcDuj1evT19eHDDz/EyMgIXnjhBZSVlcUtbQoFHo8HmUyG8vJynD9/HhMTEzQeFhDILDDB/Mzn80EqlaKrqwtCoRDV1dUbqr+oqAgJCQkYHR1FUVHRXd8IZJtthUIhcnJykJOTw6nBCrU3VSoV9ceKJnMErMaXIzHTYoF1j77NZoPD4UBycnJMFv/KygqWlpagUqkiLnHfKYaGhjA7O4u9e/cGRSf1+1cdVT/88EOcOXMGFosFAAKc5IijHNGM6HQ6vP/++/j973/PqYaPVzClFp/Ph6amJhQXF8PhcAQwgmzpiKlNYjKcdXV1AQ74XFpDJiEDViWe5uZmLC4uYnh4OKht4ehjqL+1xiQrKwtCoRCzs7MB/YzGvBI/PYvFsmZb7wRM5igjIwMqlYpTsxut9Uu0G3l5eTGJ1E3m1WKxYHR0FNXV1WFlSO8E7Hp9Ph90Oh3+8Ic/QCKR4J577sHAwABee+01JCcn4/vf/z6ampqgVqupkzLRpiQkJNAo/9/85jcxOjqKN998E4uLi0E3o+INTOaQaVYrLy9HdnY2uru7qaaEa81yjWNCQgIWFhZw4cIF7NixA5mZmesaA1JWUlISMjMzMTU1RU1Y4VgnbHrJZpq4NJjMdhNtPQk1EM151Wg01M8tFlg3czQ3NweJREKlsGgSOmCVOXM6nUhNTaUOb/EAcsA5nU5cu3YNxcXFNKQ+c2E6nU58+umnaG9vp+NHruyyzUtMpkEkEuGjjz7CyZMnA777qoDH4yE5ORlPP/00xGIxXC5XgN2a7Y9FfiMUCuFyuZCamooDBw5ApVJxls18zdY45ebmIi8vD4ODgzSBIrvOuwFbEmcTG2abeLzVIGtSqRQpKSmYnZ2NGsNL6pHL5RCLxdR3JJz1EkZYIBDg+9//Ph599FHO8Y6G5sjv92Nubg5GoxEFBQUxieRP+nzz5k14PB5UV1fHDc0CQPOIXb16FVqtFvv27QOfz8eRI0egVCrxzW9+E1KpFB6PJ4gmESaJlFFYWIjnnnsOAwMDOHr0KD1I46m/XGAKcTweD7m5uThw4AAmJiZw5coVJCQk0H5y9YVYNBISEiASifDqq69CoVDgmWeeoVq29Y4Bn8+HSqXC3NwcDdx4N2BrtbiYIa4/tpsCj7eagNZoNEaUTrHLJlaHr0QQSLPZTJ06Y7HoLRYLnE4nFApFUBC9WDMMPN5q7qbFxUVs2bKFU2s0ODiIa9eu0c3GZDCZhwh7sXq9XigUCrS1tWF6ejrqTOlGwWZQCCGtqKjAc889B4lEApvNRuO5sFXH5L3FYkFiYiKef/55lJWVAeC2/TPB3PgikQgymQylpaVYXFzE9PR02JjLUP4AoT5nvufz+cjKyoLJZILL5aLfR2NPSaVSSCSSgLrvFszxJNpPkhuJLZVGGsz9Mz8/D5FIFHD7J9rg8Xi4cuUKSktLAxLwxnL/MsfBYDCgo6MD27dvR0NDA06fPo2pqSk8+eSTQabSUIy8QCCAx+NBQUEB9uzZg4sXL6K/vz9AyxRP4BLGCAQCAfbs2YN7770X7733Hk6fPo3ExERIpVK43W6q0SFMEbBqdrJarfjpT3+KsbEx/Mu//AvS09M3HEbE7/cjNzcXbrebmrDudp0QeselPWKfPQRsgTMpKQkymSzicxnK1BdLrJs9vXXrFhITE4Ok5UiDTKDb7abZ3NmIpYRCJnFqaoo69RHzD8HKygpu3LiB5eXlgMSjXGYVrsUqEAhgtVpx+fJl5OTkBPwu3sDsC1NlzefzsXPnTqjVarz77rsYGxujGiKRSERD9TudTgiFQmzevBmHDh2ieYeYfV1vglkej4fMzEzIZDJotVqUlpaGxe9kLaaI3Va2FEauQRP1eah8c+EEaZ9YLIZMJqOpKcJRLtccOJ1OGs4gmuuUufaMRiNSUlJodvto7hXS55WVFWi1Wmzfvh3A+tdtpNvl9Xrhdrtx9uxZuFwu6qzb3t6O7du3IzMzE06nEyKRKOQ6YfrhENNLXV0durq6cOXKFWzatOmutR+RBo/HCwpBIJFI8MILL8DtduP999/HjRs3cPjwYRrtncmAkxt+b7/9NgQCAd544w2Ul5fToJDrBdMviCkw3u3eYSsQ2LSZi6aynyWBR6N11q8lWEYbG7qtRmzmzMGLZOOZC3FlZQUCgYC2IV5ApAiDwYCMjAzOG1nLy8uYnJykV6j9fn9AfCY2M8EcVx6PB4/HA4FAgLGxMdhstrgbAzaYa4PN7FVXV+Nv/uZvcOPGDfT09MBkMmFpaQkJCQlITExESkoKGhoaUFdXR9WqXAzGerQ0RPLJzMzEwsICrFYrlEpl2NfuesohdQoEAqSkpMBut1On7EjHiGHWLRQKacwasVgcduLr8Xjwy1/+EoWFhXjssceizpQAq4EMdTod9U+MdhuItN7f308DlDIPmFhqskjbzGYzrl+/jqamJuTk5OCLL76A2WzG7t27g+LHce1jtubb7/cjMTERRUVFmJychF6v5wx8G08gY0Fek3bK5XL84Ac/QFVVFd58803867/+K3JyclBSUoL09HTY7XZotVrcunULKysraGlpwcsvv4ysrKw7Nokxx5EgXHvzdp8zx4H5GbAaPsdut69Jc8MFsp7C5W91t1j3LBoMBqoajpa6nElM/P7VRJYkJUE8DB5ZLCRyeH5+flBsIp/PB5PJBL1eH5ATiUhk6+WWSQC/paWluGeOgOA1wiSkKpUKO3fuRHNzM3w+H+bm5qBQKAJSKpCxZW5aLo3M7dqQkJCAjIwMDAwMYGVlBUqlct2/vxOsVS4hMAqFAkKhMCgdQyTB4/EgFouhVCphMpkipibn8/kYGhqKutaIwO9fvfG5srKCioqKqCXMJHUz1/nAwAAyMzNpfC4g9owCOby7u7sBAE1NTeDxVt0CBAIBUlNTAw7ptcwbbBMV+f3g4CAMBgNljuIJoWgIm07xeDx87Wtfw5YtW3D9+nVcvXoVMzMz0Gq14PF4kEqluOeee9DS0oKamhoqyN0JY0TqZprtwo211h3X+cMU3BUKBZKSkqKm9dwonY8U1j2TdrsdaWlpAZ9Fg/gxFwpZOLFijkLV63A44PF4kJycHHC4Ey2H2+2G0+kMUsuupx/M/rtcLhiNRuTn54e3Y1ECW9NAbsDk5uZyaiHCVadcLofL5YLVao354QSA9jvac0nG1el0wu12h3UsmIKMRCLhzKUXLWHKYrHA7XZH3T+Suac9Hg/6+/uxdetWqoUJl7nkTkHa4PF4cOnSJVRWVlKB1+PxIDExkcaWYc7nekE0tSSRK/nsqwYyj16vF2q1Gvfddx/279+PlZUVav4Xi8XUSkD6yE5KuxEaz+Ot+smRBMPxoj0h/k/hCKS7HqxldYg2NpRbja16i5Yd0u12w2w2x9xmH2rCyNgQpoerfezP7mTiyVV/tvr1q4ZQxJepLQqnnTshIYE6jsYDxGIxxGIxDfwZDZA1I5PJ4Pev3q4MR5lc7wnzxcSdHLZ32h6r1QqBQBAUVysaIPUtLy9jaWmJXiZgfh/LQ4/P50On02F2dhb19fW0TeRAZmOjzJHL5frKpBJZC4QhYM6VTCajcfbY4WTY9Goj1hVyruj1eqSlpUEoFMaUOWLOOTsWXzRAxnJhYSGmYXs21GOmqi1aRIfH41FJJJpmiLXas57vmBywWCwOygh+J0SShFK4XTu+SiA3nJgMJhfDdDdgauvCVebdtgdATNpEnD7DsX7Yc0Xeb9q0iWrE2P2K5Lol9dtsNkgkkpgwRwQ6nQ4AaNC9eJCECd0ZHR1FQkICCgoK6OdKpRIWiwVmszmkKXstEFeBpaUliMVienkn1n2+G5B5CxUriPkdwUb7S8bIZDJBp9PRDBSxXC9MmmQymQI0ipEG0/fKbDbH1DS7IeaIa6NEY8DEYjHNlhyvAcbIDRBm+8gCVyqVAZmtyXfr1Y6QcpKTk5GcnBzRfkQDazFAkZCsudTd8YZo+sVEskyBQICnnnoKra2tMdHauFwumM1myGSygASvka6XjYWFBZoKiIl4WHtDQ0NQq9VQKpW07VlZWQBAs6BvREAh+8vlcmFubg5ZWVkhUzx9FRBKI7oebdBG+0vKvnXrFqxWK0pKSiAUCmOqeSNt8ng8MJvNSE5OvuvLG3eKmGpZY1bzBkCuBcfDRmNqz0h75HI5pFIplpeXg4Km+f1+pKSk0AjPhEEir28Hot51u92orq6m+ariYSzCBaakwuUceKcg8+ByuaivQKzHLdZtiISmis3sZmRkICkpKep99ftXb7o4nU6IxeKo0QyuNTs3N4f09PQAiTte1t7U1BQKCwsD/EgKCwtpdGi2xud27SYBbxcWFmjIjHhL8bQRMLX75D3zO4K73UNs/zS1Wk3Tc8WaTgCr5mmDwQClUhmVkCMEZPx1Oh1SU1OjVi8bd2RWYyIaDlpM9WasbdlsJzseb/XmgkqlgsFgoPGYmM9JpVLU1dUhLS0tyKn8dgwSj7ea6TktLQ1NTU0x9bkKB9aSSMPdL7JuzGYzhEIhFApFXKj6ySEe7SB5d2PSXatM5n8AGB0dRV9fHw00Gc3xtlqtMJlMSEpKopH0o62V8/tXc4/FizmNC0wzP7AazPD++++HVqtFZ2cnEhMTqUBxOxCadurUKaSnp6OpqSmg7K8SuEzeoZ5Z7+e3w+zsLMbHx1FVVQWVShXzMw740qTmdDqRlZUV1RQ8ZNzJuRcrrHsWYmWOIAuOBEIkGYVjCSbBI+OSlpYGvV4f4OjKZOoqKyuxffv2DTEH5LfLy8t4/PHH4z5uyHrANiuGE8w5If+dTif0ej0SEhKoM3IsDiymLd1iscButwclrI0GwunnFMr88MEHH+C1116jN5bW+k24QZyBZTJZQJqaSIOsKyK8TE5OQq1Wc/Y31swSYc6Z4PF42LdvH7Zt24Zf/epXmJmZQVJSEuclBtJPknNLpVLhs88+w/DwMB5++GHk5eV9ZYW49bo5cNGvtX67FkPV29sLn8+HsrIyGnQx1tHFeTwedDod3G43lEplVK/xE+d0g8GAlJSUiNcZChu6rUb+R0I1vxZ8Ph+NdBvLRHRMsBdKfn4+7HY7pqamAg5C4Mtx2r9/P3bu3BkgkbHVtGxVrsViwTPPPIOWlpaA2EixJrDxDOb6NJvNWFhYQFpaGr3aHQtGn7lv+Hw+JBJJkD9KtBAuMw/792RcyW08rpgvkRx3si9IvJhogm2K8fv9KC0t5dzn8cA0kJhb7L3w/e9/H/feey9+9KMf0fxixPxG/ojWUygUQiKR4J133sHZs2fxwgsv4MCBAzF3KI43cAkRhLEcHh7GtWvXUFdXF5Bihhl0MRZwuVyYnJyESqVCcnIyvQwVSTDXo9lshsfjQWZmZsTrDYUNRaziskNH66AhkW7DcQU5nCB9z8jIQGZmJrq7u1FRUYGEhAS6wMl/uVyOp556CgqFAl988QUsFktA7BMCQtjVajWeeOIJ3H///XHjtxCvYK9DstHm5+dhNpuxbds2KpVxPR+tNnq9XszPz8PtdkfVj455WEVCY8dk/ghxW1xcDAhYGukx5/FWI+nbbLaoR8ZmtoH8j0Um8/VALpdjamoqiEHy+XxQKpX48Y9/DJFIhCNHjuCLL77Arl27oNFoKE3zeDxYWVnBzZs3cebMGfj9fnz729/G4cOHg1wO/oRVsJljv98Pq9WKCxcuQCqVYsuWLZQexNLniKwHk8mE+fl5pKen06wCkRZsmAKGTqejQWtjhXUzR2KxGHq9PuJ+Ilzw+/30OqHJZILH4wk46GINv381oGFdXR3a2towNTVFc+wQAkTaShik6upqdHZ2YmJiAjabjdrtRSIRkpOTUVBQgObmZmg0GurEHesgcvEMtkbI7/djZWUFg4ODSElJQW5ubtDz0QaRuK1WK40IHi2ml21KCbdDNhPZ2dm4ceMGnE7nunw4wtkOr9cLiUQCuVwe9X3CXHuxNotwgdCjsrIyXLt2DS6XK8DRls/n00TXP/nJT3Ds2DH84Q9/wLFjxyASiWg6FpPJRAW70tJSPPnkk2hsbIw7JjBewLa0EO1mT08PxsfH8dBDDwWEfIgH6HQ6mEwmbNmyhcYaiuR+Ygu2Wq0WarWaWoxigXUzR8nJybBarZFsS4q60IkAACAASURBVEjweKtRjhMTE2EwGOB0OsMWqyUcIAdzaWkp8vPz8fnnnyMnJ4f6uADBnHF1dTWqqqowNzcHs9lMnyGZxFUqVUB+I6764qX/8QAufyOtVovp6Wns2bOHxoci38VKq+Dz+aDX66FUKjmTKEe6fpvNRoWLSJQPAJs3b4ZEIqHXuaOJUGb/WDBJRHMUL/uUtKOsrAynTp2CVqtFQUFBwH4gNEcoFOLQoUNobW3F8PAwxsfHsby8DKfTiZKSEqSlpaGsrAxlZWXU8Z1N6/6EVTAFBK/XC79/NbXM6dOnsWnTJtTU1AQxB7EcP4/Hg6mpKYhEImg0GgDRW8OERi4uLiIrKyum47AhzZHD4QAQ3ckjxC4hIQEpKSmYnJyEzWaLKUcZChKJBHv37sUbb7yBs2fP4sCBAwC484MRbVB2djays7NDahCYtudYEft4B9vJ2u9fDQR46dIlpKamoqysLOCZWI0dn8+Hy+XC4uIiNm3aFPWos8DqDRCpVBqU+uBuwSyrqKgIhYWFQVrTaCAWvj3stUWEnJmZmajUv14w50cikeDGjRsoKChY07FYrVZDrVajpaUFXq8XXq83yPzD/h2XL9P/z2AKxTzeah67trY2pKSk4L777qMXM2LBYHK5IxiNRoyNjUGj0SAjIyPq82ixWGAymVBbWxvTm3vrrjk1NRUWiwVAcFyTSINMIGmD2WyOu41H2qPRaLB3716cP38e3d3dlBNmg+39z/bZ4Co7ntSu8QY2UWlvb4dWq0VTUxMUCkXMx40QR4PBAKvVSiWyaB4iPp+PCjjhJjrstUzKZ/ctknSDaxyjuWeYez0jIwPLy8ucz8XS/ER8H2tra9HZ2UnTQzDbFKp9xAGbix5xXSb5E74EcZtYWFjAkSNH4Pf78eijj3JeVY/2miUgc7iwsAC9Xo+ysrKA9B3RMP2T+t1uN7Kysr4azFFKSgocDgeN3wFEfpOzN1tGRgYEAgEWFhZosMVotGO9IL4GjY2NqK+vx8cff4yxsTFOZpLti8H8I1jP6z8hmJjcuHEDZ8+exc6dO1FcXBxTjRv70JiamoJYLKYRiaO1+f3+1RyFNpsNUqk04JALZx0AoNfr0dbWhsHBwYD+R5oRZErn7Kjo0YZMJoPNZgvSasYSzH2yY8cO6PV6dHV1AQgMNUGe5fod8z2bSfr/mUZxmfXJH/H1mp2dxS9/+UvYbDY8//zzyM3NDQgKDMRu3EhbbTYbOjs7kZSUFJAXMBqMEcH09DQUCkWAK0QssG7KnJ2dDbvdTrVH0QB7s6WmpiI9PR0TExNwOBxUSmNzv7ECIcoJCQl4+OGHkZubiw8//BBzc3Pw+/3U3sxlBmLiTyrptcEl6ZKrphMTE3j77bexdetWtLS0RDXWDRfYRO/mzZtIT0+nASmjBb9/NVK40+mERCIJu88Rsy+EOers7IzqOiZtsFqtsFqtUTPvcJWflZUFg8HAGUgxlnubaLc0Gg2qq6tx6dIlGAyGNbVu8cDYxTvYZlUgkFmfnJykjNH3vvc9FBYWBjHxsQKTITaZTBgcHER5eXnAhZFIg6w/j8cDrVaL9PR0avqPFdY9MwqFAgKBAAaDISYN9vl8EAgEyM3Nxfz8PM28zT4oY8l5Mxe7QqHAI488Arfbjffeew86nS7ITn87M9qfiFJosMdMIBBgYmICv/71r5GZmYlHHnkkqlFdmWBrS8hrs9mMW7duobKyMsgkEWnweKthMBwOR0TSATAPhYyMDKSlpVHNCdczkQLxp7LZbFE5eEL1JzMzExaLBUtLSyHXQ6zA461ecPna174Go9GIS5cuBWmB4k0r/1UCeyyvX7+O//iP/4Df78ff/d3fITMzk2qTYgW2Ntfn88Hr9eLy5cvg8XjYvHkzfTYa+5Zo2BYXF6HT6VBcXBwz+k2w7tmRSqVISkrC3Nxc1FSAbDUvj8ejgdX6+/upJiYetCzMBUQWm1qtxte//nW43W789re/xcTEBIAv7c/A2pFT46Ff8QYu9bXX68XIyAj+93//Fzk5Ofje974HkUgUkOg32uDaI729veDz+SgpKYmJKn1lZQUOhyNs+fnYc0GIPQmz4XQ64fV6o2puIdf4o+UMztZaE19CjUYDoVCI6enpgO9jvadJG7xeL7KysrBjxw5cuHABPT09lJ6SffMnxmj9YM4tYTQcDgdOnz6N119/HaWlpfiHf/gHpKenw+/3QyAQxDTcA5sB5vP5MBqNOHfuHJqampCWlkaF/Whqj+bm5gAA6enpEAgEXw2fI2LW0ul0EYuXwlUnqYMcJqmpqSgpKUF/f3+A/1M8gSkVZGdn4+mnn4ZEIkFbWxv6+/vhcrkogxSq/fHYr1iCSztIkox2dnbivffeQ25uLp5//nmqUYxFCgP2nJL3brcb7e3tqKysRHJycoBPQrSIj81mA4/Ho0lB77beUMwdn8+HQqHA8vIyLBZLVLUQhFkmUbKjecCTA8fn8yE5ORlqtRqTk5Mx9ychYI6FQCCARCLBjh07oNFo8OGHH2JiYoKaAdm+MH/C2iBzT270zc/P491330VbWxt27tyJb3zjG0hMTKSMEWE8Ym1iZbb76NGjkEql2LVrF6dPWaRAaKDX68XU1BSSkpJiGvyRYN3MEZ/PR1ZWFlZWVmC326O24ZkTSP5qa2thNBoxMTERVxIOaQvzpo7f70dubi4ee+wxZGRk4NixY2hvb4fJZKLEO5QEES/9igcwGWWykQwGAy5evIgzZ86gvLwcTz75JORyeUCaFeZvY9FO0oaxsTEsLCygubk5SBvKbGskQMbLYrFAIpFQIh2pukQiER577DE88cQTAUQuGns1ISEBCQkJMBqNMUl8S8Dn85Gfn4+xsTGatZ60JdYHIvO1Wq3Gww8/jISEBHz++ef0sks80dV4B5Mm2e12dHd34ze/+Q2GhobwxBNP4NChQ0hMTAwIChxrMJ3FeTweBgcH0dHRgQMHDlDhjf18pEDo4PLyMubm5pCTk0MFuFhiQ5qjzMxMOJ1O6HS6qE0w1wGXk5OD4uJinDlzJm7Siay1mPx+PzIyMvDQQw9h69at6OzsxPHjxzE2NhZAwNkS9p+kti/BZCLdbjfGxsZw4sQJdHd3Y/Pmzdi/fz/dUEQii4XWiEsT5PF4cO7cOZSUlCAvLw8At1Y0ku1yOBxYWlqCQqGAXC6PWH08Hg8CgQC1tbWoqqoKcoiP9JyIxWLI5XI4nU56yMdiH/F4PGzZsgVarRY6nQ5A7IUd9jiQPZWXl4eDBw9icXERbW1tGBsbCxAw/kSHuMHc6z6fD+Pj4/j4449x9OhRyOVyPPvss9i5cye9Ds9WKER7PbC11WRujUYj3n//fVRUVKCpqYnzt9FwoZmenobVakVeXl7UA+RyQfDTn/70p+t92O/3Y3x8HAkJCcjJyQEQHc0R+zWfz4dKpcLZs2eRkZGBrKysmPqXMNvG9Z+8TkhIQF5eHlJTUzE2Nobu7m5YLBYkJiYGccps5+1w4U4Zr1gRSTYBWV5eRkdHB9rb2yEUCrF79240NDTQHF7ROAy5TGcEJD2IXq+H0WiE2+3G7OwsvvjiCzz00ENIT08PcsaMdHt9Ph8sFgsGBgaQk5ODvLy8iGt+bTYbTCYTeDxeVAkdj7caZE+v16O4uBgymSwmmkMASExMxLlz55CUlISioqKQjHCs9hZpC3FXyMrKQl9fH7q6uqBSqWhwWqaJLZ6YJSYti3S72HUxodPpcO7cORw/fhx6vR579uzB/v37kZeXFySoRdP/jt1+MkYejwdzc3Po7u7G1atXcerUKZw/fx41NTVQKBQBQWKj0U6/3w+n04lr167B7/ejsbExIMhzrNbbuu/z+v1+iMViqNVq6HQ6eL3emF6Tzs3NRU1NDf74xz+ioKAgKCZCPG1iJkQiEaqrq6FWq9HT04O+vj6Mj49j8+bNqKqqQnJycsDz6+3HehfyWupyUtdahCDUbzYKZl1chwUb5Irp9evXYbfbUVVVhfr6eqSnp8d0nonJxO/3Y3h4GKOjo5iensby8jI8Hg8UCgWcTidcLldAMtRoaIwIeLzVtCEulwtqtTqg/nCDEGGtVotPP/0Ura2taGhoiGidBDweD0KhEAqFAna7HSsrK0hNTaXfRQvEZ0elUqGsrAy9vb3YvXt3QPiEUOue/RnR4LDNMUyGhWufsvfxWm0l5ZeVleHpp5/GRx99hHfeeQezs7PYsWMHkpKSAuq8XbmRFOqYbgvsephCx1r0ZT1tZtNCUj5zz+r1evT29uLatWvQ6/Wora1FY2MjioqKYu5PxART6z49PY2TJ0/i+vXrMBgMEAgEkMvlSE9Px4ULF3DlyhXk5+djx44daGpqCmvapVBr3u/3Y3FxETMzM6iurqbrLdam3Q1pjvh8PpxOJ27dugWNRhMgrUcLzM2clpaGs2fPQiQSobi4OOD7eFmYBGzpQSaTIS8vDzk5ObDZbOjr68PQ0BA8Hg+SkpLoNUYuQsS1yNj+K+shiMzyuMoBAokzV/13Os6hfs+OXWU2m9HZ2YmTJ0+ir68Pubm52LdvHzZt2oSkpKSAAyJac07qIcTSZDLh97//PY4fP46+vj7MzMzAYDDAaDRicXERBoMBNpsNAwMDcDgcyM3NpQfleg+xOwUhjOPj49Dr9WhoaKBrKxL1kTIXFxfx8ccfIyMjA+Xl5VHT6AGA0WjE8PAw8vLyYsI8M+fT4/Ggo6MDZWVlAYLPWvsXCLzRSr5jMidcTHaoMd4Ik5CcnEwP9zNnzmBwcBDJycn09tLtmPpwr2W2CYiU7XQ6aSRlEtCUjBF55nbtDKXFYfeB9JswPGazGe3t7Th27BiGh4dRWFiIBx54ANu3bw/IBxYvZxC5PXflyhW88sor6OvrQ0FBAVpaWrBt2zZs3rwZdXV1qKioQGJiIkZGRnDmzBno9Xrk5+fTc/5ub4CG+p3H48HAwABmZmbQ0tKClJSUdf0u0li35ojHW/WuT01Nhd/vx+zsLGfo82iAbIKMjAyaqqOqqgo5OTlxqzEiYG4ckUiEnJwcpKenQ6fTobu7G2fOnEFHRwfq6+uxZcsW6h/C3rB3008ubpzHW73ey0yCK5PJgpJKsgkOm7G60/awyycM46VLl6DX61FUVIQ9e/YgLy+PZlyP5VyTupeWlvDf//3fGBsbo1fYyV5httHv92NpaQltbW2Ym5vDs88+C6lUGnHGiKisp6amkJqaisTExIiPGY/Hg1KpRFJSEl1PzDZFsn6/34/ExETw+XxYrVYaHy2aYO6RkpISCAQC9Pb2UgGOtJP5LJfW1ufzYWJiAh0dHeju7obZbIZAIIBUKkVxcTG2bt2K6upqSKVSzttloV6HajNBamoq7rvvPlRVVaGtrQ2/+tWv0NLSgn379lGaz3QyZ9Ik8j5c80zK5PP50Ov1uHTpEs6dOweDwQCdToeEhASaBLe1tRVVVVXUJLSevRVK0GSaE5m+OZcuXUJHRwesVivq6+uxbds2ZGdnB2iFw0Gj7xZMExqfz8e1a9fws5/9DOnp6fjGN75BmTgmjVIqldBoNKivr0dXVxdOnjwJl8uFb33rW0hPTw9ru5j/rVYr+vv7kZWVBY1GExfjB2xQc0Q23/z8PGw2G/Lz8+m1xFiAx+MhKysL/f39mJ2dxaZNmyghjCcGiYtoMA9RkUgElUqF4uJilJSUwGAwoL29HVevXoXRaIRSqYRSqQxazARcUuRaanv28zqdDmfOnEFbWxtOnDiB8+fP4+zZs7hy5QpmZmYgl8uRkpISQDDI7zfi/MyWeMkfUwVtMBhw+fJlfPzxx+jt7UVGRgYeeOAB7NixA5mZmZQBYf4mVpoBq9WKV199FePj45BKpQHjwHVQ8XirZp+pqSmYzeYgh+Vw94PUabVacfXqVdTU1FAiF2kGxeFwoKOjA16vF5s2bQp7olsukLIFAgFN2xNLGuX1eiEWi2E2mzE4OIiKigoaYyqU2YWMkVarxSuvvIJXX30Vly9fhkQiQXZ2NqRSKZaWlqjmYnBwEEVFRUhJSVkzFcV6xp6pISGCcE1NDSQSCS5cuICLFy/C4/EgKyuL9oPL15NJg5if3cn4kbE6ceIEfvzjH+PTTz+FWCxGQUEBsrOzkZaWBp/Ph8uXL6OtrQ1DQ0NUS+d2u0NGgg/FyHi93iCT5a1bt3Ds2DG88847uHnzJioqKvDkk0+iqakJarUaIpGIxuQJxfTGAmQul5aW8IMf/ADp6el46aWXkJycTOOPsQVl4i5TWFgIpVKJzz77DHa7HdXV1RAKhXclaHCZQXk8Hqanp3HlyhXs3LkT2dnZAOLDArShHAJEm5CVlYWhoSEYDAYqScSiE36/HwkJCXj00Udx5MgRXL58Gbt27Yp6O24H9iHJdsglC1QoFCInJwdPPfUU9u7di46ODly9ehWnT59GWVkZtm7divLy8gCbLDNe0loME7sdPp8Pdrsd58+fxyeffAK9Xg+RSISEhATavuXlZYyOjuLMmTNobm7Ggw8+iIyMDFpuKFPbWmASPPK8zWbDrVu3cO3aNfT390MgEKChoQEtLS00+SDTt2cjEnEkQNpw/PhxjI+PQyaTweVycWrV2O8J8bl8+TLy8vKwd+/eiLd1cnISfr8f+fn5nAQxEnVKpVKUlJRENY0HgUwmg0qlgslkgtPpjNnNFz6fD7FYjIaGBnR1dWF4eDjIPEXA/OzKlSv4+c9/jqWlJTz44IPYvXs3kpOTAzQZKysr6OrqwgcffIBvfetb+NnPfoadO3fC7XZDLBYH1XG7sWcLViRWmEKhwMGDB9HU1IQ//vGPaGtrw6lTp7B37160tLRQUyFTwxMOszspw2Qy4de//jWOHj2K6upqvPTSSygrKwswO/L5fNjtdvT09ODIkSM4fPgw/uu//gtNTU1r+sYyx5PJFPp8PiwvL+PGjRtob29HX18f1Go1WltbsXfvXqjV6oA1zSyD2edYaz5I/f/4j/+IlZUVfOc734FUKoXT6aT9ZLeXzJ/b7UZTUxOMRiOOHz+O7du3Y/v27XcV/4pNC4kQde7cOajValRWVgY8F2sFx7o1R8wF5PF4MDY2BoVCgYyMjJhEsWQuSplMBqfTiZ6eHmg0GqhUqoiaK+4WXNwze8HJ5XKUl5dj+/btyMnJwfLyMrq6utDR0YHJyUm4XK4ArQ15TYjGWipur9cLq9WKEydO4OjRo/B6vVAoFDSlBClLLBbTa6hDQ0PQarXIy8uDSqUKUqmHkoKJtok84/V64XK5YDQacevWLVy8eBGffPIJOjs7IRQKsXPnTjz22GPYsmULze3D1raRsmPJGE1NTeGTTz6B0+kM0qatp10ejwdOpxNlZWVQKBQAwrtWmWN//vx5qNVq1NTUhMUMuh6IxWJUV1dj27ZtEQ0dwATzsFxeXsbIyAhKSkqo1jXaIPtRLBZjfn4eWq0WFRUVnEl/fT4ffD4fOjo68Mtf/hIpKSn47ne/i/r6erpf7XY7HA4H7HY7AKCwsBAtLS2YnZ3F7373O5SXlyM/Pz9o75PXt2sr8zVTo0to7KZNm7BlyxbYbDacO3cOFy5cwPz8PGQyGWVA2Q7RzH2xnnaQZ/3+1SSob775Jo4dO4ZDhw7h2WefRWJiIkwmE+x2O02HY7fb4ff7UVBQgNbWVkxNTeH1119HTU0NcnNzA+pl0kamtsjhcGB5eRnXr1/HiRMn8OGHH6K3txfp6el4+umn8fWvfx21tbWQyWQBfphcglqsNUbAl4xOV1cXXnnlFbz44osoLS2F1WqFUCgMoqnM9hIGieTgu3nzJhYXF9Hc3BzgOnC3EAgEWFxcpBc3CgsLAcQPc7lu5og5iCKRCAsLC1hZWUFOTg4dsGiDDJ5AIEBKSgomJiYwNzeH3NzcsKVIiDS4ND5MoiYWi5GZmYn6+nps2vT/2PvSoLiuM+2nu+l9paGhEfsOQggJAVqQkNFq2ZZlybLsOJoklrN4PMnkx0xN1dRMVaqSSaqmpr6pVGrixIntWLETW4otWbYktFgbSIAEAjVI7AKafWmgWZreu78f1Dm+fbnNIrE0ip4qiu7b95571ve823nfNVCr1RgaGsKDBw9gMBjQ0tKC4eFhWK1WOBwOOJ1OHymICUIYHA4HLly4gHPnzkEkEtHFwgaTMZFIJOjr68Pg4CCSkpIgk8l8iCe5n7QB+IYBsFgsMJvN6O3txf3791FZWYmysjLU1dXB5XJhzZo12LdvH3bs2IH4+HjKkAHfEFt2W5ZzXMkmZjAY5sQY+bvmdDoRGxtL7f8LzRwBUylDbty4gY0bN1KJlzluC/1OJsFlquGXgtAx2+RwOFBfX4/Y2Nhl1W4DU2tYIBDgzp07NJwHm3EgTvPvvvsuRCIRjhw5Ao1Gg8nJSeo3xRSGeDweTSKclZWFjo4OfPbZZ9i2bZvPCT2uzW+uYG6WpJ4qlYr6Q0qlUjQ0NODWrVuoq6vD0NCQT3JtJg1ia5PY9IbNvDidTly/fh2nTp3Cc889h127dsFqtVJTGbNt5FmbzQahUIi8vDwYjUZcvnwZBQUFVFgm77Tb7ZicnMTIyAh6e3tRVVWFGzdu4MqVK2hoaIBQKEROTg4OHz6MvXv3IioqimrSmMIos12EEWYLjcsJHo+HDz/8EJ2dnXjzzTfhdDo57/NnBXC73TRmWGlpKXbv3g21Wv3Y2kCm1u/SpUtwOp144YUXKIMdKJqjeR3lJ5NALpcjNjYW9+7dg8lkQmRk5LJsXsx3aLVaFBQUoKioCLdv38b27dupn0OgRKedD5h1Jt91Oh1CQ0ORm5uLkZERdHZ2oru7G52dnWhqaoLX66X+QRqNBiEhIVSqI//lcjnq6upQVFTkYyfnIlhMeDweiMVi1NTU4Pr16zh8+DBVzTqdTip9EUnObrdjaGiIntoaHx+H2+2GUChESEgI8vLyEB0djfDwcJ9FwSVhBtKYkY2XaO/YC5lrjnH1K4835XRuMpkWtH5sCbC6uhoymYya1BazL9llW61WdHd3Qy6XU3PsUjBIwFRuJplMhs7OTuoUvRyhR8gaSUpKQlpaGqqqqpCSkuLjW+HxeOBwOHDjxg309fXhjTfegFarpeYPNpjj63A4IBKJcOzYMfzyl7/EO++8g1/96lePvdGwn2NrgMLDw/HCCy+gsLAQLS0tqK+vR3NzMwwGA+RyOXQ6HSIjIxEeHg6NRgOlUgmFQoGgoCBO0xtTwPJ6vRgYGMD169cRHx+PnJwc2O32WTXHpD/EYjH+8R//ET//+c9x4sQJfP/734fFYsHY2BjGxsYwMDBAozHbbDYIBAKsWrUKzzzzDJKTkxEREQGhUEjHhjA9M40FeX8ggPSlx+PB/fv3adwgs9nMuQbYtJ85Lh6PB4mJiTh37hza2toQGRm5IElz+Xw+jEYjbt++jZdffnlRtOePi3mdViP/vV4vIiMjUVNTg+7ubp/ji0sZHp2tuo2Li8OGDRtQWVkJlUqFDRs2QCQSrSimiA2ueguFQoSFhSEsLAzr16+nAfcGBgZgMploapXm5maqAiaEKTw8HKWlpXA4HPSUC8C9gbPrwePxIBaLUVpaisjISMhkMkxOTmJ8fBxOpxMWi4Wqur1eL2XKyGmSkJAQhIaGQqVS+TjOs01ngQwi1ZLI7Oz6zqX+pM1ut5v6xXCZWuZbLzZDOTk5ibt37yIvLw8ymYzznsWC1zsVu+TEiRNISUnBiy++uCS+P6RvlUol9Ho9mpqasGnTJr/pCJaCNpBccxs2bMDJkydRXV2NkJAQn5AKQ0NDKCkpQVZWFmJiYmaN/M9cLzabDSqVCgcPHsQ777yDBw8eIDs7e8HbxlyfRPqXy+XIyspCZmYmFdjIX1VVFXVKV6vV0Gq19HAJCXwrkUggEonoKUpS54cPH6KtrQ379++HVCqFy+Wa1nau+gkEAthsNgQHB6OwsBCXL1+GUqmEzWaDxWIBMBWMV61WIzMzE6tWrYJer0doaKhPeA3ynkBhePzBn7mSx5s6qTY5OYno6Oh5BUlm3ufxeKBUKhEUFISuri4fDdx8wexXl8uF06dPIywsDFlZWY9U3mJj3pojAo1Gg5iYGDx8+BApKSk05gywdDZXNtdOnB9HR0dRXl4OlUqF9PT0gDzBNl/4c/4jhFehUCAyMhIAKCGYmJjA+Pg4JiYm4HQ6YTabYTQaYTQaqeP1fN7v9XoRFBQEi8WCK1euIDU1FU6nk2ZB1+l0UCqVkEqlkMvlUKlUNF3FTOUCK2tsmGp1AiaDNxuYkh0xFTBNiY9bN1KPhoYG2Gw2ZGZmLkjZ84VAIKDReK1W65IwR8z5FBsbi9raWoyNjS1rIktSp7i4OKxduxZ3795FYmIiUlNTqRRuNBphNpuRmZlJx3CmjZlN+6xWK9atW4fg4GDcvHkT2dnZC76muPxSmNdDQkKg1WqRmZkJi8WC0dFRDA0NYXh4GIODgzCZTOjq6oLT6aS+WHw+H0FBQQgJCaHtVqvVKCsrg0KhQExMDGeSbi5NN5MmWiwWrFu3DkVFRejo6MCOHTugUCig0WgQHBxMGTNmX/oz9QU6mPVkuzjw+fx5a0z9uUmMj48/dp+QeX3v3j20tLTgxz/+8TQXmEBRZszrtBrwTYcJBAIkJyejrq4OLS0tyM7OfuTopI8Cf2XL5XJs3boVZrMZFy9epDFBFkIVuFyYi3aC2d9SqRRSqZT6HgBT/WW323H79m0qTZHr86kDkUgkEgl27twJANT/SCwWcx6dZROfQJj48wHXXGNLYkzGdSYw7yG+coQ4PA7YfWyz2VBWVobc3FyfAwpLSXhkMhlCQkJgMpkog7IU72YyIyKRCA8fPkRkZCQnw7HY2jNm+RKJBFu2bMHDhw9x6dIlrFq1CnK5HG63mwosYWFh9Jj1XMvn8ab8Q4KDg5GSkoL29vZFr3rlogAAIABJREFUbwvg/zg8n8+n2qGoqCiq3ZqYmIDNZsPk5CSNYE5My0RQI35ALS0tSEhIoAlbuerjr26ERoWEhCAsLAxRUVHYuXMnJ/1hXuO6PlP7lxv++oBJA0h/z6fu7La6XC54vd5px+wftb7j4+P46quvsH79eqSkpExbl4HSz49kViMICwtDTEwMHjx4gDVr1lDV/VKAPZGZm1NwcDD27t2L06dP429/+xuOHj1KbaUrwXQzFzCZIS5VJ5tB9Xq91AeLHKfn8jWabYMnduigoCDo9fppEWm5bNfMd6108HhTzulardavxDkTmE6JQqGQmjsfF0xtFJ/PR2NjI4aGhpCTk/PYZT8qxGIxNBoN6uvrYTabER0dvWQaZUIH4uPjUVVVhfz8/CV1DmfWg/lZp9Nh7969+NOf/oRLly7h0KFD1FQrEokgFos55xPZQPz5hpA1LZfL0dzcjNHRUcoUL4Sgyn6WXZ4/JoP8JpFIaNuYtMLtdvuc+LTb7TCZTDCZTBCLxRAIBJyx1fzRGfLd6/XS8e7t7eUUjpl19aeZ4tr3AgVcdWIyRmfPnqUuFvOhUey+HhwchMvleqwgy17vNzHySktLYbVaceDAgYBWWMy7ZmQjJiaW7OxsDA8P48GDB0tmTiNgq1uZ0rFOp8ORI0egVqvx7rvvorOz0y8jsRLBXrj+mD72PWxpg4up8tc/zLFnqtfZXP9sjBIpa6WAvQkEBQUhISGB+rNx3TdbWcR8oNfrF6yOPB6PbgjV1dXIzMyERqPxGy5iMceAx5vyT9u4cSNefPFFmsZjKRgjAj6fj+zsbPT09KCnp4cyEUw6sJh9wLVWeDwe0tPTsXv3bly4cAEVFRU+9WWu15nWob/vXu9UbCK2D9tC9Dt7/bPNL2yw201oBbONAoEAMpkMCoWCxqfSarWzHpOfS13JfBMKhTMmgGWWyxQymG0OZDAFLq93ytfvvffeQ2VlJfbs2YPq6moMDAxQH7e5lAd8Q1Nqa2sREhKCqKiox0rwzuPx0NbWhmvXrmHPnj309GwgMp7APJgj5iQhjfF4PNDr9cjIyMDNmzc5711McHH+zI1ZrVbjjTfeQEhICN555x10dHTMeXEFKvyZpmZSsTKJGFGRAtPzpRHMREDIcyRkgL/6sK/NpAbnuifQsWbNGmqqmW2TYIIZhyo+Ph5xcXEAFnbzqq6uRl9fHwoKCvzOg4V650zg8/lISkrC7t27ERYWtujjyybqPB4PCQkJ1A+HvdkuNrNGGAL2OhEKhXj22WexadMm/P73v6exZ0hyYNIWf8yNPxrG4/FocuGFDmXCpq/Msv31Jdc6Zz/PZJoIA0Mimg8NDVFH7LkcHCHlES0RCStAfDHZ855rPbAZuqVg6B8VTEaV0JXh4WH8+c9/RmNjI9544w385Cc/gdfrRVFREcRisc8xen8g80ssFqO3txcPHjzAzp07adomrnrMBh5vytR55coV6PV6bNy4MeDp/ZyZI66FQToxPz+fJlhkao+WUkpkv4ts/FKpFG+//TaioqLw4Ycfwmg0ck4QfxqUQJMc/PXpTH3BHDOSB4hNELhsvux2M4kP8SVgEpjZCNd82hCIIG10Op2orKzE+Pg4JcSzzRGm+dHr9dLQE8z8avOpgz9YrVbcuXMHmZmZUKlUtH4zSc2LDaJSX+x1xJ5jxPy7efNmVFRUwGq10ng1zLotNvwxFG+88QYiIyPx85//HHq9Hi6XC319fX5TynAxfwTkoERNTQ1iYmJony9kGxbyGX+MFJ/Pp36iIyMjGBsb8+uPwh475hwTCoXo6urCwMAAYmJiZqxDoNMdf2AqKQDAaDTivffeQ19fH95++22kp6cjJCQE//zP/4xbt27BYDBAoVDMqukj2lWbzYYzZ85AJBJh7969EAqFM/qU+oPH44HL5UJpaSmMRiP27NkDqVTqNzxCoOCxakYWqEqlwrZt23D+/HmMjo5SwrSc8Hq/sU2LRCJ85zvfQXh4OE6ePIkHDx7A4XD4EG1/mo9AlhzmAjYxSU5ORkxMjE+MnrnC6/XSo7lZWVkBrRJdCLC1LR6PByMjIzh37hxKSkqwa9cu7N27lyZ35Jor5DvT30Umk+HgwYNYvXr1vAgEWyPI/u92u2EwGMDn85Gbm0tjtSwnXC4Xamtr8fXXX2NkZGRJtEdsDUFeXh6CgoJw8+bNaUzDcvWP1zvlE/Mv//IvEIlEuHnzJoRCIe7du+czzuyI9+RZ8p+0RyKRwGAwwGq1YuvWrQBWxqbPZFAIIy+VSpGeng6r1YqHDx/6zUPnTyD2eqfS11y/fh3h4eHIzs5e/IYsErjWOdsS4HQ6YTAY8OGHH8LtduOtt96iqTjcbjeOHj2KzZs34/jx46itreU8NcqcXyKRCHa7HZ9//jna29vx5ptv+oTrmamu/pQOXV1duH37NjZs2IC4uDi/AnggYV6JZ7lAJOHQ0FDU19djeHiYBl0jvy8H2EyBRCJBYmIihoeHUVlZCT6fD61WS/MQMTVeXJv+SmUEmFo8Ikk7nU7U1NTQyNj+VPjsPuTz+bDb7cjKyqKSBFuT+CSB2R63200T9La1tWHXrl3Izc2lR687OjroEWXyLJlLTIk2NDQUL7/8MvLz86e9Y6518qcFMplMKC8vR2pqKhISEpY1KTSB2+3GtWvXcOXKFaxevXrRo1Uz+x0AFY4sFgsqKiqQl5c3LUDicoCsR6lUiri4OJSVlcFkMmFgYACRkZE0oepMEZfJ2g0KCoLNZsPvf/97ZGZm4nvf+96Sae8fB1x0h4ybWCxGd3c3amtrkZCQAIVCMacTxx6PBzKZDPX19fj000/x7W9/m5pwAllLMRP8aR49Hg8sFgtKSkrw5ZdfIjIyEkeOHKGmeuYevHbtWrS0tKCkpARWqxVqtRoSiYQGAiaKBIfDgfb2dpw9exZGoxHf//73UVhYSMMuzKfOZCxJ6Be73Y69e/fSwyyBrrl7bOaIICgoCDqdDiUlJfQIJbC8DSfEw+VyYWBgAH19fbDZbGhvb0ddXR0sFgtcLhd4PB5kMhl9xl9E7UAdxNnAnKg8Hg9arRbt7e3o6+uj+dT8PcNUdzudTqjVahw6dIja8bnKf1JAnA/dbjdaW1tx5coVjIyMYOfOncjMzKTRftPT0xEeHk7TpTAZIhLiICQkBNnZ2Th48CCysrIeizBwaY8cDgc1HW3cuNEn6OFyjolAIMDY2Bjq6uoQGxuL6OjoRdu0meuVTXxDQ0Nx48YNyGSyBfXzehyQ92s0GoSFhaG/vx+tra0YHR1FbGwsPcbOtbZIW0UiEWw2G06fPo3+/n78+7//O/XvCnRmYCbtgVQqhUwmQ1lZGXp6epCQkECD1hKzD5PuAKAxkwYHB/HHP/4RGRkZeOutt6hz+nKP96Ngpj7q6upCUVERDdnx4osv+kSiZ7ZXLpdj/fr1cDqdqKioQE1NDfr6+mAymWCxWNDR0YGamhqUl5ejoqICSqUSR48eRWFhISQSyZz6j7neyN7hcDhw9+5d1NTUoKCgAMnJyX6d7QMNC8Ickc7QarWwWq2U22dGgF1qkMEZGhrC9evXceXKFZpheXx8HBaLBW1tbaivr4fRaITFYkFoaOg0j/5A525nAxfjQoKudXd3Y2RkhGoY/GnLeDweDfb43HPPIScnx+cECCl7pfYRF5gq4nv37uHKlSsQiUTYs2cPUlJSaDoK0ma9Xo/09HTExsYiLi4OcXFxSEpKQkZGBrKzs7F161Zs377dJ/aUPy2lP8zUx0ajEQaDARkZGYiPjw+oHE92ux337t2DVCpFSkoKZSoXA+w+Jd9lMhlsNhsqKyuRmZkZMLkXyZiGhIRAp9PBZDKhtrYWw8PDCAkJgUajobnEyHwkTACfz0d/fz/OnTuH1tZWvPXWW9M0ksvdvrmAi/kjfaJUKlFSUoL29naEhYVBq9XS/iD0JygoCEFBQXC5XDAYDPjss8+gVqvxr//6r/Q0aKAziv7ANqsBgMPhQGVlJU6dOoXBwUE8//zzKCwshEKh4KTJRMskl8uxevVqJCYmQiKRYGRkBEajEX19fTAajbBarYiKisKOHTvw0ksvISsraxqdn0+9Sb7Ay5cvIzk5GVu2bJmmgQrk+cnzLpDRj2wmZrMZp0+fRkxMDHbs2DHNDLBU8Hq9aGxsxPnz52mCU/YJBJI3h6jeV69ejcOHD/sEuwrkwXtUkHxozc3NuHLlCmpqauBwOOiGz8zKTE6LREdHY8eOHdi4cSONeP2kaoxIm8xmM3VkTE5OxrZt2yixZUvxbCaHnJQhEWqZR2DZzxI8Sh96PB6Mj4/j6tWr4PP5KCwspFqj5R4T0jaTyYS//vWvCA4OxksvvQS5XL6kec7I+JhMJvzud7/Dli1baFDARyH8C103ADS/2oMHD3DixAlUVVUhODgYWVlZyMrKgk6no9ptq9WKoaEhGAwGGAwGyGQyfOtb38LOnTunJYOeLwO+XGDTEUJ/SNLTv/zlL7BarUhPT0d6ejrCwsJoKI3x8XEYjUY0NDSgsbERubm5OHLkCPW7Wcl0nMkc8Xg89Pb24vr167h79y5SUlKwY8cOJCYm0vv9tZXtD0QyJgwNDdGTxyqVCjqdzsdpm1neXOcRedfY2Bj+8pe/gM/n4/DhwwgNDaVlrgQsGHMEfOM1X1dXh5KSEjzzzDNIS0ubetECdwjbOZV8JptQW1sbjh8/jq6uLgCYZipjN5toR9LS0vC9732PmgVXqsTBBNuXirTd5XJheHgY1dXVqK6uRnd3N8bGxuByuSAQCKBQKKDVapGRkYENGzYgOjp6zirWlQjmnGhtbUVRURGGhoawY8cOZGZmQqlUTttMuZykuTakmQKQPsrmxRxDg8GA6upq7Nq1a0kSzM4VpF1OpxMDAwMQCAQICQmhkv9ivhfwHQdijrl06RJqampw7Ngx6HS6gOgrJoPkdDrR3t6OL774AqWlpbDb7VAoFBAKhTT/1+DgICwWCwQCAXJycrBv3z6sXr2amsi55uNKBFNAMxqNuHHjBm7cuIGxsTGIxWKIRCJ4PB5MTk7C7XYjPj4e27dvR35+PqXfy5FseCFBxpAwzkVFRbBYLCgsLEROTo5P2i7mMzMJYGxGyZ9/2qPQJOZa++KLL/DgwQMcPXp0GgPnr66BhAVljoCpxlqtVly7dg29vb144YUXFiUAHHujZ34eHR3F8ePHUVNT43PMmk002EyDQCCA0+nEpk2b8N3vfteH2MxlUwvkgeYCYWYdDgcmJiYwMTGB7u5ujI6OQiwWIzo6GhqNBnK5HBKJZFlMNbMtdC74c9zkGh/2XLBYLCgvL0dpaSlCQ0Oxd+9exMTE+DU9LhdIvfv6+vDVV19h9erV2LRp07SEvstdX39rbznq5/V60dvbiz//+c9IS0vDgQMHAqafSP0IQ9Db24uvvvoKFRUViIuLQ3x8PFpbWwEAwcHBSEpKQkJCAiIiIqBQKALC+X4xQPqE5EsbGhpCb28v2tvb6UYsFosRFxeHiIgIBAcH+5zGWkyh/HG/zzbvCH0eGhrCpUuXUFlZiaSkJOzZswcxMTFzDuo4W3sI5qoV4qo/ez++du0azp8/j1dffRXr169fkfNzUZgjAOjv78eFCxcQHh6OHTt2LOqEJe8lg1NSUoJPP/0Udrt92obmr7lMFTuPx0NhYSH27t3rE2GYMForbZBnAlOKIMSGfCcxYZaKKZhN0vWnpeH6nes78xrzP/nc3d1NT2ls374dW7ZsgVKphNvtDpjFzay33W7HqVOn4PF48MorrywIsVwMMIUWi8VCjwUvh2DhdDpRVlaGGzdu4JVXXkFKSoqPmX251jhzXMmmaLPZ8OWXX+LixYvYt28fXnzxRQCgghwRAJjaTH9raKXSLWa/MF0jSLoUANNo82Jr+/3RGaZQxqYzMz3Pvt/j8dCkzTU1Nfjkk09gtVrx4osvYvPmzVRQXQ6tGFe7mO3n8Xh4+PAhfvnLX+LIkSPYvXt3wNDO+WLBTqsRkI5TKpUQiUSorKyEUqn00R4thrqXlGk2m3H58mV0dnZOIxr+3sdWNXq9XrS3t6OtrY2Gsw80iXyhwMX4MI92LqVPxmwaOuZvXCrguTBK5BpzMVutVpSXl+Ozzz4Dj8fDa6+9hpycHOo8ONd5tFRwu93g8/moqKhAdXU1XnrpJQQHB09j+giWo75sImq1WvG73/0Od+7cwcaNG6fFYFrsOjLHXyqVorGxEcPDw0hNTaUhLZbTUZQ5L8l8EwqFyMzMhEKhwPvvv4/6+nqkp6cjODgYgO86ZT7PVfflnrOPCrZmn7SP/LEZxMVkjJiCFLN+zL5nXme3g/3ZHy3xeqcOEr333nv4/PPPkZSUhB/+8IdYt24dRCKRD2O81JiNCezr68MvfvELbN68Ga+++uqKcb7mwoIxR0yGh3SCRqOB3W5HTU0NdDodVCqVzz0LtdEwnV17e3tRXl6O0dHRadFwZ3oXs95e71TcpoiICFRUVKCrqwshISE+WefZG9FKG3gC5qbB9ce8ZznMIATM9AFc+X1mk86Yn4l2zGazwWg04syZM6ipqUFOTg4OHDiAyMhISmjZAQMDYZwFAgGMRiNOnz6N/fv3Izk5mf7GFj6Wq77sDUMgEKC5uRkGgwF5eXlQq9U+9V3sejLLJ2biyspKKBQKnwB3XBvdUoPZHx6PB4mJidi4cSPu37+PK1euQCAQQK/X+/huzVbflUyjCNgMIJshWso55I/ZIfTJXwgG5nxnC+Uulwujo6M4f/483n//fTidThw9ehQvv/wygoODKQO/GMqF+YItgAHA8PAw/vCHP0Cn0+FHP/oR3X+X+9DDo2LBmCOuxvP5fOh0OnR0dKC1tRVRUVEQi8WLMpnJYLW3t6OyshI2m41TRT6bmpOUI5PJ6MbT2NiIqqoqmM1mqNXqaXEzVuLAszETs7dU7eRiZAnxsNlscDgcGB8fh81m8zF1+pt7XOUSc1R3dzeuXr2K4uJiqFQqHDhwAHl5efREEOkHduTr5dxkSDtI/qR169Zh27ZtPvewGdulrhupA3uDn5ycRHd3N6qrq5GSkoK4uLhl0255vVMncwYGBtDU1ERjCrFpwFLXiwkmA+DxeBASEoLc3FzY7XZcu3YN7e3tUKlU9JAAaddsAuBKApe2l4t2k9+WAlx1YTJEFosFFosFZrMZDoeDannZdSdzjDjhDwwMoKysDJ9//jkePnyInTt34o033kBSUtI07dhyC2ns9e31TuV0+/jjj+FwOPDDH/6Qnpid69wMRCyKWY3ZCSKRCFqtFvX19TCbzYiPj/fxZVmod5L/TU1NqKqqojbp2TQMXNd5PB4kEgnWrl2LtWvXIiUlBV6vF3V1dWhoaIDdbodAIKARRudSfqCBrTECAmdTIPB4PDCZTGhpacGdO3dQU1ODW7duoaamBl1dXRgaGqIOmVw+bWzJxmq1oqurC5WVlbhx4wYmJydRUFCAnTt30uBpwPQTiv4kxqUEYRJHRkZw5swZqFQq7N+/f5qpgdy71PVl1oHd7xMTE7h69SpKSkowMTEBj8dDHYn9pV1ZaDDpDZ/Ph0gkgkKhQE1NDZxOJ2JjY33CWCy31o1L+xcUFITk5GTo9Xo0NzejqqoKExMTkMvlPswdeY5d5koHVxvY47SYmzB7XpA16XA40Nraitu3b+PatWu4desWLl68iNraWjQ1NWFgYAAejwcKhcJH2+dwONDT04OKigoUFRWhubkZ6enpOHLkCDZt2gShULjsc9EfmFqvkZERFBUVwWw24/XXX/cJd7KSFQgLyhyxVYYEKpUKwcHBqKysxOTkpE+U3IXoNCYx7u3tRX19PZxO55wXDZc0IpFIsH79euh0OkilUppBncfjobGxEY2NjTCbzRAKhZBKpdMCta2UycBFRLm0R4sNtiRitVpRU1ODoqIiXL16FTU1NWhpacHg4CD6+/vR0tJC45qMjo4iODgYcrl82gZNNEXt7e24c+cO7ty5g/Hxcaxbtw47d+5ESkoKjZfCbD8byzm2hAiNjY3hypUrsFgsOHDgAN0Q/Y3hUo8j811utxtOp5Omtrh37x7EYjFyc3PR0NCAqqoqytgSJonUfTHAJtLELxIAysrKoFKpoNfrA4IRZr6bTSf5fD70ej2Sk5NpLr2mpibY7Xao1Woa3JJdzkrFXDZXtuZ/setC3un1etHX14ezZ8/i448/Rnl5OSwWC03TRBIJ3717FxUVFRgYGEBERASUSiUePnyI8vJyXL16Fa2trYiNjcWzzz6LgoICaLVaSmtmEtSWC8z9dnh4GJcuXUJbWxv27duHpKQk8Hjf+IetRI0RwYKfVmODWXx9fT2++uorbNiwATt37vStCAeDMtdOZb6jsbERH330EXp7e+fstMaWdj0eD/R6PY4dO0bjMzBNTt3d3WhubkZDQwOcTieioqKQnp7uExV8qRbskwZiQisrK8P58+cxODhIJXq2hovE0+Dz+cjIyMDhw4cRHR1NpX+r1YrW1lY0NTWhu7sbcrkcKSkpSE5OpgcEZppny7WwmUwYUzotLi5Ge3s7du/evSwpMGbrD/K70WjE3bt3oVQqUVhYCIFAgMHBQQQFBUGpVOLevXs4f/48urq6EB4ejvz8fOTn51Nmbz5M6KOOEXnH5OQkvvjiC7S2ttIEm2yfkEBav0wfFbvdDqPRiIqKCty/fx86nQ55eXlYu3Yt1Gq1X5+Xp3h0MPeJpqYmfPrppzTq+vr166HX6+lpMiKYDQ0NoaamBsXFxUhNTcXWrVvR2toKm82GhIQEZGdn0/QogbBnzLb+yBw0m80oKipCW1sbdu7ciezsbJqr9EnAgpvV/MHr9SIkJAQqlQo3b96ETCZDRESET6JO5r3sa/7K5LqnpaUFAwMDPlIiM3IslymJ/CeTOi4uDlu3bqX+RUyoVCpER0cjMjISQUFB6OjoQH19PTo7O2G326nDp782+PPt+XsEmxFwOp24e/cuzpw5g5GRERq+3t8zRELp7+9Hf38/0tPT4fF4YDAYUFxcDIPBAK/Xi6ysLGzcuBGpqalQKBRzIkKBoDkAQPMhNTY2Ytu2bUhMTFxyJ0e2Zo8tUDidTnR2duL69es4deoUDAYDtFotDU4ok8kgk8nA5/OxatUqJCcnIzw8HP39/XC5XFizZg0kEsm0+UAwk/D0KP1AaIBQKER4eDju3buH9vZ2rFu3bpqpL5DWKLNOJA1QQkICVq1ahZGREVRUVKChoQEOhwMajWaaJok8u9I03EsFLtrMptMejwfd3d348MMP0dbWhueeew7btm2DTqfzyVXp9XohFAqhVquRkJCAhIQE3L17F6Wlpdi0aROef/555ObmIioqyicBOhAY48LVfjJvxsfHcf78eTQ3N2PHjh3Izs6mAYKfFCw6c8QecDKBrl27BolEQk8G+XtmtrKZ/4GpbM4mkwkPHz4EMPOpJQK2PwKPx8PWrVuxevVqH7U28318Ph9KpRKRkZFISEiAVqtFV1cXDAYDTcdB/BqY7+Gq998zoSL9Shyse3t78cknn2BgYIAesZ4L+Hw++vr6MDAwgAcPHqCurg4hISHYvHkzcnNzER8fD5VKtSJOTpD+INqxe/fuoaqqCnl5eVi9evWSxw3hYuLZ18bHx/HHP/4RxcXFiIqKwoEDB7BlyxbKiLLnvEKhQExMDFavXo20tDRoNBo4nU6UlJSgo6MD4eHh1FTN1Va2UDOf/mDfL5fLERERgcuXL8NsNiMzM3PavAukOcOmRyKRCOHh4UhOTkZSUhKGhoZQWlqK2tpauN1uam4j84rE0WHTH1I2wXI5zAcKuOi0x+OBzWbD559/jvLychw6dIimKXG5XFSrwuw78lmn02HdunWoqqqC3W7H/v37fdZHIDJG5DNpO9GGnTlzBnV1dXj++eefSMYIWELNEXPww8PDwefzaZZsYuufK1M0U/k8Hg9yuRwNDQ0YGxvzcZjmIqJM9Tmfz4fL5UJCQgIOHTrEmZySPYEFAgFkMhnCw8ORlpaG+Ph4uFwuVFZWoqysDB0dHeDz+VAoFHQCkcVD4kX4a/eTplnyt8kCoGkCrl69itu3b1MtwlzbT7RI7e3tyMjIwJEjR5CZmYnIyEiqsWCfYAukvmVvRKRubW1tuHXrFrKzs5GdnU01aUvJUPtjRMbHx+FyuSASiSASieByuZCbm4uXXnoJiYmJkMvl0zS2BGQ85HI5zdU3NDSEL7/8EmfPnkVTUxNkMhl0Oh1dw+w6PCqDxEX4g4ODERwcjE8//RQKhQKJiYk+QSFn6oflBFOoIylGUlJSkJSUhP7+fly9ehUVFRUYHx9HSEgIHRPmBs6knVzzMBDauVSYS5vr6+vx6aefYsOGDVi/fr0PHSdlMP8DU+PjdDqhUCgQFRWFM2fOQKfTIS0tbdpcBpafPnHtk+T/iRMnUFFRgcOHD1NTGtczKx1LxhwRkEFftWoVeDwePUodHh7+2BOCLGylUgmpVIqamppZiRm5Tgiwy+XCG2+8gZiYGB8zmz+izFxIQqEQWq0WqampyMvLg1KpREdHB0pKSmAwGDA6OgqJRELD/ZPNmh3tlevzk4KZmNPJyUmcPHkSExMT89IaERDn34yMDGzcuNFH8+BvsQcKmPUkWrSuri6cOXMG8fHxyM/P9wmcuNSbFvO94+Pj+Prrr/Hee+/BbDYjMTERIpEICQkJiI+Pp+E62NIwl0mbubnL5XKkpaVBKpWisrISX331FSwWC3Jzc6eZ8tjr5HH6gjwfGRkJsViMU6dOISYmBnq9nmpZuN65nOCia4RWCQQCqqVYu3YtLBYLbty4gStXrmBgYAAajQYhISE+840wS3+PDBEBFxPM/I34/l24cAFtbW149tlnoVAoOJNK+3MFsNvtiIyMRGtrKzo7O7Fjxw7FnStxAAAgAElEQVRODWkg9D+pA3F94fP5+PDDD3H9+nUcO3YMubm5S3badDmwpMwRYTZIh+r1erjdbpSVlUGhUECn000joPMpm/lsTEwMtFotqqur4fV6fYI3kvt5vG8CiNntdgDAsWPHkJOTM02rw2USm8nvQSQSISYmBtnZ2cjIyAAAPHjwgB5Ft1gsADBNO8VWyXKVvVLhrx1kXvT19eHSpUsz3jtT2V6vF263G1ar1SdDOXlHIEn8/kDmXU9PD06ePImYmBjs2bPHJzXIUkiXTO0mWQNutxsXL17Eu+++i+LiYoSGhiI3NxfR0dHT8hCSMWViJuGE/C6Xy5GRkYEtW7YAANLT0xEXFwe3243JyUkA8BFYFqr9pLykpCSMjY3h8uXLSEpKoo7NgXDEnwts2sSkaTweDxqNBuvWrcPWrVuhUqlw7949fPXVVzAYDLDb7RCLxT4mEaYm90lIuj0fcNF6tpmMnE4LCQnB+vXr/ZoeueYIc3x4PB6qqqqQmZnpE0aE+exy0ip2HUZHR/HOO++gqqoKb7/9NnJycnzuC6Q1sVBYUuaI3eFBQUHQ6/WwWq30dAuRaJj3z7VstvQdExODxMREdHd3Y2RkxMf5mxA7IhkmJSXh7bffRlZW1rTw6MzymfX3pwUh95ByNBoNUlJSsGHDBsTFxcHlcqG+vh4VFRWoqalBT08PHA6HT9krNX7SfMHsp9raWpSVlT1yHj5m3qWtW7dSp3h2OYHYl0wC3N/fjxMnTiAqKgrPP/883by4pMvFIKBMgk/yWQFTG+Zf/vIXuFwuvPrqq3jttdeQlpZGNVqPotVi30feLZfLkZOTQ4NFDg4O4sSJE2huboZWq4VYLF4w3yu2xiQxMREdHR2oqqpCTEwMlEolZZACZe6wN3Jyjet3r9cLqVSKpKQkFBQUICkpCcPDw6isrMTNmzfR3NwMi8UCgUBA6Q6JscMW1gKl/YsFpm8N09XCarVibGwMjY2NuHr1KnWh4BICmGUB031L3W43goKCYDAYkJaWhoSEBM75tZyMEWm/2+3GwMAAjh8/jtHRUfz0pz9Feno6pxb4SUPQcryU2ZFSqRT5+fnweDwoLi6Gx+NBamrqtOPb/uBvcyADnJGRgYSEBJSXl6O5uRnj4+MYGRkBAKjVaoSFhSEjI4OelgHgw5j4K3u2d3NtXDKZDOnp6UhPT8f4+DgGBgbQ2NiI3t5eXL9+nUp6kZGRCA8Ph0qlgkKhgFQqhVQqnZVhCiStCJf5g0sjRjQ9drsdw8PDAECjArOJ/1zeyePx4HQ6/T633NojLr8CQohcLheamppw7do1REdHY9++fT4MHhcWgzEiJs6enh40NjbSMBV8Ph/Hjh2DUCjEqlWrOOvwuPVha1CZxNftduPGjRuora1FXl4ePSHkb7096jtlMhlefPFF/O1vf8Pp06dx4MABREdHz2jaWy7MVgemz5TX64VIJEJWVhbWrl0Lk8kEg8GABw8e4MaNG7h58yYiIiKwatUqJCQkQK1WQ6VSQSqVUoElkP2v5gIuGsT2vyKRrsfHx2GxWNDT04POzk50dnbCZDLRk4D+5iqzbK53kes2mw29vb2c9y43jSJxyh4+fIiioiJ4vV784Ac/oOuAnTNtJc2BuWJZmCM25HI5tm3bBrFYjNLSUpjNZmzatMmvep5gpgFhapBkMhkKCwuxfft2TE5Owmw2A5hijphOo/NVJc82Gbg2DbIIFQoFFAoFEhIS4HA4MDg4iJ6eHvT29qK7uxtNTU20b5RKJXQ6HbRaLaRSKX1WLBb7HB1l9wmbmM9U77lM7vn6ALEJqcvlgs1mw+TkJCYmJmiY/YGBAVgsFnR3d0MsFs/7Pex3CoXCaf3CRCAwRsxrwJSG5u7duyguLsamTZuwadMmHw3aUtSBx+PBbrejtbUV1dXVqK6uhsViQVBQEOLi4sDn86kmZ7H7kL12dDodXn/9dWRkZNBIxBEREQgNDeXc4B73nRERETh06BDOnDmDS5cu4cCBAwgLC/Nx0mavNa5yAgFMBpNZz9DQUOzatQvbtm3DwMAA2tvb0d7ejoaGBhgMBohEIoSGhiI8PByrVq2iTutyuZxqlgj89QXz/Vz3znTNH2YbZyYzONNcJ7/bbDZMTEzAbDbDbDZjaGgIfX19GBwcpGmotFotPcV45swZGmSYS4MyF/pFnmFGzGb/vtjg6gtiXbFaraiursbNmzcRHh6OZ599FhEREX7rFmhzfiGw7MwR6VSFQoGtW7dCoVCgpKQENpsNmzZtgkwm43R4Y3/2ByazQ06NKRQKzsW8FDZ2LmlDJBIhMjISkZGRcLvdmJiYwMjICGUchoeH0dLSAofDAa93Knq3XC6HQqGASqWi0p1Go6EhBoKCgmbVvLGJx0yMFZcan90uckzY5XLBYrHA6XRibGwMdrsdZrMZExMTGBsbg8Vigc1mg9frhVgshlQqRXh4OGJjY9HT04PJyUkIBALOBLOz9a3D4UBSUhJnfJflhr+2jI6Oorq6GjU1Ndi+fTs2bty4aBoKfxsYuTY0NISvvvoK7e3tSE1NRU5ODlJSUnxOnS0H+Hw+goODsX37dmRkZKC5uRnJycn0FFBtbS0iIyOh1+tn3Ghn2pjZ/6OiorB//34UFRXh0qVL2LVrF3XSZm6ITASaZokL7HqJxWJERUUhOjoamzdvxsjICLq7u9Hf34+Ojg7U1dXBYDBAKBRSZ26tVkv/CB1iHqJgb7xssBmrmerJ/p2L+WHfy1Wmx+OB1WrF+Pg4xsbGKDM0ODiIkZERWCwWOBwOSCQSBAcHIz09HXq9HuHh4QgJCYFEIkFLSwuKioowNjbGSZ/myhg5nU4IhUI6X2dSAiwWmEIFod9er5c68N+7dw/p6el45plnoNVqA3Y+LxaWnTliQigU0pgJt27dgslkws6dO6HT6QA8usaD+SybcPkjcosN5nuZC0ogEECtVkOpVFJHVCLZEDXv2NgYRkdHMTExgf7+ftjtdvB4UwHtSA4fiUQCmUyGoKAgKBQKmiohKCgIarWaEjJmPyiVSh+NC8kSzcxMD0zZzMfGxuByucDj8TA2Nobx8XG43W7K+IyPj1N7PdHmKBQKGvZApVJBLpfT/zKZDDabDeXl5bh//z5kMtmcx4V5n8vlwoYNGziTDgcSCGEdHh5GcXExTCYTCgoKkJmZCYCbUV0M2Gw2NDc3IyYmhmpSN2zYgM2bN2P16tUIDg4OGF8bUgedTudDE4xGI44fPw69Xo9nnnkGa9eu9Ykvxi6D3Z9sqZ/5W3R0NPbu3YuioiJ89tlnOHjwICIjI+lmNl+NwXKDi3ljMhRBQUEIDQ2lvp+EkRgeHqape/r6+tDc3Ez9NYVCIUJCQqBWq6FQKKDVamkASrK+Z5vDbOFrPjSdgKyp0dFRWK1WOBwOyvSYTCaqqbZYLHC5XDR9jVqtxqpVqxAWFgaVSgWNRgONRkN9zYBvzJMqlQphYWHo6+uD0+mcs9DAZESEQiHa2toQFBREzdPLtb6YQi2Px8Pg4CAuXryIzs5ObN68mZ66/nvEoqcPmSvYHH9vby++/vprevIoOTl53hLZbGrVQMBcVL9suN1uOBwOOBwO2Gw2WK1WOJ1OTE5OUmI2OTmJyclJn1M+RCogCXNJ2W63G16vF2q1muYZI4zN8PAwXdCkTi6XCw6HgwYwczgckMlkkEgkkEqlkMlkEIvF1AxITsRIJBKaJJaok5nSl8vlwrVr1/DRRx9R89pcx4loEEQiEX71q19Bq9XS+gYSmJJab28vrl69CqfTifz8fJ/I1ws9T9l9OTk5idraWty6dQv379/H4cOHsW/fPqr54/P59IQnwVIwazPVmeua1zuVxuD69esoKyuD2WzGmjVr8Oyzz9KM5nPpSy5NKRkrr9eLnp4efP7555icnMSbb75JT9ay/QD91TtQMBO94boX+EajThyTJycnqRA0PDyM/v5+jI+PY3h4mMa+Is8TwYzP51OGViqVIiwszCenoUajgUql8jGPEvB4U/5mIyMjsNvtcLvdlA719/djcnISLpeLanNMJhNlfgDQCO0qlQpqtRo6nQ7BwcE0artcLqd0iv1e0g7iB+lyuXDq1Cl88cUXeP311xEVFeUTioWr/5iCsMvlglQqxX//938jNjYWP/vZzzizMCwVmPtuU1MTPvvsM4hEIuzevRtpaWk+dQvUOb1YCCjmiE2QzGYziouLYTQasX37dqxduxYAOCXZuUraSyWRzwdctl/mb+zvXJ8JiCMdWcher5d+B6YC7TFPIBGiY7PZfKQ3JmEUiUQIDg6mGwGRGAmxA0CDExJzHglKx9ycSBuZbSWfiUqXnIy4f/8+pFLpvOz3JCv0iy++SOseSPB6vXQc2tvbceHCBWi1Wmzbtg16vX7RYoaw1f9tbW04c+YMqqqqIJfLsXHjRmzevBlpaWnT6ss2NwGB4YDJfj9xbr169Sr6+vpw8OBBpKWl+cyBmcxh/tYZmZsA6NwcGRnBT37yE6xatWpZzCGPg9lM52TtM5OnGo1G1NbWoqenh15PSUnB+vXroVKpKMNit9vhdDqpdntsbAwmkwl8Ph/t7e1Uwz06Ogq3200FtImJCfB4PMhkshm1WhMTE5SJYZqiVCoV1XyHh4eDx5sKEyMSiaDRaKiPFPkTiUT0pCPXCWYCrvlAmIhf//rXCA0NxaFDh6j/EfOEM5d20uVyQafToaioCF9++SX+4z/+AwUFBdPetVhg9y2TLly+fBkXLlxAamoq9u/fD51O55NMPRD2yaXGsjNHbALMvA5MOYZVVVWhtLQU69atQ35+PlXTMgnTfAdwJQz4XBg5NoFjXgemMyNc9zGvz2RyYI8TO+I0m7CwNw4uh3d2Pd1uN5qamvDBBx+gv78fUqnUr2TGrMPY2Bi2bduGf/iHf4BcLueU6JcLpM8IA1hTU4NLly4hMzMT27Ztg1wuX1CmiEvyZl6vr6/HiRMnEB8fjz179iA0NJQytf6wlHFvZlubXL+TTY5s0FKpFEKhEE1NTWhpacHOnTtp/qqZNFIzbc7A1Dz785//jMbGRvzgBz9AVlYWneeBxDz6A1f7/AljtbW1eP/991FRUQGBQACNRgOJREIZH7FYjP379+Po0aPQ6XQ+zCcz/Q0wta7Zn8l9fX19sFqtPjSdi5a43W6sWrUKarWaCng8Ho9qOJlR8JmCBtE8kbKYf7MJ0sy+ItfcbjfOnDmDd999F3v27MHevXthsVjA4/F8orkTEE2XRqOB0WjEz372M7z66qv4p3/6J5+4f0sJMhbj4+P461//iurqarzyyisoKCiYFkplobXYKwXLzhwR+GOSyCJramrC2bNnodfrsW/fPmi1Wr9q7bm8Z6kxV23WbM9zbXwzEXvymXnvTPczCRtbncp8Pzu1wqOk5uDSTJDy6urqcPz4cXR1ddGI4lxtdzgcsNvtKCgowKuvvgq1Wj3tnuUGIY4AcO7cOdy9exd79+7F5s2bAfg39T7uXCWEvLq6GuXl5di1axfS09OplE9iBbnd7oDxK3pcsPvs+PHjOHHiBBISEvDaa69h8+bNPkESZ3p+Jm3Sxx9/jOLiYhw9ehRbt26lm3og9+FsjBGTYfntb3+L999/H6tWrcLLL7+MNWvWIDg4mEahN5lMuHXrFv72t79BKpXiF7/4BQoLC6dpY8iaZh6wYAoCc6FdswmFTJpF2sjUDHFlOZipb2ZiGMk7nE4n/vCHP+CTTz7BSy+9hBdeeAFOpxM2m23ac8SloLi4GL/97W+RlZWFP/3pT5wC5GKA2Xbm2DQ0NOCjjz6C2+3Gj370IyQmJs44RwKV4V8sLHn6EH9gb8Rs6HQ6xMbGorGxEQaDgdqoyTNzHcDlGtzZ3uvvdyZBYUtTM/UZW/vD1gD5+yP3sCUv9vPs3+fTVvZ9zPsJoQgPD0dGRgb4fD4GBwepE6XL5fIxE0ZEROCVV17Bvn37fMIyLKQmxh9m0zYQuFwuGsSwq6sLhw8fRlZWFifzyYa/zZn5fvY7ebyp48lVVVX405/+hC+++AITExNITExEbGwsNXmyx/JJAmlPTEwMoqOj0dTUhEuXLqGzsxPJyclU+8y+n71uCJjCg9c7FT/N4/Hg4sWLsNlsiIyMnBYMk/ksV92WGuy6cbVvbGwM//mf/4nLly/j29/+Nn74wx8iJiYGAKi/kdvthlwuR1ZWFnbt2gWTyYQvvvgCIpEIqampPukwmJqR2czGbA02+zPzj83gMt81U54zf++eiZ5yfefz+Vi3bh3cbjfOnj2LmpoaenKP+HQGBQXB6XSira0Nf/3rX3HlyhXs3r0b//Vf/+WTO/JR5wMX48K1/zGZR4/Hg9HRUXz99dc4c+YMkpKS8P3vfx+RkZGcZmd/n/8eEDCaI39gb0BjY2MoKyvDgwcPkJ2djczMTISEhCwJB77cmE36Yd6z0sAlxRJ0d3fj4cOHMBqNdKErlUqay0uj0fjk//FX5lLUmynJks3GYDCgsrIS0dHR2LNnD/WRmE1qnst72WYfYIqIVVVV4de//jU0Gg22bNmCLVu2IDo6mjPy+5MOr9eL/v5+XLp0CZOTk3j99dehVCphtVoBgOaCA/xrk8hvzM92ux23b9/GlStXEBMTg127diEiIoIzV1YggzAcNpsNH3zwAc6ePYvvfve72LBhA8bGxqhmkQ232w2RSASJRIITJ07gwYMHePvtt1FQUPBY/nMrYW4yNTDFxcX49NNP0dHRAYlEAp1OR/2iTCYTxsbGoNPp8Nxzz+HgwYNUizbTnHtUcGnjeTwe1RY3NzejuLgYw8PD2L59O/Ly8iCVSn1yCD7FFAKeOWKCuWGSVBNisRgbN25EXFycT2ybQF5YiwEuKXilwZ/pkAl/2hnmb8yylgJcGhyHw4G+vj7cvXsXvb29yMnJQW5uLm0f1ymquTK/THg8HthsNnR3d2N8fBwJCQkIDg6GyWRCWVkZ1q5dSyX/R2XEVhK42sR0PCXmRJvNhtLSUgwNDWHDhg00PxyXVo79ncmQejweNDU14cKFCxAIBMjPz0dmZua0TOUzmW2WG6RuJSUl+PWvf42tW7di3759GB0d5dTCMNtCNnmHw4Hjx49DLBbj3/7t32hi8UBq50KCqdkCpg4E3L9/HwaDAWazmboByOVypKSkIDs720coWihB3p/2GvC1OvT09KCyshLV1dWIiorCzp07ER0d/Via/ycdAc0c+TNXkO8DAwMoLy9Hd3c3EhISkJmZibCwMB+nvCcBc7GTP2mYiVFiX58Pc7GYIARzdHQUdXV1aGxshEKhQG5uLmJiYjglxfmMLSmfXLNarWhra4PBYEBNTQ1EIhFee+01pKenTyOYM53U+nsAez6Njo6iqKgIJSUl0Ol0yM3Nxbp16xAVFQVgugO6v7VGxqSnpwfXr19He3s7jRPFZfZn1iVQ4PVOnQT7f//v/6GrqwtvvvkmPXlKBNLZGHaBQICHDx/i1KlTePXVV/HCCy/QFFBPIth+PDMlJmamQlpoM5U/7TOZrzabDTU1NSgvL8fk5CTy8vKQk5NDfTMDeV4uNwLG52gmMCUX5uDJZDIkJCRAJpOhvb0dzc3NcDqd0Gg00yQ3gpU4AbgkA/ZGyfxtJYKrLUxiw/wjv5M/Ll+spWQcyQbicrnQ0tKC0tJS9Pf3Izk5GZs2bUJ4eLhfxohZby7MpHloamrC+++/D6PRiPj4eGzatAnx8fHTAmiyJf8nHVy+GOx5ExQURNOP9PX14ebNm5DJZFi9evW00AczrTHyXaVSITY2FjweDxUVFWhvb4dKpaLxtgJVs0vq1dTUhPPnz2Pjxo2IiYl5JD8puVyOzs5OTExMYN26dTQvYCC1d6HAXIfsPGNc9wKYZmp83H7h0m4SeDweNDc34+LFi6isrERUVBT27NmD9evXc1pYVuK+uNgIqAjZXJhtoxOJRMjIyIBer0ddXR1qa2thNBqRk5ODmJgYBAUF+ZzGWUkTgOl8yFbFsgk2O1HrSmonwK39YYJrwyOfmc8zry02mO82m80oLS2F0WhEbGwstmzZQgPd+WPQZxojrj4gKVj0ej2EQiGUSiVSU1Oxbt06JCcnQ6PR+Jzq42I22defNMxVYCBxurZu3YrU1FTcuXMHSUlJAKY2luHhYchksmmRtrm0k+S7Wq1GQUEBoqKicO3aNRw/fhxbt27Ftm3baAyfQO37rq4uOJ1OrFq1ak5pe7jmk1gshl6vR1dXF4aHh6kZ6UkFu21z0TSS3xa6X5g+UL29vbh16xbq6uqg0+lw8OBBJCYmQi6XT6t7IM/J5UbAM0dzIegCgYCGfo+NjcW9e/dw9uxZpKSkID8/n0ZyXkmmBaZmyOFwoK6uDu3t7RgaGqKMkl6vR2JiIhITE/1uiisN/qSquWrIlmKxM5kWt9uNqqoqlJeX0/yACQkJlBBxMUb+yvTXZrPZDIPBgJs3b8LtduPHP/4xgoODERkZiW9961vT4jrNpoV6UvEoYy8SiRAREYFnn32WRoGfmJjABx98AJVKheeeew4xMTFzphsikQhpaWnQ6XSoqqrCtWvX0NDQgP3793MelQ4E8Hg8jIyM0HyNc+lHdjuIQ29ISAhaWlowPj6+Ymjt44Ap6HA5QzPvA6ZbPx4HbAbVYrGgoqICt27dAgAUFBRgzZo19MDSbMIYsz1PEeDM0VykFybEYjFiY2MRHh6O1tZWFBcXo7a2FoWFhcjOzvYrPc82IZZqwpD3ECaOz+fj7t27OH/+PIxGo08gNVIfkUiElJQUvPTSS0hKSpr2+3K2ZykwExP1qPCnmWL6F/B4PLS0tODSpUuwWCzYvHkzsrKyIJPJOOOqzKYtIvcwNYV2ux337t3DuXPn8PDhQ6jVamzevJnGcBEIBD5+LX/vmE8fMO/l8/mQSCQ+Y65UKump2D179mDbtm0IDg72+y72d61Wi8LCQqSmpuLMmTN45513sH37dhQWFkKlUs0rttRSMfwkcrS/IIz+niP38Hg8SKVSnwS0Tzq4hDYuAW++4+dPU05AgloKBAI4HA7cv38fV65cwfDwMPLy8rBx40Ya3JVt+vNX/0ep55OMFeFzNFeQgRUKhdDpdDTdyKVLl1BRUQG1Wg29Xu93sftjmJZqwrA30Y8//hgffPABJiYmaCoOgUBAY2gQbVFXVxe+/vprmtl+rlLCU/iCi4Eh35lax/7+fpw9exY3btxATEwMjhw5guTkZJqbidzHLGsmZpzJFLFNNQ0NDbh//z6ef/55vPHGG8jLy6Mb+VLPzycV7PGQSCTIyspCQkICmpubUVpaiqioKOpUz5wPXGUB35hYNBoNMjMzIZfL8fXXX6Oqqgrh4eEIDQ2dNtYEM21YC80oMefZgwcPkJGR4cMoctWHeZ08T+ILNTY2oqenB1u2bKGpPJ5ibmAL7uz/bOFZIBDAZDLh+PHjOH36NBISEnD06FHk5uZCqVRSRvfpGDwaAvq02qOCudkAU7GRLl68iKamJiQlJWHTpk2c8UiWW+VN6u12u/H555/j3LlzkMvlVGPEjlFDPpPw+ePj43jrrbeQn5//dFHMA1x+JOQ6CZ4GTPWvwWBAeXk5NBoN9uzZg9jY2GnRfx/l/S6XC2azGbdu3YLZbMZ3vvMd8Pl8mlRTqVRy1vEpFh5k3AUCAQYHB9HW1ob4+HjodDrY7XaMjIwgJCSEakhmk76Jlqi3txfnzp1DfX09cnNzsWvXLmg0mmkpL5j1WOwxJzSntLQUv/nNb7B//37qlD7bc1wM/pdffgmXy4Wf/vSnNF/gU8wMrr5kM0RkTvJ4PJoQ/OLFi6ioqEBkZCSee+45rFmzZlbn8KeYO54ozREBc5PyeDyQSCRIT09HYmIiOjs7UVlZicHBQYhEIojFYgiFQh9majEltdng8Xhw48YNnD17FkKhEG63e5pdm1lH5sIRi8Wor69HYmIiwsLC/Nb96Qb7DfydTGJm/h4eHkZ1dTWuXbuG0dFR5OfnY/fu3QgLC+PUEjHB7Gsup3m3243Ozk5cvnwZH330ESorK+F2u5GTkwOxWIygoCAfSd4fE/d0PB8dXE7cxLQkk8kQFRVFT/jcvHkTv/nNb+D1ehEaGgqRSOQjZHGNA6ErSqUSa9euRWhoKKqqqnDjxg04nU5otVqqGWabV5l14qrrQoCUV1lZCYfDgfT0dLhcLs53kv/suvF4Uwlli4uLkZaWhi1btvjEjXqKmcGef2wB2OPxwGq1oqenB1evXsXp06fhdDrx0ksv4eWXX6ZxpcjzT/v98fFEMkdc4PF4UKvVSE1NRVhYGLq7u3H//n0MDw/D652K0yGRSKZJTEs1ychiMJlMuHDhAgYHB+lvbOnL3yLg8/mw2+2wWq1Yu3YtdTBl4+nC+QZcqmsAlBDV1dWhuLgYIyMjWLduHQoLCxEbG0u1dbMxKVwSIPANozQ5OYkvv/ySmuheeeUVHDx4kMYh4ZK8nzJGCwt/jAf7Oo/Hw9DQEEwmE27evIm6ujqIRCKEhoZSRmA27TOfz0dUVBQyMzMBABUVFaitrYXL5YJEIqH57tj1WyytNilPqVSir68PZWVlSExMhEajoQICl8aaq5w7d+6gs7MThw4dQlxc3NNNeo5gCzzsvJWjo6NobGzEzZs3UVJSAqvVih07duDQoUNUc73cVo8nEU+kWW0usFqtMBqNaGhoQH9/P9RqNdLS0hAREQGtVkudXgkWc9Ixh+DmzZs4efIkJicn6XvZGze57k/9qlar8eabbyI9PX3R677SwdQceb1TwfD6+vrQ0tKCzs5OiMVipKSkICMjA2q1ekbfkJlAxqevrw9tbW0Qi8VYu3YtBAIB6urqMDo6ioyMDCiVyhlNEU+J4NKDzTSNjo6irKwM169fh1QqxbFjxxAVFeWj9WFqetmaAAIej4fu7gElYZAAACAASURBVG5UVFSgqakJIpEI6enpSE1NhV6vpz5s7GcWo31erxdGoxH/8z//A6fTiTfffBNisRhOp9Pnvcy1QtokEonQ1NSEkydPYvv27fjud79LTwg/naezg/Qj24za19eH9vZ2SovUajWysrKwdu1aamZn0q+nfb2w+LtgjrjMEAQ2mw2dnZ1ob29HX18fAFDny8jISBrIDFi8ycfUVpw6dQrXrl3j1ECwN0Z/QycQCHDw4EHs3bt3Ueu9UsHcwIApE5rZbEZ7ezuMRiPGxsag0WgQGxtLc7dxYaZ+ZY6Vy+VCZ2cn2traUFFRAaPRiA0bNuDVV1/1iT3CPvnzFIEFtqmjra0N4+PjSE9Ph1AoRGtrK7xeL2JjY6nWlj2OXGvW6/Wio6MDVVVVaGtrA5/PpxH/o6OjF1VQY2/Mt2/fxv/+7/8iIiICzz//PCIiIuBwOHx87wDQCNo8Hg+1tbW4fPkyEhIScOzYMURGRj6dw3MEez7Y7XZ0dnaisbER7e3tmJycRGRkJNLT05GQkEAdreciKD/F4+HvgjnyB2bTXS4X+vr60NHRAaPRiImJCeh0OiQkJCAhIYEGg5tJCmSXPdcJSsobGRnBJ598goqKCuoHNV+Q+u3atQuHDx+eRlifJDxKH7Of6e7uRlNTEzo6OuD1eqHX6xEbG4vo6Gi/Yz4bU8T20ZiYmMDvfvc71NXVITw8HDk5OVi/fr1PPq+VrhGaj/PwSm8rE0xn/ZMnT6K5uRn5+fnIz8+HVqud0Q+Na2Ps7e1FU1MT6urqYLfbERUVhZycHCQlJfmY25jaqcetO9Oc4/V6cefOHfzf//0f3G43CgoKsHr1amg0Gh9Tss1mg8lkwq1bt1BdXY0NGzbg2LFjiI6O9inzScXjMCBs7SLwjemsoaEBXV1dCAoKQnp6OpKSkhAVFeUTjPT/s/flsW2e9/0fki/v+xBJ0bQuX3LsxHYOOw2aJs3h5vCaNW2XLmmLFOs6bEOHYcAw7L8OHYZt2AkMO7qtyFqsQ7OmzdLETZq2OdomTZrYcRTHdmRbskWK93295Pvy5e8P/Z6nD1+9lCiZlEjp/QCCJPI9nvv5PN9TVatvDLY1OSKQk6R8Po9kMom5uTkkEgnodDqMj49j3759CIVCbRst0O7SupaNVF6GfD5PydFaMySTdxJd9a233opHH30UZrN5S06ebo3N5WQFWNrI5ufnceHCBWSzWVitVkxOTmJsbAxer3eZq3w35WDHAs/zWFxchM1mg9/vhyiKOHnyJFqtFg4fPgy/30/fsdGLm9L7uvmMrZ/S3+z/3ZCjTpLcblTIKz2v2/r1Eq1WC4Ig4L333sMLL7yA2dlZjI+P44EHHsAtt9yiWIaV2qDRaCCVSuH8+fN4//33kc/n4fV6ccstt2B6ehp2u73tntXGqpy4KhFZ+ZpG1GRvvPEGrFYr/H4/wuEwrFYr0uk0otEoUqkUNBoNHn74Ydxzzz00TArBVlt3OpkxrPSZ/HP2M1EUsbi4iLNnz+KDDz5AqVSiUqKxsTH4fL42zcVaDiAqrh0qOZKB9Siq1WooFou4cuUKzp07h1wuh0AggAMHDmBqaooG4AOUT8MrTSD5NZIkUXL01ltv0VPaSt0jl1Cw77vvvvvwiU98YpkH3jBOrLVs6AAUdfH1eh3RaBTnzp3DxYsXAQCTk5PYv38/RkZGYLVa21yz2faUu+l36kNBEHDu3Dn87Gc/w8zMDO68806cOHECFosFPM9Dq9XCYDCg1epdVu5usZ5+ly/mrGHuas8iQeoIlK6XJGnVcd6JoCmVdbPGOHmfKIooFAp488038dRTT+HOO+/EY489RtuuG4kZIfPA0kGtXC5jfn4ep06dwsWLF2G1WnHo0CHcfPPNbWSEPRx1Kh/7fHmqC6UDRaFQwJUrV3DmzBnMzMwgkUig0WjAbrdjbGwMR44cwfXXX49AIACj0biMGA3jWrNWyMet0nhl12WtVotarYZTp07hnXfewcLCAhwOBw4ePIgDBw7A5/PBarW2pbtajVir6A9UctQB7CIlSRJEUUQymcSpU6dw4cIFtFotTE5O4tChQ5iYmKAMn4imV4oz1Gljr9VqePrpp/HjH/8YwOonr06n+FarhRMnTuATn/jEtphInSR5hHCeO3cOMzMzyGazGB0dxf79+7F//35YLJaO9hydyC4Lts0zmQy+/vWv49SpU+A4DjfeeCOOHz+Offv20ezmpFyD1B+dJEKdIEkS6vU6RFEEz/NotVrgeZ7+DSzZztXr9RXfqdVq0Ww2YbFYYDKZ0GoteYxaLBYavoDY7ZhMpo5kci0n+H5BLhloNptIJBKwWq1wuVyoVqu4cuUKRkZG4PP52sbCStIG8ptIGZLJJH7xi1/g7bffRq1Ww3XXXYcPfehD2LdvH4xGI1qt1rI8kt30qbwu5HpRFGk/CYLQFlZEp9PRiNokJtR2wWqHXnbvIP3QaDRw+fJl/PKXv8TZs2dRKBRw8OBB3Hbbbdi1axeNLA78ylttkNaJ7QiVHK0CpZNWvV7HBx98gHfffRfz8/PQ6/XYu3cvrr/+eoTDYWpHotFoqDusfFPsFNTxpZdewpNPPglBEJaF8ZdDafFrtZZiszz++OM4cuRI23XDfJpTqqfSNSQeyOzsLN59911EIhGYzWbs27cPR44cQSAQWLYIdds25PnkHvI3Cdb41a9+FT6fD5/85CdphvaVSNZG9QMZw+yGKa+rvF0J+anX66hUKqhWq6hWq2g2m6jVarT+AGiMHmBJckFSqMjrS/5mJXqCIIDnefosQRDaJEoktYfRaKS5vywWCwwGQ5u9lnyusPXdaLBzGwDm5ubwF3/xF/D5fPjMZz6D/fv3w2AwLLtvJakye+Aql8t499138dprr+Hy5ctwu924+eabccstt2B0dHRZP7Pxk1Ya50pEGYBiqhPSX3JSNOzrzEpYiciSH2IsTQ7UkUgEp06dwqlTp5DL5TA6OoqjR4/ipptuwsjICABlO9at2obDBJUcdQEySNlFgkyGYrGIS5cu4dy5c0gmk9DpdAiHw5ienkYoFILBYKAnLHYhJ5AHIZybm8N//dd/IRKJrEqOgOUSo1arhYMHD+J3fud3YLFYtgQxAto3CpagCIIAQRCQyWQQjUZx/vx55PN5cByHiYkJHDhwADt37qRu0XJisJb2kCQJgiCgUCjg1KlTePvtt/HII49gamoKGo0GxWIRNptN0Zukm7ptBNixQBbxZrMJURRRqVRQLBZRrVbB8zz1UuI4jkpzdDodbDYbDAYDleiQQKoEa5UiEIkEkUIR6RTP82g2myiXyxAEAfV6nV6r1+thMplgsVhgs9lgNpupJJDdyDeCJK0kQQCWIvS/+OKLePHFF1GtVnHHHXfgoYcegs/na3uOEjGSE2mWeAmCgGg0ijNnzuDMmTNIpVIYHR3F4cOHMT09DZ/PR/uGfdZqUriV6smWpVO9tyrkc4eASNnImI3H45iZmaEJeN1uNw4ePIibbroJo6Oj9J7VDknboU0HGSo56gJKg1Ru09JqtZBOp3Hp0iUsLCwgmUxCo9HA5/MhFAohEAjA4XDAZDLBbDZTbzS5+LvZbOL555/Hc889R2OMdAPyDJ1Ohy984Qs4duwY/bxTHQYRSgswq4ZpNBqo1WqoVqvI5XKIRCKIxWKoVCowm80YGxvDnj17EAgEYLFY6HOV0nt0sxmwZDaTyeCVV17BG2+8gXg8Dr/fj0cffRSHDh0CgDYyu1YbgY3oH3KaJdIf0o7lchk8zwNYIjZGoxEWiwVms7ltvBJ7qdXabL316CS5IN81Gg2qwiOSrGq1SiUrer2+TbpkMpnakqluJkRRxNzcHJ577jksLi7it37rt7B3714A7WqU1QgHexBir6/Vavjggw/w3nvvYW5uDqIowu12Y8+ePRgfH4fH44HNZqP2LEQVpkTi5c/uVA5yWFmLLdowodNaRA7K7Py5evUq5ufncfXqVYiiCK/Xi6mpKWpcTSSFnaT9W6ndtgpUcqSAtWwAnRaXbDaLeDyOhYUFZLNZ8DwPvV4Pm80Gr9cLr9cLu90Oq9XaZncBLLl1Pvnkk3jzzTeXSZrkkKvv7rrrLnzyk59sm4yDBqX2k5/IyMJLNsByuYxSqYRkMolcLodqtQqNRgOHw4FAIIAdO3Z0DJxHntepDErlA5aIKs/zsFqtaLVaOHfuHL75zW/CZrPhyJEjuPHGG2lyzW5Ogqu1yVru7XZBlSSJkoparYZyuYxqtUptgvR6PR1/RAJDCAULJcKi9N1a6q60+bKbrtLmwT6fkOVGo4FKpUJ/BEFAq7WUc9Bms1FSQOyY+k2UOhFkAMjn88jlcggGg7BYLFhYWEAkEqEBQNn7OqnZ2P+VDliFQgGRSAQffPABotEoarUazGYzvF4vxsbG4HK5KFliVaBKfddJ/daNJHpQNv1uy6G0FpH1V5IkKlktlUrIZDKIRCJIp9OoVqvQarVwu92YmJjAxMQEDdOhVIbV2m5Q2m27QyVHPYbSxl+r1ZDL5ZBKpZBOp5HP51GpVKDT6cBxHJxOJ7xeL6xWK5xOJ2w2G4rFIk6ePImzZ8+iUqko2g0QtYgkSbBYLLjrrrvwwAMPUPf9fk+wbhZv9vdqiwE5iZEFqFwuI51OU9sXotLx+XyUYDqdzjb7jfUSFHm7ZjIZegp/+OGH4XQ6US6XsbCwgJGREXi93rZNqRdtvZbnyFMMyE+3RMJGSGW1WqXSFYvFAqvVCrPZDLPZ3NHTSI5BWLA79S+ptyAIdBwRsiSKIgDAYrHA4XBQoqRUb/Z5ayHUayk7i6effhpPP/007rjjDtx+++2YnJykxPRaxjA5MFUqFcTjcUQiEUSjURQKBdTrdSphCwaD8Pl88Hg8cLlcNLJ1txLQQSNHcoIjJ9pK1ykd1HieR7lcRrFYRDKZRKlUQiKRQC6XQ71eh16vh91uh9/vx86dOxEMBuF2u9vydF7LYUnF5kMlR32AUpOyE7VSqaBQKCCfzyOfz6NQKNDTvEajoeoBADSMALG3YDdknU4Hq9WKUCiE2267DTfddBP1WlmLWkdOutjPlerEXtfpVC+/h31+s9mk0iBChAqFAkqlEur1OjVGN5vNsNvt8Hg8cDgccLlcsNvtMJvNiqRAqQxKfaBUPoJoNIr3338fp0+fxqVLl+B2u/HlL38Z4XBYsQ16ufCt9Xny8guCgEqlglKphGKxSFVlZrOZboaEDLE2cATDvIjLyS0hB/V6HfV6HcVikaoPW60WTCYTXC4XnE4ntVVi0c+2YNv8woUL+OEPf4iZmRl4vV7cfffdOHbsGOx2+zKp0Hqkimx7kEMayQ+XSCSQzWbRaDTowcPj8cDtdiMQCMBut8PpdFLJKdC9fUw/x5acBMr7nn0/+7vTNYIg0DUom80im80il8shn8+D53kIggCr1Qq32w2/3w+32w2PxwOv10vtOjtJ+4Z5Tm13qOSoz1BaINjJSVQ3RH1EiBMhTDzPI5VKIZvNolwuUzdqcurbu3cvJicnMTExAZvN1mYD0GmBkhOhlUiQUn1WkiyQxUcUReRyObRaLeRyOfA8j2KxSDftWq2GZrNJjX3J5u10OuFwOOiGTjZz+fuvlZywInO2Ti+99BKeeeYZqjq74YYbEA6HaaiGfpAiebnIe7r5XJIk8DxPF3YiZTSbzVQKSdRJLIndqiJ9+bgkdSFG3rVaDZVKBfl8HrVaDVqtFna7HS6XCy6Xq6NaVv78ayEscmSzWZw7dw4vvfQSAoEAHnnkETgcjp6RcbmKkqBardJDSS6XQzKZRCaTQbFYpLZpDocDTqcTTqcTIyMj8Hg8sNvtcLvdVGLbzYFKTtg6rSFyyO+Rh0Eg13TzPFEU6WEsm80ik8kglUpRb8x6vQ6O42CxWOB2u+F2u+Hz+ahqlqxLndSywzxvVCyHSo76iG4WM3nzE8kK8c4hixSZ1KVSCfl8HuVymdqSAKAnv2azCavVCoPBAKPRSDOGS5IEk8kEr9fbUTyutICy/5P76vU6stks/axWqyGZTNKNmpzOS6USlVDYbDZwHEdF9+RUSuJ7GI1GcBxH7V16depcST0iSRKuXr2KS5cu4fDhw/B6vVhcXMTi4iICgQD19lEiE/0SmSttIuRvOZkrFotIpVLI5XJoNBo0ro7L5VIkROwzVyLIWxWkrsTrkEhSstksVTV5PB4awZy9p9cqNvY55CeTyQAAjYV09uxZBINBjIyMdJTOdqpjpzEk/478T6RsZP7W63XE43Hk83mkUim65vA8D47jYLfbqaegw+FAKBSC0WiE1+ul37NqS6XxttrWI5cEsp+z5SefEXs6YEkCLIoi0uk0tQsiP41Gg0pP3W43vF4v/H4/DcBInBBIuAj2nZ3GQad5q2J4oZKjHmGlCdHppKS0SHXavMgiQVyvyW8Sc4ZEr61Wq0ilUgCWXIhrtRpd/AqFAoxGIzUwJO8krtxsuYgESq/Xt8Xu0Gq1VAzvcDhoeAOi7tJqtZRUWCwWeDweGs5Aq9VSzyHyN3mXvD2URPS9WITIPYuLi/jRj36EV199Fa1WC1/60pdw9OjRtrKwC+JmLYJKG1o+n0csFkMmk4FGo6GLO0lKSa5dLQoyAStdWUmqNAxYrX/YzZb8LQgCcrkcEokECoUCDAYD/H4/NZpeTQLbi7KS/wlmZ2fxz//8zzAYDHjkkUdw0003remd3axH7N9su5D/yTpDAkASOxyicopGo1SyTWzcCIi3oyAI8Pv98Hg8tH5msxmBQGDV/JHsd1qtFjzPIxqN0nFKyE+hUIBOp6MHRq1WC1EU4XA46IGMpEAhdooejwd6vR4cx0Gn09F1jkW3hwf24LJa26sYHqjkaAOhtBh2WmiVTnzyidppYWU3ePbzfD4PURSXEQ+iypODEB0SkI+8R5Ik2O32ttO1nEywYBffTuVXaiv2fvl3a1FnyK9/+eWX8a//+q+oVqu4+eab8fGPfxzXXXcdtdeSv3ejFrtOmxYhsNlsFpFIBIVCARzHIRQKIRgMUgN8+QbX6dmdPtsKp9+1kFilpS+fzyORSNCYZaOjoxgdHYXZbG67R/6O9Zav03grl8t47bXX8N3vfhexWAwf+9jH8IlPfILmdlzL+F+JJMnfzX7H1lVeVvb7VqtFc1LyPI9KpYJkMkltC+fn5wGABktNp9Nth7GVIO9DEkeOfMdxHILBII29FQqFwHEctVFkn9FpXSIHvJWu6dTf3a7hKoYPKjnqIdY7GdYz6QjYU78cnaQAnSZxt6dNJaz0/pUW4WvBaqc6VtomCAI9Kc7NzeHJJ5/EPffcgyNHjqzLtbubE+W1gDxfEAQqKSoUCrBYLAgEAvD7/ZTMyU/8Sn3Zqw11WLDamFMiJ+T0T5wmFhYWkE6nYTAYEAgEaA4xVu273nbqViKxuLiI733ve3jhhRfwh3/4h7jrrruWReDuNJfJdyuRw27JsFzCxF4vD1a7muSO5N2Tt38nsOSGjZ6uVA8lkLWJvW4lEqSEXswrFcMFlRxtA8glT8DKnmUsVpv4GylRWcspmJCifD6P06dP491338Xx48dx4MCBtnL3i7h1i04bVKPRQLFYRDweR7FYhNFopKSI2EGstNirWB9Y1aIkSSiVSlSFSUgS6QOlw0evJG+sqqbVauGdd97B9PQ0TCYTdWzwer1UTd6ttKyfYNcZudSJRS/KpXQY6/R8dW6oWA+41S9RMezoZgMd5AWkkxpRrh5kSVSj0cDp06fxs5/9DBcuXIDf76e2E+Tk30kF1U8oSQxYgkbsxkhMFZPJhPHxcWrHxW6ag9xnwwYyFli7Ea1WC4fDAZvNBr/fj0QigWg0ikwmQ2NdEe+2Xo8judT18OHDAJY8rs6cOYPnn38eN910E44dO4ZgMAiO4zZdJSqfj/LPgHbidC3Y7IjnKrY+VMmRiqGDkkqEhUajQSaTwT/8wz+gXC7jQx/6EG677TYEg8Fl8X02S1okBwnYR9ypDQYDNbQmtl0sVNF+f9BJha3RLNl9ZTIZxONxVKtVWCwWjI6O0kCk3Ug411smgmazidnZWZw8eRIXLlzA2NgY7r33Xhw5ckQxma1SnVSoULE6VHKkYmjQyYYBWJK4XLx4ET6fj0qJzpw5A6vViqmpqbYT/iCAlVxVKhWk02lks1mIokilEiQPFrC6bcqg1GurQWl5bDQayOVyWFxchCAI8Hg8CAQCsFqt1OOpn30iSRLS6TRef/11vPLKK9i1axc+97nP0ejWSuRfHSMqVKwNKjlSMTToZAwZi8Xw2muv4ZVXXsGxY8fw2GOPdZQubfYGwZaLuJDH43HwPA+PxwOfzweHw0FVPKsZ66voLVaSHMnHVLlcptGmtVot/H4/RkZG+prXkB3PtVoNc3Nz0Ol02LVrFziOw8LCAmw2G9xuN71OHSsqVKwdKjlSMVRgh2u9Xsfp06fxgx/8AJFIBNPT07jvvvtw/fXXLzO4HiQ1VKvVQrVaRTQaRTabbVPPcBzXkRSp2FzIDZ6BJSkOMZzP5/NwOp3YuXMnleL0qxzyMmk0S0EQ/+qv/go2mw0f//jHMT09DUAlRypUrAeqQbaKgQfZAFgXZiJ5mZ2dRbVaxWc+8xnceOONcLvdioahLDZT1SBJElKpFBYWFiAIAoLBIAKBAEwm05qMelXytLFQ8gQjRtskP1s6nUYkEsH58+cxPj4Ov9/fk/fJPwfQ9n7ymU6nw/T0NF544QXMz8/jgQcewEc+8hE4nU51vKhQsUaokiMVA4lOKrR6vY6rV69iz549aLVaKBQKkCQJDoeDenANSngB+bXNZhNzc3OIRqOw2+2YnJyE0+kcWHf8tWyo16r+Wy1+jDzOzkZ7GXaCPExGuVzGxYsXUSwWEQ6HMTExAY7jNiQ+TqvVQr1ex4ULF/Ctb30LkUgEn//853H8+PG26wah3VSoGHSo5EjFwEAp5hC7+czNzeGb3/wmZmdn8ad/+qdtMYv65SnUqZydDMPZjZutT6VSwYULF1AoFBAOhzE5OUmD2W2FzYptk5XSkMgDGHZ6xrBASaLUbDYxPz+Pubk5eDwe7Nu3DxaLhd7TqY698KAk7ZvNZnH27Fns3r0bwWCQkkqdTrdMAjtsba5CxUZAJUcqBgIrSR6y2Sx++MMf4plnnoHZbMbx48dxzz330CS6wPINZaVNuJflZeMOKdmkNJtNxGIxXL16FRqNBrt27WpTtwyrN1G3EjNgfZ52nYjyaqqmzYYkSZSEpFIpzM7OQq/XY2JiAh6Pp82bDeif0TZLzlutFl599VWcPXsWDz74IE2xIZ8fK0nrBqFtVajYSKg2RyoGAp1UDq1WC7Ozs3jppZdw6NAhPPTQQ5ienm5Tryih30Hi2Pey7vbshsTzPCKRCJLJJNxuNyYnJ2GxWBTdwwd181Hy9lMqv1zdpUQU2WeQz1eqt7w9V7pus8HWnZTb5/PBZDLh4sWLmJubA8/z8Pv9bfGI+kGS5OpHQRBQKBRw+vRpvPfee3jggQdw6623wufztb27UxkGoX1VqNhoqJIjFQMDMhQFQUAqlYLJZILH40G1WsWFCxcwPT1NE4AO2oLNTiNJklAulxGNRlEqlTAyMoJwOLxsUxyGU7l8815tuZCrF1utpVxarNGwnLiyKjjW+F5JPSkvy6C3nUajQa1Ww8LCAnK5HLxeL3bs2AGj0dh3uym23RqNBs6cOYOTJ0/i/Pnz+NjHPobPf/7zXeVoG+Q2VqGiX1DJkYqBASEVb731Fn7xi1/guuuuw/Hjx9sI0SAu1nIikM1mEY1GIUkSQqEQfD4fTe8wiOXvhE4SomazCVEU0Ww20Ww20Wg06OeNRqPtekmSUK/XabJRo9G4zNZKp9PBYDBAo9FAr9dDq9VStY9er6dqKhYsadrMdu3kxUbKRT5vNBqIRqNIJpNwuVzYuXNnV3ZIvSgfi3g8jueffx6hUAgf+9jHIEkSzUovT0kzTGNVhYpeQyVHKgYGc3NzePHFF3Hq1Cl4vV7cf//9uPnmmwcuurUcZAqJoohkMonFxUUYjUbs2LEDLpdLMTEoe+9m10tJtdNqLSXubTQa9KdWq0EURTQaDdTrdUqQiJ0NAGrw22q1wHEc7TtCjnQ6HZrNJur1+rIyaDQamvdOr9dDp9PBYrFAr9fDaDS2/bASD7mUYyPbcyU7KLm0rdFoIJVKIRaLwWw20/Ehv67fRKlWq1FCmkql8Oabb8Lv9+P6669flqpms8emChWbBdXmSEXfsZJ3F6tCmZmZwWuvvYbbbrsNd911F3bu3Ek3143GSlIJJWmBKIpYWFhAMpmEw+HAzp07YbVa2+5T2mh6ufmsVZIitxFq/X9X8FqthkqlgnK5jGq1ikajQaVFer0eHMeB4ziYTCZKXDQaDQwGQ1tyXEmSIAgCarUaeJ6nhIlswHa7nXp3EYkTz/MQBAH1eh31eh3lcrnN08poNMJqtcJsNsNqtcJisVCp02recv0got3Y6ZC/DQYDTRI7Pz+PS5cuYdeuXXC73SuWrVcqLvIMi8VCCWw+n8fPf/5zFItF3Hnnnbj77rtprLBuVKgqeVKxVaFKjlT0Bast9qyxqF6vh0ajQTQaxfz8PA4ePEg3zs1afDud4pUkAq1WC5cvX0Y8HofX68Xk5OSyDXsQIPcAIwSmWq2iXC6jUCigUqmA53k0m81lZMRgMND8YcR2iPwQEK+9WCyGRCKBRqNBpRRarbaNaHm9XoRCIdhsNlo2SZLoD7mOSK0IaeN5HqIoQqPR0PK5XC7YbDbYbDZFqdJGSWfkkKvaSB3z+Tzm5ubQbDYxPT1NAzXK0WvyLG8Hnudx/vx5vPDCC3j//fdx4MABfOELX8DIyAi9ZiXnBpUgqdiqUMmRip6hk3qGPfVKkkSveeedd/Dyyy/j13/91zExMUE3o0fuegAAIABJREFUa9a+ZFAXXrY+ly5dQiQSwcTEBMLhMHQ63TIPoH6HFlgJcuNmSZJQqVSQy+WQy+VQKpUgiiJ0Oh2sVivsdjv9IeotUg9WRciCtEez2cS5c+eQzWbh8XjgcrlgMpna6i4IAnieRzwehyRJmJqawsjIiKJhNltmYtckCAIqlQpKpRKKxSKq1SoEQQDHcXA4HPB4PHC73TCbzctslVaKwdRPKLVXrVbD2bNnKUFyuVwAVibk/SiPJEkoFAp48cUXMT8/T8kRK1HcrLGrQsVmQSVHKnqKlVRQ5P9arYbnn38eTz31FDQaDb785S/j2LFjbcRps0kRS+rkmwNrQ3Lp0iXEYjHs2rUL4+Pj9Bq5GmSjT9hKRLVeryOdTiOZTCKfz0MQBJjNZjidTrhcLng8HpjNZsW6smRPqU+BJbuid955B+VyGZOTk3C5XJTUkL4lz9BqtWg2m4hEIigWi9i1axdCoVBHCQ/pB3mdgCXpRz6fRzqdRjabRaPRgMlkgtPpxMjICLxeL/UUJORIXoeN7hsypur1Ot5++21oNBpcd911cDgctDyrzaW1ohNBZyWg5HCi0WiQSqVQqVTowYWUS4WK7QCVHKnoOVYyUk0kEvjOd76Dn/70p9i3bx8ef/xxTExMAOh/bKK1QmkzYdURly9fRjKZxMTEBCYnJ5ddv5EbipLKBFgyEi+Xy0gkEsjlcqjVatDr9XA6nfD5fPB4PMuMcFm1ZyeSJ1fRSZKE8+fPI5lMYnp6GiaTqc1QW+7FRTZhooKrVCrU/qYbcqzUtpIkged55HI5ZDIZFAoFSgB9Ph/8fv8ytVu/+6YTkWTbtVar4d1334VOp8OePXvaCJLSMzYCkiThq1/9Ki5fvowvfvGLOHbsGFV/q1CxHaCSIxU9RSfja/J5KpXC97//fZhMJtx///3UGHW1aL2bDXaa1Ot1zM/PI51OIxwOY+fOnW2BIDcLrN2OIAjI5/OIxWIol8sAAKvVCo/HA6/XC6vV2pZCgkBpI+/0OUt4YrEYZmdnMTk5CYfDQW2CVpJ8EDJJjNlNJhN27dq1Lu9E8ixW3VmpVJBOp5HJZFAul6HT6eDxeDAyMgKn00nDBfSzz1YiyOy8KJVKOHfuHKxWKyYnJ2E2mxXVjNcyL9ZipN9oNPD666/j5MmTSCaT+MhHPoLjx4+3SfdUqNjKUMmRip5Cyeg3lUohGo3SHFPVahVarXbgXfSB5eo1URRp1OtAIECJkdzGaKVn9QuiKKJWqyGbzSKdTqNarYLjOLjdbng8HjidTmooriTBkEuFurF9abVaEAQB7733HjiOw9jYGJrNZtebMPldLBaRSqUwMTEBn8+3JnWSkjSLBVG7EWkSSVTs9/vhcrmWhQboJzpJ4VqtFpLJJK5evQq73Y7x8XFKkICNs5WSt2UikcAzzzyDU6dO4f7778f9998PvV5Prx/kuatCxbVAJUcq+gKy4F+8eBHf//73sbi4iN///d/H5ORk23XDsri2WkuB/BYXF5FMJuH3+7Fjxw66UXQ61W+EBKzZbFID61QqhVqtBovFQgmR0+lcMafXetR/7LKRy+Vw4cIFhMNh2Gy2Ntsxcm2nZ7P2StFolAZIlHvBrUXqoWQvRkhcsVikhuiCIMBut2NkZIQajl+rdGatYMvabDaRTCYRiUTg8XgQDofbQln0skxrac9isYhz585hdHQUY2NjNMyDz+cbCImpChX9gBrnSEVPQRZUEun6ueeeQ7lcxt13301tKYDhW0ybzSYSiQQlRiR5J7Bybqpeb2hylMtlZDIZZDIZ8DwPs9mMsbExeDwe2Gy2Ze/vVRnZeyqVCnX7JxKObp7PbtA6nQ56vR61Wo1GbF4raZP3Aytp0WiW4jB5vV64XC74fD5kMhlks1lcunSJfub1esFxnKIElP27V/3Klk+r1cLn86HRaCCRSECv12PHjh3LPO56+d5urnE4HDh69CiAJQnWqVOn8MYbb+DOO+/EkSNH2vqq22erUDHoUMmRip6AXRxbrRZyuRyee+45GAwGfOlLX8L+/fvpyXxYwNqvpFIpxONxuFwuhEIhGAyGNi8fJcNlYO3SmJWIBPtMEm2ZeBRZLBaMjY3B5XK1eZz1UwpCnk1iVa2H0JDrtVotDAYDTTWilIeuV9DpdDQuktfrRTKZRCaTQT6fR6FQoOo2Fv1sQ/Yder0ewWCQhjowmUxtbvWbNX/Yca3T6RCNRvGf//mfuPfee/HRj34ULpdr4OwEVai4Fui+8pWvfGWzC6Fi+KC0EMpP6S6XC3fffTf27dtH3YOHcfHM5XK4fPkybDYbJiYmqKpDyTNNLt1ZS31XMnpmCVgqlcL8/DwSiQQAIBQKYWxsDG63m9rPkLbuZ3uT8mSzWYiiCKfT2fU75WRap9PR9CQej4d6RnVjy7XWMrPPNJvNcDgcsNvtEAQByWQSxWIRkiTBYrFQqQ1LTnpVlk5kguM4WK1WFItFZLNZ2O12Gnl8s+ePRqOBx+PB5OQk4vE4fvzjH6NQKODQoUNtErfNLqcKFdcKVXKkYl1gVQ3EUPntt99GJpPBbbfdBrfbjaNHj9LEoYPmpr8aWPXgpUuXoNfrMT4+DpPJRL+rVCrIZrPI5/MQRZHeR4ihz+dbt9E5S4rI//V6HZFIBLFYDM1mE6Ojo9ixYwdMJlNboEYlo99+gDxbr9dDFMWujYY7GYMLgqCoOuxFXeT3knK2Wkt53NxuN2w2G1KpFBYXFzE/P498Po+xsTHF6NXX2q4s4ZXPJULaJiYmcP78eczNzeH666/vi3ptPTCbzdi/fz9CoRCefvppuFwuKukj0sNBIHIqVFwLVMmRinWBXdh5nsfLL7+MJ554ArlcDgcPHmxLuKq0SA7D4tlqtXD+/HlUq1Xs378fdrudGs4uLCzggw8+QDabhUajgdVqhcFggF6vR7VaRTKZRDKZRKvVom7za60ze30ul8Ps7CySySQsFgump6exY8cO6n0mJ5+9lrh0AlHxpdNpOByONk+m1e4jv4nqMp/Pw2w2w+PxtJE9+T3rLSegHNSS/Gi1WjgcDni9Xqq2zGazVJIjD31wreVRqh/7mdFohE6nQyQSAYC2JLWbDULgDh48SCXDxWIRZ8+eBbBkpzQMc1yFik5QJUcq1gT5xlAoFPD000/j5MmTmJ6exuc+9zka1HGlhVGuQhq0RZR42iWTSRw+fBh2u50GGbx06RKy2Sz8fn+bdIi9l2yuly5dQrFYxJ49e7pOostKKQRBwOLiIhYWFiBJEsLhMCYnJ8FxHA2yuJltJ0kSJQ7lchkWi4XmU+sEed+TSNH1eh0jIyPU0L2X7uurqcRY+zKTyYR9+/bB5XLhypUrmJ2dRalUwvj4OFVvrYfsrlY2uUQNAAKBACqVCi5evEiJ22b2t9wTkCXDc3Nz+Kd/+ieMj4/jsccew9TU1MBIu1SoWCtUyZGKNUF+Ak8mk/jf//1fHD58GI8//jjGxsbodd1uHoNIjGKxGK5cuYKpqSmEQiEAS8EfL1++jEqlgvHxcRqPhyRJBUAJC8dxsNvtsFgsSCaTqFQq8Hq9XakXSdtWq1VcvnwZsVgMZrMZu3btot5LnexxNtJriDzfYDBQDyuHw6Eo9VkJkiQhk8lAq9UiFApR425W5XStdVntflZ6RP622+1wOBzgeR6pVAqlUgk2m63N/qcXbSyXYsm/czgcKBQKyOVy8Hq9XUvn+gEliRv5zGazwWQy4Ze//CXefPNNWK3WNq9OFSqGCSo5UrEmtFot8DyParUKo9EIm82GgwcP4ujRo/D5fG32RYNGelYCSyoKhQIuX74Ml8uFvXv3UlXa4uIi8vk8wuEwlSQBy4182XqbzWaYzWYsLi6i1Wq1JReVb/rkNN5qtVAoFDA7O4tCoYCRkRHs3r2bptYg97O/CeQb1kZAo9HAaDRSzzmiUmXrpVQm0uYk9tDo6CjcbndHFeFGgpTXZDJRFRGJj2QymWjKlWtVGa90LRkjHMfBYrFgcXGRBrBUSoGiFEZhI2EwGDA1NYWxsTHMzc1hfn4eN954IywWyzIpp5KHJ8FmS0NVqABUcqRiDSCb9iuvvII33ngDN9xwAziOo+7jgPLpd1ig0Szlubpy5QokScKePXuoy36pVKLB+YjbMrlnJUiSRG1HFhYWaLb4TsRIFEUkEglcunQJzWYT4XAYY2NjA92+Go0GHMfBbDYjFotBEARqJK5UT3JPq9VCuVxGKpWiIRI2UyqiBKI6cjqd0Ov1KBQKSCQS4DhumSE8uX490q7V7KtIGIxkMgmj0Qir1dpGkHvtSbdWkPcS6d/U1BT27NmDUCgEnU6HbDYLSZLaQjSw9wEbm4tQhYrVoMo7VSxDpw0tkUjgxRdfxEsvvYT9+/dDFEUYDIYNS23QT2g0S/F64vE4zSpPSEyr1UI6nQYA6rm02uYnd1V3u91IJBI0VpJcPQkAjUYDV69eRSwWg9VqRTgcHvgoxGw9vF4v9uzZg4WFBVy9ehUejwdWq3VZwlJiu1UsFlEul+F2uxEOhykRHaR6stKbUCgEk8mES5cu4dKlS+B5HuFwmEqR5B5nawF7b6PRQLVapTGfyLPMZjOMRiPi8ThV2bLl3CwoETM2En6tVsOTTz4Jr9eLu+66a1l6GIJB6ncVKlRypGIZlIhRLBbDU089hZmZGRw7dgwPPvhgmzRjGCGXYhQKBaTTafh8vraEuM1mk9qb6PX6Nakv2M11ZGQE2WwWgiAsO0GXy2UsLi4iHo/D6XRiYmICTqez7TmDBpYEkM0xEAjAZDIhkUggl8shn8/DYDBQr7pGowFBEKh0iRBA8v0ggpXMEE86QmIBtKX5YI2pV4KcPBNynk6nkc1mUavVACzFPNJoNNSmrdlsQhAEpFIphMPhgYgtxL5XTvo1Gg3N+ff8888jkUjggQcewOTkpKKx9mbXRYUKApUcqegIudeUJEm49957ceedd8Lj8fTMWHazwHrd1Go1xGIxGAwGBAIBuim1Wi2a5d7j8az6LPZ/OaxWK+LxOHieb5O4lUolzM/PI5vNwuv1YmpqamCkAuuB0+mExWJBuVxGqVSiKUEIHA4HrFYrHA4HTCbTsvQTgwi2f10uF/R6Pebm5pYRpLXMB3b+1Ot1GluJhDMwmUzUmJmQIpJEl4ROIPNQns9us6AUD8pqteLRRx/Fz372M/zkJz9BIpHAZz7zGRw8eHCZ1Gmzy69CBYFKjlQoghgh12o12O12hEIhPProo7BYLG3ZwrfCYtZsNmkW+/HxcVgslmUSEdZ9WwkrfU5+yEm50WjQ68vlMubm5lAoFGhiz2FKs6K0ubVaS4Ew3W43nE4nRFFsax+O49oiT7O/BxGsNIPUz2KxYHJyEvPz84jFYmi1WhgbG6MEiVzfCSwxEgQBs7OzKJfLCAaDsNlsbYmCtVotDTFgtVpht9uRSqUQjUZhMBhoDr1BaEOlMmi1Wvj9fjzwwAMIhUI4f/48zbPItqncWFuFis2ESo5UKEKSJLz22mv4xS9+gd/4jd+grutA96qDYYBGo0G1WkUikYDL5aLu9qxUSWlzXA1KGyQ54ZPFv1KpYG5uDrlcDuPj49ixYwe1zxkG9UKnzYwlPCRnGvvdsHkoyetJ/icEqdVqYXFxERqNBmNjY8tsrJTA2q3Nzs4il8thcnISNpuNSoHYa1mDZ5PJhFAohEQigVgshvHx8YEzZGdBxoHZbMaxY8dw5MgRqoZcXFyE1WqF0+lEs9lccxgIFSr6heHK6aCi55DbPpDf//d//4e///u/RyaTQb1eB7DcZX0YwNZJCYIg0HQcfr+/TZ1G6ks2q0ajsex+Vp3R6V1kcxBFERzHwWg00sB+2WwW4+Pj2LlzZ5vdzaBIAlbDaqSG1GO1sdNtXVcjpvI+UBrf64WcAGq1WkqQnE4notEo0uk0JcDknZ3KoNVqkUwmsbi4iPHxcdjt9jb1o/yd7DN0Oh18Ph/Nv0bUv72oZz9A2kun01FVajKZxL/927/hr//6rzE/P0+9GwkGsR4qtg9UcrTNIT8VF4tFfO1rX8M3vvEN3HjjjfjjP/5j7N27d5NLuX6stulWKhVkMhkEg8E2LzK2XfR6PQwGA6rVKr2PbHrEk4zYD8mNlMmmJUkScrkc9Ho9jEYjrl69ilwuh3A4jB07dgxd7jkCJUnaWiRra90M5f1J2lb+TCWyquRocK0gNjUk3AIhvGx5laRqpOxXr16F2+2Gw+Fo80xbCaRuRqMRTqcTqVQKgiAMtFcjAdseTqcTt9xyCyKRCP78z/8cb7zxxjIVLAuVLKnYSAzniqyip2DVR5IkIRKJ4I477sDv/u7vwuv1DrTKYy2Qn+ZFUcTCwgKMRiMCgUDbd+y1Wq0WbrcblUoFPM+3qThYsASJfSfx2Mnn8/B4PIjFYkilUvB6vQgGgzQi9FZAN2NFTiC7vY+9n0Cr1baRAtL+xCNOEASIoohms9mmrpJ7Va0X5N1utxuTk5PUULtSqXQsM3sQKZVKNFzDWuYYudZut6Ner1PiPgwEgvSTyWTCiRMn8Ad/8Adwu93427/9W5w5c6ZNWgu0qyBVqNgoqDZH2xxkI6nVarBYLHA6nfijP/ojcBwHm83WJh0ZdshP8JlMBoVCAbt376axauTXEmNYr9eLVCqFfD4Pv98PoD0fF7mWBauaS6VS4DgOer0eV69ehdPpxOTkJKxWaz+rvKFgJTarqdrY69nPuoGc2JB3EpJAfthULlarFVarFWazuc0+p5cbrtfrRb1ex9zcHC5fvox9+/ZRVanSe4rFIi0bUaetpTysVLNYLNLo68OGm266CR6PBz/96U9p+iFyeJHbb6kkScVGQSVH2xit1lLAubNnz2JmZgYf/vCHMTExQdVLW5UYAUu2RpFIBFardZmLvtLmazabEQwGEYvFYDQaaRspGc+S36TtstkscrkcXC4X4vE4zGYzxsfHqZfRVgBLjLrdwORStrW2Bau2zOfzSCQSKJVK1FuOBJXkeR65XA5arRYOhwOBQAB2u70rItdtOQgCgQCq1SpNFtwpng8AuvlzHAdRFLu2M5OTSr1ej1qtNtTEYWpqClNTU3RNOn/+PKrVKm644YYt5x2rYjigkqNtCrJpnD59Gs899xx4nsfhw4fpd/KFehi8p7oBqRtJJDo9PU0lCfK6sf9zHIdAIIB6vY50Oo1mswmXy0WD8MlJAVGlZbNZ5PN5OBwOlMtlSJKE8fHxtgCPw7aprUZouiXUSrZK3XrqkWskSUIsFsPi4iK0Wi18Ph+VDpFykBhBtVoNuVwO5XIZ4XAYXq+351njOY5DOBxGtVpFJBKB3W5HIBBY1sdyD8j19D95JsdxyGQyqNVqQyeJlB9EWq2lmGOvv/46zp07h3Q6jdtvv51GpmfvUaGin1DJ0TZFvV7HG2+8ge9973uw2+341Kc+hd27d69o+zDsixJZXOv1OqLRKJxOJ7xeb9f3GwwGhMNh6HQ6Sq6cTiesVit0Oh10Ol3bRpzP59FsNuHz+VAul1GtVrFnzx76zmFpTyXvO3YzE0URoiiiXq9Dq9WiVqtBEIRVn2s0GimJMRgMNP7RSobT8jaLRqO4cuUKjWpOXMRZskr6xmw2w2q1Ip1O48qVKwCAkZGRnvUDeQ7xYJuZmcHVq1dhtVppUE+WPJPo690aYsvfQ/qBtH0qlYLVah06sg38qi6sy38+n8ezzz6LVCqF+++/n9oFqlCxEVDJ0TaA/EROPqtUKvB6vXjggQdw/fXXL0tpwWLYFlsC+Uah0Swl76xUKjhw4AD0ev2avKTMZjPC4TDsdjsSiQRSqRRSqRS0Wi1Vj5B4LTabDX6/H/l8HrlcDjt27EAwGNyUtuy0YcpP4+x1Sid1QvxqtRrN/8XzPDV8Zr3zVgMh4jqdDnq9Hnq9HmazGWazGRaLBSaTibp9s+UlZcxms5ibm4Pf70cgEFhRTUfuMxgM8Pv9iMViiEQiMJlMNCBhL0mFw+HA+Pg4Ll68iIWFBezevZtGuyawWq203daSBoSV7JI8dcSGjsTKGkaQehsMBlx//fXw+Xx49tln8c477+DIkSPU1k9+vQoV/YCmNQzuDSquGUpi/VKpBJ7n4Xa7h3ZBXQ1yYliv1/Hee++B4zgcPHhw2YbV7TPJiZ3neWoALIoitFotbDYb3dyz2SwuXrwIo9GIw4cP001ws225OpEg+ecazVKwykKhgFKphEqlgkqlQskPx3EwGAzQ6/XUgN9sNq/YruS5LKki0iYihSK2NFarFS6XC3a7HTabjT5XFEWcPXsWoihicnJy1RQk8vFfq9UQjUbh9XoxPj6+LGJ3LyCKIt5//30UCgXs3buXbu7kHY1GA2+88QYld53sjpQM3ckYqlQqWFxcpPZse/bswejoqGI/DhskSUIymUQsFqOxpJS8DIexbioGH6rkaIuD3fgkScJ3vvMdjI6O4vbbb4fNZqOGqVsVcqlRLpdDqVTCwYMHodPpIEnSmokKeSbHcbDb7bDb7YrqH7IBt1ot7Nmzh0qpNqu9O3mTkb9JKAJJklCv15HNZumPKIrQ6XQwGo3wer2w2WxUXUQ8itZixK9kbyRJEhqNBiqVCorFIs3NRiRzFosFbrcbo6OjqNVqKJfLmJiYoGVezUOOrbfFYoHL5UI2m8XIyEhf5gHHcRgfH8fMzAxNKMymFzEYDAiFQohEIvB4POA4ri2AJCk3216s1KjVaiGTyUCn0yEcDiOdTiOVSiEQCLT1wbDOb41GA7/fD7/fT+v/4x//GABw9913A2gPsjms9VQxmFDJ0TZBs9nEM888g6997Wv48Ic/jJtvvnmZ+zowvKfMblCv1+km5fV6qfprrSCLMdmA2P9ZQ2HiPUXUcOshYr2EUr+yEb4lSUKxWEQsFkM+nwfP8zTGk8PhgM/ng9VqbUuvQkA2KXmU405g244lVURaRKQsPM/TKNDZbBYLCwuIRqNUBceSjZXAkidSVovFgmKxCJ7nYbfbV2/ANaLZbMJms2F0dBSLi4vIZrNUrUrqPD4+jmg0ikgkQoneaobppK0I0d+1axdMJhOCwSAikQiq1SqV4indPyyQk/ZcLodnn30WFy5cAM/zuO+++5apXIe1rioGD7qvfOUrX9nsQqjoD8hiUSgU8MQTT+DZZ5/FPffcgy9+8YvUW0quatuqiwtph0QigWAwCIfDsebAe+yz5JIXeTsWi0UsLCzAZDJh165d4DhuU4mR3JOOPXGLooh0Oo3Lly/j6tWrqNVqsNlsCIVC2L17N8bGxuB2u5fZ/7D1VgrGuNKPUpnkhAsA9Ho9LBYLfD4fgsEgnE4ndDodqtUqHA4HXC5XV+EDlMa5VqtFsViEwWCg5KiX45/Ux2AwUG8yu93eFvtIo9HAZrMhEomg1VqKti3vHzkJB4BCoYBYLIaRkRGEQiEaQysajcJiscDhcLS17bCC9JNGsxRO49ChQ1hYWMCrr76KWq2GiYkJesgb5nqqGDyokqMtClYM/8tf/hJvvfUWHnzwQXz2s5+lEg75YrIVFxdST5K+Q6fTwev1Ktp29OJdwK/IhiAI2LlzJ4xG46a3rZwcEBVWLpdDLBZDuVyGwWBAMBiEx+OBw+Foy/WmFKqAfN6LMq30GQExpna73Wg0Gl0b07PPZtV+Op2OGtFLkkSliL06JJCN3Ww2Y3R0FAsLC8jlcm0ECAA8Hg+mpqYQjUZRq9VoOAJ520uSBEEQkM/nUSgU4PF4aKJbSZIoKcrlcgiFQptu19ZLkLYKBoP4kz/5E3zrW9/C66+/jgMHDuDGG28ceimZisGDSo62GJQ2ixtuuAF6vR5Hjx6lao/tsoiQelarVRSLxWV2HyupL7qFvD2LxSLS6TSVbAyCYSw7Lur1OnK5HBKJBIrFIvR6PUZHR+H3+2G32+kYURpLSrYvStestZ4r9YGcJChhtfd1er5cctXNs9YCQpA8Hg+SySRyuRwlP+w1oVAIVqsVkUgE8XgcBoMBJpMJHMeB4zjU63U0Gg3qmRYKhRAMBulYJuUfGRnBwsICKpXKlrInZMeA3W7Hb/7mb+LQoUOYnp4GAOoMIQ8FoULFeqGSoy0EduOIxWJIJBKYnJykRo1KxrjbAa1WC+VyGc1mEx6Ph4rpr7Ud5ASBeLBlMhm0Wi34/f6BkBqRcdFsNlEsFpFMJqkhbygUgsfjgdPpXGYH1EnluhavsG7R6R4laRVR4fE8v+b3sCRJFEUIgtBmUN4PaDRLecRcLheNj2UymZapJd1uNywWC/L5PIrFIg2TQKRdOp0OgUAALpeL2n6R55N6OZ1OXLlyBYVCoS92VJsNUlen04lbb70VwJKK8a233oLH48GBAwdorCsVKq4FKjnagkilUvjud7+LWCyGz372s9S+aDtGbSCEpVAowGAwUJWG3GZoPVC6r1QqIZvNwul0KroebyRRYvu70WggkUggHo+j0WjA6/XC7/dTG57VJGjdtlev66f0POK5ls1m23KSKRGzlchao9GAJEkwm819VUFpNEtRrL1eLzKZDDKZDFwul2JcMWJY7fP5aOJcSZJokEx5yA15/UicqFKptG6Hg0GHvD8LhQJee+01FItFnDhxArfddhtNHbPZBxMVw4uto5TehlDyFlpYWMC3v/1tnD9/HrfccgtGR0eXGcJuJ2g0Sy71lUoFNputp/GcWBUTCXyYyWRoolpis7OSCqpfYFVQ1WoV8/PzWFhYAABMTExgcnISbrd7mZ3NsIwRj8cDQRBQrVY7xiiSu8Sz30uShEqlAo7jqIpLPp96DavVCofDQT3k5GDLx3EcTCYT7HY7nE4nTYkil6LJpXs6nQ5OpxPlchn1er3ndRhEjIyM4L777oPZbMb//M//4Ec/+hEEQVA08Feholuo5GiIIT/N12o1fOMb38CZM2fwa7/2azh+/Ph280vrAAAgAElEQVSyTN3Dsvn1Cq1WC9VqFc1mEw6Ho6cnaXn78zyPbDYLh8MBt9u96YuzVqtFuVzGBx98gFgsBqfTib1791JbFbl32TCAlNPhcMDhcGBxcbHN9Z2NzC0nDqxkjIQI8Hg81Pi5F9JEOdj36vV6uFwuqt5UivUkr6vSwUaJGLEk3OFwQBAElMvlFe20hh2kXcxmMw4fPowvfOEL8Pl8eOGFFyj5lMeNUqGiW6hqtSEHWRCbzSYMBgPuuOMO3HrrrfjIRz7SJrbfrt4coihSTyx5fqtegcQvymQyaDQaCIfDtO1ZgrRRYn7ynnQ6jQsXLkAQBITDYYyNjYHjuL4ZH28EWPf28fFxnD59GgsLC5icnIQoisuuI+3PSsZEUUQikYBer4fX6+0YK6cX/SVXqxLpZSaTQSAQoCEeujFsX60sxAvVYrFQI+6tDtJGer0eExMT+OIXv4hSqUTnutyOToWKbqGSoyEGmfD1ep1KAj784Q8vWwi288LQaDRQLpfbIjlfa3vIiSbZlFKpFEwmE9xud9v3G0FE5HXKZDI4d+4cJEnCxMQExsfH+/bujQRLNmw2G/bs2YMzZ85AkiSMjY3R5L9K41+n00EQBEQiETQaDezZs2dZFvt+SI9YWCwW2Gw25HI5VKtVKtntJrRGt+NWr9eD4zhUq9VNDzzab8jnFgmkCSzN/XfeeQf79++nQTG36zqoYu3YurNmC4OchFutFubn5/Fnf/ZnePnll6HR/CqNQr8X+WEBcYG22WxtwfeuBeQZLEkiucecTic9tbLYCNE+GROZTAbnz58HAExPT2N8fFxRcjjM6gbSB6Ojo7j55pvB8zwuXLiAbDbbNgcIKWo2m0ilUpidnaXBA71eL31Wv8BKrUhyYqfTiWazSXPUdbtpd3MN8Wyz2+2o1WpoNBr0860IuV0ZACpBfP311/GXf/mX+O///m9ks9ktrWJU0XuokqMhA5nckiRhfn4eX//61zE3N9fm8tvpnu1GksgGRALx9QNkwU2n09BqtfD5fIrXbJQ6rVgsYm5uDpIkYffu3TQNhzyy9bCfolk7IxI36OrVq4jH40gmkzAYDDQGEElwS6RNpVKJeoz1a1wQKEl/SIDNTCazLElsp3qu5X1arRZGoxGFQgH1el0xTdBWgfyQQjwDAeDw4cP49Kc/jRdeeAGFQgGPPPIIdu7cuSU9+FT0Hio5GjKQxSCRSODJJ59EIpHA448/jnvvvbfjIjrMm+B6QYxza7UaDajXa5LI2rOk02lYrVbFwHv9aH+WHBDUajUsLCygXq8jHA4jEAi0EWalmEHDCnk9rFYr9u3bh0qlglwuh1qtRtVrdrudJq01Go2Yn59HPB5HPB5HOBymm+lGtYnRaITFYkG1WoUoitQ+rRvV2mogz7BYLDQK+nqeM0zoZK/lcDjw0EMPwWw24/nnn8fLL7+Mhx9+WHGODvthQUXvoZKjIQPZDEmgwU9/+tO48847l22U6kRfEq9Xq1VYrdZlxum9sDkixKNQKKBWq8Hv9yvGrukl5ASP9LsgCIjH4ygUCggGgwiHw8uMgbf6mCBEyG63L5sLLJncsWMHqtUq4vE4zdu2UdIEYjxM4jRVKhUak6cX0Gq1NC6SVqvdFkbZSiB9bTab8dGPfhR2ux02m40GiOykZt7qc0RF91DJ0ZBAPnGnpqbw6KOP0g15O0/qTifuRqOBRqOBkZERxWjC64VcLZXNZgFgWdiEXkPuSUUgSRKy2SySySQcDgdCoVDH2D9Kz9qKWKluRqMRo6OjuHz5MhKJBBwOR1/Ua0ptTPrNYrHQMBO9DPtA3smmHSFG2Vu5v5VA6utwOHDnnXcCWCKPyWQSkiTB7/f3LFq+iq0H1SB7wMEaEaZSKbz66qtIJpOwWCwYHx9flqByu4M1Vq/VapAkaVk6gV4uhM1mE4VCgQbs2wjIT731eh3JZBJarRahUKgtbo86JpRd4l0uF/x+P8rlMo20zcZI6tV7O8FqtUKn09FYRKRcvYJWq4XBYIAoijSK+HaBUrwonU4HnU6HWq2GkydP4pvf/CYSiYTi9SpUACo5GgoQb6hvf/vb+M53voO5ubm27+QxXYDtPeGJvVG1WqWRhpWuuVZoNEvBBEmSz7VmiV/P+1iyXK1WEYvFMDc3h2KxCEmSkE6nEYlE2oIMsvew3lNbbYx0OiQoqZw5jsPIyAiMRiMSiQQajUbPpQed7Fo0Gg1NB1KpVPryXuIZ12g0th05kqvK2L43GAzw+XyYmZnBf/zHfyCZTNLrVKhgoZKjAQfZgJ944gn8/Oc/x9GjR3HgwAH6HfmtZIuyXUHao1arwWg0UnLUj/AGtVoNoijC4XD0XTxPJBv1eh0ffPABTp8+jfn5efA8D6fTCbvdjmq1img0ivfeew/vv/8+qtVqG2nY6hKlTvVi5wUhD1arFS6XC5VKhZLJXh4uVjKuJkFJeZ5vC17ZCxBbOI7j6EFhu0I+J3U6He6++2588pOfxMzMDP7u7/4Oi4uLALCt20nFcqg2R0OAJ554Ai+++CI+9alP4dOf/nRbpnd2w2P/364gdZckCTzPw2az9c3eotVq0QSfJJhgv9qfPLdQKOD8+fOo1+sIhUJwOp1t+eJarRaazSbK5TKi0Siy2Sz27NmDYDDYJjXaqmOEnQeE4HQKb0HUa/F4HOl0Gl6vt81Wq59zSafTKUoar/Wd5F6dTgez2Yx8Po9Go7Es2OV2hUazlG7kxIkTaDab+PnPf97TfIsqtg5UcjSgIIu7VqvF7bffDqfTiU996lPU7ZhgI9zGBx1KxFCSJAiCsCz5a6/fyfM8jEYjbDZbz54trwd5Xy6Xw/vvvw+TyYTdu3dDr9ej2Wy2RYQmY8btdsNutyMajeL999+HJEkYHR3tWRkHHUoEUB7KoNVqwel0wuFwoFAo0Cz2/SaQ5Pk2mw3xeBzlcrnnxvxEYkTGz3Y/NMnBcRwefvhhnDhxgsbDAraPZ6eK1aGSowECu4DxPA9JkmA2m3HgwAGqSlMXuZVBFrdKpdIm0WG/A65t8SN9QOIocRxH3bF78Vwl9V+tVsP8/DzMZjMmJycB/CoSMElfQq7XaJbyh5H8YzqdDleuXIHFYoHT6WyzOdpOY0mprjqdDna7HZlMBoVCAX6/v03q1M/2Ic8mNkG96g/yHL1e30b2VCyBJchGoxGSJCGRSOD06dM0ovx29O5T0Q7V5mhAwG645XIZzz77LJ566inqiruWNAPbFeyiR9yXWZE5IQ692oBIqACTybTMWHq9kNs9kOfG43E0Gg0aUVluhC+XiBDCJIoigsEg9Ho9otEoBEFQ7dJkIKrXcrncNs/62T4rqfx6AUKOJElCvV7fsjZm6wXr1SpJEi5fvozvfve7OHnyJHK5XM/tz1QMH1RyNEBotVqo1+t47bXX8MILLyCZTKLZbEKr1aonmTWiWq0CACVHcg+WawF74hdFkdqAXeuGKjeWJgt3uVxGoVCAx+NZFpaA3MfeIyc/Wq0WHo8H5XIZxWKRXqdiCSQpMUk1s1EG62azuU1q1CuwRJ2MIbW/28HOV47jcOjQIRw/fhzvvvsuvv/97yOVSqkqtm0OlRwNEKrVKl5//XU8++yzmJqawiOPPEKTmLKLnYrVwSYflbfdtS525DmiKEKSJFit1p71C0uwyN+sipCVFCnVQy7BItfYbDZwHEdd/lUsgWyOHMfR/GsbZbCu1+upNyqw3O38WiBXzaobvDJIm9tsNtx11124+eab8eabb2JmZgaiKKrr7TaGanM0ACATtFqt4uzZs3A4HDhx4gSCweC2tA1ZK5Ti9vA8T5OP9qvtSIC9Xnq7KBE4URTpBg78ysaokzE+2xas95LJZKJxb+SG/dsBneaRTqeDwWCgKuyNTExKJDtbObzCIIMdDz6fDydOnMDOnTuxc+dOxZyEKrYPtt8KOYAgE8/hcOCee+6BTqfDxMQEOI5bpg5SJ+lyyE/JxB5Ip9P1VR3Za5sE1tWe/C8IAlURKkmNOkk6lOpMSNV23YQ7tRFxqy+VSpQcbcRcI6TIbDZTO7FeY7v29XoRDAZprj2tVotSqURz9alr7/aCqlbbICgtUuTUGI/HkUwmYTAYsHfvXuzevVsxgak6OVfGRrWPEjFhP7uW58ptXlh7MzlRXuldSgbb6vjpPA9brRY4jls1J12voNFoKOntZOe03rEkHxtqv3cPEjxTq9ViZmYGf/M3f4OZmRkAapDI7QaVHG0Q5AsUOTXyPI+vfe1r+Pd//3ek0+k2SYe6qK0dLBHop9SIJUP92IjYOrBEmXjidSJLcnUaa/DLGuZu17GlVG8inSOZ7DdC2sL2V6e+WE8fqZKi3kGr1SIajeKf//mfkUqlOqo+1TbfmlDJ0SaAdbX+l3/5F5w9exa33HILvF4vgO27cfUCpO1EUWxLyttLKJGhfi2QJByBIAhoNBptY0fJ1kpOrFmSxPM8TCYTVRttt0WdVYOydSekcaOIEdDumdhsNnumtmElmXLjfhXdgag3Dxw4gN/7vd9DNBrFP/7jP1JJn3yMqG27NaGSow2EfEH++te/jp/85Ce47777cPz48Q11I96qkCQJjUajLwk95ZB7lfUDrVYLFoulTQ0j30iV1G5sZO1WaynPXLPZhMPh2LZhIZSIQqvVAs/zaDQasNvtAPqvPiHvL5fL0Ov1bV6IvcR2JMDXCvmh48Ybb8Rv//ZvY2ZmBj/4wQ863qNi60E1yN5AsCqRcrmMy5cv47777sNjjz0GoLNxrYruQTZ+Ih3pB+Q2R/1eHG02G2w2GwqFAhwOB/U06yS1kpNwAMjlcjRCtrwe2xFsv1Wr1bZo6hvhIUpimun1+rb+7NV7ySav0+m2pWfieqFkT/jggw9CkiQcPXqUfsdeu53n0VaGOms2EKxY326348tf/jL0ej1NQCl30VY9JNYGudqk321H8raR+Di9BFt+nU6HYDCIUqmEZDKJQCBAM64Dy731yP3AElmMx+PgeR7hcFjdKP8/WJufQqEAjuNgs9n6fjgh/SqKIs39R/pktTHUrW0bsS9rNBoAQMeKupZ0D7atdDodHnroIWg0GjQaDdRqNVitVuh0OrVNtzBUtdoGgbhlnz17FnNzc2g2mwgGg9TOqF9pBLYT2JPcRrQn8W6qVqs9O+3LwYZ5GBsbA8/ziMfjNA2IXHLFEiZRFLG4uIh8Po9wOAy32932zO2uDiCqylKpBIvFApPJtGFt0mg08P/ae5PfxrX8/PsRJUoiNVrz4KHKLlf54lbfTH2DBAFu0vkBGRa56CyCdC96kyATskoWQf6EbLLN35DuTZBk0es0AgRBgL7pqtzqKs+DZGuwZokiKUp8F37PuRRNybJL8vj9AIZtiTo8PKR4Hn6no6oqd5lelXnoZB2c5jablDBA3BzDMPDzn/8c//qv/4pCoQCAvkOPGXqMvAVY0OW7d+/wz//8z3j9+jWy2Sx/8nB68rf/TcyGy3VR8ViSJB7AvKhxZLVQ5mU5mnYdmKaJZDIJQRBweHiI4+NjRKNRBAIBLtLYdiz7qtFoYDAYYG1tDZlM5laLG1q5agK/K0ajEZrNJjRNQyqVmlhcc96wGDDDMMaqq9tjoayvaZrGi1RasxiZ9dLeb3YdsBpOxMdjmiba7Tb+67/+C4PBAH/4h3+IaDR659cxsRhIHM0Zp5ury+XC0dER/uVf/gWapuHVq1c8PZvM3fPD7ooaDAb8dWB+kzHbjyiK8Pl86Pf73C26KFi8WjwehyiKqFaraDabaDQa8Pl88Hg8GI1GGA6HXKyFQiFkMhkehG2/1uZl7Zo0Odv3Mc2acZvfAbZ/VVVRr9fh8/kQi8UAfGPBXcT30jom3W4XpmleCsa2j0uj0UC9Xke324VhGGP9EwQB4XAYiUQCwWBwrN9swVkWf0f3mI+DPXR99tlnODg4wH//939jZWUFX3zxxUKr8BN3B4mjOWP/kpimiWq1in/7t39DuVzG97//fXz22Wd0w1oAVreaU82fee6HBbt6vV60223uIlmk2GVWxnA4DFmWkUql0Gw2USgU4HK5EI1GIUkS/H4/gsEgZFnmBe2AxbgAnI7VOu7D4ZBbSRg+nw9+v//WMzPt7sdms4lut4tcLsfXMGTMOzja2s5wOES324XP5+Oixsnqc3p6inK5DLfbjVAohEgkwuOHBoMB+v0+qtUqqtUqcrkc8vk8//xoNIJhGBBF8dYqfj8FgsEgfvM3fxMHBwf4j//4D2xtbWF1dXVsGxrrxwGJowXCMoW8Xi+Wl5exvr6OX/mVX3Gsfk3cHKdA1duadIPBIMrlMjRNgyRJC92XVfQJgoBgMAi/349+v4/z83NEo1HuerNO7vYsyHnfvK3tjUYj7mqsVCo4Pz8fK6vAvhORSATxeByJROJWA4atpQ0qlQpEUUQsFlu41c+Kqqro9XqQJGnsXsDObb/fx8HBAVqtFpLJJKLR6JjblLUXiUQwHA5xfn6O/f199Ho9bG5uQhAELo58Ph89iM0J5s7M5/P47ne/i263i1gsxq9pJ+ssCaWHC4mjBcEmCeDiJvbd7353LFCYMtLmh3X82LiHQiGcn59D0zT4/f6575OJL7buUqfTQTQanft+nLBagkRRRCaTQbPZxNnZGU/7n2Y1W+T15nK50Ol08OHDB3S7XUQiEWQyGV58cjQa8Xion//854hGo3jx4gXC4fBCvwtWd9NwOES5XEa73cbq6ioCgcCYOFp0SQ1FUaDrOhKJxFjhSdM0YRgGisUiut0uVlZWxs6l0/h4PB5ks1nIsoydnR24XC68evUKw+EQhmEgEoncWazZY4S5116/fg0AY2NrvecvympN3B6UIjVnmEkbAN6+fYv/+7//4y4Ypyc4+vJ8PE6WI5atxdw587YksZug3++H1+tFvV4f2/+8sd5s7QUeA4EAkskkOp0OqtUqXzJkUhvzhvXJNE3U63X8z//8D4bDITY3N/H8+XMsLS1BkiSIogi/349EIoHNzU28evUKuq7jzZs3KJfLC+mbvY8A0G63cXZ2hnA4PBaIzVjkOAHg8UaRSGRMiJmmiVqthmq1ilQqhXA4zD9n3cYeszUajRCNRvH8+XOcnJzg/PyciyNRFG/dffkUYGseapqGr776CvV6few6WnRJCGLxkDiaE9YblnVNnh/+8Ic4Pz8fm7SdAleJm+PkSvN4PJdijxYx1pIkIRwOo9fr8boyi8B6zVitHCzgNpVKIRKJ4OzsDI1GY2JiwDyxjqcgCKjX63j79i3i8Tg2NzchyzKGwyFGo9HYD1sKRZZlbGxsIBgM4vj4GM1m88oU9Y/pq8vlQq/Xw/7+PgRBwPLyMo81mjS+89y/aV4Ufmw2m5BleSyImr1XrVZ5fBETnPb4Oaf7h2EYSCQSiEajOD4+Rr/fB3AR30XW6fliPR9v377FP/7jP+LHP/4xv9bZNsTDhsTRnLDefCqVCv7pn/4Juq7jD/7gD5BKpSY+SdBNa35Yx5JVO1ZVdSH7ssb+RCIRqKqKTqezkH1N2j/wzTEHAgEsLy/zVP9OpzM2uS4Cq/jUNA37+/sIBoM8QNXunmKxUOz3aDTiBS4FQcDZ2Rk0Tbt0jPPANE0oioLd3V2oqoqVlRXEYrExV/ciYcfS7Xahqiqi0ehYIU8A6PV66Pf7iEQilwSwPd7Iak1i/5umiUwmwwO1RVGk+MYFYL1mXr16hW9/+9v48Y9/jIODAwp+f0SQOLoBTjdt9pqqqvjRj36E3d1d/NEf/RE+//zz2+7ek4ZNEsxyxNL5rcxj0rVOTJFIBC6Xi1tsFrE/p/3b/45Go1heXoau69jb2+PWAycL2rxEExuHs7MzqKqKfD7v2K5Tf5lAEkUR8XgcvV4PrVZrzG14FZMsg9ZjNM2LtP39/X20222k02mk0+lbW2iWiejRaMSPjwkgdozD4RC9Xg+CIIwVo7SP26SxZe8x92Wz2YTX6+U1jsiS8fHYvzOmaSIYDOL3f//3IQgCfvSjH93qAxKxWEgcXZOrngpM00QikcCXX36J3/qt3+KvEbcDOz8sS4ct1mplXk91rJ1QKARJktBsNie61m7jGnC73Xzi73a7ODg44PEt1n5YxcnHwNodDAZoNBqIRqMzVZl2soCwYpbNZpOvUj/LmM0S29FqtbC3t4darYZsNouVlRUuGm7rCZ9ZrlqtFmRZ5pWxrZmFuq6PLSdyk30IgsCzJplQIubDJDf1ixcv8Lu/+7toNBrodrsA6J7/GKBstWsy6WbKXpdlGV9++SVGoxEVB7tF7IGtLpcLXq+XVxVmWSWLSGP3eDyIxWIolUrodDqX4jxuK0UduIi1Ytab09NTXiGbFTm0b/+xmKbJ463i8fjM42vfxu12Q5IkXhOJBRJfB6ft6/U6Dg4O0Ol0sLy8jJWVFXi9Xi4kFg2bJEejEdrtNvr9PvL5PHw+39g2pnlRRZ9VO2fWs+vsh2VLscrtrJYU3YPmh5MlTxAE/M7v/A6+/e1vI5FIXNqOeJiQ5egaTHuaffv2LX7yk5/w+iUs5oW4Hew3LZfLBb/fj8FgcGl5j3nH4bhcLqTTaQAXkzFb4mGRgeBOMGHi9/uxurqK5eVldDod7O7uolQqXQoWndeYaJp2yR00S1/t/fZ6vTzDcFaXmv1vdhyGYeDs7Ax7e3tQVRXPnj3D6uoqX27D7mpcFOw4mHVNFEVEo9Exi5G1D9ag3knHOmk/VhcdW0KHWCxs3FkGplXU38b1RSwOshxdA6cbtmma2N/fxw9/+EMMh0NsbGw4ZsAQt4dpXpROkGUZ7XYbmqbxJ/V5nxM2wQWDQYRCITQaDSiKMpaJZP29yGvC2rbX6+U1fHZ3d3kMUi6XGxMx9qDp6+7POgGwGJ6rrDL2CYP9b3cBTbNCWd+zW+l6vR4KhQLOz88hiiJevHjBawrNEsOzCLrdLtrtNmKxGHepsT4A4O4wRVG4Bei61kc25qy2FxNHFCC8WKzX0E9/+lNsb2/j//2//8etSMTDhCxHH4nL5YKu6xBFEb/927+NRCJx6cmPnh4Wj32MXS4XX87DmgG1qH273W4kEgmoqjoWmG3PKlo01v2yFP9PPvkEPp8Px8fHeP/+PRqNxkxtzILVCsPW/prVrWYXZtYlRtg20z5v7/NwOESlUsH79+9xenqKQCCAra0tpFIp7mq6TVcnYzAYoFqtwjRNxGKxS7WH2LkKBoMYDodQFGVsXGeBjaWmadB1HeFweMxKRiwO63k6OTnBv//7v+PDhw933CviYyFxdEOsT8xbW1v4u7/7O3znO9+B1+u9VOyRbk6Lx25FYO4lFpQ9TyuB3YXDnvKTyST8fj9qtRoXZLdtWrceJytUF4vF8Nlnn/FK2l9//TWOj48xGAwcXQDXvV79fj8vOnidPtrdYoPBAKIoXkpxn4Q1q01RFGxvb+Pdu3c8vmhrawuhUOjSMd3Wd5MdY7vdRq1WQzQaRTQa5a/b9y1JEtxuN9rt9rWvGRbczQpAhkKhW7WMPSUmZQwKgoDPP/8ckUgEX331FXRdp3v/A4bE0Q2xPpG5XC5IksTTx4m7wzrZezwe+P1+KIrCU/o/drKY9HnTvFjKI5FIoNvt8oKGTn1bNE778Xq92NzcxNbWFrxeL/b29vCzn/0MpVIJuq7zCdup8CAw/bh9Ph+8Xi9ardZE4WNvg00m7G9mMfH7/Zeytez9sf6vKAp2dnbw05/+FKVSCZFIBN/61rewsbHBEyIWHXg9abxYwUu2MHA6nZ4aaM6qh3e7XXQ6nanj7xSzVa/XUavVEAwGEQgESBgtCKfzx677paUlfP7553j//j12d3f594l4eFDMEfFoYRlQzWYTqqryOKDrMOkpkf22ZgmxwMxqtYrz83NEIhGeMXSXWF1Y6XQaoVAIp6enqFQqfH2zdDqNaDTqaPlkbUzC5/MhFouhWCxyF5bT/q1Y/xcEAYqiQNM0ZDKZserm9v0ywaFpGiqVCsrlMncjpdNpJJNJXvjQKSZp3tjbtlouBUHA6ekpWq0WstkslpaWLo2HPa6ILQNTKpWQz+chSRLfZtJxsDir09NTbjFlwpAm5tvBGjf3i7/4i2i32zO7mIn7icukbw/xSDFNE5VKBcfHx1hbWxtb6PM6Ny375GT9yhiGgcFgAMMwxhY1bTQaeP78ORcLd3mTdOq3aZpotVqoVCo4Pz/HaDSCJElIJBJc1ImieGmhZPvfLDOv3+/j7du38Pl8WFlZmTqZW/sEALqu4+zsDG63GxsbG5Ak6ZLgGA6H0DQN3W4X9Xod7XYbhmFAkiSk02kkEgkeaG4VKIsOhJ8k4ARBQL/fx//+7/9CEARsbW3xtdKs/WGft8YpKoqC/f19qKqKVCoFWZYhiiKGwyGvwGwdl3a7zdf20zQNL168QDabXcjxEpNh54Vlx1rLNRAPD7IcEY8W5u5klonrPgc4TbLst67r6HQ6aDQa0DQNmqaNbcdEkizLjpPibWIPQmbHFY1GEQ6HEY/H+bEUi0WUSiXe71AoxBfXFUXxkvuIiU1JkvDs2TNsb2+jXC4jkUiM1Zay7t/6t67rKJfLGA6HWFlZ4Zlco9EIuq5jMBjw4omdToeXDQgGg1haWsLS0hIPvGft3ma8n10Esn6MRiOcnJxA0zSsr68jHA47ClSGdTV3WZbx/PlzFItFVCoViKKIUCjErXrAhShnYtEwDCSTSV6AkFmoiNuFnV8qvPk4IHFEPFpM04TX64Xf70ev18NgMLh2/ImTZaDb7eL09BTtdhtutxuBQIBbWpjbRxRF9Pt9HB0dIZfLIRaL3UrRwesiCAISiQTi8fhYvFSn00Gn0+H1iwKBAAKBACRJgtfr5ZWcraIglUoBAA4PDzEYDBCLxXiQsR0WY9RoNDAYDLgLqdVqQdd1KIrC1yFjwlOSJGSzWYTDYQQCARtU3kMAAB/2SURBVJ6NBUwXQYt0q7F924VOqVTC6ekpd1nat7f+dnovEAhgfX0d9XodjUYD7XYbwLgVkF17sVgMfr8fJycnvFQDY9HHTnyDXSTT2D9syK1GPGpGoxEKhQKq1So2Njb4E/x1b1rsa9Jqtfjkv7S0hEgkcmmxSRaHpCgK6vU6NE3DysoKcrkcb+8+uNnsrzF0XYeqquj3++h0Ouj1elBVlbt1vF4vfD4ffD4fRFHkWYGiKEIURdTrdRSLRQBAMBjkbiFBELj7sdPp8ED5QCAAn8/H09CHwyGAi/gNSZIQCoUQDAa5BYul5dvH3O6KAy5bdhYJczF2Oh28e/cOuq7j9evXiMViE/sw6XVrIdHBYABVVXmBTOCiEjo7D6Io4vj4GIeHh/ilX/olnqlG3C0kjh42ZDkiHjUulwuhUAiVSgXdbvejJo5er4fDw0MYhsGXgHAKrnW5vqlbI8syKpUKDg8PIUkSd3nc5Y3TKRbH+hqzDIXDYcRiMT4p93o9dDod6LqOfr+PdrvNhYz1uF0uF/+Mpmmo1+u8rACrAM2erFmpBbauWDgchiRJXAx5PB6IojgWa2M9Dqe/r3pvUbhcF3WGDg8PoaoqNjc3EY1GeQySE9OCrNlvlg3I/rePg2EYqFariEQiN0o6IBbDbQpzYv6QOCIePbIsQ5IkdDqdsWymq7C6MAzDQKlUgqqqWF5ehiRJU1ePZ591u93IZrMYDAb48OEDfvmXf5mvvXaXTJuQrTBrEHBhBUokEjwQeDAYcCsTcyd2u11e7dma1m+18Ph8Ph4nJMsyt4IwixD7sU8si5xkJlmhnAK8nbLT2HbFYhH1eh3JZBKZTObK/U4STVeJPau4ZVXZX758eS9dt08ZEkYPFxJHxKPG5XLB4/EgGAyiWq1C0zS+8OhVNy7rZNjv91Gr1fjyD8ztYZ+onOrdCIKAdDqNd+/eoVgsYn19/ZLl5r4+Ydr7xGoQMZeX9Vivs1iqVfw4WUNmiSW6Dk5Lcjjtj/1t3c4aLG0/X9a+VyoVnJ2dIRgM4sWLF5eEyjzPMWtnNBqhVqvxTEOCIOYDPWYQjxomToLBIAzDQKvVutYkzjKnarUaAPAKxwxrkTfr69bJnaXJJ5NJVCoVXpn6NlLNPwYnwWL9sWNdosNqAXL6sZcXcGp7WlzUdbGXJLC3NYs4cxKy7Pw3Gg0cHR3B7Xbj5cuXY26wRZ1btt9ms4lMJuMY+E4QxM0gcUQ8atjkFAqFEA6HUa/XLy1z4TTpWi1Aw+EQnU4HgUCAVzi2Tp6TXCDWNkzzYl0tVVV5yjWL15nUh7tmlkndKmjY8TKBNO2HiRWrdeWqMfgYkTHpHFvbZv2fpR/W7TqdDo9Fe/bsGa9OPc01Ng9M00Sz2YTH40EsFruXApsgHiokjogngSiKiEQi6Ha7XJwwprlZ2CSoqiq3BsxqebIKJxZr4/F4xqxHDx27wJgl5sUuGq2fX5RItJ9P0zSh6zq63S7a7Tba7Ta/NgaDwVjQuFO/AfCMxGKxCEVRkM/nEY/HZx6Hj8E0TV6bilU2v48CmyAeKhRzRDwZotEofD4fyuUylpaWuJXDCau7ZzQaYTQa8cDk64ga64TF0t0rlQr8fj+y2eyldcQeGjcReNM+s+iga1Zcstls8gKedrEWDAYRjUYRiUR48Lxd6JqmyetYNRoNpNNpZDKZWykAyALia7UaTPNiweOHfh0RxH2DvlHEk8DlckGWZcTjcZydnUFRlInuD7a99W9Wo2fWyXvSUzxLX2frYD0GgXRd7ir43DRN1Go1lMtlqKoKURQRDAZ55W/gmxpPx8fHkGUZ+Xz+UnVrZkk8PDxEo9FAJpPBysoKXy5iWvbivOj1etxqJMvyxP0SBHEzyK1GPHqsViDm9mArpVvfn/RZQRAgiiJfvf6q/Ti5ilyuixo4hmEgl8tBFEUUi0XUajWe+WZv57GyaOvQJKrVKvb29mAYBtLpNHeDRSIRRKNRRKNRJJNJ5PN5JJNJaJqG/f19vvYcc7Wpqoq9vT3UajWk02ksLy9PFUbTXr/ucZnmRVHIarUK0zQRj8fHKpUTBDEfSBwRjx5rAG0wGEQqlUKlUuFLMjhhnWRZtlu/3x8L5nZK3Wev29sRBAHNZpOn9a+urkIQBBwfH6NarWI4HF6qCUTcDKdswvPzc+zs7HBrUCAQ4FlzVuEDXJyrcDiMfD4Pj8eD4+NjtFotuFwu9Ho97OzsoFarIZfLYXV1dWyB0VkCum9yPFbLFVt2JRaLIRQKjZUaIAhiPpA4Ip4E1po12WwWbrcbxWJxqhBhFh1BEBCLxaBpGjqdDp+o7LWO7AHF1n1qmoZqtcrXwYrFYlhbW8NoNML+/j6KxeKYQCJuhj02CLhYJX13dxeyLGN5ednRjekkaH0+H9LpNARBQKVSwfn5Oba3t1Gr1ZDP57G2tjYmjOZdm8kOsxqVSiV+TbJjIVFNEPOFxBHxpDDNixXkc7kcyuXy2IKeVqwZRy6XC8FgEJFIBLVajcceWV0d9oKB1jbdbjd3g6yurvLXUqkUnj9/DkEQcHh4iLOzs0ufJa6H03k8OztDv9/H8vLypQKPk+LNWCC+KIqIx+NoNpvY3t5Gp9PB2toa1tfXeVkHpyKR88R6rbXbbV6B2xoLtchMP4J4ipA4Ip4M1jo7LBD6+PiYvzcNURSxsrIC0zRRKpV4YLU9zsgumDweD8rlMk5PT/Hq1Su+bAbbZyqVwtbWFvx+P3Z3d7G7u3upQCQxO05Wo7OzM6RSKR54PUnYMuyFKdnCuIIgYGtrC+vr6441jGaJYZsVpyKVw+GQB4qnUqmFW6oI4ilD4oh41DhNVKPRCH6/HysrK2g0GqjX62Pbst/2ekahUAjPnj1Dp9PBwcEBVFXlFZ/tYoYtslosFnF6eor19XVkMpmx4Gv2OxKJ4OXLlwiHwygUCnj79i10Xed9IJF0c1icWDgcHnvdeg7s553FIrHX3G43vF4vXzjYntpvZ15ixXodCoKAk5MT9Ho9ZLNZ+P3+he2XIAgSR8QTwSmDLJPJQJZlnJ6eYjAYXIr3sU6cbOJJJBJ49eoVXC4XDg8PUSqV0Ol0eCbaYDBAv99HtVrF/v4+ms0m1tfXsba2BgBcSFn3AVzUYPr000+RSCRQr9fx5s0bNJtNLtBIIF0fl8sFXdchCAL8fv+YlcgpNoy97uSa8/v9MAxjambhPM+R1XooCAJ6vR6KxSIymQxf/PcpZTgSxG3ztAqsEE8Ou4XAOumIoohcLofDw0OUy2Vks1kA44ui2sURAMTjcciyjEqlgnq9jna7PRYYOxwO4Xa7EYvFkEqlEAqF+Hv2mBeGaZrw+/3Y2tri1qb3798jn88jlUrxwF8KvL0aq9WHjZe92OdVta3s7Xk8HoxGI77ki5Pbc1HnRdd1bG9vw+v1IpvNOhYupWuCIOYLiSPiyWC32LhcLsRiMdTrdVQqFYTDYS5knOI5rFYHWZaxtraGTCYDRVHQ7/f5Nh6PB7IsQ5KksbikSTEi1v+9Xi/W1tYgSRIKhQKOj4/R7XaRyWQQDod5e1dNhk9ZRNlFLUvVZwIHGHedAXA8R9bXrKKIbT+P2kXTRBbLiCwWi2i1Wtja2kIwGPyofRIEMRskjognjSiKyGaz2NvbQ7lcht/vHyuqN82awNwtPp8PS0tLju9Pa2MaqVQKfr8fpVIJtVoNvV4P6XR6ZivSPCfxhwxbzkPTtLEUfrswchovq3Bha+vNs5r5JCuitX/1eh3FYhHLy8tIJpNz2zdBENOhmCPiSeNyuRAKhZBMJtFoNNBoNMbemyWmZJqV6TpYA4IBIBwO4/nz53j27BlcLheOjo54AUIW+2Lv36RJ/6lhzTQTRRHtdvtKy511/NjfLLBeURQEg8Exl+u8+umUmQYA3W4XR0dHCAQCWFlZWfhitgRBfAN924gnj8fjQTKZhCRJKJVK6Pf7Y0UeGdbJddIEay0XcN0J1GlfPp8PmUwGL1++5AJue3sbu7u76Ha7fHK9ygLxFGGxQslkEufn5xgMBlMFrzU2yTqWvV4PhmFgaWlpIUt1OMVIDQYDHB8fYzgcYn19HT6fj8o7EMQtQuKIeLJYJxpJkpDJZKCqKkqlEo8xmddkNEvla3vtHWalcLvdCIVC2NjY4DWRTk5O8ObNG+zu7kJVVUcXzU0E2kPHaYxzuRx8Ph+vacXGdVLGl1UY67qOarWKYDCIYDA49/FkafrAN4JsNBrh9PQUzWYT+XweoVCIx0o9tfNJEHcFiSPiScMEBFuOIZVKoVQqoV6vT7QyzCqY7FaJWSY2p3Rz9tvtdiORSOBb3/oWtra24Ha7cXR0hDdv3qBQKIzVRmLi7qliFRM+nw/ZbBadTgcnJyfcXWZ3o1lhQdhnZ2fQdZ0LLPae02du0kdrdW127s/Pz1EsFpFMJnmxR3sAOUEQi8Vl0jeOIDiqqmJ7exu9Xg+/8Au/AFmWAVzOZrIyzaV13Sf9Sen+7H/rem66ruP4+BilUgmqqkKWZeRyOWSzWXi93idpZbCO33A4RLPZxNnZGWq1Gs/0CwQCyOfz8Pl8jqLINE2oqsoF58uXL5FIJPj71m0/pp/2fZqmiXa7jZ2dHXi9XmxubkKSpCd5HgniriFxRDxZrILH+jVotVr48OEDfD4fPv30U7jdbr6d9Tdr47YmL+u+rPFQvV4P5XIZtVoNiqLA7/cjkUjwzDa2BpgT9mOfdmyzCMRp4/GxY+XUH2YFAr6xmOm6jmaziUqlglarBUEQEA6Hsby8DAA4PDyEruuIRCIIhUJ8fEzThK7raLVaaLfb8Pv9WF9fH8tEvInYdfqc3UJomib6/T729vagaRo2NzcRjUavP0gEQcwFEkfEk2VSMUYAKJVK2NnZQTKZxObm5iWBNK2Nu0JRFFSrVZ76LwgCZFnmi5TayxQA4+nk9ro71y0HcJ2xuEpoWfvn9Lr1NSaIer0eGo0Gms0mNE2D1+vF0tISYrEYYrEYF1GapnExyYK0WVuj0QiSJCEWiyGZTMLv98/lnDsdk9WlNxgMsL+/j3a7jWfPniGZTH5UKQiCID4OEkfEk8cpzmc0GqFQKODg4ADPnj1DPp+H2+2+d0HOThO1qqp8zbhut4vBYABRFBGNRhGJRCBJEnw+H3e9TZrsr2MBmiZ2rvrsdbcdjUYYDAbQdR39fh/tdhutVgv9fh+CICAQCCASiWBpaQmhUOiStY39r2kaVFUdK4vAPs8WqbVapm5yDNOOi42ZYRgoFAo4PT3F6uoqcrncWCwSpfATxO1D4oggbFgnraOjI5ydnWFjYwOZTOZOxZFdxF0lUKziodlsQlEUvrRJIBBAKBSCLMuQZRler5eLP4ZdMDpZlZz6Nkv/7X22t2nPJjMMA7quQ1VVKIqCTqeDfr8PXddhmiYkSUIoFEI0GkUwGITX6x0TGFdZoCYxz3NtH0dmqWJxY9lslgd+O8VCEQRxe5A4Ip4sk9xH1tc1TcPOzg663S6eP3/O3R13FXd0nf1Zv9qapqHf76PT6aDT6UBRFOi6Dpfrosq33++HJEmQZRk+nw9+vx+iKHJ3olNM0aRbh9P7TrFNTp9nWWKGYUDTNGiaBkVRoCgKVFXllh632w1ZlhGNRvlSLT6fj/fX3pdJ43fVMcwTqxuNHefR0RFOT0+Rz+exvLzM3Z6T3J0kkgjidiBxRDxpJk3Q1vcVRcHe3h5UVcX6+jri8fjYtvdt0rKLPIZVeDCrEhNLuq7z9He32w1RFOH3++H1eiFJEv+fpcYzq4y9ZpB1HFiqupMIZT+qqmI4HGIwGHAxxH76/T4MwwAAvn9ZlhEMBiFJErxe71hf7Fzn3MzqFrwuTgKHxUkdHh6iWCwim83i+fPn3JVnjzWyW5zu07VGEI8VEkcEYcPJstDpdLCzswOXy4WNjQ2Ew+F7HQ8ybbK3ZroZhoHhcIher4eTkxO0220IgjAWuG2aJgzDgCAI8Hq98Hq9AC4WyWVrlwHgYsouglRVxWAw4OM6GAx44UpFUfjCsOx9j8cDURQhyzICgQC3DHk8Hrjdbu7+Y+M/SyD5IoLKrwvr32Aw4O7adDrNhRFjkrWIhBFB3B4kjghiBkajEVqtFvb29iAIAjY3Nx0rJjvFt9z1hDapD+z1SqWC7e1tCIKAeDyOQCAwJnKYlanRaEBRFC6SmAXK3p5VfDnFMDGRA4AHPzPXns/n4+UHBEGAIAj3Lgh+EtPONbvNDodDHBwc4OzsDMlkEi9evFjIkiQEQXwcJI4IYgLWyY65iJrNJra3t+HxeLC1tQVZlicGGt/HCc9ukSiVSvjZz36GVCqFlZUVXiiRbQuAi5TRaIRyuYxqtYpcLodcLsfFERMww+GQr/nGSgmwzzIrjyzLfD92t5vd/fQQ0tmnxQRZb6/WGKNUKoX19fWpNbQIgrg7SBwRxIywya9er/Mqxi9fvuRVtCdZZ+zun7vAyVXYaDTw5s0bxGIxrK6ucveWvY9Wgeh2u1GpVHB+fo61tTXkcrmxiX2alcraFmOSlek+WuCcmMVaBFwExBcKBZTLZeRyOR58bXfN3tfjJIinBokjgpjCpEm6Vqthb28PHo+HxyBZccqAuw+THvu6a5qGr7/+GqZpYnNzE8PhcGogN/sse//s7AyqqmJzc3OslpBTYLa1Pfs43IcxWQRW61u/38fx8THq9Tq3uLG4rYcgAAniKXI/o0kJ4o6xu3UYTBzEYjFsbGxgNBrh3bt3qNfrl0SAPXX9LrELnmq1Ck3TkMlkxoKhnSw89mMBgFgshtFoxI/b6oKz74+JJeZqcxJPTs9ok16/r9jdkQDQ7XZxeHiIbrfLi4myeC574PpdXyMEQXwDiSOCcMDugnISO/F4HJubm5BlGTs7OyiXyzz1fFI7d4V14jUMA61WC6FQCJIkTc2Msrq8rG34fD6EQiF0u11omjZ126v6NGn7hxSIbReXpmmiVqthd3cXvV4PKysryGQyY1lpk8TzXV8rBEGQOCKIidgnfOBy7E44HMbGxgZCoRAODw9RKBSgqqpjW3cNm3RZMUUWK2W3eNmxWzjYa5Ik8ZpEs8TdWF+z/8z62fuIXcQNBgMUi0WeAbi5uYlkMjlz5t19uFYI4qnjuesOEMRDYZJ1Q5ZlrK+vo1QqoVwuQ1VVrKysIBgMTq03dNswywZbbNWarm/fzopT/SAAfDV7a7zSVW1Nem1Sf+8b06w9LpcL3W4XxWIR9XodS0tLWF5eRigUmio67+NxEsRTh8QRQdwQ6+Tm9/uxvLwMr9eLQqGA3d1drK2tIRKJjG0L3E3grVNQtNvtHkuxdwrGdhJ31uO+r0UwF8U091etVsPR0RE0TcPKygqSySRfJ83J8kgQxP3lad3ZCGLOWGNzPB4PMpkMNjc3YZomtre3US6XL7mPpqW6Lwp7UPRoNIJhGJesF9PKEdj7OhwOudXIvv1jZJL70TAMnJycYHt7m2f/5XI5eDwXz56TAt0Jgri/kOWIIK6JU/CtVXwsLS1BFEUcHR1hd3cXnU4H6+vrvK6N3T11mxOmaZrcnaZpGkKhkGNtI/sxsX5at9V1nVfLZp+x1+15TDhlLrJ19xqNBlKpFFZXV/kadGwbJ/FIIokg7jckjgjimkwrWshcVMFgEK9evUKhUMDJyQlarRY++eQTBAKBMVF0G2nc1vZZIHUgEEC73cbS0tLYcTnVKbK3w/qsKApf8oPxGIWR9biZG5JVCz84OAAAvHjxAqlUCh6PhwtIp1gtEkUE8TB4fHcygrgl2GQJOAsdj8eDtbU1fPrppwCAr776CsfHx3wR1rtytQiCgGg0ClVV0e12+YRu78ukTDMA6Pf76PV6CIfD8Hq9j3ritx+Xpml4//49dnZ2EIlE8Pr1a+RyuUtLojhZmpzaIwji/kGWI4K4AU7uMQCX3CmsHpLf70ehUEChUECz2UQ2m0UkEuF1bxY5YTq1nUgkUKvVcHp6ClmWIYriJfeavfYRwzAM1Ot1SJKEpaWlS9aixyaUmJBVVRXVahVnZ2cYDod4/vz5pdpF9s89pnEgiKcELR9CEAvA7jpzuVwwDAO1Wg2lUgmKoiCRSCCZTCIYDF6KR1pUn6z96XQ6eP/+PUajEVZXV7l7zN539jdwUcOnVCpB0zSsr68jkUhcav+hYz9mVVXRbDZRKpWgqioikQgymQyWlpYmVhR/DONAEE8ZEkcEcYuMRiP0+30UCgXUajX4fD7kcjnE4/ExC8S0yXWek2+r1cLXX38Nt9uNTCaDYDAI4HLskGlerBFWqVSgqirW1taQTqd5YcOHiv32x4LO2XuKouD09BT1eh2iKCKfzyORSEy0FhEE8TggcUQQtwhzXWmahnq9jmq1Cl3XEQwGkU6nEY1GJ8aq2JmHSDJNE/V6HYVCAZqmwe/3IxAI8Aw04MJapCgKFEWBx+NBNptFMpmE2+2e2r/7hNNYOdV+YtYyVVVRLpfRaDRgGAai0SgSiQSvW/UYA88JgvgGEkcEcctY6wSpqspFkmEYiMfjSKVSfKV7JxcXYx6ihIkCRVHQbDbRaDSgqipGo9FYgUhJkhCNRrG0tARZlh9FcLFT4cvBYIBqtcoX5l1aWkIikbgkGCfFYxEE8TggcUQQt4hT6v5oNIKiKKhUKqhWqwCAeDyObDaLQCAAYHIhwXlN0MyVNBgMYBgG//F4PBAEAR6PB16vl1tMHrIosAfQM0tRrVZDpVKBoig8rigSicDj8YxZlR7ysRMEMRskjgjilpm0VtlwOISmaSiVSjg9PYUgCEin00in0wgEAtyKw5h3/Rwn0cBS04fDIXejPeRqz9aSBS6XC/1+H6VSiQeZR6NRZDIZxONxLoomLf9BQokgHi8kjgjiFpk20Vrp9XooFAoolUoAgHQ6jWw2i3A4fGtWDCchZu/3fcYpY5C9zgKtT09PMRwOkUwmkc/nEYvFHD9vb5esSATxuCFxRBC3yLQJ1VpniGVNMXdbuVzGYDDg7p5YLAZBEObi5pokImbt/30VCdaK1qZpwjAMtNttlMtlNJtNXoMqlUohEonwsbzJGBAE8bggcUQQ9xCrYGEiqVaroVarod/vw+fzIRqNIh6PQ5IkiKI4JpTmOcHPc9ubWl2crGyTrFlWN+VgMICqqmg0GqjX69B1HaIoIpFIIJFIQJZl7i4kCIJgkDgiiHuOVQxomoZWq4V6vY5WqwXTNCHLMsLhMMLhMF/rzGkJi6vEyMcIlpse07R+TRNS9teGwyEXkrquo9/vo9PpoNlsQtM0uFwuhEIhxGIxRCIR+Hw+sv4QBDEREkcE8UCwioXRaIRut4t2u41Op4Ner8dT7oPBIGRZhiRJ8Pv98Hq93L1kbQu4njvOLkicAssnZdVNao9xlbXJvh/2v2ma0HUdqqqi3+9DURR0u10uiFgJgnA4TFYigiBmhsQRQTwQnMQHEweKonCR1O/3YRgGRFGE1+tFJBKB3++HLMvwer1jAmFacPh1xI2VScUWndqbdEz27a3bDQYDaJoGRVGgaRq63S76/T5GoxFEUYQsy5BlmYvEaevXUfwQQRBOkDgiiAeIkxVnNBrBMIwxwdBqtWAYBlwuF0RRhM/ngyRJCAQC8Pv98Pv9EEVxoiCZlWlxRNe9xVirVQ+HQ24ZslqHNE3j5QV8Ph8CgQCCwSA/JrfbzduYZV8EQRBWSBwRxD1m2uQ9yc3F/maFHDVNQ7/fR6/XQ6/Xw2AwwHA4hCAI8Pl8PE5JkiQe3M0CvK1lA4DLlbpntTZNq/TN3td1nf/0+32oqsr/Hg6HAMCLUTIxJEkSPB7PWH+t+6GUe4IgbgKJI4J4gFzlqrK/x5YDYRlcbK00JkKYW8rlckEQBG5l8ng83DJjmiaPYWL7YEKK7c9aAdzlcmEwGEDXdf7+cDhEv9+Hy+WCruvodru8+KV9W9Y2c4/Jsgyfzwe3281/GLOIIHZ8JJgIgrgKEkcE8URw+qqzitFMnPR6PS6W+v0+BoMBt+qYpnmpSjaz5FgtSFaLDRNjbHtBEDAajWCa5tjSJJIkcesVc41JksTFjNUiRBAEsWhmFkeapi26LwRB3DL2LDYGi2FiAkdRFG4J6na7Y9uxmCDz/19qhN1SvF4vFzjsNSZ8WAkCZnVyu90T456sVh4SRwTxtPD5fHey35nF0d///d8vui8EQdwhTjFMiygUSRAEMSv/8A//cCf7vfzISBDEk8RuQbqO2LluvaTrbkfCiyCI24TEEUEQAK6fcj9rG/bXZi0XcNOyAgRBEB8LiSOCIOaGk4Xnqow6Ej4EQdw3SBwRxBPnLlxW11nzjSAI4rYhcUQQTxyy3CyGWcd1EeLQvm86xzdjUeN2W+dj1mtrlrUNb9LutPbu+zXpuesOEARBPFSmuQWd1q1z2oYVp/wY7Puwt2ctsXBVv+39kyQJn3zyCdLpNEzTRKFQwIcPH8bqV82r77flZp1lP/YK6/Yip/a+z7rP614P0wq+XtWmU7zfpLjASe99zJJATm2y9ljNs/tqOSbLEUEQxA2ZJox+7dd+DX/+53+Ov/mbv8EPfvADbG5uXvrsVUucONV8mtRGNpvFn/7pn07tZzKZxF/8xV/w4p9Wfv3Xfx35fH6sP6FQCN/5znfQ7/fxk5/8BP/5n/8Jj8eDL774wrH+TDwex+/93u/hr//6r/G3f/u3+MEPfoDV1VW4XC5sbm7iyy+/hCzL+OKLL/D69WvE43H88R//MYLB4MRjtI+L2+3Gl19+OVYby85f/dVfIZ/PT2zL6finCRY2dn/5l3+JX/3VX+XvJZNJfO9734Pf78fq6iq+973vObbB9pnNZvEnf/InE/ttmiay2Sz+7M/+bGz/rA+/8Ru/gWw2O9YmcDnTdFKm57QM0OtmkTrVHrOLIfs4W7ddXl7G97///Zn2eRf8fzuoK4o9FMt5AAAAAElFTkSuQmCC)\n",
        "파란 점, 빨간 점, 노란 점이 다음 그림과 같이 위치해 있을 때, 각 클래스 분포의 중심과 모양을 결정합니다. 그리고 이들 클래스 사이의 경계를 그려 냅니다. 경계가 직선이면 선형 판별 분석, 2차 방정식에 의한 곡선이면 이차 판별 분석이 됩니다."
      ],
      "metadata": {
        "id": "4uSPBbX6psw-"
      }
    },
    {
      "cell_type": "code",
      "source": [
        "from sklearn.discriminant_analysis import QuadraticDiscriminantAnalysis\n",
        "\n",
        "# 학습 환경 설정\n",
        "classifier = AdaBoostClassifier() \n",
        "classifier.fit(X_train, y_train)\n",
        "\n",
        "# 테스트셋에 적용\n",
        "y_pred = classifier.predict(X_test)\n",
        "\n",
        "# 계층별(서브셋 n_splits=10) 교차 검증 환경 설정\n",
        "skf = StratifiedKFold(n_splits=10, shuffle=True)\n",
        "\n",
        "# 교차 검증을 통해 정확도 계산\n",
        "accuracies = cross_val_score(estimator=classifier, X=X_train, y=y_train, cv=skf)\n",
        "\n",
        "# 정확도와 표준편차를 출력\n",
        "print(\"Accuracy: {:.2f} %\".format(accuracies.mean()*100)) # 정확도\n",
        "print(\"Standard Deviation: {:.2f} %\".format(accuracies.std()*100)) # 표준편차"
      ],
      "metadata": {
        "colab": {
          "base_uri": "https://localhost:8080/"
        },
        "id": "1TivDrjSp_fI",
        "outputId": "d8da85e3-f69b-404d-93fe-c1831df037aa"
      },
      "execution_count": 125,
      "outputs": [
        {
          "output_type": "stream",
          "name": "stdout",
          "text": [
            "Accuracy: 74.13 %\n",
            "Standard Deviation: 6.43 %\n"
          ]
        }
      ]
    },
    {
      "cell_type": "markdown",
      "source": [
        "## 서포트 벡터 머신(Support Vector machine)\n",
        "- 분류를 위한 기준선을 정의하는 모델\n",
        "- 경계선을 만들고 고오간의 마진이 최대화 되는 경계를 찾아 분류\n",
        "- https://hleecaster.com/ml-svm-concept/ (이해 안 되면 여기서 참고)"
      ],
      "metadata": {
        "id": "7zgv1VknqkA-"
      }
    },
    {
      "cell_type": "code",
      "source": [
        "from sklearn.svm import SVC\n",
        "\n",
        "# 학습 환경 설정\n",
        "# classifier = SVC()  # Accuracy: 73.95 %\n",
        "classifier = SVC(kernel = 'linear') # kernel = 'linear': 선형으로 동작 #  Accuracy: 75.00 %\n",
        "\n",
        "classifier.fit(X_train, y_train)\n",
        "\n",
        "# 테스트셋에 적용\n",
        "y_pred = classifier.predict(X_test)\n",
        "\n",
        "# 계층별(서브셋 n_splits=10) 교차 검증 환경 설정\n",
        "skf = StratifiedKFold(n_splits=10, shuffle=True)\n",
        "\n",
        "# 교차 검증을 통해 정확도 계산\n",
        "accuracies = cross_val_score(estimator=classifier, X=X_train, y=y_train, cv=skf)\n",
        "\n",
        "# 정확도와 표준편차를 출력\n",
        "print(\"Accuracy: {:.2f} %\".format(accuracies.mean()*100)) # 정확도\n",
        "print(\"Standard Deviation: {:.2f} %\".format(accuracies.std()*100)) # 표준편차"
      ],
      "metadata": {
        "colab": {
          "base_uri": "https://localhost:8080/"
        },
        "id": "B11Uobbaqkgo",
        "outputId": "0af85f76-3e41-4cbd-d5b7-9f6cb485a400"
      },
      "execution_count": 126,
      "outputs": [
        {
          "output_type": "stream",
          "name": "stdout",
          "text": [
            "Accuracy: 74.83 %\n",
            "Standard Deviation: 3.61 %\n"
          ]
        }
      ]
    },
    {
      "cell_type": "markdown",
      "source": [
        "## 서포트 벡터 머신  - RBF 커널\n",
        "- 주어진 데이터가 선형으로 분리될 수 없는 경우 사용\n",
        "- 3차원 공간을 이용\n",
        "- 커널이란 주어진 데이터를 고차원의 공간으로 새롭게 위치시키는 방법\n",
        "- RBF(방사형)커널\n",
        "- https://thebook.io/080324/partxt2/01/10/"
      ],
      "metadata": {
        "id": "dmTeiIR-q8m2"
      }
    },
    {
      "cell_type": "code",
      "source": [
        "from sklearn.svm import SVC\n",
        "\n",
        "# 학습 환경 설정\n",
        "# classifier = SVC()  # Accuracy: 73.95 %\n",
        "classifier = SVC(kernel = 'rbf') \n",
        "\n",
        "classifier.fit(X_train, y_train)\n",
        "\n",
        "# 테스트셋에 적용\n",
        "y_pred = classifier.predict(X_test)\n",
        "\n",
        "# 계층별(서브셋 n_splits=10) 교차 검증 환경 설정\n",
        "skf = StratifiedKFold(n_splits=10, shuffle=True)\n",
        "\n",
        "# 교차 검증을 통해 정확도 계산\n",
        "accuracies = cross_val_score(estimator=classifier, X=X_train, y=y_train, cv=skf)\n",
        "\n",
        "# 정확도와 표준편차를 출력\n",
        "print(\"Accuracy: {:.2f} %\".format(accuracies.mean()*100)) # 정확도\n",
        "print(\"Standard Deviation: {:.2f} %\".format(accuracies.std()*100)) # 표준편차"
      ],
      "metadata": {
        "colab": {
          "base_uri": "https://localhost:8080/"
        },
        "id": "Zc5Y1mx-sC5i",
        "outputId": "132316bf-082d-44b8-8e14-ce78c2b2d3d4"
      },
      "execution_count": 127,
      "outputs": [
        {
          "output_type": "stream",
          "name": "stdout",
          "text": [
            "Accuracy: 73.96 %\n",
            "Standard Deviation: 4.70 %\n"
          ]
        }
      ]
    },
    {
      "cell_type": "markdown",
      "source": [
        "## 보팅\n",
        "- 여러가지 다른 유형의 알고리즘을 같은 데이터셋에 적용하여 학습\n",
        "  - 여러가지 다른 유형 알고리즘 사용->앙상블\n",
        "- 학습 결과를 모아 다수의 분류기가 결정한 결과를 선택하거나 클래스별 평균을 종합해 예측\n",
        "- 단일 알고리즘의 단점을 보완\n"
      ],
      "metadata": {
        "id": "dH-tEwiXsF9e"
      }
    },
    {
      "cell_type": "code",
      "source": [
        "from sklearn.ensemble import VotingClassifier\n",
        "# 여러가지 모델을 사용하니까 앙상블\n",
        "# 앙상블이 모델뿐만아니라 데이터든 뭔든 여러가지 사용하면 앙상블이라고 함\n",
        "\n",
        "# 학습 환경 설정\n",
        "# Logistic Regression(lr), Random Forest(rf), Gaussian Naive Bayes(gnb)\n",
        "# VotingClassifier(estimators = [('lr', clf1), ('rf', clf2), ('gnb', clf3)])\n",
        "clf1 = AdaBoostClassifier()\n",
        "clf2 = RandomForestClassifier()\n",
        "clf3 = SVC(kernel='linear')\n",
        "\n",
        "classifier = VotingClassifier(estimators = [('lr', clf1), ('rf', clf2), ('gnb', clf3)])\n",
        "classifier.fit(X_train, y_train)\n",
        "\n",
        "# 테스트셋에 적용\n",
        "y_pred = classifier.predict(X_test)\n",
        "\n",
        "# 계층별(서브셋 n_splits=10) 교차 검증 환경 설정\n",
        "skf = StratifiedKFold(n_splits=10, shuffle=True)\n",
        "\n",
        "# 교차 검증을 통해 정확도 계산\n",
        "accuracies = cross_val_score(estimator=classifier, X=X_train, y=y_train, cv=skf)\n",
        "\n",
        "# 정확도와 표준편차를 출력\n",
        "print(\"Accuracy: {:.2f} %\".format(accuracies.mean()*100)) # 정확도\n",
        "print(\"Standard Deviation: {:.2f} %\".format(accuracies.std()*100)) # 표준편차\n"
      ],
      "metadata": {
        "colab": {
          "base_uri": "https://localhost:8080/"
        },
        "id": "XuqTZr1as_KA",
        "outputId": "44921e44-6769-4534-913f-81622803b46b"
      },
      "execution_count": 128,
      "outputs": [
        {
          "output_type": "stream",
          "name": "stdout",
          "text": [
            "Accuracy: 73.77 %\n",
            "Standard Deviation: 4.42 %\n"
          ]
        }
      ]
    },
    {
      "cell_type": "markdown",
      "source": [
        "## 배깅\n",
        "- 데이터 세트를 여러 개로 분리하여 분류하여 단일 알고리즘에 적용\n",
        "- 부스팅과 다른 점은 각 분류기를 제가각 따로따로 분류한다는 점\n",
        "- 단일 분류기를 여러 번 사용함으로써 정확도를 높이고 과적합을 방지하는 효과가 있음"
      ],
      "metadata": {
        "id": "JPco3JyEt93M"
      }
    },
    {
      "cell_type": "code",
      "source": [
        "# 배깅 분류기 호출\n",
        "from sklearn.ensemble import BaggingClassifier\n",
        "from sklearn.svm import SVC\n",
        "\n",
        "classifier = BaggingClassifier(base_estimator=SVC(kernel='rbf'), n_estimators=10)\n",
        "classifier.fit(X_train, y_train)\n",
        "\n",
        "# 테스트셋에 적용\n",
        "y_pred = classifier.predict(X_test)\n",
        "\n",
        "# 계층별(서브셋 n_splits=10) 교차 검증 환경 설정\n",
        "skf = StratifiedKFold(n_splits=10, shuffle=True)\n",
        "\n",
        "# 교차 검증을 통해 정확도 계산\n",
        "accuracies = cross_val_score(estimator=classifier, X=X_train, y=y_train, cv=skf)\n",
        "\n",
        "# 정확도와 표준편차를 출력\n",
        "print(\"Accuracy: {:.2f} %\".format(accuracies.mean()*100)) # 정확도\n",
        "print(\"Standard Deviation: {:.2f} %\".format(accuracies.std()*100)) # 표준편차\n"
      ],
      "metadata": {
        "colab": {
          "base_uri": "https://localhost:8080/"
        },
        "id": "Bc5CizogvFCO",
        "outputId": "e7afe8c8-3461-460f-b85c-f8500b344acc"
      },
      "execution_count": 129,
      "outputs": [
        {
          "output_type": "stream",
          "name": "stdout",
          "text": [
            "Accuracy: 74.64 %\n",
            "Standard Deviation: 4.18 %\n"
          ]
        }
      ]
    },
    {
      "cell_type": "markdown",
      "source": [
        "# 여러 알고리즘의 성능을 한눈에 비교하기"
      ],
      "metadata": {
        "id": "uJ8OjAkDvkxM"
      }
    },
    {
      "cell_type": "code",
      "source": [
        "# 사용한 분류기(classifier)를 모두 지정\n",
        "classifiers = [DecisionTreeClassifier(),\n",
        "               RandomForestClassifier(),\n",
        "               GaussianNB(),\n",
        "               KNeighborsClassifier(),\n",
        "               SVC(kernel = 'linear'),\n",
        "               SVC(kernel = 'rbf'),\n",
        "               AdaBoostClassifier(),\n",
        "               QuadraticDiscriminantAnalysis(),\n",
        "               VotingClassifier(estimators=[('1', AdaBoostClassifier()),\n",
        "                                            ('2', RandomForestClassifier()),\n",
        "                                            ('3', SVC(kernel = 'linear'))    \n",
        "               ]),\n",
        "              BaggingClassifier(base_estimator= clf3, n_estimators= 10, random_state = 0)\n",
        "]\n"
      ],
      "metadata": {
        "id": "DjjLbefT0kjM"
      },
      "execution_count": 130,
      "outputs": []
    },
    {
      "cell_type": "code",
      "source": [
        "# 각 분류기 이름 저장\n",
        "classifier_names = [\n",
        "    'D_tree',\n",
        "    'RF',\n",
        "    'GNB',\n",
        "    'KNN',\n",
        "    'SVM_l',\n",
        "    'SVM_k',\n",
        "    'Ada',\n",
        "    'QDA',\n",
        "    'Voting',\n",
        "    'Bagging'\n",
        "\n",
        "]"
      ],
      "metadata": {
        "id": "pPOkGioA2af8"
      },
      "execution_count": 131,
      "outputs": []
    },
    {
      "cell_type": "code",
      "source": [
        "# 결과가 저장될 리스트 만들기\n",
        "modelaccuracies = []\n",
        "modelmeans = []\n",
        "modelnames = []\n"
      ],
      "metadata": {
        "id": "ZAOQ25yC3Twk"
      },
      "execution_count": 132,
      "outputs": []
    },
    {
      "cell_type": "code",
      "source": [
        "classifier_data = zip(classifier_names, classifiers)\n",
        "\n",
        "for classifier_name, classfier in classifier_data:\n",
        "  skf = StratifiedKFold(n_splits=10, shuffle=True)\n",
        "  accuracies = cross_val_score(classifier, X=X_train, y=y_train, cv=skf)\n",
        "\n",
        "  print(\"Mean accuracy of\", classifier_name, \": {:.2f} %\".format(accuracies.mean()*100))\n",
        "\n",
        "  # 결과 저장\n",
        "  modelaccuracies.append(accuracies)\n",
        "  modelnames.append(classifier_name)\n",
        "  modelmeans.append(accuracies.mean()*100)"
      ],
      "metadata": {
        "colab": {
          "base_uri": "https://localhost:8080/"
        },
        "id": "gSszAb-u3iPA",
        "outputId": "eac51f72-a8d8-424a-b473-ecfbd1d6474d"
      },
      "execution_count": 133,
      "outputs": [
        {
          "output_type": "stream",
          "name": "stdout",
          "text": [
            "Mean accuracy of D_tree : 74.68 %\n",
            "Mean accuracy of RF : 73.97 %\n",
            "Mean accuracy of GNB : 74.32 %\n",
            "Mean accuracy of KNN : 73.28 %\n",
            "Mean accuracy of SVM_l : 74.99 %\n",
            "Mean accuracy of SVM_k : 74.31 %\n",
            "Mean accuracy of Ada : 74.64 %\n",
            "Mean accuracy of QDA : 74.31 %\n",
            "Mean accuracy of Voting : 75.20 %\n",
            "Mean accuracy of Bagging : 75.36 %\n"
          ]
        }
      ]
    },
    {
      "cell_type": "code",
      "source": [
        "plt.figure(figsize=(10,5))\n",
        "plt.ylim([0.6,1])\n",
        "for name, accuracy  in zip(modelnames, modelaccuracies):\n",
        "  plt.bar(name, accuracy )\n",
        "  # plt.show()"
      ],
      "metadata": {
        "colab": {
          "base_uri": "https://localhost:8080/",
          "height": 325
        },
        "id": "oKkZcfW265ml",
        "outputId": "4c17f3ce-b52f-4a80-e234-94dffa170cd6"
      },
      "execution_count": 134,
      "outputs": [
        {
          "output_type": "display_data",
          "data": {
            "text/plain": [
              "<Figure size 720x360 with 1 Axes>"
            ],
            "image/png": "[encoded data removed]"
          },
          "metadata": {
            "needs_background": "light"
          }
        }
      ]
    },
    {
      "cell_type": "code",
      "source": [
        "# 분류기별 정확도의 평균값을 막대 그래프로 출력\n",
        "plt.figure(figsize=(10, 5))\n",
        "plt.ylim([60, 80])\n",
        "plt.bar(modelnames, modelmeans)\n"
      ],
      "metadata": {
        "colab": {
          "base_uri": "https://localhost:8080/",
          "height": 343
        },
        "id": "6ayaDo81BUG4",
        "outputId": "b7ab20fe-d8aa-4ed6-ea9b-091838f39d20"
      },
      "execution_count": 135,
      "outputs": [
        {
          "output_type": "execute_result",
          "data": {
            "text/plain": [
              "<BarContainer object of 10 artists>"
            ]
          },
          "metadata": {},
          "execution_count": 135
        },
        {
          "output_type": "display_data",
          "data": {
            "text/plain": [
              "<Figure size 720x360 with 1 Axes>"
            ],
            "image/png": "[encoded data removed]"
          },
          "metadata": {
            "needs_background": "light"
          }
        }
      ]
    },
    {
      "cell_type": "code",
      "source": [
        "# 분류기별 결과를 박스 그래프로 출력\n",
        "fig = plt.figure(figsize = (10, 5))\n",
        "ax = fig.add_subplot(111)\n",
        "# “111”은 “1×1 그리드, 첫 번째 서브 플롯”을 의미하고, “234”는 “2×3 그리드, 네 번째 서브 플롯”을 의미\n",
        "ax.boxplot(modelaccuracies)\n",
        "ax.set_xticklabels(modelnames)\n",
        "plt.show()\n"
      ],
      "metadata": {
        "colab": {
          "base_uri": "https://localhost:8080/",
          "height": 321
        },
        "id": "G02NJFGQ-YY3",
        "outputId": "8757571e-5071-434e-9e04-370438301cab"
      },
      "execution_count": 136,
      "outputs": [
        {
          "output_type": "display_data",
          "data": {
            "text/plain": [
              "<Figure size 720x360 with 1 Axes>"
            ],
            "image/png": "[encoded data removed]"
          },
          "metadata": {
            "needs_background": "light"
          }
        }
      ]
    },
    {
      "cell_type": "code",
      "source": [
        "modelaccuracies\n"
      ],
      "metadata": {
        "colab": {
          "base_uri": "https://localhost:8080/"
        },
        "id": "DPxZFTUpihKD",
        "outputId": "3948e5b8-d6ea-4b1c-c745-dc9bb7c066ec"
      },
      "execution_count": 137,
      "outputs": [
        {
          "output_type": "execute_result",
          "data": {
            "text/plain": [
              "[array([0.75862069, 0.74137931, 0.68965517, 0.77586207, 0.72413793,\n",
              "        0.65517241, 0.78947368, 0.78947368, 0.78947368, 0.75438596]),\n",
              " array([0.70689655, 0.74137931, 0.77586207, 0.70689655, 0.74137931,\n",
              "        0.68965517, 0.73684211, 0.75438596, 0.77192982, 0.77192982]),\n",
              " array([0.72413793, 0.75862069, 0.72413793, 0.79310345, 0.68965517,\n",
              "        0.70689655, 0.80701754, 0.68421053, 0.73684211, 0.80701754]),\n",
              " array([0.68965517, 0.70689655, 0.81034483, 0.75862069, 0.67241379,\n",
              "        0.67241379, 0.71929825, 0.75438596, 0.75438596, 0.78947368]),\n",
              " array([0.75862069, 0.72413793, 0.74137931, 0.82758621, 0.77586207,\n",
              "        0.74137931, 0.75438596, 0.73684211, 0.71929825, 0.71929825]),\n",
              " array([0.77586207, 0.75862069, 0.68965517, 0.81034483, 0.68965517,\n",
              "        0.72413793, 0.68421053, 0.73684211, 0.73684211, 0.8245614 ]),\n",
              " array([0.77586207, 0.72413793, 0.67241379, 0.77586207, 0.75862069,\n",
              "        0.84482759, 0.78947368, 0.66666667, 0.75438596, 0.70175439]),\n",
              " array([0.75862069, 0.75862069, 0.70689655, 0.79310345, 0.60344828,\n",
              "        0.79310345, 0.68421053, 0.77192982, 0.78947368, 0.77192982]),\n",
              " array([0.75862069, 0.72413793, 0.75862069, 0.70689655, 0.70689655,\n",
              "        0.68965517, 0.8245614 , 0.75438596, 0.80701754, 0.78947368]),\n",
              " array([0.75862069, 0.74137931, 0.72413793, 0.65517241, 0.75862069,\n",
              "        0.82758621, 0.75438596, 0.8245614 , 0.73684211, 0.75438596])]"
            ]
          },
          "metadata": {},
          "execution_count": 137
        }
      ]
    },
    {
      "cell_type": "code",
      "source": [
        "modelmeans"
      ],
      "metadata": {
        "colab": {
          "base_uri": "https://localhost:8080/"
        },
        "id": "nRRskiptik05",
        "outputId": "ee2be050-1a5e-4e0a-ece9-c9423c6eb75e"
      },
      "execution_count": 138,
      "outputs": [
        {
          "output_type": "execute_result",
          "data": {
            "text/plain": [
              "[74.67634603750757,\n",
              " 73.97156684815486,\n",
              " 74.31639443436177,\n",
              " 73.27888687235331,\n",
              " 74.98790078644888,\n",
              " 74.30732002419843,\n",
              " 74.64004839685421,\n",
              " 74.313369630974,\n",
              " 75.20266182698124,\n",
              " 75.356926799758]"
            ]
          },
          "metadata": {},
          "execution_count": 138
        }
      ]
    },
    {
      "cell_type": "markdown",
      "source": [
        "# 수업 시간 외 학습 모델"
      ],
      "metadata": {
        "id": "zD0SQCX9-zfB"
      }
    },
    {
      "cell_type": "markdown",
      "source": [
        "## XBGoost\n",
        "- 여러 개의 결정 트리 조합해서 학습하는 앙상블 모델"
      ],
      "metadata": {
        "id": "Y00kjcjqgPw5"
      }
    },
    {
      "cell_type": "code",
      "source": [
        "import xgboost as xgb\n",
        "\n",
        "# 학습 환경 설정\n",
        "# classifier = xgb.XGBClassifier()\n",
        "classifier = xgb.XGBClassifier(learning_rate=0.1,max_depth=5,n_estimators=100)\n",
        "# classifier.fit(X_train, y_train) # fit: 훈련하라\n",
        "classifier.fit(X_train, y_train, verbose=False) # verbose는 학습마다 평가값들에 대한 메세지를 출력할지말지\n",
        "\n",
        "# 테스트셋에 적용\n",
        "y_pred = classifier.predict(X_test) # predict:예측\n",
        "\n",
        "# 계층별(서브셋 n_splits=10) 교차 검증 환경 설정 , # n_splits: 데이터 분할 수, shuffle:데이터 섞을지 말지(True가 기본)\n",
        "skf = StratifiedKFold(n_splits=10, shuffle=True)\n",
        "\n",
        "# 교차 검증을 통해 정확도 계산 # estimator=평가모델 # cv=fold수\n",
        "accuracies = cross_val_score(estimator=classifier, X=X_train, y=y_train, cv=skf)\n",
        "\n",
        "# 정확도와 표준편차를 출력\n",
        "print(\"Accuracy: {:.2f} %\".format(accuracies.mean()*100)) # 정확도\n",
        "print(\"Standard Deviation: {:.2f} %\".format(accuracies.std()*100)) # 표준편차"
      ],
      "metadata": {
        "colab": {
          "base_uri": "https://localhost:8080/"
        },
        "id": "Tq6iTbltgY4j",
        "outputId": "0febc972-ebe9-4cc5-ef7d-9e0104df08ba"
      },
      "execution_count": 120,
      "outputs": [
        {
          "output_type": "stream",
          "name": "stdout",
          "text": [
            "Accuracy: 73.44 %\n",
            "Standard Deviation: 6.40 %\n"
          ]
        }
      ]
    },
    {
      "cell_type": "code",
      "source": [
        ""
      ],
      "metadata": {
        "id": "IXtOifwoggRL"
      },
      "execution_count": null,
      "outputs": []
    }
  ]
}