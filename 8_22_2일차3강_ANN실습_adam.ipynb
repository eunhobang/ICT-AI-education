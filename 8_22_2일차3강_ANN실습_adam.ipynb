{
  "cells": [
    {
      "cell_type": "markdown",
      "metadata": {
        "id": "view-in-github",
        "colab_type": "text"
      },
      "source": [
        "<a href=\"https://colab.research.google.com/github/eunhobang/ICT-AI-education/blob/main/8_22_2%EC%9D%BC%EC%B0%A83%EA%B0%95_ANN%EC%8B%A4%EC%8A%B5_adam.ipynb\" target=\"_parent\"><img src=\"https://colab.research.google.com/assets/colab-badge.svg\" alt=\"Open In Colab\"/></a>"
      ]
    },
    {
      "cell_type": "code",
      "execution_count": 23,
      "metadata": {
        "colab": {
          "base_uri": "https://localhost:8080/",
          "height": 35
        },
        "id": "PiI1lHJKnPrR",
        "outputId": "ca9903e9-b991-4f90-bd58-2c93e8d3e39d"
      },
      "outputs": [
        {
          "output_type": "execute_result",
          "data": {
            "text/plain": [
              "'2.8.0'"
            ],
            "application/vnd.google.colaboratory.intrinsic+json": {
              "type": "string"
            }
          },
          "metadata": {},
          "execution_count": 23
        }
      ],
      "source": [
        "from tensorflow import keras\n",
        "keras.__version__"
      ]
    },
    {
      "cell_type": "code",
      "execution_count": 24,
      "metadata": {
        "colab": {
          "base_uri": "https://localhost:8080/"
        },
        "id": "W08ZkT5onPrT",
        "outputId": "01fbc598-7c05-4a5e-dbe1-f85041a82c91"
      },
      "outputs": [
        {
          "output_type": "stream",
          "name": "stdout",
          "text": [
            "Variable         Type          Data/Info\n",
            "----------------------------------------\n",
            "digit            ndarray       28x28: 784 elems, type `uint8`, 784 bytes\n",
            "keras            module        <module 'tensorflow.keras<...>i/_v2/keras/__init__.py'>\n",
            "layers           module        <module 'keras.api._v2.ke<...>eras/layers/__init__.py'>\n",
            "mnist            module        <module 'keras.api._v2.ke<...>asets/mnist/__init__.py'>\n",
            "models           module        <module 'keras.api._v2.ke<...>eras/models/__init__.py'>\n",
            "network          Sequential    <keras.engine.sequential.<...>object at 0x7fa152fcc610>\n",
            "plt              module        <module 'matplotlib.pyplo<...>es/matplotlib/pyplot.py'>\n",
            "test_acc         float         0.9832000136375427\n",
            "test_images      ndarray       10000x784: 7840000 elems, type `float32`, 31360000 bytes (29.9072265625 Mb)\n",
            "test_labels      ndarray       10000x10: 100000 elems, type `float32`, 400000 bytes (390.625 kb)\n",
            "test_loss        float         0.07967235893011093\n",
            "to_categorical   function      <function to_categorical at 0x7fa153ff35f0>\n",
            "train_images     ndarray       60000x784: 47040000 elems, type `float32`, 188160000 bytes (179.443359375 Mb)\n",
            "train_labels     ndarray       60000x10: 600000 elems, type `float32`, 2400000 bytes (2.288818359375 Mb)\n"
          ]
        }
      ],
      "source": [
        "%whos"
      ]
    },
    {
      "cell_type": "code",
      "execution_count": 25,
      "metadata": {
        "id": "sUE-jH2inPrU"
      },
      "outputs": [],
      "source": [
        "from tensorflow.keras.datasets import mnist\n",
        "\n",
        "(train_images, train_labels), (test_images, test_labels) = mnist.load_data()"
      ]
    },
    {
      "cell_type": "code",
      "execution_count": 26,
      "metadata": {
        "colab": {
          "base_uri": "https://localhost:8080/"
        },
        "id": "hIOrxrnsnPrU",
        "outputId": "18ede78b-5c82-4b91-e171-61b62e723e38"
      },
      "outputs": [
        {
          "output_type": "stream",
          "name": "stdout",
          "text": [
            "Variable         Type          Data/Info\n",
            "----------------------------------------\n",
            "digit            ndarray       28x28: 784 elems, type `uint8`, 784 bytes\n",
            "keras            module        <module 'tensorflow.keras<...>i/_v2/keras/__init__.py'>\n",
            "layers           module        <module 'keras.api._v2.ke<...>eras/layers/__init__.py'>\n",
            "mnist            module        <module 'keras.api._v2.ke<...>asets/mnist/__init__.py'>\n",
            "models           module        <module 'keras.api._v2.ke<...>eras/models/__init__.py'>\n",
            "network          Sequential    <keras.engine.sequential.<...>object at 0x7fa152fcc610>\n",
            "plt              module        <module 'matplotlib.pyplo<...>es/matplotlib/pyplot.py'>\n",
            "test_acc         float         0.9832000136375427\n",
            "test_images      ndarray       10000x28x28: 7840000 elems, type `uint8`, 7840000 bytes (7.476806640625 Mb)\n",
            "test_labels      ndarray       10000: 10000 elems, type `uint8`, 10000 bytes\n",
            "test_loss        float         0.07967235893011093\n",
            "to_categorical   function      <function to_categorical at 0x7fa153ff35f0>\n",
            "train_images     ndarray       60000x28x28: 47040000 elems, type `uint8`, 47040000 bytes (44.86083984375 Mb)\n",
            "train_labels     ndarray       60000: 60000 elems, type `uint8`, 60000 bytes\n"
          ]
        }
      ],
      "source": [
        "%whos"
      ]
    },
    {
      "cell_type": "code",
      "execution_count": 27,
      "metadata": {
        "colab": {
          "base_uri": "https://localhost:8080/"
        },
        "id": "bunF2McOnPrV",
        "outputId": "109bdb9c-42b5-41d0-ef04-6ed123765b33"
      },
      "outputs": [
        {
          "output_type": "stream",
          "name": "stdout",
          "text": [
            "<class 'numpy.ndarray'>\n",
            "uint8\n",
            "(60000, 28, 28)\n"
          ]
        }
      ],
      "source": [
        "print(type(train_images))\n",
        "print(train_images.dtype)\n",
        "print(train_images.shape)"
      ]
    },
    {
      "cell_type": "code",
      "execution_count": 28,
      "metadata": {
        "colab": {
          "base_uri": "https://localhost:8080/"
        },
        "id": "xd7OFMHtnPrV",
        "outputId": "75511c33-9e11-4166-8b25-1843565cbd39"
      },
      "outputs": [
        {
          "output_type": "execute_result",
          "data": {
            "text/plain": [
              "(60000, 28, 28)"
            ]
          },
          "metadata": {},
          "execution_count": 28
        }
      ],
      "source": [
        "train_images.shape"
      ]
    },
    {
      "cell_type": "code",
      "execution_count": 29,
      "metadata": {
        "colab": {
          "base_uri": "https://localhost:8080/"
        },
        "id": "e0tnQC8MnPrW",
        "outputId": "7d980fe2-9b65-4516-a8bd-f110be047a00"
      },
      "outputs": [
        {
          "output_type": "execute_result",
          "data": {
            "text/plain": [
              "60000"
            ]
          },
          "metadata": {},
          "execution_count": 29
        }
      ],
      "source": [
        "len(train_labels)"
      ]
    },
    {
      "cell_type": "code",
      "execution_count": 30,
      "metadata": {
        "colab": {
          "base_uri": "https://localhost:8080/"
        },
        "id": "nwB5eWISnPrX",
        "outputId": "64aa9897-7f04-462e-d7d5-df0cc640c84b"
      },
      "outputs": [
        {
          "output_type": "execute_result",
          "data": {
            "text/plain": [
              "array([5, 0, 4, ..., 5, 6, 8], dtype=uint8)"
            ]
          },
          "metadata": {},
          "execution_count": 30
        }
      ],
      "source": [
        "train_labels"
      ]
    },
    {
      "cell_type": "code",
      "execution_count": 31,
      "metadata": {
        "colab": {
          "base_uri": "https://localhost:8080/"
        },
        "id": "nVZIuP2znPrX",
        "outputId": "960b7bc2-c21e-452f-f56b-9df976213f4e"
      },
      "outputs": [
        {
          "output_type": "execute_result",
          "data": {
            "text/plain": [
              "(10000, 28, 28)"
            ]
          },
          "metadata": {},
          "execution_count": 31
        }
      ],
      "source": [
        "test_images.shape"
      ]
    },
    {
      "cell_type": "code",
      "execution_count": 32,
      "metadata": {
        "colab": {
          "base_uri": "https://localhost:8080/"
        },
        "id": "6v99at9inPrX",
        "outputId": "3e363550-1e39-447c-d747-b0d535b5ae9b"
      },
      "outputs": [
        {
          "output_type": "execute_result",
          "data": {
            "text/plain": [
              "10000"
            ]
          },
          "metadata": {},
          "execution_count": 32
        }
      ],
      "source": [
        "len(test_labels)"
      ]
    },
    {
      "cell_type": "code",
      "execution_count": 33,
      "metadata": {
        "colab": {
          "base_uri": "https://localhost:8080/"
        },
        "id": "h_XPimqknPrY",
        "outputId": "db58c5d9-61e0-419b-fa19-436092a8e61f"
      },
      "outputs": [
        {
          "output_type": "execute_result",
          "data": {
            "text/plain": [
              "array([7, 2, 1, ..., 4, 5, 6], dtype=uint8)"
            ]
          },
          "metadata": {},
          "execution_count": 33
        }
      ],
      "source": [
        "test_labels"
      ]
    },
    {
      "cell_type": "code",
      "execution_count": 34,
      "metadata": {
        "id": "jRyDRN23nPrY"
      },
      "outputs": [],
      "source": [
        "import matplotlib.pyplot as plt"
      ]
    },
    {
      "cell_type": "code",
      "execution_count": 35,
      "metadata": {
        "colab": {
          "base_uri": "https://localhost:8080/",
          "height": 283
        },
        "id": "QiwCfLHlnPrY",
        "outputId": "a1c46ff7-d8c6-4319-9b1b-e69948c890d4"
      },
      "outputs": [
        {
          "output_type": "stream",
          "name": "stdout",
          "text": [
            "<class 'numpy.ndarray'>\n"
          ]
        },
        {
          "output_type": "display_data",
          "data": {
            "text/plain": [
              "<Figure size 432x288 with 1 Axes>"
            ],
            "image/png": "[encoded data removed]"
          },
          "metadata": {
            "needs_background": "light"
          }
        }
      ],
      "source": [
        "digit = train_images[4]\n",
        "print(type(digit))\n",
        "plt.imshow(digit, cmap=plt.cm.binary)\n",
        "plt.show()"
      ]
    },
    {
      "cell_type": "code",
      "execution_count": 36,
      "metadata": {
        "id": "9Q-gsQlQnPrZ"
      },
      "outputs": [],
      "source": [
        "from tensorflow.keras import models\n",
        "from tensorflow.keras import layers\n",
        "\n",
        "network = models.Sequential()\n",
        "network.add(layers.Dense(512, activation='relu', input_shape=(28 * 28,)))\n",
        "network.add(layers.Dense(256, activation='relu'))\n",
        "network.add(layers.Dense(128, activation='relu'))\n",
        "network.add(layers.Dense(64, activation = 'relu'))\n",
        "network.add(layers.Dense(10, activation='softmax'))"
      ]
    },
    {
      "cell_type": "code",
      "execution_count": 37,
      "metadata": {
        "id": "GytrcWe5nPrZ"
      },
      "outputs": [],
      "source": [
        "# network.compile(optimizer='rmsprop',\n",
        "#                 loss='categorical_crossentropy',\n",
        "#                 metrics=['accuracy'])\n",
        "network.compile(optimizer='adam',\n",
        "                loss='categorical_crossentropy',\n",
        "                metrics=['accuracy'])"
      ]
    },
    {
      "cell_type": "code",
      "execution_count": 38,
      "metadata": {
        "colab": {
          "base_uri": "https://localhost:8080/"
        },
        "id": "IoZcgCC6nPrZ",
        "outputId": "c40fa0d2-ed47-4bc3-af1a-512b29730a55"
      },
      "outputs": [
        {
          "output_type": "stream",
          "name": "stdout",
          "text": [
            "Model: \"sequential_1\"\n",
            "_________________________________________________________________\n",
            " Layer (type)                Output Shape              Param #   \n",
            "=================================================================\n",
            " dense_4 (Dense)             (None, 512)               401920    \n",
            "                                                                 \n",
            " dense_5 (Dense)             (None, 256)               131328    \n",
            "                                                                 \n",
            " dense_6 (Dense)             (None, 128)               32896     \n",
            "                                                                 \n",
            " dense_7 (Dense)             (None, 64)                8256      \n",
            "                                                                 \n",
            " dense_8 (Dense)             (None, 10)                650       \n",
            "                                                                 \n",
            "=================================================================\n",
            "Total params: 575,050\n",
            "Trainable params: 575,050\n",
            "Non-trainable params: 0\n",
            "_________________________________________________________________\n"
          ]
        }
      ],
      "source": [
        "network.summary()"
      ]
    },
    {
      "cell_type": "markdown",
      "source": [
        "![image.png](data:image/png;base64,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)"
      ],
      "metadata": {
        "id": "JXSEIQ6-P-vb"
      }
    },
    {
      "cell_type": "code",
      "execution_count": 39,
      "metadata": {
        "id": "5-L2QOiTnPrZ"
      },
      "outputs": [],
      "source": [
        "train_images = train_images.reshape((60000, 28 * 28))\n",
        "train_images = train_images.astype('float32') / 255\n",
        "\n",
        "test_images = test_images.reshape((10000, 28 * 28))\n",
        "test_images = test_images.astype('float32') / 255"
      ]
    },
    {
      "cell_type": "code",
      "execution_count": 40,
      "metadata": {
        "id": "2lQG97MinPra"
      },
      "outputs": [],
      "source": [
        "from tensorflow.keras.utils import to_categorical\n",
        "\n",
        "train_labels = to_categorical(train_labels)\n",
        "test_labels = to_categorical(test_labels)"
      ]
    },
    {
      "cell_type": "code",
      "execution_count": 41,
      "metadata": {
        "colab": {
          "base_uri": "https://localhost:8080/"
        },
        "id": "3tTXGIo-nPra",
        "outputId": "6b3d3ed4-800c-4e5a-ac06-7bd5cdd5df9e"
      },
      "outputs": [
        {
          "output_type": "stream",
          "name": "stdout",
          "text": [
            "<class 'numpy.ndarray'>\n",
            "<class 'numpy.ndarray'>\n"
          ]
        }
      ],
      "source": [
        "print(type(train_labels))\n",
        "print(type(test_labels))"
      ]
    },
    {
      "cell_type": "code",
      "execution_count": 42,
      "metadata": {
        "colab": {
          "base_uri": "https://localhost:8080/"
        },
        "id": "_ROyRhXanPra",
        "outputId": "bbd11933-2ea9-4a50-9324-ff707991771f"
      },
      "outputs": [
        {
          "output_type": "stream",
          "name": "stdout",
          "text": [
            "Epoch 1/20\n",
            "469/469 [==============================] - 2s 3ms/step - loss: 0.2480 - accuracy: 0.9269\n",
            "Epoch 2/20\n",
            "469/469 [==============================] - 2s 3ms/step - loss: 0.0895 - accuracy: 0.9728\n",
            "Epoch 3/20\n",
            "469/469 [==============================] - 2s 3ms/step - loss: 0.0604 - accuracy: 0.9812\n",
            "Epoch 4/20\n",
            "469/469 [==============================] - 2s 3ms/step - loss: 0.0416 - accuracy: 0.9868\n",
            "Epoch 5/20\n",
            "469/469 [==============================] - 2s 3ms/step - loss: 0.0345 - accuracy: 0.9887\n",
            "Epoch 6/20\n",
            "469/469 [==============================] - 2s 3ms/step - loss: 0.0304 - accuracy: 0.9900\n",
            "Epoch 7/20\n",
            "469/469 [==============================] - 2s 3ms/step - loss: 0.0228 - accuracy: 0.9930\n",
            "Epoch 8/20\n",
            "469/469 [==============================] - 2s 3ms/step - loss: 0.0220 - accuracy: 0.9929\n",
            "Epoch 9/20\n",
            "469/469 [==============================] - 3s 5ms/step - loss: 0.0195 - accuracy: 0.9938\n",
            "Epoch 10/20\n",
            "469/469 [==============================] - 2s 4ms/step - loss: 0.0177 - accuracy: 0.9942\n",
            "Epoch 11/20\n",
            "469/469 [==============================] - 2s 4ms/step - loss: 0.0149 - accuracy: 0.9951\n",
            "Epoch 12/20\n",
            "469/469 [==============================] - 2s 4ms/step - loss: 0.0143 - accuracy: 0.9955\n",
            "Epoch 13/20\n",
            "469/469 [==============================] - 2s 3ms/step - loss: 0.0143 - accuracy: 0.9956\n",
            "Epoch 14/20\n",
            "469/469 [==============================] - 2s 3ms/step - loss: 0.0138 - accuracy: 0.9958\n",
            "Epoch 15/20\n",
            "469/469 [==============================] - 2s 3ms/step - loss: 0.0113 - accuracy: 0.9964\n",
            "Epoch 16/20\n",
            "469/469 [==============================] - 2s 3ms/step - loss: 0.0103 - accuracy: 0.9969\n",
            "Epoch 17/20\n",
            "469/469 [==============================] - 2s 3ms/step - loss: 0.0119 - accuracy: 0.9966\n",
            "Epoch 18/20\n",
            "469/469 [==============================] - 2s 3ms/step - loss: 0.0082 - accuracy: 0.9978\n",
            "Epoch 19/20\n",
            "469/469 [==============================] - 2s 3ms/step - loss: 0.0092 - accuracy: 0.9971\n",
            "Epoch 20/20\n",
            "469/469 [==============================] - 2s 3ms/step - loss: 0.0138 - accuracy: 0.9958\n"
          ]
        },
        {
          "output_type": "execute_result",
          "data": {
            "text/plain": [
              "<keras.callbacks.History at 0x7fa1404778d0>"
            ]
          },
          "metadata": {},
          "execution_count": 42
        }
      ],
      "source": [
        "# network.fit(train_images, train_labels, epochs=10, batch_size=128)\n",
        "network.fit(train_images, train_labels, epochs=20, batch_size=128) #  60000/128 = 469"
      ]
    },
    {
      "cell_type": "code",
      "execution_count": 43,
      "metadata": {
        "colab": {
          "base_uri": "https://localhost:8080/"
        },
        "id": "RM7vvyOWnPra",
        "outputId": "9d5658a4-753f-437b-f70b-40c6c854176f"
      },
      "outputs": [
        {
          "output_type": "stream",
          "name": "stdout",
          "text": [
            "313/313 [==============================] - 1s 2ms/step - loss: 0.1096 - accuracy: 0.9768\n"
          ]
        }
      ],
      "source": [
        "test_loss, test_acc = network.evaluate(test_images, test_labels)"
      ]
    },
    {
      "cell_type": "code",
      "execution_count": 44,
      "metadata": {
        "colab": {
          "base_uri": "https://localhost:8080/"
        },
        "id": "-Zyn6DyonPra",
        "outputId": "46652985-3a0d-42db-9343-556729a99cd2"
      },
      "outputs": [
        {
          "output_type": "stream",
          "name": "stdout",
          "text": [
            "test_acc: 0.9768000245094299\n"
          ]
        }
      ],
      "source": [
        "print('test_acc:', test_acc)"
      ]
    }
  ],
  "metadata": {
    "kernelspec": {
      "display_name": "Python 3",
      "language": "python",
      "name": "python3"
    },
    "language_info": {
      "codemirror_mode": {
        "name": "ipython",
        "version": 3
      },
      "file_extension": ".py",
      "mimetype": "text/x-python",
      "name": "python",
      "nbconvert_exporter": "python",
      "pygments_lexer": "ipython3",
      "version": "3.8.8"
    },
    "colab": {
      "name": "8_22_2일차3강_ANN실습_adam.ipynb",
      "provenance": [],
      "include_colab_link": true
    },
    "accelerator": "GPU",
    "gpuClass": "standard"
  },
  "nbformat": 4,
  "nbformat_minor": 0
}