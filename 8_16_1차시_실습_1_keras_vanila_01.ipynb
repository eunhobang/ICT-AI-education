{
  "cells": [
    {
      "cell_type": "markdown",
      "metadata": {
        "id": "view-in-github",
        "colab_type": "text"
      },
      "source": [
        "<a href=\"https://colab.research.google.com/github/eunhobang/ICT-AI-education/blob/main/8_16_1%EC%B0%A8%EC%8B%9C_%EC%8B%A4%EC%8A%B5_1_keras_vanila_01.ipynb\" target=\"_parent\"><img src=\"https://colab.research.google.com/assets/colab-badge.svg\" alt=\"Open In Colab\"/></a>"
      ]
    },
    {
      "cell_type": "code",
      "execution_count": 19,
      "metadata": {
        "colab": {
          "base_uri": "https://localhost:8080/",
          "height": 35
        },
        "id": "NuA4yBAQ7dgT",
        "outputId": "db30d8ca-350f-4977-abdc-4b060052200b"
      },
      "outputs": [
        {
          "output_type": "execute_result",
          "data": {
            "text/plain": [
              "'2.8.0'"
            ],
            "application/vnd.google.colaboratory.intrinsic+json": {
              "type": "string"
            }
          },
          "metadata": {},
          "execution_count": 19
        }
      ],
      "source": [
        "import keras\n",
        "keras.__version__"
      ]
    },
    {
      "cell_type": "markdown",
      "source": [
        "%whos: 메모리에 어떤 게 올라와 있는지 물어보는 것"
      ],
      "metadata": {
        "id": "PaDhGsQItnNC"
      }
    },
    {
      "cell_type": "code",
      "execution_count": 23,
      "metadata": {
        "colab": {
          "base_uri": "https://localhost:8080/"
        },
        "id": "3y3OZDzH7dgV",
        "outputId": "b507e719-86b8-41b0-e757-299eb498e36b"
      },
      "outputs": [
        {
          "output_type": "stream",
          "name": "stdout",
          "text": [
            "Variable   Type          Data/Info\n",
            "----------------------------------\n",
            "keras      module        <module 'keras' from '/us<...>kages/keras/__init__.py'>\n",
            "model      Sequential    <keras.engine.sequential.<...>object at 0x7f3223d82c10>\n",
            "numpy      module        <module 'numpy' from '/us<...>kages/numpy/__init__.py'>\n",
            "x          ndarray       8: 8 elems, type `int64`, 64 bytes\n",
            "y          ndarray       8: 8 elems, type `int64`, 64 bytes\n"
          ]
        }
      ],
      "source": [
        "%whos"
      ]
    },
    {
      "cell_type": "code",
      "execution_count": 14,
      "metadata": {
        "colab": {
          "base_uri": "https://localhost:8080/",
          "height": 35
        },
        "id": "hbdl3CAT7dgW",
        "outputId": "4e5640e1-2f20-41df-b903-f263cd5184c4"
      },
      "outputs": [
        {
          "output_type": "execute_result",
          "data": {
            "text/plain": [
              "'2.8.0'"
            ],
            "application/vnd.google.colaboratory.intrinsic+json": {
              "type": "string"
            }
          },
          "metadata": {},
          "execution_count": 14
        }
      ],
      "source": [
        "keras.__version__"
      ]
    },
    {
      "cell_type": "code",
      "execution_count": 15,
      "metadata": {
        "id": "Ai6meiDe7dgW"
      },
      "outputs": [],
      "source": [
        "import numpy \n",
        "#넘파이 덕분에 파이썬이 R을 역전 시킴"
      ]
    },
    {
      "cell_type": "code",
      "source": [
        "x = numpy.array([0, 1, 2, 3, 4, 5, 6, 7])\n",
        "# y = x * 2 + 1\n",
        "y = numpy.array([1, 3, 5, 7, 9, 11, 13, 15])"
      ],
      "metadata": {
        "id": "_fc24gyksiFA"
      },
      "execution_count": 8,
      "outputs": []
    },
    {
      "cell_type": "code",
      "execution_count": 21,
      "metadata": {
        "colab": {
          "base_uri": "https://localhost:8080/"
        },
        "id": "FG2hbQkY7dgX",
        "outputId": "5f70700c-5e93-4227-f43e-504bebd39c63"
      },
      "outputs": [
        {
          "output_type": "stream",
          "name": "stdout",
          "text": [
            "Model: \"sequential_2\"\n",
            "_________________________________________________________________\n",
            " Layer (type)                Output Shape              Param #   \n",
            "=================================================================\n",
            " dense_4 (Dense)             (None, 8)                 16        \n",
            "                                                                 \n",
            " dense_5 (Dense)             (None, 4)                 36        \n",
            "                                                                 \n",
            " dense_6 (Dense)             (None, 2)                 10        \n",
            "                                                                 \n",
            " dense_7 (Dense)             (None, 1)                 3         \n",
            "                                                                 \n",
            "=================================================================\n",
            "Total params: 65\n",
            "Trainable params: 65\n",
            "Non-trainable params: 0\n",
            "_________________________________________________________________\n"
          ]
        }
      ],
      "source": [
        "# x = numpy.array([0, 1, 2, 3, 4, 5, 6, 7])\n",
        "# # y = x * 2 + 1\n",
        "# y = numpy.array([1, 3, 5, 7, 9, 11, 13, 15])\n",
        "\n",
        "model = keras.models.Sequential()\n",
        "\n",
        "# 인코더(히든레이어에서 노드 점점 줄이는 방식)\n",
        "model.add(keras.layers.Dense(8, input_shape=(1,)))\n",
        "model.add(keras.layers.Dense(4))\n",
        "model.add(keras.layers.Dense(2))\n",
        "model.add(keras.layers.Dense(1))\n",
        "\n",
        "model.compile('SGD', 'mse') \n",
        "model.summary()"
      ]
    },
    {
      "cell_type": "markdown",
      "source": [
        "Param #   : 학습 숫자"
      ],
      "metadata": {
        "id": "VEYONeSHt7Mv"
      }
    },
    {
      "cell_type": "code",
      "execution_count": 25,
      "metadata": {
        "colab": {
          "base_uri": "https://localhost:8080/"
        },
        "id": "jLmnmFfW7dgX",
        "outputId": "d188b542-39f8-41e5-b4fe-328eb7813284"
      },
      "outputs": [
        {
          "output_type": "stream",
          "name": "stdout",
          "text": [
            "Epoch 1/50\n",
            "1/1 [==============================] - 0s 11ms/step - loss: 1.8036\n",
            "Epoch 2/50\n",
            "1/1 [==============================] - 0s 10ms/step - loss: 4.9441\n",
            "Epoch 3/50\n",
            "1/1 [==============================] - 0s 7ms/step - loss: 2.8649\n",
            "Epoch 4/50\n",
            "1/1 [==============================] - 0s 8ms/step - loss: 7.8288\n",
            "Epoch 5/50\n",
            "1/1 [==============================] - 0s 8ms/step - loss: 1.8603\n",
            "Epoch 6/50\n",
            "1/1 [==============================] - 0s 7ms/step - loss: 4.8930\n",
            "Epoch 7/50\n",
            "1/1 [==============================] - 0s 7ms/step - loss: 2.5481\n",
            "Epoch 8/50\n",
            "1/1 [==============================] - 0s 7ms/step - loss: 6.6810\n",
            "Epoch 9/50\n",
            "1/1 [==============================] - 0s 7ms/step - loss: 1.9732\n",
            "Epoch 10/50\n",
            "1/1 [==============================] - 0s 7ms/step - loss: 5.0185\n",
            "Epoch 11/50\n",
            "1/1 [==============================] - 0s 7ms/step - loss: 2.2794\n",
            "Epoch 12/50\n",
            "1/1 [==============================] - 0s 7ms/step - loss: 5.7501\n",
            "Epoch 13/50\n",
            "1/1 [==============================] - 0s 7ms/step - loss: 2.0141\n",
            "Epoch 14/50\n",
            "1/1 [==============================] - 0s 7ms/step - loss: 4.9662\n",
            "Epoch 15/50\n",
            "1/1 [==============================] - 0s 10ms/step - loss: 2.0902\n",
            "Epoch 16/50\n",
            "1/1 [==============================] - 0s 14ms/step - loss: 5.0919\n",
            "Epoch 17/50\n",
            "1/1 [==============================] - 0s 7ms/step - loss: 1.9817\n",
            "Epoch 18/50\n",
            "1/1 [==============================] - 0s 7ms/step - loss: 4.7450\n",
            "Epoch 19/50\n",
            "1/1 [==============================] - 0s 7ms/step - loss: 1.9673\n",
            "Epoch 20/50\n",
            "1/1 [==============================] - 0s 7ms/step - loss: 4.6479\n",
            "Epoch 21/50\n",
            "1/1 [==============================] - 0s 8ms/step - loss: 1.9136\n",
            "Epoch 22/50\n",
            "1/1 [==============================] - 0s 9ms/step - loss: 4.4573\n",
            "Epoch 23/50\n",
            "1/1 [==============================] - 0s 11ms/step - loss: 1.8784\n",
            "Epoch 24/50\n",
            "1/1 [==============================] - 0s 6ms/step - loss: 4.3193\n",
            "Epoch 25/50\n",
            "1/1 [==============================] - 0s 6ms/step - loss: 1.8391\n",
            "Epoch 26/50\n",
            "1/1 [==============================] - 0s 7ms/step - loss: 4.1763\n",
            "Epoch 27/50\n",
            "1/1 [==============================] - 0s 7ms/step - loss: 1.8033\n",
            "Epoch 28/50\n",
            "1/1 [==============================] - 0s 7ms/step - loss: 4.0468\n",
            "Epoch 29/50\n",
            "1/1 [==============================] - 0s 7ms/step - loss: 1.7685\n",
            "Epoch 30/50\n",
            "1/1 [==============================] - 0s 7ms/step - loss: 3.9242\n",
            "Epoch 31/50\n",
            "1/1 [==============================] - 0s 7ms/step - loss: 1.7353\n",
            "Epoch 32/50\n",
            "1/1 [==============================] - 0s 7ms/step - loss: 3.8093\n",
            "Epoch 33/50\n",
            "1/1 [==============================] - 0s 7ms/step - loss: 1.7034\n",
            "Epoch 34/50\n",
            "1/1 [==============================] - 0s 7ms/step - loss: 3.7010\n",
            "Epoch 35/50\n",
            "1/1 [==============================] - 0s 7ms/step - loss: 1.6727\n",
            "Epoch 36/50\n",
            "1/1 [==============================] - 0s 6ms/step - loss: 3.5990\n",
            "Epoch 37/50\n",
            "1/1 [==============================] - 0s 7ms/step - loss: 1.6433\n",
            "Epoch 38/50\n",
            "1/1 [==============================] - 0s 6ms/step - loss: 3.5026\n",
            "Epoch 39/50\n",
            "1/1 [==============================] - 0s 6ms/step - loss: 1.6149\n",
            "Epoch 40/50\n",
            "1/1 [==============================] - 0s 7ms/step - loss: 3.4114\n",
            "Epoch 41/50\n",
            "1/1 [==============================] - 0s 6ms/step - loss: 1.5876\n",
            "Epoch 42/50\n",
            "1/1 [==============================] - 0s 6ms/step - loss: 3.3250\n",
            "Epoch 43/50\n",
            "1/1 [==============================] - 0s 6ms/step - loss: 1.5613\n",
            "Epoch 44/50\n",
            "1/1 [==============================] - 0s 7ms/step - loss: 3.2430\n",
            "Epoch 45/50\n",
            "1/1 [==============================] - 0s 6ms/step - loss: 1.5359\n",
            "Epoch 46/50\n",
            "1/1 [==============================] - 0s 6ms/step - loss: 3.1650\n",
            "Epoch 47/50\n",
            "1/1 [==============================] - 0s 6ms/step - loss: 1.5113\n",
            "Epoch 48/50\n",
            "1/1 [==============================] - 0s 8ms/step - loss: 3.0908\n",
            "Epoch 49/50\n",
            "1/1 [==============================] - 0s 9ms/step - loss: 1.4876\n",
            "Epoch 50/50\n",
            "1/1 [==============================] - 0s 9ms/step - loss: 3.0201\n"
          ]
        },
        {
          "output_type": "execute_result",
          "data": {
            "text/plain": [
              "<keras.callbacks.History at 0x7f32232b4e10>"
            ]
          },
          "metadata": {},
          "execution_count": 25
        }
      ],
      "source": [
        "model.fit(x[:6], y[:6], epochs=50, verbose=1)"
      ]
    },
    {
      "cell_type": "code",
      "execution_count": 26,
      "metadata": {
        "colab": {
          "base_uri": "https://localhost:8080/"
        },
        "id": "twb72FP67dgZ",
        "outputId": "f406f862-8070-498b-bf40-8e3df1fb11b6"
      },
      "outputs": [
        {
          "output_type": "stream",
          "name": "stdout",
          "text": [
            "Targets: [13 15]\n",
            "Predictions: [15.109473 17.395908]\n"
          ]
        }
      ],
      "source": [
        "print('Targets:', y[6:])\n",
        "print('Predictions:', model.predict(x[6:]).flatten())"
      ]
    },
    {
      "cell_type": "code",
      "execution_count": null,
      "metadata": {
        "id": "aVj1ggkB7dgZ"
      },
      "outputs": [],
      "source": [
        ""
      ]
    }
  ],
  "metadata": {
    "kernelspec": {
      "display_name": "Python 3",
      "language": "python",
      "name": "python3"
    },
    "language_info": {
      "codemirror_mode": {
        "name": "ipython",
        "version": 3
      },
      "file_extension": ".py",
      "mimetype": "text/x-python",
      "name": "python",
      "nbconvert_exporter": "python",
      "pygments_lexer": "ipython3",
      "version": "3.8.8"
    },
    "colab": {
      "name": "8_16_1차시_실습.1.keras_vanila_01.ipynb",
      "provenance": [],
      "collapsed_sections": [],
      "include_colab_link": true
    }
  },
  "nbformat": 4,
  "nbformat_minor": 0
}