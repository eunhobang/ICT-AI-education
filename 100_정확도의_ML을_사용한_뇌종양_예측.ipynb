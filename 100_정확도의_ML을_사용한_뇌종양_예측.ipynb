{
  "nbformat": 4,
  "nbformat_minor": 0,
  "metadata": {
    "colab": {
      "name": "100% 정확도의 ML을 사용한 뇌종양 예측.ipynb",
      "provenance": [],
      "collapsed_sections": [],
      "authorship_tag": "ABX9TyMwxBErGDEonspmw+qgXGVO",
      "include_colab_link": true
    },
    "kernelspec": {
      "name": "python3",
      "display_name": "Python 3"
    },
    "language_info": {
      "name": "python"
    }
  },
  "cells": [
    {
      "cell_type": "markdown",
      "metadata": {
        "id": "view-in-github",
        "colab_type": "text"
      },
      "source": [
        "<a href=\"https://colab.research.google.com/github/eunhobang/ICT-AI-education/blob/main/100_%EC%A0%95%ED%99%95%EB%8F%84%EC%9D%98_ML%EC%9D%84_%EC%82%AC%EC%9A%A9%ED%95%9C_%EB%87%8C%EC%A2%85%EC%96%91_%EC%98%88%EC%B8%A1.ipynb\" target=\"_parent\"><img src=\"https://colab.research.google.com/assets/colab-badge.svg\" alt=\"Open In Colab\"/></a>"
      ]
    },
    {
      "cell_type": "markdown",
      "source": [
        "https://www.kaggle.com/code/summerakousar/brain-tumor-prediction-using-ml-with-100-accuracy/notebook\n"
      ],
      "metadata": {
        "id": "YNQRVV1AFSlh"
      }
    },
    {
      "cell_type": "markdown",
      "source": [
        "뇌종양은 뇌의 비정상적인 세포의 성장이다. 뇌의 해부학은 매우 복잡하며, 다른 부분들이 다른 신경계를 담당한다. 뇌종양은 보호막, 뇌 밑바닥, 뇌간, 부비강, 비강, 기타 많은 부분을 포함하여 뇌 또는 두개골의 모든 부분에서 발생할 수 있다.\n",
        "\n",
        "뇌종양은 암(악성) 또는 비암(양성)일 수 있다.양성종양이나 악성종양이 커지면 두개골 내부의 압력이 높아진다. 이것은 뇌 손상을 일으킬 수 있고 생명을 위협할 수 있다.\n",
        "\n",
        "그러나 뇌종양의 조기 발견 및 분류는 의료 영상 분야에서 중요한 연구 영역이며, 이에 따라 환자 생명을 구하기 위해 가장 편리한 치료 방법을 선택하는 데 도움이 된다."
      ],
      "metadata": {
        "id": "sDLcQ4IqFHGw"
      }
    },
    {
      "cell_type": "markdown",
      "source": [
        "라이브러리 import"
      ],
      "metadata": {
        "id": "1BcudEdLFjzL"
      }
    },
    {
      "cell_type": "code",
      "execution_count": 3,
      "metadata": {
        "id": "kB2stufsE9lK"
      },
      "outputs": [],
      "source": [
        "import pandas as pd\n",
        "import numpy as np\n",
        "import matplotlib.pyplot as plt\n",
        "import seaborn as sns"
      ]
    },
    {
      "cell_type": "markdown",
      "source": [
        "데이터셋 가져오기"
      ],
      "metadata": {
        "id": "vVdUffMaFnsj"
      }
    },
    {
      "cell_type": "code",
      "source": [
        "df = pd.read_csv('./data.csv')"
      ],
      "metadata": {
        "id": "YfqW_84xFjIj"
      },
      "execution_count": 4,
      "outputs": []
    },
    {
      "cell_type": "code",
      "source": [
        "df.head()"
      ],
      "metadata": {
        "colab": {
          "base_uri": "https://localhost:8080/",
          "height": 317
        },
        "id": "ugdwzPN2F7OV",
        "outputId": "2206ac4a-8811-4a70-e753-668b38b7d0d5"
      },
      "execution_count": 5,
      "outputs": [
        {
          "output_type": "execute_result",
          "data": {
            "text/plain": [
              "   Unnamed: 0  X53416  M83670  X90908  M97496  X90908.1  U37019  R48602  \\\n",
              "0           0      70     -81      25      10        22     113      36   \n",
              "1           1     108     -30      -7      60         0      24       8   \n",
              "2           2      75      -1       5      48         6      34      27   \n",
              "3           3     871       4      14      78        -6      85      65   \n",
              "4           4     -92     -34      14      19        11      -6      27   \n",
              "\n",
              "   T96548  X64559  ...  H87456  R64130  H11125.1  U22055  L22524  M13699.1  \\\n",
              "0     163       9  ...      75       5        68     138      53        -4   \n",
              "1     113      -3  ...     186       6        60      93     140        -3   \n",
              "2      35      -1  ...     186     225        94      62      39       -14   \n",
              "3     227      19  ...      77       6        78      30      87        -4   \n",
              "4      -8       9  ...      87     303       204      81     105         9   \n",
              "\n",
              "   X54489  T55008  M10065.2      y  \n",
              "0     123       2        19  tumor  \n",
              "1     271      -1       -51  tumor  \n",
              "2     127       7       192  tumor  \n",
              "3      59       3       367  tumor  \n",
              "4     265      -2       126  tumor  \n",
              "\n",
              "[5 rows x 7466 columns]"
            ],
            "text/html": [
              "\n",
              "  <div id=\"df-8df381d2-1f76-47d4-a0de-700638565b29\">\n",
              "    <div class=\"colab-df-container\">\n",
              "      <div>\n",
              "<style scoped>\n",
              "    .dataframe tbody tr th:only-of-type {\n",
              "        vertical-align: middle;\n",
              "    }\n",
              "\n",
              "    .dataframe tbody tr th {\n",
              "        vertical-align: top;\n",
              "    }\n",
              "\n",
              "    .dataframe thead th {\n",
              "        text-align: right;\n",
              "    }\n",
              "</style>\n",
              "<table border=\"1\" class=\"dataframe\">\n",
              "  <thead>\n",
              "    <tr style=\"text-align: right;\">\n",
              "      <th></th>\n",
              "      <th>Unnamed: 0</th>\n",
              "      <th>X53416</th>\n",
              "      <th>M83670</th>\n",
              "      <th>X90908</th>\n",
              "      <th>M97496</th>\n",
              "      <th>X90908.1</th>\n",
              "      <th>U37019</th>\n",
              "      <th>R48602</th>\n",
              "      <th>T96548</th>\n",
              "      <th>X64559</th>\n",
              "      <th>...</th>\n",
              "      <th>H87456</th>\n",
              "      <th>R64130</th>\n",
              "      <th>H11125.1</th>\n",
              "      <th>U22055</th>\n",
              "      <th>L22524</th>\n",
              "      <th>M13699.1</th>\n",
              "      <th>X54489</th>\n",
              "      <th>T55008</th>\n",
              "      <th>M10065.2</th>\n",
              "      <th>y</th>\n",
              "    </tr>\n",
              "  </thead>\n",
              "  <tbody>\n",
              "    <tr>\n",
              "      <th>0</th>\n",
              "      <td>0</td>\n",
              "      <td>70</td>\n",
              "      <td>-81</td>\n",
              "      <td>25</td>\n",
              "      <td>10</td>\n",
              "      <td>22</td>\n",
              "      <td>113</td>\n",
              "      <td>36</td>\n",
              "      <td>163</td>\n",
              "      <td>9</td>\n",
              "      <td>...</td>\n",
              "      <td>75</td>\n",
              "      <td>5</td>\n",
              "      <td>68</td>\n",
              "      <td>138</td>\n",
              "      <td>53</td>\n",
              "      <td>-4</td>\n",
              "      <td>123</td>\n",
              "      <td>2</td>\n",
              "      <td>19</td>\n",
              "      <td>tumor</td>\n",
              "    </tr>\n",
              "    <tr>\n",
              "      <th>1</th>\n",
              "      <td>1</td>\n",
              "      <td>108</td>\n",
              "      <td>-30</td>\n",
              "      <td>-7</td>\n",
              "      <td>60</td>\n",
              "      <td>0</td>\n",
              "      <td>24</td>\n",
              "      <td>8</td>\n",
              "      <td>113</td>\n",
              "      <td>-3</td>\n",
              "      <td>...</td>\n",
              "      <td>186</td>\n",
              "      <td>6</td>\n",
              "      <td>60</td>\n",
              "      <td>93</td>\n",
              "      <td>140</td>\n",
              "      <td>-3</td>\n",
              "      <td>271</td>\n",
              "      <td>-1</td>\n",
              "      <td>-51</td>\n",
              "      <td>tumor</td>\n",
              "    </tr>\n",
              "    <tr>\n",
              "      <th>2</th>\n",
              "      <td>2</td>\n",
              "      <td>75</td>\n",
              "      <td>-1</td>\n",
              "      <td>5</td>\n",
              "      <td>48</td>\n",
              "      <td>6</td>\n",
              "      <td>34</td>\n",
              "      <td>27</td>\n",
              "      <td>35</td>\n",
              "      <td>-1</td>\n",
              "      <td>...</td>\n",
              "      <td>186</td>\n",
              "      <td>225</td>\n",
              "      <td>94</td>\n",
              "      <td>62</td>\n",
              "      <td>39</td>\n",
              "      <td>-14</td>\n",
              "      <td>127</td>\n",
              "      <td>7</td>\n",
              "      <td>192</td>\n",
              "      <td>tumor</td>\n",
              "    </tr>\n",
              "    <tr>\n",
              "      <th>3</th>\n",
              "      <td>3</td>\n",
              "      <td>871</td>\n",
              "      <td>4</td>\n",
              "      <td>14</td>\n",
              "      <td>78</td>\n",
              "      <td>-6</td>\n",
              "      <td>85</td>\n",
              "      <td>65</td>\n",
              "      <td>227</td>\n",
              "      <td>19</td>\n",
              "      <td>...</td>\n",
              "      <td>77</td>\n",
              "      <td>6</td>\n",
              "      <td>78</td>\n",
              "      <td>30</td>\n",
              "      <td>87</td>\n",
              "      <td>-4</td>\n",
              "      <td>59</td>\n",
              "      <td>3</td>\n",
              "      <td>367</td>\n",
              "      <td>tumor</td>\n",
              "    </tr>\n",
              "    <tr>\n",
              "      <th>4</th>\n",
              "      <td>4</td>\n",
              "      <td>-92</td>\n",
              "      <td>-34</td>\n",
              "      <td>14</td>\n",
              "      <td>19</td>\n",
              "      <td>11</td>\n",
              "      <td>-6</td>\n",
              "      <td>27</td>\n",
              "      <td>-8</td>\n",
              "      <td>9</td>\n",
              "      <td>...</td>\n",
              "      <td>87</td>\n",
              "      <td>303</td>\n",
              "      <td>204</td>\n",
              "      <td>81</td>\n",
              "      <td>105</td>\n",
              "      <td>9</td>\n",
              "      <td>265</td>\n",
              "      <td>-2</td>\n",
              "      <td>126</td>\n",
              "      <td>tumor</td>\n",
              "    </tr>\n",
              "  </tbody>\n",
              "</table>\n",
              "<p>5 rows × 7466 columns</p>\n",
              "</div>\n",
              "      <button class=\"colab-df-convert\" onclick=\"convertToInteractive('df-8df381d2-1f76-47d4-a0de-700638565b29')\"\n",
              "              title=\"Convert this dataframe to an interactive table.\"\n",
              "              style=\"display:none;\">\n",
              "        \n",
              "  <svg xmlns=\"http://www.w3.org/2000/svg\" height=\"24px\"viewBox=\"0 0 24 24\"\n",
              "       width=\"24px\">\n",
              "    <path d=\"M0 0h24v24H0V0z\" fill=\"none\"/>\n",
              "    <path d=\"M18.56 5.44l.94 2.06.94-2.06 2.06-.94-2.06-.94-.94-2.06-.94 2.06-2.06.94zm-11 1L8.5 8.5l.94-2.06 2.06-.94-2.06-.94L8.5 2.5l-.94 2.06-2.06.94zm10 10l.94 2.06.94-2.06 2.06-.94-2.06-.94-.94-2.06-.94 2.06-2.06.94z\"/><path d=\"M17.41 7.96l-1.37-1.37c-.4-.4-.92-.59-1.43-.59-.52 0-1.04.2-1.43.59L10.3 9.45l-7.72 7.72c-.78.78-.78 2.05 0 2.83L4 21.41c.39.39.9.59 1.41.59.51 0 1.02-.2 1.41-.59l7.78-7.78 2.81-2.81c.8-.78.8-2.07 0-2.86zM5.41 20L4 18.59l7.72-7.72 1.47 1.35L5.41 20z\"/>\n",
              "  </svg>\n",
              "      </button>\n",
              "      \n",
              "  <style>\n",
              "    .colab-df-container {\n",
              "      display:flex;\n",
              "      flex-wrap:wrap;\n",
              "      gap: 12px;\n",
              "    }\n",
              "\n",
              "    .colab-df-convert {\n",
              "      background-color: #E8F0FE;\n",
              "      border: none;\n",
              "      border-radius: 50%;\n",
              "      cursor: pointer;\n",
              "      display: none;\n",
              "      fill: #1967D2;\n",
              "      height: 32px;\n",
              "      padding: 0 0 0 0;\n",
              "      width: 32px;\n",
              "    }\n",
              "\n",
              "    .colab-df-convert:hover {\n",
              "      background-color: #E2EBFA;\n",
              "      box-shadow: 0px 1px 2px rgba(60, 64, 67, 0.3), 0px 1px 3px 1px rgba(60, 64, 67, 0.15);\n",
              "      fill: #174EA6;\n",
              "    }\n",
              "\n",
              "    [theme=dark] .colab-df-convert {\n",
              "      background-color: #3B4455;\n",
              "      fill: #D2E3FC;\n",
              "    }\n",
              "\n",
              "    [theme=dark] .colab-df-convert:hover {\n",
              "      background-color: #434B5C;\n",
              "      box-shadow: 0px 1px 3px 1px rgba(0, 0, 0, 0.15);\n",
              "      filter: drop-shadow(0px 1px 2px rgba(0, 0, 0, 0.3));\n",
              "      fill: #FFFFFF;\n",
              "    }\n",
              "  </style>\n",
              "\n",
              "      <script>\n",
              "        const buttonEl =\n",
              "          document.querySelector('#df-8df381d2-1f76-47d4-a0de-700638565b29 button.colab-df-convert');\n",
              "        buttonEl.style.display =\n",
              "          google.colab.kernel.accessAllowed ? 'block' : 'none';\n",
              "\n",
              "        async function convertToInteractive(key) {\n",
              "          const element = document.querySelector('#df-8df381d2-1f76-47d4-a0de-700638565b29');\n",
              "          const dataTable =\n",
              "            await google.colab.kernel.invokeFunction('convertToInteractive',\n",
              "                                                     [key], {});\n",
              "          if (!dataTable) return;\n",
              "\n",
              "          const docLinkHtml = 'Like what you see? Visit the ' +\n",
              "            '<a target=\"_blank\" href=https://colab.research.google.com/notebooks/data_table.ipynb>data table notebook</a>'\n",
              "            + ' to learn more about interactive tables.';\n",
              "          element.innerHTML = '';\n",
              "          dataTable['output_type'] = 'display_data';\n",
              "          await google.colab.output.renderOutput(dataTable, element);\n",
              "          const docLink = document.createElement('div');\n",
              "          docLink.innerHTML = docLinkHtml;\n",
              "          element.appendChild(docLink);\n",
              "        }\n",
              "      </script>\n",
              "    </div>\n",
              "  </div>\n",
              "  "
            ]
          },
          "metadata": {},
          "execution_count": 5
        }
      ]
    },
    {
      "cell_type": "code",
      "source": [
        "df.tail()"
      ],
      "metadata": {
        "colab": {
          "base_uri": "https://localhost:8080/",
          "height": 317
        },
        "id": "SGfc4fZlF8nm",
        "outputId": "b9364ba6-b653-4b99-c3a8-dd9102f6a6bf"
      },
      "execution_count": 6,
      "outputs": [
        {
          "output_type": "execute_result",
          "data": {
            "text/plain": [
              "    Unnamed: 0  X53416  M83670  X90908  M97496  X90908.1  U37019  R48602  \\\n",
              "31          31     488     564     -29    1303        -9    1236     265   \n",
              "32          32     164     330     -13     721        12     504     154   \n",
              "33          33    1282     116      -4     542         0    1070     344   \n",
              "34          34      68     718     -50    1816       -28     251      38   \n",
              "35          35     928     332       4     412         0     681     267   \n",
              "\n",
              "    T96548  X64559  ...  H87456  R64130  H11125.1  U22055  L22524  M13699.1  \\\n",
              "31    2203      41  ...      16       0       109      21       6       -15   \n",
              "32    1381      78  ...     -18       1     -1484      -4      -1        -1   \n",
              "33    1903      42  ...       5       3       128      25       2         0   \n",
              "34     598      73  ...      47      -2       190       3       0         8   \n",
              "35    1132     357  ...       9       1        67      19      10         1   \n",
              "\n",
              "    X54489  T55008  M10065.2       y  \n",
              "31      11       7      -145  Normal  \n",
              "32       3      -5       -63  Normal  \n",
              "33       7       3       -69  Normal  \n",
              "34      21      22      -214  Normal  \n",
              "35      32      -5        72  Normal  \n",
              "\n",
              "[5 rows x 7466 columns]"
            ],
            "text/html": [
              "\n",
              "  <div id=\"df-1657f959-d5fd-45e6-866c-7a0d95dfa982\">\n",
              "    <div class=\"colab-df-container\">\n",
              "      <div>\n",
              "<style scoped>\n",
              "    .dataframe tbody tr th:only-of-type {\n",
              "        vertical-align: middle;\n",
              "    }\n",
              "\n",
              "    .dataframe tbody tr th {\n",
              "        vertical-align: top;\n",
              "    }\n",
              "\n",
              "    .dataframe thead th {\n",
              "        text-align: right;\n",
              "    }\n",
              "</style>\n",
              "<table border=\"1\" class=\"dataframe\">\n",
              "  <thead>\n",
              "    <tr style=\"text-align: right;\">\n",
              "      <th></th>\n",
              "      <th>Unnamed: 0</th>\n",
              "      <th>X53416</th>\n",
              "      <th>M83670</th>\n",
              "      <th>X90908</th>\n",
              "      <th>M97496</th>\n",
              "      <th>X90908.1</th>\n",
              "      <th>U37019</th>\n",
              "      <th>R48602</th>\n",
              "      <th>T96548</th>\n",
              "      <th>X64559</th>\n",
              "      <th>...</th>\n",
              "      <th>H87456</th>\n",
              "      <th>R64130</th>\n",
              "      <th>H11125.1</th>\n",
              "      <th>U22055</th>\n",
              "      <th>L22524</th>\n",
              "      <th>M13699.1</th>\n",
              "      <th>X54489</th>\n",
              "      <th>T55008</th>\n",
              "      <th>M10065.2</th>\n",
              "      <th>y</th>\n",
              "    </tr>\n",
              "  </thead>\n",
              "  <tbody>\n",
              "    <tr>\n",
              "      <th>31</th>\n",
              "      <td>31</td>\n",
              "      <td>488</td>\n",
              "      <td>564</td>\n",
              "      <td>-29</td>\n",
              "      <td>1303</td>\n",
              "      <td>-9</td>\n",
              "      <td>1236</td>\n",
              "      <td>265</td>\n",
              "      <td>2203</td>\n",
              "      <td>41</td>\n",
              "      <td>...</td>\n",
              "      <td>16</td>\n",
              "      <td>0</td>\n",
              "      <td>109</td>\n",
              "      <td>21</td>\n",
              "      <td>6</td>\n",
              "      <td>-15</td>\n",
              "      <td>11</td>\n",
              "      <td>7</td>\n",
              "      <td>-145</td>\n",
              "      <td>Normal</td>\n",
              "    </tr>\n",
              "    <tr>\n",
              "      <th>32</th>\n",
              "      <td>32</td>\n",
              "      <td>164</td>\n",
              "      <td>330</td>\n",
              "      <td>-13</td>\n",
              "      <td>721</td>\n",
              "      <td>12</td>\n",
              "      <td>504</td>\n",
              "      <td>154</td>\n",
              "      <td>1381</td>\n",
              "      <td>78</td>\n",
              "      <td>...</td>\n",
              "      <td>-18</td>\n",
              "      <td>1</td>\n",
              "      <td>-1484</td>\n",
              "      <td>-4</td>\n",
              "      <td>-1</td>\n",
              "      <td>-1</td>\n",
              "      <td>3</td>\n",
              "      <td>-5</td>\n",
              "      <td>-63</td>\n",
              "      <td>Normal</td>\n",
              "    </tr>\n",
              "    <tr>\n",
              "      <th>33</th>\n",
              "      <td>33</td>\n",
              "      <td>1282</td>\n",
              "      <td>116</td>\n",
              "      <td>-4</td>\n",
              "      <td>542</td>\n",
              "      <td>0</td>\n",
              "      <td>1070</td>\n",
              "      <td>344</td>\n",
              "      <td>1903</td>\n",
              "      <td>42</td>\n",
              "      <td>...</td>\n",
              "      <td>5</td>\n",
              "      <td>3</td>\n",
              "      <td>128</td>\n",
              "      <td>25</td>\n",
              "      <td>2</td>\n",
              "      <td>0</td>\n",
              "      <td>7</td>\n",
              "      <td>3</td>\n",
              "      <td>-69</td>\n",
              "      <td>Normal</td>\n",
              "    </tr>\n",
              "    <tr>\n",
              "      <th>34</th>\n",
              "      <td>34</td>\n",
              "      <td>68</td>\n",
              "      <td>718</td>\n",
              "      <td>-50</td>\n",
              "      <td>1816</td>\n",
              "      <td>-28</td>\n",
              "      <td>251</td>\n",
              "      <td>38</td>\n",
              "      <td>598</td>\n",
              "      <td>73</td>\n",
              "      <td>...</td>\n",
              "      <td>47</td>\n",
              "      <td>-2</td>\n",
              "      <td>190</td>\n",
              "      <td>3</td>\n",
              "      <td>0</td>\n",
              "      <td>8</td>\n",
              "      <td>21</td>\n",
              "      <td>22</td>\n",
              "      <td>-214</td>\n",
              "      <td>Normal</td>\n",
              "    </tr>\n",
              "    <tr>\n",
              "      <th>35</th>\n",
              "      <td>35</td>\n",
              "      <td>928</td>\n",
              "      <td>332</td>\n",
              "      <td>4</td>\n",
              "      <td>412</td>\n",
              "      <td>0</td>\n",
              "      <td>681</td>\n",
              "      <td>267</td>\n",
              "      <td>1132</td>\n",
              "      <td>357</td>\n",
              "      <td>...</td>\n",
              "      <td>9</td>\n",
              "      <td>1</td>\n",
              "      <td>67</td>\n",
              "      <td>19</td>\n",
              "      <td>10</td>\n",
              "      <td>1</td>\n",
              "      <td>32</td>\n",
              "      <td>-5</td>\n",
              "      <td>72</td>\n",
              "      <td>Normal</td>\n",
              "    </tr>\n",
              "  </tbody>\n",
              "</table>\n",
              "<p>5 rows × 7466 columns</p>\n",
              "</div>\n",
              "      <button class=\"colab-df-convert\" onclick=\"convertToInteractive('df-1657f959-d5fd-45e6-866c-7a0d95dfa982')\"\n",
              "              title=\"Convert this dataframe to an interactive table.\"\n",
              "              style=\"display:none;\">\n",
              "        \n",
              "  <svg xmlns=\"http://www.w3.org/2000/svg\" height=\"24px\"viewBox=\"0 0 24 24\"\n",
              "       width=\"24px\">\n",
              "    <path d=\"M0 0h24v24H0V0z\" fill=\"none\"/>\n",
              "    <path d=\"M18.56 5.44l.94 2.06.94-2.06 2.06-.94-2.06-.94-.94-2.06-.94 2.06-2.06.94zm-11 1L8.5 8.5l.94-2.06 2.06-.94-2.06-.94L8.5 2.5l-.94 2.06-2.06.94zm10 10l.94 2.06.94-2.06 2.06-.94-2.06-.94-.94-2.06-.94 2.06-2.06.94z\"/><path d=\"M17.41 7.96l-1.37-1.37c-.4-.4-.92-.59-1.43-.59-.52 0-1.04.2-1.43.59L10.3 9.45l-7.72 7.72c-.78.78-.78 2.05 0 2.83L4 21.41c.39.39.9.59 1.41.59.51 0 1.02-.2 1.41-.59l7.78-7.78 2.81-2.81c.8-.78.8-2.07 0-2.86zM5.41 20L4 18.59l7.72-7.72 1.47 1.35L5.41 20z\"/>\n",
              "  </svg>\n",
              "      </button>\n",
              "      \n",
              "  <style>\n",
              "    .colab-df-container {\n",
              "      display:flex;\n",
              "      flex-wrap:wrap;\n",
              "      gap: 12px;\n",
              "    }\n",
              "\n",
              "    .colab-df-convert {\n",
              "      background-color: #E8F0FE;\n",
              "      border: none;\n",
              "      border-radius: 50%;\n",
              "      cursor: pointer;\n",
              "      display: none;\n",
              "      fill: #1967D2;\n",
              "      height: 32px;\n",
              "      padding: 0 0 0 0;\n",
              "      width: 32px;\n",
              "    }\n",
              "\n",
              "    .colab-df-convert:hover {\n",
              "      background-color: #E2EBFA;\n",
              "      box-shadow: 0px 1px 2px rgba(60, 64, 67, 0.3), 0px 1px 3px 1px rgba(60, 64, 67, 0.15);\n",
              "      fill: #174EA6;\n",
              "    }\n",
              "\n",
              "    [theme=dark] .colab-df-convert {\n",
              "      background-color: #3B4455;\n",
              "      fill: #D2E3FC;\n",
              "    }\n",
              "\n",
              "    [theme=dark] .colab-df-convert:hover {\n",
              "      background-color: #434B5C;\n",
              "      box-shadow: 0px 1px 3px 1px rgba(0, 0, 0, 0.15);\n",
              "      filter: drop-shadow(0px 1px 2px rgba(0, 0, 0, 0.3));\n",
              "      fill: #FFFFFF;\n",
              "    }\n",
              "  </style>\n",
              "\n",
              "      <script>\n",
              "        const buttonEl =\n",
              "          document.querySelector('#df-1657f959-d5fd-45e6-866c-7a0d95dfa982 button.colab-df-convert');\n",
              "        buttonEl.style.display =\n",
              "          google.colab.kernel.accessAllowed ? 'block' : 'none';\n",
              "\n",
              "        async function convertToInteractive(key) {\n",
              "          const element = document.querySelector('#df-1657f959-d5fd-45e6-866c-7a0d95dfa982');\n",
              "          const dataTable =\n",
              "            await google.colab.kernel.invokeFunction('convertToInteractive',\n",
              "                                                     [key], {});\n",
              "          if (!dataTable) return;\n",
              "\n",
              "          const docLinkHtml = 'Like what you see? Visit the ' +\n",
              "            '<a target=\"_blank\" href=https://colab.research.google.com/notebooks/data_table.ipynb>data table notebook</a>'\n",
              "            + ' to learn more about interactive tables.';\n",
              "          element.innerHTML = '';\n",
              "          dataTable['output_type'] = 'display_data';\n",
              "          await google.colab.output.renderOutput(dataTable, element);\n",
              "          const docLink = document.createElement('div');\n",
              "          docLink.innerHTML = docLinkHtml;\n",
              "          element.appendChild(docLink);\n",
              "        }\n",
              "      </script>\n",
              "    </div>\n",
              "  </div>\n",
              "  "
            ]
          },
          "metadata": {},
          "execution_count": 6
        }
      ]
    },
    {
      "cell_type": "code",
      "source": [
        "df.info()"
      ],
      "metadata": {
        "colab": {
          "base_uri": "https://localhost:8080/"
        },
        "id": "hBJ5NAGyGAtX",
        "outputId": "49639b72-5060-4e50-d2c9-65a99aebfe39"
      },
      "execution_count": 7,
      "outputs": [
        {
          "output_type": "stream",
          "name": "stdout",
          "text": [
            "<class 'pandas.core.frame.DataFrame'>\n",
            "RangeIndex: 36 entries, 0 to 35\n",
            "Columns: 7466 entries, Unnamed: 0 to y\n",
            "dtypes: int64(7465), object(1)\n",
            "memory usage: 2.1+ MB\n"
          ]
        }
      ]
    },
    {
      "cell_type": "code",
      "source": [
        "df.isnull().sum()"
      ],
      "metadata": {
        "colab": {
          "base_uri": "https://localhost:8080/"
        },
        "id": "XQScP2D4GDPs",
        "outputId": "22ef727f-b6f5-4f7a-a596-5320dea8fd37"
      },
      "execution_count": 8,
      "outputs": [
        {
          "output_type": "execute_result",
          "data": {
            "text/plain": [
              "Unnamed: 0    0\n",
              "X53416        0\n",
              "M83670        0\n",
              "X90908        0\n",
              "M97496        0\n",
              "             ..\n",
              "M13699.1      0\n",
              "X54489        0\n",
              "T55008        0\n",
              "M10065.2      0\n",
              "y             0\n",
              "Length: 7466, dtype: int64"
            ]
          },
          "metadata": {},
          "execution_count": 8
        }
      ]
    },
    {
      "cell_type": "markdown",
      "source": [
        "Unnamed 컬럼 지우기"
      ],
      "metadata": {
        "id": "atRif-c2GIm7"
      }
    },
    {
      "cell_type": "code",
      "source": [
        "df.drop(columns=['Unnamed: 0'], axis=1,inplace=True)\n",
        "# inplace=True 따로 변수에 저장하지 않아도 완전히 삭제"
      ],
      "metadata": {
        "id": "qphUukoMGGzO"
      },
      "execution_count": 9,
      "outputs": []
    },
    {
      "cell_type": "code",
      "source": [
        "df.columns"
      ],
      "metadata": {
        "colab": {
          "base_uri": "https://localhost:8080/"
        },
        "id": "u1IeHjM0GphN",
        "outputId": "68d51a98-1bde-44ee-be33-ae39cee8b98c"
      },
      "execution_count": 10,
      "outputs": [
        {
          "output_type": "execute_result",
          "data": {
            "text/plain": [
              "Index(['X53416', 'M83670', 'X90908', 'M97496', 'X90908.1', 'U37019', 'R48602',\n",
              "       'T96548', 'X64559', 'T55741',\n",
              "       ...\n",
              "       'H87456', 'R64130', 'H11125.1', 'U22055', 'L22524', 'M13699.1',\n",
              "       'X54489', 'T55008', 'M10065.2', 'y'],\n",
              "      dtype='object', length=7465)"
            ]
          },
          "metadata": {},
          "execution_count": 10
        }
      ]
    },
    {
      "cell_type": "markdown",
      "source": [
        "데이터 고유값 확인"
      ],
      "metadata": {
        "id": "KQ2sjn2SGsmZ"
      }
    },
    {
      "cell_type": "code",
      "source": [
        "df['y'].unique()"
      ],
      "metadata": {
        "colab": {
          "base_uri": "https://localhost:8080/"
        },
        "id": "2WZr0Ch8Gq6Z",
        "outputId": "f078b79f-09a3-4caf-fb10-fd98541d727c"
      },
      "execution_count": 11,
      "outputs": [
        {
          "output_type": "execute_result",
          "data": {
            "text/plain": [
              "array(['tumor', 'Normal'], dtype=object)"
            ]
          },
          "metadata": {},
          "execution_count": 11
        }
      ]
    },
    {
      "cell_type": "markdown",
      "source": [
        "데이터 통계 정보"
      ],
      "metadata": {
        "id": "Fc5L-kHBHBkg"
      }
    },
    {
      "cell_type": "code",
      "source": [
        "df.describe()"
      ],
      "metadata": {
        "colab": {
          "base_uri": "https://localhost:8080/",
          "height": 394
        },
        "id": "K9-GOmSCG24_",
        "outputId": "54ac043b-9f0a-407e-bb22-54c9845ee73a"
      },
      "execution_count": 12,
      "outputs": [
        {
          "output_type": "execute_result",
          "data": {
            "text/plain": [
              "            X53416      M83670       X90908       M97496     X90908.1  \\\n",
              "count    36.000000   36.000000    36.000000    36.000000    36.000000   \n",
              "mean    378.750000  177.305556   128.027778   568.305556    93.555556   \n",
              "std     648.716067  243.494655   787.935802   637.451928   557.527370   \n",
              "min    -694.000000 -117.000000   -50.000000     8.000000   -54.000000   \n",
              "25%     -95.750000  -31.000000   -13.250000    47.250000    -7.000000   \n",
              "50%     194.500000  117.000000    -4.500000   293.500000     3.000000   \n",
              "75%     721.750000  330.500000    14.000000  1079.250000    10.250000   \n",
              "max    1815.000000  718.000000  4723.000000  2261.000000  3344.000000   \n",
              "\n",
              "            U37019      R48602       T96548      X64559      T55741  ...  \\\n",
              "count    36.000000   36.000000    36.000000   36.000000   36.000000  ...   \n",
              "mean    366.833333  140.166667   644.194444   73.444444   68.055556  ...   \n",
              "std     427.166645  171.443202   685.514231   88.504219   90.766244  ...   \n",
              "min      -6.000000  -18.000000    -8.000000   -8.000000  -14.000000  ...   \n",
              "25%      27.250000   17.750000    33.250000    8.250000   -0.250000  ...   \n",
              "50%     110.500000   37.500000   333.500000   37.500000   23.500000  ...   \n",
              "75%     675.000000  268.500000  1185.250000  107.750000  109.250000  ...   \n",
              "max    1354.000000  718.000000  2203.000000  357.000000  357.000000  ...   \n",
              "\n",
              "           D14657      H87456      R64130     H11125.1      U22055  \\\n",
              "count   36.000000   36.000000   36.000000    36.000000   36.000000   \n",
              "mean    31.750000   71.111111   35.694444    53.194444   38.388889   \n",
              "std     50.036201  118.940748  127.437115   269.630628   47.619490   \n",
              "min    -21.000000  -24.000000  -12.000000 -1484.000000  -73.000000   \n",
              "25%      1.500000    9.000000   -1.250000    59.250000   12.750000   \n",
              "50%     10.000000   55.500000    3.000000    94.000000   36.000000   \n",
              "75%     48.000000   78.750000    6.000000   121.250000   64.000000   \n",
              "max    156.000000  686.000000  686.000000   251.000000  138.000000   \n",
              "\n",
              "           L22524     M13699.1      X54489       T55008     M10065.2  \n",
              "count   36.000000    36.000000   36.000000    36.000000    36.000000  \n",
              "mean    40.944444    41.222222   57.027778    58.694444    44.027778  \n",
              "std     83.763935   251.147778   71.322001   336.030766   224.891782  \n",
              "min    -16.000000   -23.000000   -5.000000   -17.000000  -214.000000  \n",
              "25%      3.500000    -4.750000    7.000000    -5.000000   -72.750000  \n",
              "50%      7.000000     0.000000   20.000000     1.500000   -12.000000  \n",
              "75%     39.500000     6.500000   98.250000     7.000000    74.250000  \n",
              "max    444.000000  1505.000000  271.000000  2018.000000  1089.000000  \n",
              "\n",
              "[8 rows x 7464 columns]"
            ],
            "text/html": [
              "\n",
              "  <div id=\"df-bf9f83c4-a4c3-476e-ba7e-e6f09a86bc51\">\n",
              "    <div class=\"colab-df-container\">\n",
              "      <div>\n",
              "<style scoped>\n",
              "    .dataframe tbody tr th:only-of-type {\n",
              "        vertical-align: middle;\n",
              "    }\n",
              "\n",
              "    .dataframe tbody tr th {\n",
              "        vertical-align: top;\n",
              "    }\n",
              "\n",
              "    .dataframe thead th {\n",
              "        text-align: right;\n",
              "    }\n",
              "</style>\n",
              "<table border=\"1\" class=\"dataframe\">\n",
              "  <thead>\n",
              "    <tr style=\"text-align: right;\">\n",
              "      <th></th>\n",
              "      <th>X53416</th>\n",
              "      <th>M83670</th>\n",
              "      <th>X90908</th>\n",
              "      <th>M97496</th>\n",
              "      <th>X90908.1</th>\n",
              "      <th>U37019</th>\n",
              "      <th>R48602</th>\n",
              "      <th>T96548</th>\n",
              "      <th>X64559</th>\n",
              "      <th>T55741</th>\n",
              "      <th>...</th>\n",
              "      <th>D14657</th>\n",
              "      <th>H87456</th>\n",
              "      <th>R64130</th>\n",
              "      <th>H11125.1</th>\n",
              "      <th>U22055</th>\n",
              "      <th>L22524</th>\n",
              "      <th>M13699.1</th>\n",
              "      <th>X54489</th>\n",
              "      <th>T55008</th>\n",
              "      <th>M10065.2</th>\n",
              "    </tr>\n",
              "  </thead>\n",
              "  <tbody>\n",
              "    <tr>\n",
              "      <th>count</th>\n",
              "      <td>36.000000</td>\n",
              "      <td>36.000000</td>\n",
              "      <td>36.000000</td>\n",
              "      <td>36.000000</td>\n",
              "      <td>36.000000</td>\n",
              "      <td>36.000000</td>\n",
              "      <td>36.000000</td>\n",
              "      <td>36.000000</td>\n",
              "      <td>36.000000</td>\n",
              "      <td>36.000000</td>\n",
              "      <td>...</td>\n",
              "      <td>36.000000</td>\n",
              "      <td>36.000000</td>\n",
              "      <td>36.000000</td>\n",
              "      <td>36.000000</td>\n",
              "      <td>36.000000</td>\n",
              "      <td>36.000000</td>\n",
              "      <td>36.000000</td>\n",
              "      <td>36.000000</td>\n",
              "      <td>36.000000</td>\n",
              "      <td>36.000000</td>\n",
              "    </tr>\n",
              "    <tr>\n",
              "      <th>mean</th>\n",
              "      <td>378.750000</td>\n",
              "      <td>177.305556</td>\n",
              "      <td>128.027778</td>\n",
              "      <td>568.305556</td>\n",
              "      <td>93.555556</td>\n",
              "      <td>366.833333</td>\n",
              "      <td>140.166667</td>\n",
              "      <td>644.194444</td>\n",
              "      <td>73.444444</td>\n",
              "      <td>68.055556</td>\n",
              "      <td>...</td>\n",
              "      <td>31.750000</td>\n",
              "      <td>71.111111</td>\n",
              "      <td>35.694444</td>\n",
              "      <td>53.194444</td>\n",
              "      <td>38.388889</td>\n",
              "      <td>40.944444</td>\n",
              "      <td>41.222222</td>\n",
              "      <td>57.027778</td>\n",
              "      <td>58.694444</td>\n",
              "      <td>44.027778</td>\n",
              "    </tr>\n",
              "    <tr>\n",
              "      <th>std</th>\n",
              "      <td>648.716067</td>\n",
              "      <td>243.494655</td>\n",
              "      <td>787.935802</td>\n",
              "      <td>637.451928</td>\n",
              "      <td>557.527370</td>\n",
              "      <td>427.166645</td>\n",
              "      <td>171.443202</td>\n",
              "      <td>685.514231</td>\n",
              "      <td>88.504219</td>\n",
              "      <td>90.766244</td>\n",
              "      <td>...</td>\n",
              "      <td>50.036201</td>\n",
              "      <td>118.940748</td>\n",
              "      <td>127.437115</td>\n",
              "      <td>269.630628</td>\n",
              "      <td>47.619490</td>\n",
              "      <td>83.763935</td>\n",
              "      <td>251.147778</td>\n",
              "      <td>71.322001</td>\n",
              "      <td>336.030766</td>\n",
              "      <td>224.891782</td>\n",
              "    </tr>\n",
              "    <tr>\n",
              "      <th>min</th>\n",
              "      <td>-694.000000</td>\n",
              "      <td>-117.000000</td>\n",
              "      <td>-50.000000</td>\n",
              "      <td>8.000000</td>\n",
              "      <td>-54.000000</td>\n",
              "      <td>-6.000000</td>\n",
              "      <td>-18.000000</td>\n",
              "      <td>-8.000000</td>\n",
              "      <td>-8.000000</td>\n",
              "      <td>-14.000000</td>\n",
              "      <td>...</td>\n",
              "      <td>-21.000000</td>\n",
              "      <td>-24.000000</td>\n",
              "      <td>-12.000000</td>\n",
              "      <td>-1484.000000</td>\n",
              "      <td>-73.000000</td>\n",
              "      <td>-16.000000</td>\n",
              "      <td>-23.000000</td>\n",
              "      <td>-5.000000</td>\n",
              "      <td>-17.000000</td>\n",
              "      <td>-214.000000</td>\n",
              "    </tr>\n",
              "    <tr>\n",
              "      <th>25%</th>\n",
              "      <td>-95.750000</td>\n",
              "      <td>-31.000000</td>\n",
              "      <td>-13.250000</td>\n",
              "      <td>47.250000</td>\n",
              "      <td>-7.000000</td>\n",
              "      <td>27.250000</td>\n",
              "      <td>17.750000</td>\n",
              "      <td>33.250000</td>\n",
              "      <td>8.250000</td>\n",
              "      <td>-0.250000</td>\n",
              "      <td>...</td>\n",
              "      <td>1.500000</td>\n",
              "      <td>9.000000</td>\n",
              "      <td>-1.250000</td>\n",
              "      <td>59.250000</td>\n",
              "      <td>12.750000</td>\n",
              "      <td>3.500000</td>\n",
              "      <td>-4.750000</td>\n",
              "      <td>7.000000</td>\n",
              "      <td>-5.000000</td>\n",
              "      <td>-72.750000</td>\n",
              "    </tr>\n",
              "    <tr>\n",
              "      <th>50%</th>\n",
              "      <td>194.500000</td>\n",
              "      <td>117.000000</td>\n",
              "      <td>-4.500000</td>\n",
              "      <td>293.500000</td>\n",
              "      <td>3.000000</td>\n",
              "      <td>110.500000</td>\n",
              "      <td>37.500000</td>\n",
              "      <td>333.500000</td>\n",
              "      <td>37.500000</td>\n",
              "      <td>23.500000</td>\n",
              "      <td>...</td>\n",
              "      <td>10.000000</td>\n",
              "      <td>55.500000</td>\n",
              "      <td>3.000000</td>\n",
              "      <td>94.000000</td>\n",
              "      <td>36.000000</td>\n",
              "      <td>7.000000</td>\n",
              "      <td>0.000000</td>\n",
              "      <td>20.000000</td>\n",
              "      <td>1.500000</td>\n",
              "      <td>-12.000000</td>\n",
              "    </tr>\n",
              "    <tr>\n",
              "      <th>75%</th>\n",
              "      <td>721.750000</td>\n",
              "      <td>330.500000</td>\n",
              "      <td>14.000000</td>\n",
              "      <td>1079.250000</td>\n",
              "      <td>10.250000</td>\n",
              "      <td>675.000000</td>\n",
              "      <td>268.500000</td>\n",
              "      <td>1185.250000</td>\n",
              "      <td>107.750000</td>\n",
              "      <td>109.250000</td>\n",
              "      <td>...</td>\n",
              "      <td>48.000000</td>\n",
              "      <td>78.750000</td>\n",
              "      <td>6.000000</td>\n",
              "      <td>121.250000</td>\n",
              "      <td>64.000000</td>\n",
              "      <td>39.500000</td>\n",
              "      <td>6.500000</td>\n",
              "      <td>98.250000</td>\n",
              "      <td>7.000000</td>\n",
              "      <td>74.250000</td>\n",
              "    </tr>\n",
              "    <tr>\n",
              "      <th>max</th>\n",
              "      <td>1815.000000</td>\n",
              "      <td>718.000000</td>\n",
              "      <td>4723.000000</td>\n",
              "      <td>2261.000000</td>\n",
              "      <td>3344.000000</td>\n",
              "      <td>1354.000000</td>\n",
              "      <td>718.000000</td>\n",
              "      <td>2203.000000</td>\n",
              "      <td>357.000000</td>\n",
              "      <td>357.000000</td>\n",
              "      <td>...</td>\n",
              "      <td>156.000000</td>\n",
              "      <td>686.000000</td>\n",
              "      <td>686.000000</td>\n",
              "      <td>251.000000</td>\n",
              "      <td>138.000000</td>\n",
              "      <td>444.000000</td>\n",
              "      <td>1505.000000</td>\n",
              "      <td>271.000000</td>\n",
              "      <td>2018.000000</td>\n",
              "      <td>1089.000000</td>\n",
              "    </tr>\n",
              "  </tbody>\n",
              "</table>\n",
              "<p>8 rows × 7464 columns</p>\n",
              "</div>\n",
              "      <button class=\"colab-df-convert\" onclick=\"convertToInteractive('df-bf9f83c4-a4c3-476e-ba7e-e6f09a86bc51')\"\n",
              "              title=\"Convert this dataframe to an interactive table.\"\n",
              "              style=\"display:none;\">\n",
              "        \n",
              "  <svg xmlns=\"http://www.w3.org/2000/svg\" height=\"24px\"viewBox=\"0 0 24 24\"\n",
              "       width=\"24px\">\n",
              "    <path d=\"M0 0h24v24H0V0z\" fill=\"none\"/>\n",
              "    <path d=\"M18.56 5.44l.94 2.06.94-2.06 2.06-.94-2.06-.94-.94-2.06-.94 2.06-2.06.94zm-11 1L8.5 8.5l.94-2.06 2.06-.94-2.06-.94L8.5 2.5l-.94 2.06-2.06.94zm10 10l.94 2.06.94-2.06 2.06-.94-2.06-.94-.94-2.06-.94 2.06-2.06.94z\"/><path d=\"M17.41 7.96l-1.37-1.37c-.4-.4-.92-.59-1.43-.59-.52 0-1.04.2-1.43.59L10.3 9.45l-7.72 7.72c-.78.78-.78 2.05 0 2.83L4 21.41c.39.39.9.59 1.41.59.51 0 1.02-.2 1.41-.59l7.78-7.78 2.81-2.81c.8-.78.8-2.07 0-2.86zM5.41 20L4 18.59l7.72-7.72 1.47 1.35L5.41 20z\"/>\n",
              "  </svg>\n",
              "      </button>\n",
              "      \n",
              "  <style>\n",
              "    .colab-df-container {\n",
              "      display:flex;\n",
              "      flex-wrap:wrap;\n",
              "      gap: 12px;\n",
              "    }\n",
              "\n",
              "    .colab-df-convert {\n",
              "      background-color: #E8F0FE;\n",
              "      border: none;\n",
              "      border-radius: 50%;\n",
              "      cursor: pointer;\n",
              "      display: none;\n",
              "      fill: #1967D2;\n",
              "      height: 32px;\n",
              "      padding: 0 0 0 0;\n",
              "      width: 32px;\n",
              "    }\n",
              "\n",
              "    .colab-df-convert:hover {\n",
              "      background-color: #E2EBFA;\n",
              "      box-shadow: 0px 1px 2px rgba(60, 64, 67, 0.3), 0px 1px 3px 1px rgba(60, 64, 67, 0.15);\n",
              "      fill: #174EA6;\n",
              "    }\n",
              "\n",
              "    [theme=dark] .colab-df-convert {\n",
              "      background-color: #3B4455;\n",
              "      fill: #D2E3FC;\n",
              "    }\n",
              "\n",
              "    [theme=dark] .colab-df-convert:hover {\n",
              "      background-color: #434B5C;\n",
              "      box-shadow: 0px 1px 3px 1px rgba(0, 0, 0, 0.15);\n",
              "      filter: drop-shadow(0px 1px 2px rgba(0, 0, 0, 0.3));\n",
              "      fill: #FFFFFF;\n",
              "    }\n",
              "  </style>\n",
              "\n",
              "      <script>\n",
              "        const buttonEl =\n",
              "          document.querySelector('#df-bf9f83c4-a4c3-476e-ba7e-e6f09a86bc51 button.colab-df-convert');\n",
              "        buttonEl.style.display =\n",
              "          google.colab.kernel.accessAllowed ? 'block' : 'none';\n",
              "\n",
              "        async function convertToInteractive(key) {\n",
              "          const element = document.querySelector('#df-bf9f83c4-a4c3-476e-ba7e-e6f09a86bc51');\n",
              "          const dataTable =\n",
              "            await google.colab.kernel.invokeFunction('convertToInteractive',\n",
              "                                                     [key], {});\n",
              "          if (!dataTable) return;\n",
              "\n",
              "          const docLinkHtml = 'Like what you see? Visit the ' +\n",
              "            '<a target=\"_blank\" href=https://colab.research.google.com/notebooks/data_table.ipynb>data table notebook</a>'\n",
              "            + ' to learn more about interactive tables.';\n",
              "          element.innerHTML = '';\n",
              "          dataTable['output_type'] = 'display_data';\n",
              "          await google.colab.output.renderOutput(dataTable, element);\n",
              "          const docLink = document.createElement('div');\n",
              "          docLink.innerHTML = docLinkHtml;\n",
              "          element.appendChild(docLink);\n",
              "        }\n",
              "      </script>\n",
              "    </div>\n",
              "  </div>\n",
              "  "
            ]
          },
          "metadata": {},
          "execution_count": 12
        }
      ]
    },
    {
      "cell_type": "code",
      "source": [
        "X = df.iloc[:,:-1].values\n",
        "y = df.iloc[:,-1].values\n",
        "'''\n",
        "df.iloc[행, 열] - 둘 다 행은 모두 가져옴\n",
        "X - 첫 번째 열부터 마지막 것 빼고 다 가져오기\n",
        "y - 맨 마지막 열만 가져오기\n",
        "'''"
      ],
      "metadata": {
        "colab": {
          "base_uri": "https://localhost:8080/",
          "height": 53
        },
        "id": "uI5OQ2C8HHXx",
        "outputId": "dc8bb513-8b74-4492-becd-abb9fe63c889"
      },
      "execution_count": 13,
      "outputs": [
        {
          "output_type": "execute_result",
          "data": {
            "text/plain": [
              "'\\ndf.iloc[행, 열] - 둘 다 행은 모두 가져옴\\nX - 첫 번째 열부터 마지막 것 빼고 다 가져오기\\ny - 맨 마지막 열만 가져오기\\n'"
            ],
            "application/vnd.google.colaboratory.intrinsic+json": {
              "type": "string"
            }
          },
          "metadata": {},
          "execution_count": 13
        }
      ]
    },
    {
      "cell_type": "markdown",
      "source": [
        "Label Encoding: 데이터 값 0,1로 바꾸기"
      ],
      "metadata": {
        "id": "FDkY4VSLI6ip"
      }
    },
    {
      "cell_type": "code",
      "source": [
        "from sklearn import preprocessing\n",
        "label_encoder = preprocessing.LabelEncoder()\n",
        "df['y'] = label_encoder.fit_transform(df['y'])"
      ],
      "metadata": {
        "id": "zsRM9wQ3HhKD"
      },
      "execution_count": 14,
      "outputs": []
    },
    {
      "cell_type": "code",
      "source": [
        "df['y'].unique()"
      ],
      "metadata": {
        "colab": {
          "base_uri": "https://localhost:8080/"
        },
        "id": "px_hVwZMJSga",
        "outputId": "69bcbc18-c4be-4c16-90a7-f7a0d51d24dd"
      },
      "execution_count": 15,
      "outputs": [
        {
          "output_type": "execute_result",
          "data": {
            "text/plain": [
              "array([1, 0])"
            ]
          },
          "metadata": {},
          "execution_count": 15
        }
      ]
    },
    {
      "cell_type": "markdown",
      "source": [
        "학습, 테스트 데이터 나누기"
      ],
      "metadata": {
        "id": "5_GIrJHcJW9s"
      }
    },
    {
      "cell_type": "code",
      "source": [
        "from sklearn.model_selection import train_test_split\n",
        "X_train, X_test, y_train, y_test = train_test_split(X,y,test_size=.2, random_state=42)"
      ],
      "metadata": {
        "id": "si2BwajfJUgS"
      },
      "execution_count": 16,
      "outputs": []
    },
    {
      "cell_type": "markdown",
      "source": [
        "Training Data"
      ],
      "metadata": {
        "id": "2z1OYWCDJu34"
      }
    },
    {
      "cell_type": "code",
      "source": [
        "X_train"
      ],
      "metadata": {
        "colab": {
          "base_uri": "https://localhost:8080/"
        },
        "id": "gxcnykv2JtJJ",
        "outputId": "fafa41d4-4c6a-449e-98dc-b1f6ec3554fe"
      },
      "execution_count": 17,
      "outputs": [
        {
          "output_type": "execute_result",
          "data": {
            "text/plain": [
              "array([[-378,   31,  -29, ...,   97,    0,  -51],\n",
              "       [  71, -117,   -1, ...,  114,    1, 1089],\n",
              "       [ 475,  -79,   20, ...,   76,   11,   22],\n",
              "       ...,\n",
              "       [-346,  -35,   37, ...,   30,   -5,  -53],\n",
              "       [-357,    6,   20, ...,   52,   -1,  -72],\n",
              "       [1122,  416,   -7, ...,   16,  -17,  -10]])"
            ]
          },
          "metadata": {},
          "execution_count": 17
        }
      ]
    },
    {
      "cell_type": "code",
      "source": [
        "y_train"
      ],
      "metadata": {
        "colab": {
          "base_uri": "https://localhost:8080/"
        },
        "id": "U-JsJnDfJybJ",
        "outputId": "9c519f6d-a99a-4409-e216-7a746dccd1a7"
      },
      "execution_count": 18,
      "outputs": [
        {
          "output_type": "execute_result",
          "data": {
            "text/plain": [
              "array(['tumor', 'tumor', 'tumor', 'Normal', 'tumor', 'tumor', 'Normal',\n",
              "       'tumor', 'Normal', 'tumor', 'tumor', 'tumor', 'Normal', 'tumor',\n",
              "       'Normal', 'tumor', 'Normal', 'Normal', 'Normal', 'tumor', 'Normal',\n",
              "       'Normal', 'Normal', 'tumor', 'Normal', 'tumor', 'tumor', 'Normal'],\n",
              "      dtype=object)"
            ]
          },
          "metadata": {},
          "execution_count": 18
        }
      ]
    },
    {
      "cell_type": "markdown",
      "source": [
        "Testing Data"
      ],
      "metadata": {
        "id": "MjgjCEz9J3W-"
      }
    },
    {
      "cell_type": "code",
      "source": [
        "X_test"
      ],
      "metadata": {
        "colab": {
          "base_uri": "https://localhost:8080/"
        },
        "id": "oBPczHo7J0cP",
        "outputId": "d2010838-0e1a-4a47-8f21-83c342ece4b5"
      },
      "execution_count": 19,
      "outputs": [
        {
          "output_type": "execute_result",
          "data": {
            "text/plain": [
              "array([[ 928,  332,    4, ...,   32,   -5,   72],\n",
              "       [-694,  -45,  -34, ...,  179,   -1, -139],\n",
              "       [ 632,  185, 4723, ...,    3,   -4, -103],\n",
              "       ...,\n",
              "       [ 488,  564,  -29, ...,   11,    7, -145],\n",
              "       [ 462,  379,  -21, ...,   10,   -5,   66],\n",
              "       [ 465, -104,    5, ...,  131,   -5,  267]])"
            ]
          },
          "metadata": {},
          "execution_count": 19
        }
      ]
    },
    {
      "cell_type": "code",
      "source": [
        "y_test"
      ],
      "metadata": {
        "colab": {
          "base_uri": "https://localhost:8080/"
        },
        "id": "1m9V-YoRJ54F",
        "outputId": "8c95afac-9958-4bf2-c321-b584d5e6bc1d"
      },
      "execution_count": 20,
      "outputs": [
        {
          "output_type": "execute_result",
          "data": {
            "text/plain": [
              "array(['Normal', 'tumor', 'Normal', 'Normal', 'tumor', 'Normal', 'Normal',\n",
              "       'tumor'], dtype=object)"
            ]
          },
          "metadata": {},
          "execution_count": 20
        }
      ]
    },
    {
      "cell_type": "markdown",
      "source": [
        "데이터 변환"
      ],
      "metadata": {
        "id": "paOxwfPAKCHE"
      }
    },
    {
      "cell_type": "code",
      "source": [
        "from sklearn.preprocessing import StandardScaler # ~1로 데이터 변환(데이터 범주변환)\n",
        "sc=StandardScaler()\n",
        "X_train=sc.fit_transform(X_train)\n",
        "X_test=sc.transform(X_test)"
      ],
      "metadata": {
        "id": "m_1D91ygJ8Kr"
      },
      "execution_count": 21,
      "outputs": []
    },
    {
      "cell_type": "code",
      "source": [
        "X_train"
      ],
      "metadata": {
        "colab": {
          "base_uri": "https://localhost:8080/"
        },
        "id": "uA1Bn49DKSkg",
        "outputId": "9e33c841-269c-4c68-cbec-e9a6544d1596"
      },
      "execution_count": 22,
      "outputs": [
        {
          "output_type": "execute_result",
          "data": {
            "text/plain": [
              "array([[-1.16152576, -0.57125   , -1.45171125, ...,  0.55857091,\n",
              "        -0.40427083, -0.40206435],\n",
              "       [-0.44373664, -1.17715222,  0.04387564, ...,  0.79282619,\n",
              "        -0.30834216,  4.49823886],\n",
              "       [ 0.2021137 , -1.02158273,  1.1655658 , ...,  0.26919673,\n",
              "         0.65094455, -0.08827301],\n",
              "       ...,\n",
              "       [-1.11036929, -0.84144964,  2.0736007 , ..., -0.36467052,\n",
              "        -0.88391419, -0.41066137],\n",
              "       [-1.12795433, -0.67359835,  1.1655658 , ..., -0.06151662,\n",
              "        -0.5001995 , -0.4923331 ],\n",
              "       [ 1.23643344,  1.00491457, -0.27660727, ..., -0.55758664,\n",
              "        -2.03505824, -0.22582538]])"
            ]
          },
          "metadata": {},
          "execution_count": 22
        }
      ]
    },
    {
      "cell_type": "markdown",
      "source": [
        "X_trian, y_train Shape"
      ],
      "metadata": {
        "id": "xyIY12gmKrDI"
      }
    },
    {
      "cell_type": "code",
      "source": [
        "print(X_train.shape)\n",
        "print(y_train.shape)"
      ],
      "metadata": {
        "colab": {
          "base_uri": "https://localhost:8080/"
        },
        "id": "6Zsm_nUYKW-t",
        "outputId": "ade38c79-8b1e-43d8-8f91-0bc7f8d1e383"
      },
      "execution_count": 23,
      "outputs": [
        {
          "output_type": "stream",
          "name": "stdout",
          "text": [
            "(28, 7464)\n",
            "(28,)\n"
          ]
        }
      ]
    },
    {
      "cell_type": "markdown",
      "source": [
        "### ML(classification)\n",
        "- Logistic Regression\n",
        "  - 회귀를 사용하여 데이터가 어떤 범주에 속할 확률을 0에서 1 사이의 값으로 예측하고 그 확률에 따라 가능성이 더 높은 범주에 속하는 것으로 분류해주는 지도 학습 알고리즘이다.\n",
        "- kNN(KNearest Neighbors)\n",
        "- Random Forest Flssifier\n",
        "- Decision Tree Classifier"
      ],
      "metadata": {
        "id": "IasDKPXBK32Y"
      }
    },
    {
      "cell_type": "markdown",
      "source": [
        "##### 오차행렬\n",
        "![image.png](data:image/png;base64,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)"
      ],
      "metadata": {
        "id": "VaBjVwummYEt"
      }
    },
    {
      "cell_type": "markdown",
      "source": [
        "### Logistic Regression"
      ],
      "metadata": {
        "id": "trndy_NKMQIb"
      }
    },
    {
      "cell_type": "code",
      "source": [
        "# 모델 빌드\n",
        "from sklearn.linear_model import LogisticRegression\n",
        "# 학습\n",
        "log_reg = LogisticRegression()\n",
        "log_reg.fit(X_train, y_train)"
      ],
      "metadata": {
        "colab": {
          "base_uri": "https://localhost:8080/"
        },
        "id": "yMVfv0MCK0pV",
        "outputId": "f5a9fe7b-97f1-486e-dc42-bb3acd62f423"
      },
      "execution_count": 24,
      "outputs": [
        {
          "output_type": "execute_result",
          "data": {
            "text/plain": [
              "LogisticRegression()"
            ]
          },
          "metadata": {},
          "execution_count": 24
        }
      ]
    },
    {
      "cell_type": "code",
      "source": [
        "# 예측\n",
        "y_predict = log_reg.predict(X_test)\n",
        "y_predict"
      ],
      "metadata": {
        "colab": {
          "base_uri": "https://localhost:8080/"
        },
        "id": "whlFS5AkMnfR",
        "outputId": "279d5659-32aa-4760-dc30-90ee71fa4937"
      },
      "execution_count": 25,
      "outputs": [
        {
          "output_type": "execute_result",
          "data": {
            "text/plain": [
              "array(['Normal', 'tumor', 'Normal', 'Normal', 'tumor', 'Normal', 'Normal',\n",
              "       'tumor'], dtype=object)"
            ]
          },
          "metadata": {},
          "execution_count": 25
        }
      ]
    },
    {
      "cell_type": "code",
      "source": [
        "# 정확도\n",
        "score = log_reg.score(X_test, y_test)\n",
        "print(score)"
      ],
      "metadata": {
        "colab": {
          "base_uri": "https://localhost:8080/"
        },
        "id": "f0fUs-qYMxc-",
        "outputId": "3e9d391f-24d6-4496-c272-cbe9fc88c247"
      },
      "execution_count": 26,
      "outputs": [
        {
          "output_type": "stream",
          "name": "stdout",
          "text": [
            "1.0\n"
          ]
        }
      ]
    },
    {
      "cell_type": "code",
      "source": [
        "# 오차행렬\n",
        "from sklearn import metrics\n",
        "cnf_matrix = metrics.confusion_matrix(y_test, y_predict) \n",
        "cnf_matrix"
      ],
      "metadata": {
        "colab": {
          "base_uri": "https://localhost:8080/"
        },
        "id": "CGGYd1zDNU8L",
        "outputId": "91f9c47c-40b6-4f26-c098-998e5fde23c4"
      },
      "execution_count": 27,
      "outputs": [
        {
          "output_type": "execute_result",
          "data": {
            "text/plain": [
              "array([[5, 0],\n",
              "       [0, 3]])"
            ]
          },
          "metadata": {},
          "execution_count": 27
        }
      ]
    },
    {
      "cell_type": "code",
      "source": [
        "# 평가지표\n",
        "from sklearn.metrics import classification_report\n",
        "print(classification_report(y_test, y_predict))"
      ],
      "metadata": {
        "colab": {
          "base_uri": "https://localhost:8080/"
        },
        "id": "iP-N4qu7P26A",
        "outputId": "00ffd386-1de7-4410-dc46-850722912828"
      },
      "execution_count": 28,
      "outputs": [
        {
          "output_type": "stream",
          "name": "stdout",
          "text": [
            "              precision    recall  f1-score   support\n",
            "\n",
            "      Normal       1.00      1.00      1.00         5\n",
            "       tumor       1.00      1.00      1.00         3\n",
            "\n",
            "    accuracy                           1.00         8\n",
            "   macro avg       1.00      1.00      1.00         8\n",
            "weighted avg       1.00      1.00      1.00         8\n",
            "\n"
          ]
        }
      ]
    },
    {
      "cell_type": "code",
      "source": [
        "# 로지스틱 회귀분석의 오차행렬도\n",
        "from sklearn.metrics import confusion_matrix\n",
        "pred_list = [log_reg]\n",
        "\n",
        "for i in pred_list:\n",
        "  print(\"Score : \", i.score(X_test,y_test))\n",
        "  y_pred = i.predict(X_test)\n",
        "  sns.heatmap(confusion_matrix(y_test,y_pred), annot=True)\n",
        "  \n",
        "  plt.xlabel(\"Y_pred\")\n",
        "  plt.ylabel(\"Y_test\")\n",
        "  plt.title(i)\n",
        "  plt.show()"
      ],
      "metadata": {
        "colab": {
          "base_uri": "https://localhost:8080/",
          "height": 314
        },
        "id": "S7GSV4FUQRZf",
        "outputId": "023c9342-3b1a-4f5f-d401-9899cbaba53b"
      },
      "execution_count": 29,
      "outputs": [
        {
          "output_type": "stream",
          "name": "stdout",
          "text": [
            "Score :  1.0\n"
          ]
        },
        {
          "output_type": "display_data",
          "data": {
            "text/plain": [
              "<Figure size 432x288 with 2 Axes>"
            ],
            "image/png": "[encoded data removed]"
          },
          "metadata": {
            "needs_background": "light"
          }
        }
      ]
    },
    {
      "cell_type": "markdown",
      "source": [
        "### RandomForestClassifier"
      ],
      "metadata": {
        "id": "tb7du02zmgWo"
      }
    },
    {
      "cell_type": "code",
      "source": [
        "# 모델 빌드\n",
        "from sklearn.ensemble import RandomForestClassifier\n",
        "# 모델 생성 및 학습\n",
        "RFC = RandomForestClassifier(n_estimators=20, random_state=0) #n_estimators: 생성할 트리 개수\n",
        "RFC.fit(X_train, y_train)"
      ],
      "metadata": {
        "colab": {
          "base_uri": "https://localhost:8080/"
        },
        "id": "EoCBOhNNRS3D",
        "outputId": "31129d53-4f02-40e6-a37d-81c418706123"
      },
      "execution_count": 30,
      "outputs": [
        {
          "output_type": "execute_result",
          "data": {
            "text/plain": [
              "RandomForestClassifier(n_estimators=20, random_state=0)"
            ]
          },
          "metadata": {},
          "execution_count": 30
        }
      ]
    },
    {
      "cell_type": "code",
      "source": [
        "# 예측\n",
        "y_predict = RFC.predict(X_test)\n",
        "y_predict"
      ],
      "metadata": {
        "colab": {
          "base_uri": "https://localhost:8080/"
        },
        "id": "k6p5BXooncma",
        "outputId": "8b3c773e-7fd2-45af-aaf1-1416db6aff8f"
      },
      "execution_count": 31,
      "outputs": [
        {
          "output_type": "execute_result",
          "data": {
            "text/plain": [
              "array(['Normal', 'tumor', 'Normal', 'Normal', 'tumor', 'Normal', 'Normal',\n",
              "       'tumor'], dtype=object)"
            ]
          },
          "metadata": {},
          "execution_count": 31
        }
      ]
    },
    {
      "cell_type": "code",
      "source": [
        "# 정확도\n",
        "score = RFC.score(X_test, y_test)\n",
        "print(score)"
      ],
      "metadata": {
        "colab": {
          "base_uri": "https://localhost:8080/"
        },
        "id": "qQWLbgSmnm_g",
        "outputId": "fef9f178-8cee-4553-b230-fb6d52946b12"
      },
      "execution_count": 32,
      "outputs": [
        {
          "output_type": "stream",
          "name": "stdout",
          "text": [
            "1.0\n"
          ]
        }
      ]
    },
    {
      "cell_type": "code",
      "source": [
        "# 랜덤포레스트 오차행렬\n",
        "from sklearn.metrics import confusion_matrix\n",
        "pred_list = [RFC]\n",
        "\n",
        "for i in pred_list:\n",
        "  print(\"Score : \",i.score(X_test, y_test))\n",
        "  y_pred = i.predict(X_test)\n",
        "  sns.heatmap(confusion_matrix(y_test, y_pred), annot=True) # annot은 셀 안에 숫자를 출력해주는 것\n",
        "\n",
        "  plt.xlabel(\"Y_pred\")\n",
        "  plt.ylabel(\"Y_test\")\n",
        "  plt.title(i)\n",
        "  plt.show()"
      ],
      "metadata": {
        "colab": {
          "base_uri": "https://localhost:8080/",
          "height": 314
        },
        "id": "d0AdX_y1nwNp",
        "outputId": "0c056890-d770-4b5d-b7e9-8d18e7ea3751"
      },
      "execution_count": 36,
      "outputs": [
        {
          "output_type": "stream",
          "name": "stdout",
          "text": [
            "Score :  1.0\n"
          ]
        },
        {
          "output_type": "display_data",
          "data": {
            "text/plain": [
              "<Figure size 432x288 with 2 Axes>"
            ],
            "image/png": "[encoded data removed]"
          },
          "metadata": {
            "needs_background": "light"
          }
        }
      ]
    },
    {
      "cell_type": "markdown",
      "source": [
        "### DecisionTreeClassifier"
      ],
      "metadata": {
        "id": "kYu3MzIopEsC"
      }
    },
    {
      "cell_type": "code",
      "source": [
        "# 모델 빌드\n",
        "from sklearn.tree import DecisionTreeClassifier\n",
        "# 모델 생성 및 학습\n",
        "DTC = DecisionTreeClassifier(max_depth=5) # max_depth 지정하기 전에 정확도 75%로 나옴\n",
        "#  max_depth: 트리의 최대 깊이를 규정\n",
        "DTC.fit(X_train, y_train)"
      ],
      "metadata": {
        "colab": {
          "base_uri": "https://localhost:8080/"
        },
        "id": "72L0HHraoGmu",
        "outputId": "c06712ad-b359-468c-a88a-3ad79176cc55"
      },
      "execution_count": 41,
      "outputs": [
        {
          "output_type": "execute_result",
          "data": {
            "text/plain": [
              "DecisionTreeClassifier(max_depth=5)"
            ]
          },
          "metadata": {},
          "execution_count": 41
        }
      ]
    },
    {
      "cell_type": "code",
      "source": [
        "# 예측\n",
        "y_predict = DTC.predict(X_test)\n",
        "y_predict"
      ],
      "metadata": {
        "colab": {
          "base_uri": "https://localhost:8080/"
        },
        "id": "RWd60GoWpk1A",
        "outputId": "e371581f-51f2-4635-e4d7-cc665197d347"
      },
      "execution_count": 42,
      "outputs": [
        {
          "output_type": "execute_result",
          "data": {
            "text/plain": [
              "array(['Normal', 'tumor', 'Normal', 'Normal', 'tumor', 'Normal', 'Normal',\n",
              "       'tumor'], dtype=object)"
            ]
          },
          "metadata": {},
          "execution_count": 42
        }
      ]
    },
    {
      "cell_type": "code",
      "source": [
        "# 정확도\n",
        "score = DTC.score(X_test, y_test)\n",
        "print(score)"
      ],
      "metadata": {
        "colab": {
          "base_uri": "https://localhost:8080/"
        },
        "id": "MkrMAQAApwR0",
        "outputId": "161cc535-64e3-465a-c4ed-0abbe8faa1a4"
      },
      "execution_count": 43,
      "outputs": [
        {
          "output_type": "stream",
          "name": "stdout",
          "text": [
            "1.0\n"
          ]
        }
      ]
    },
    {
      "cell_type": "code",
      "source": [
        "# 결정트리 오차행렬\n",
        "pred_list = [DTC]\n",
        "\n",
        "for i in pred_list:\n",
        "  print(\"Score : \", i.score(X_test,y_test))\n",
        "  y_pred = i.predict(X_test)\n",
        "  sns.heatmap(confusion_matrix(y_test, y_pred), annot=True)\n",
        "\n",
        "  plt.xlabel(\"Y_pred\")\n",
        "  plt.ylabel(\"Y_test\")\n",
        "  plt.title(i)\n",
        "  plt.show()"
      ],
      "metadata": {
        "colab": {
          "base_uri": "https://localhost:8080/",
          "height": 314
        },
        "id": "TOb6IH_Np4QE",
        "outputId": "e3fa914f-32b6-467f-e485-ae82131ec486"
      },
      "execution_count": 44,
      "outputs": [
        {
          "output_type": "stream",
          "name": "stdout",
          "text": [
            "Score :  1.0\n"
          ]
        },
        {
          "output_type": "display_data",
          "data": {
            "text/plain": [
              "<Figure size 432x288 with 2 Axes>"
            ],
            "image/png": "[encoded data removed]"
          },
          "metadata": {
            "needs_background": "light"
          }
        }
      ]
    },
    {
      "cell_type": "code",
      "source": [],
      "metadata": {
        "id": "UbYEVFOxsDxP"
      },
      "execution_count": null,
      "outputs": []
    }
  ]
}