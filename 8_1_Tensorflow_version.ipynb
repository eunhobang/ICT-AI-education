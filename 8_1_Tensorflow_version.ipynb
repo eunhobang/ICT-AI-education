{
  "nbformat": 4,
  "nbformat_minor": 0,
  "metadata": {
    "colab": {
      "name": "8_1_Tensorflow_version.ipynb",
      "provenance": [],
      "authorship_tag": "ABX9TyMZAmVtZaQXRYWDFLy93BLU",
      "include_colab_link": true
    },
    "kernelspec": {
      "name": "python3",
      "display_name": "Python 3"
    },
    "language_info": {
      "name": "python"
    }
  },
  "cells": [
    {
      "cell_type": "markdown",
      "metadata": {
        "id": "view-in-github",
        "colab_type": "text"
      },
      "source": [
        "<a href=\"https://colab.research.google.com/github/eunhobang/ICT-AI-education/blob/main/8_1_Tensorflow_version.ipynb\" target=\"_parent\"><img src=\"https://colab.research.google.com/assets/colab-badge.svg\" alt=\"Open In Colab\"/></a>"
      ]
    },
    {
      "cell_type": "code",
      "execution_count": null,
      "metadata": {
        "id": "IMhpzA810aK2"
      },
      "outputs": [],
      "source": [
        "import tensorflow as tf\n",
        "\n"
      ]
    },
    {
      "cell_type": "code",
      "source": [
        "print(tf.__version__) #.은 tf의 멤버를 부르는 것\n"
      ],
      "metadata": {
        "colab": {
          "base_uri": "https://localhost:8080/"
        },
        "id": "QJ0-havH1I5i",
        "outputId": "2e18f1a5-af44-4eec-b19d-0238411e622d"
      },
      "execution_count": null,
      "outputs": [
        {
          "output_type": "stream",
          "name": "stdout",
          "text": [
            "2.8.2\n"
          ]
        }
      ]
    },
    {
      "cell_type": "code",
      "source": [
        "a=tf.random.uniform([2,3],0,1) #random.uniform 난수 무작위 함수 *난수:랜덤 숫자\n",
        "#0~1사이 값으로 2,3열의 함수 만들어라\n",
        "print(a)\n",
        "print(type(a))"
      ],
      "metadata": {
        "colab": {
          "base_uri": "https://localhost:8080/"
        },
        "id": "Fkbktvky1t6L",
        "outputId": "86f894d9-cf6c-4dcd-f90d-260107899b2a"
      },
      "execution_count": null,
      "outputs": [
        {
          "output_type": "stream",
          "name": "stdout",
          "text": [
            "tf.Tensor(\n",
            "[[0.8303176  0.14231217 0.44613802]\n",
            " [0.15115094 0.83538604 0.29034483]], shape=(2, 3), dtype=float32)\n",
            "<class 'tensorflow.python.framework.ops.EagerTensor'>\n"
          ]
        }
      ]
    },
    {
      "cell_type": "code",
      "source": [
        "#일반 프로그램\n",
        "def cal(x):\n",
        "    return 3*x + 1\n",
        "# x =1, return = 4\n",
        "# 화면에서 입력값을 받는다. x= 8을 입력.\n",
        "x = int(input())\n",
        "print(cal(x))\n"
      ],
      "metadata": {
        "colab": {
          "base_uri": "https://localhost:8080/"
        },
        "id": "ZOE9TVXr7PoI",
        "outputId": "86cacd40-0c33-43d6-bd70-93ef5d9b5b14"
      },
      "execution_count": null,
      "outputs": [
        {
          "output_type": "stream",
          "name": "stdout",
          "text": [
            "8\n",
            "25\n"
          ]
        }
      ]
    },
    {
      "cell_type": "code",
      "source": [
        "# 머신러닝: 답을 다 알려주고, 답이 정해져 있는 경우 많다.\n",
        "# 필요 패키지를 정의\n",
        "import sklearn\n",
        "from sklearn import linear_model\n",
        "import numpy as np\n",
        "# 학습 데이터 <feature엔지어링>\n",
        "x_train = np.array([1.0, 2.0, 3.0, 4.0, 5.0, 6.0, 7.0], dtype=float).reshape(-1,1)\n",
        "y_train = np.array([4.0, 7.0, 10.0, 13.0, 16.0, 19.0, 22.0], dtype=float)\n",
        "# 알고리즘 = LinearRegression (선형회귀)\n",
        "model = sklearn.linear_model.LinearRegression() #예측 문제이기 때문에 LinearRegression 모델 사용\n",
        "# 실제 학습 \n",
        "model.fit(x_train, y_train)\n",
        "# 학습된 모델에 실제 입력값을 주고 예측하게 함 \n",
        "print(model.predict([[8.0]])) #값이 8일 때 예측하라\n"
      ],
      "metadata": {
        "colab": {
          "base_uri": "https://localhost:8080/"
        },
        "id": "8TwBIE7L7mPa",
        "outputId": "1e7b5efd-655b-4e1a-b51b-8a3a90dbc963"
      },
      "execution_count": null,
      "outputs": [
        {
          "output_type": "stream",
          "name": "stdout",
          "text": [
            "[25.]\n"
          ]
        }
      ]
    },
    {
      "cell_type": "code",
      "source": [
        "# 딥러닝\n",
        "# 필요 패키지를 정의 \n",
        "import numpy as np\n",
        "import tensorflow\n",
        "from tensorflow import keras\n",
        "from tensorflow.keras.models import Sequential\n",
        "from tensorflow.keras.layers import Dense\n",
        "# 학습 데이터\n",
        "x_train = np.array([1.0, 2.0, 3.0, 4.0, 5.0, 6.0, 7.0], dtype=float)\n",
        "y_train = np.array([4.0, 7.0, 10.0, 13.0, 16.0, 19.0, 22.0], dtype=float)\n",
        "# 알고리즘을 정의. 입력값이 1개, 출력값이 1개인 레이어)\n",
        "model = tensorflow.keras.models.Sequential([tensorflow.keras.layers.Dense(units=1, input_shape=(1,))])\n",
        "# 정의된 알고리즘을 학습하면서 필요한 사항을 정의) \n",
        "model.compile(optimizer='sgd', loss='mean_squared_error')\n",
        "# 실제 학습\n",
        "model.fit(x_train,y_train, epochs=10000, verbose=0) #epochs 학습횟수\n",
        "#epochs 값을 높일수록 정확도가 올라간다.\n",
        "\n",
        "# 학습된 모델에 실제 입력값을 주고 예측하게 함\n",
        "print(model.predict([8.0])) \n",
        "#딥러닝은 8이면 아래처럼 값이 나올 것 같다라고 값 추출\n"
      ],
      "metadata": {
        "colab": {
          "base_uri": "https://localhost:8080/"
        },
        "id": "E_XFKeRk8AKV",
        "outputId": "4df51a3e-03ce-439a-9d1d-25ff6ab14714"
      },
      "execution_count": null,
      "outputs": [
        {
          "output_type": "stream",
          "name": "stdout",
          "text": [
            "[[25.00001]]\n"
          ]
        }
      ]
    }
  ]
}